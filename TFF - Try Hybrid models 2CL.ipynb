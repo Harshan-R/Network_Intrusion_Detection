{
 "cells": [
  {
   "cell_type": "code",
   "execution_count": 1,
   "metadata": {},
   "outputs": [
    {
     "name": "stdout",
     "output_type": "stream",
     "text": [
      "Collecting tensorflow\n",
      "  Downloading tensorflow-2.15.0.post1-cp310-cp310-manylinux_2_17_x86_64.manylinux2014_x86_64.whl.metadata (4.2 kB)\n",
      "Collecting absl-py>=1.0.0 (from tensorflow)\n",
      "  Downloading absl_py-2.1.0-py3-none-any.whl.metadata (2.3 kB)\n",
      "Collecting astunparse>=1.6.0 (from tensorflow)\n",
      "  Downloading astunparse-1.6.3-py2.py3-none-any.whl (12 kB)\n",
      "Collecting flatbuffers>=23.5.26 (from tensorflow)\n",
      "  Downloading flatbuffers-23.5.26-py2.py3-none-any.whl.metadata (850 bytes)\n",
      "Collecting gast!=0.5.0,!=0.5.1,!=0.5.2,>=0.2.1 (from tensorflow)\n",
      "  Downloading gast-0.5.4-py3-none-any.whl.metadata (1.3 kB)\n",
      "Collecting google-pasta>=0.1.1 (from tensorflow)\n",
      "  Downloading google_pasta-0.2.0-py3-none-any.whl (57 kB)\n",
      "\u001b[2K     \u001b[90m━━━━━━━━━━━━━━━━━━━━━━━━━━━━━━━━━━━━━━━\u001b[0m \u001b[32m57.5/57.5 kB\u001b[0m \u001b[31m475.8 kB/s\u001b[0m eta \u001b[36m0:00:00\u001b[0ma \u001b[36m0:00:01\u001b[0m\n",
      "\u001b[?25hCollecting h5py>=2.9.0 (from tensorflow)\n",
      "  Downloading h5py-3.10.0-cp310-cp310-manylinux_2_17_x86_64.manylinux2014_x86_64.whl.metadata (2.5 kB)\n",
      "Collecting libclang>=13.0.0 (from tensorflow)\n",
      "  Downloading libclang-16.0.6-py2.py3-none-manylinux2010_x86_64.whl.metadata (5.2 kB)\n",
      "Collecting ml-dtypes~=0.2.0 (from tensorflow)\n",
      "  Downloading ml_dtypes-0.2.0-cp310-cp310-manylinux_2_17_x86_64.manylinux2014_x86_64.whl.metadata (20 kB)\n",
      "Requirement already satisfied: numpy<2.0.0,>=1.23.5 in /home/codespace/.local/lib/python3.10/site-packages (from tensorflow) (1.26.4)\n",
      "Collecting opt-einsum>=2.3.2 (from tensorflow)\n",
      "  Downloading opt_einsum-3.3.0-py3-none-any.whl (65 kB)\n",
      "\u001b[2K     \u001b[90m━━━━━━━━━━━━━━━━━━━━━━━━━━━━━━━━━━━━━━━\u001b[0m \u001b[32m65.5/65.5 kB\u001b[0m \u001b[31m621.4 kB/s\u001b[0m eta \u001b[36m0:00:00\u001b[0m \u001b[36m0:00:01\u001b[0m\n",
      "\u001b[?25hRequirement already satisfied: packaging in /home/codespace/.local/lib/python3.10/site-packages (from tensorflow) (23.2)\n",
      "Collecting protobuf!=4.21.0,!=4.21.1,!=4.21.2,!=4.21.3,!=4.21.4,!=4.21.5,<5.0.0dev,>=3.20.3 (from tensorflow)\n",
      "  Downloading protobuf-4.25.3-cp37-abi3-manylinux2014_x86_64.whl.metadata (541 bytes)\n",
      "Requirement already satisfied: setuptools in /usr/local/python/3.10.13/lib/python3.10/site-packages (from tensorflow) (68.2.2)\n",
      "Requirement already satisfied: six>=1.12.0 in /home/codespace/.local/lib/python3.10/site-packages (from tensorflow) (1.16.0)\n",
      "Collecting termcolor>=1.1.0 (from tensorflow)\n",
      "  Downloading termcolor-2.4.0-py3-none-any.whl.metadata (6.1 kB)\n",
      "Requirement already satisfied: typing-extensions>=3.6.6 in /home/codespace/.local/lib/python3.10/site-packages (from tensorflow) (4.9.0)\n",
      "Collecting wrapt<1.15,>=1.11.0 (from tensorflow)\n",
      "  Downloading wrapt-1.14.1-cp310-cp310-manylinux_2_5_x86_64.manylinux1_x86_64.manylinux_2_17_x86_64.manylinux2014_x86_64.whl.metadata (6.7 kB)\n",
      "Collecting tensorflow-io-gcs-filesystem>=0.23.1 (from tensorflow)\n",
      "  Downloading tensorflow_io_gcs_filesystem-0.36.0-cp310-cp310-manylinux_2_17_x86_64.manylinux2014_x86_64.whl.metadata (14 kB)\n",
      "Collecting grpcio<2.0,>=1.24.3 (from tensorflow)\n",
      "  Downloading grpcio-1.62.0-cp310-cp310-manylinux_2_17_x86_64.manylinux2014_x86_64.whl.metadata (4.0 kB)\n",
      "Collecting tensorboard<2.16,>=2.15 (from tensorflow)\n",
      "  Downloading tensorboard-2.15.2-py3-none-any.whl.metadata (1.7 kB)\n",
      "Collecting tensorflow-estimator<2.16,>=2.15.0 (from tensorflow)\n",
      "  Downloading tensorflow_estimator-2.15.0-py2.py3-none-any.whl.metadata (1.3 kB)\n",
      "Collecting keras<2.16,>=2.15.0 (from tensorflow)\n",
      "  Downloading keras-2.15.0-py3-none-any.whl.metadata (2.4 kB)\n",
      "Collecting wheel<1.0,>=0.23.0 (from astunparse>=1.6.0->tensorflow)\n",
      "  Downloading wheel-0.42.0-py3-none-any.whl.metadata (2.2 kB)\n",
      "Collecting google-auth<3,>=1.6.3 (from tensorboard<2.16,>=2.15->tensorflow)\n",
      "  Downloading google_auth-2.28.1-py2.py3-none-any.whl.metadata (4.7 kB)\n",
      "Collecting google-auth-oauthlib<2,>=0.5 (from tensorboard<2.16,>=2.15->tensorflow)\n",
      "  Downloading google_auth_oauthlib-1.2.0-py2.py3-none-any.whl.metadata (2.7 kB)\n",
      "Collecting markdown>=2.6.8 (from tensorboard<2.16,>=2.15->tensorflow)\n",
      "  Downloading Markdown-3.5.2-py3-none-any.whl.metadata (7.0 kB)\n",
      "Requirement already satisfied: requests<3,>=2.21.0 in /home/codespace/.local/lib/python3.10/site-packages (from tensorboard<2.16,>=2.15->tensorflow) (2.31.0)\n",
      "Collecting tensorboard-data-server<0.8.0,>=0.7.0 (from tensorboard<2.16,>=2.15->tensorflow)\n",
      "  Downloading tensorboard_data_server-0.7.2-py3-none-manylinux_2_31_x86_64.whl.metadata (1.1 kB)\n",
      "Collecting werkzeug>=1.0.1 (from tensorboard<2.16,>=2.15->tensorflow)\n",
      "  Downloading werkzeug-3.0.1-py3-none-any.whl.metadata (4.1 kB)\n",
      "Collecting cachetools<6.0,>=2.0.0 (from google-auth<3,>=1.6.3->tensorboard<2.16,>=2.15->tensorflow)\n",
      "  Downloading cachetools-5.3.2-py3-none-any.whl.metadata (5.2 kB)\n",
      "Collecting pyasn1-modules>=0.2.1 (from google-auth<3,>=1.6.3->tensorboard<2.16,>=2.15->tensorflow)\n",
      "  Downloading pyasn1_modules-0.3.0-py2.py3-none-any.whl.metadata (3.6 kB)\n",
      "Collecting rsa<5,>=3.1.4 (from google-auth<3,>=1.6.3->tensorboard<2.16,>=2.15->tensorflow)\n",
      "  Downloading rsa-4.9-py3-none-any.whl.metadata (4.2 kB)\n",
      "Collecting requests-oauthlib>=0.7.0 (from google-auth-oauthlib<2,>=0.5->tensorboard<2.16,>=2.15->tensorflow)\n",
      "  Downloading requests_oauthlib-1.3.1-py2.py3-none-any.whl (23 kB)\n",
      "Requirement already satisfied: charset-normalizer<4,>=2 in /home/codespace/.local/lib/python3.10/site-packages (from requests<3,>=2.21.0->tensorboard<2.16,>=2.15->tensorflow) (3.3.2)\n",
      "Requirement already satisfied: idna<4,>=2.5 in /home/codespace/.local/lib/python3.10/site-packages (from requests<3,>=2.21.0->tensorboard<2.16,>=2.15->tensorflow) (3.6)\n",
      "Requirement already satisfied: urllib3<3,>=1.21.1 in /usr/local/python/3.10.13/lib/python3.10/site-packages (from requests<3,>=2.21.0->tensorboard<2.16,>=2.15->tensorflow) (2.0.7)\n",
      "Requirement already satisfied: certifi>=2017.4.17 in /home/codespace/.local/lib/python3.10/site-packages (from requests<3,>=2.21.0->tensorboard<2.16,>=2.15->tensorflow) (2024.2.2)\n",
      "Requirement already satisfied: MarkupSafe>=2.1.1 in /home/codespace/.local/lib/python3.10/site-packages (from werkzeug>=1.0.1->tensorboard<2.16,>=2.15->tensorflow) (2.1.5)\n",
      "Collecting pyasn1<0.6.0,>=0.4.6 (from pyasn1-modules>=0.2.1->google-auth<3,>=1.6.3->tensorboard<2.16,>=2.15->tensorflow)\n",
      "  Downloading pyasn1-0.5.1-py2.py3-none-any.whl.metadata (8.6 kB)\n",
      "Collecting oauthlib>=3.0.0 (from requests-oauthlib>=0.7.0->google-auth-oauthlib<2,>=0.5->tensorboard<2.16,>=2.15->tensorflow)\n",
      "  Downloading oauthlib-3.2.2-py3-none-any.whl.metadata (7.5 kB)\n",
      "Downloading tensorflow-2.15.0.post1-cp310-cp310-manylinux_2_17_x86_64.manylinux2014_x86_64.whl (475.2 MB)\n",
      "\u001b[2K   \u001b[90m━━━━━━━━━━━━━━━━━━━━━━━━━━━━━━━━━━━━━━━━\u001b[0m \u001b[32m475.2/475.2 MB\u001b[0m \u001b[31m2.2 MB/s\u001b[0m eta \u001b[36m0:00:00\u001b[0m:00:01\u001b[0m00:01\u001b[0m\n",
      "\u001b[?25hDownloading absl_py-2.1.0-py3-none-any.whl (133 kB)\n",
      "\u001b[2K   \u001b[90m━━━━━━━━━━━━━━━━━━━━━━━━━━━━━━━━━━━━━━━━\u001b[0m \u001b[32m133.7/133.7 kB\u001b[0m \u001b[31m1.8 MB/s\u001b[0m eta \u001b[36m0:00:00\u001b[0m:00:01\u001b[0m\n",
      "\u001b[?25hDownloading flatbuffers-23.5.26-py2.py3-none-any.whl (26 kB)\n",
      "Downloading gast-0.5.4-py3-none-any.whl (19 kB)\n",
      "Downloading grpcio-1.62.0-cp310-cp310-manylinux_2_17_x86_64.manylinux2014_x86_64.whl (5.5 MB)\n",
      "\u001b[2K   \u001b[90m━━━━━━━━━━━━━━━━━━━━━━━━━━━━━━━━━━━━━━━━\u001b[0m \u001b[32m5.5/5.5 MB\u001b[0m \u001b[31m26.4 MB/s\u001b[0m eta \u001b[36m0:00:00\u001b[0m00:01\u001b[0m00:01\u001b[0mm\n",
      "\u001b[?25hDownloading h5py-3.10.0-cp310-cp310-manylinux_2_17_x86_64.manylinux2014_x86_64.whl (4.8 MB)\n",
      "\u001b[2K   \u001b[90m━━━━━━━━━━━━━━━━━━━━━━━━━━━━━━━━━━━━━━━━\u001b[0m \u001b[32m4.8/4.8 MB\u001b[0m \u001b[31m28.7 MB/s\u001b[0m eta \u001b[36m0:00:00\u001b[0m00:01\u001b[0m:00:01\u001b[0m\n",
      "\u001b[?25hDownloading keras-2.15.0-py3-none-any.whl (1.7 MB)\n",
      "\u001b[2K   \u001b[90m━━━━━━━━━━━━━━━━━━━━━━━━━━━━━━━━━━━━━━━━\u001b[0m \u001b[32m1.7/1.7 MB\u001b[0m \u001b[31m12.0 MB/s\u001b[0m eta \u001b[36m0:00:00\u001b[0m00:01\u001b[0m00:01\u001b[0m\n",
      "\u001b[?25hDownloading libclang-16.0.6-py2.py3-none-manylinux2010_x86_64.whl (22.9 MB)\n",
      "\u001b[2K   \u001b[90m━━━━━━━━━━━━━━━━━━━━━━━━━━━━━━━━━━━━━━━━\u001b[0m \u001b[32m22.9/22.9 MB\u001b[0m \u001b[31m19.7 MB/s\u001b[0m eta \u001b[36m0:00:00\u001b[0m00:01\u001b[0m00:01\u001b[0m\n",
      "\u001b[?25hDownloading ml_dtypes-0.2.0-cp310-cp310-manylinux_2_17_x86_64.manylinux2014_x86_64.whl (1.0 MB)\n",
      "\u001b[2K   \u001b[90m━━━━━━━━━━━━━━━━━━━━━━━━━━━━━━━━━━━━━━━━\u001b[0m \u001b[32m1.0/1.0 MB\u001b[0m \u001b[31m3.0 MB/s\u001b[0m eta \u001b[36m0:00:00\u001b[0m0:00:01\u001b[0m\n",
      "\u001b[?25hDownloading protobuf-4.25.3-cp37-abi3-manylinux2014_x86_64.whl (294 kB)\n",
      "\u001b[2K   \u001b[90m━━━━━━━━━━━━━━━━━━━━━━━━━━━━━━━━━━━━━━━━\u001b[0m \u001b[32m294.6/294.6 kB\u001b[0m \u001b[31m3.8 MB/s\u001b[0m eta \u001b[36m0:00:00\u001b[0mta \u001b[36m0:00:01\u001b[0m\n",
      "\u001b[?25hDownloading tensorboard-2.15.2-py3-none-any.whl (5.5 MB)\n",
      "\u001b[2K   \u001b[90m━━━━━━━━━━━━━━━━━━━━━━━━━━━━━━━━━━━━━━━━\u001b[0m \u001b[32m5.5/5.5 MB\u001b[0m \u001b[31m25.7 MB/s\u001b[0m eta \u001b[36m0:00:00\u001b[0m00:01\u001b[0m00:01\u001b[0m\n",
      "\u001b[?25hDownloading tensorflow_estimator-2.15.0-py2.py3-none-any.whl (441 kB)\n",
      "\u001b[2K   \u001b[90m━━━━━━━━━━━━━━━━━━━━━━━━━━━━━━━━━━━━━━━━\u001b[0m \u001b[32m442.0/442.0 kB\u001b[0m \u001b[31m8.7 MB/s\u001b[0m eta \u001b[36m0:00:00\u001b[0m:00:01\u001b[0m\n",
      "\u001b[?25hDownloading tensorflow_io_gcs_filesystem-0.36.0-cp310-cp310-manylinux_2_17_x86_64.manylinux2014_x86_64.whl (5.1 MB)\n",
      "\u001b[2K   \u001b[90m━━━━━━━━━━━━━━━━━━━━━━━━━━━━━━━━━━━━━━━━\u001b[0m \u001b[32m5.1/5.1 MB\u001b[0m \u001b[31m25.6 MB/s\u001b[0m eta \u001b[36m0:00:00\u001b[0m00:01\u001b[0m00:01\u001b[0m\n",
      "\u001b[?25hDownloading termcolor-2.4.0-py3-none-any.whl (7.7 kB)\n",
      "Downloading wrapt-1.14.1-cp310-cp310-manylinux_2_5_x86_64.manylinux1_x86_64.manylinux_2_17_x86_64.manylinux2014_x86_64.whl (77 kB)\n",
      "\u001b[2K   \u001b[90m━━━━━━━━━━━━━━━━━━━━━━━━━━━━━━━━━━━━━━━━\u001b[0m \u001b[32m77.9/77.9 kB\u001b[0m \u001b[31m1.1 MB/s\u001b[0m eta \u001b[36m0:00:00\u001b[0mta \u001b[36m0:00:01\u001b[0m\n",
      "\u001b[?25hDownloading google_auth-2.28.1-py2.py3-none-any.whl (186 kB)\n",
      "\u001b[2K   \u001b[90m━━━━━━━━━━━━━━━━━━━━━━━━━━━━━━━━━━━━━━━━\u001b[0m \u001b[32m186.9/186.9 kB\u001b[0m \u001b[31m3.3 MB/s\u001b[0m eta \u001b[36m0:00:00\u001b[0m:00:01\u001b[0m\n",
      "\u001b[?25hDownloading google_auth_oauthlib-1.2.0-py2.py3-none-any.whl (24 kB)\n",
      "Downloading Markdown-3.5.2-py3-none-any.whl (103 kB)\n",
      "\u001b[2K   \u001b[90m━━━━━━━━━━━━━━━━━━━━━━━━━━━━━━━━━━━━━━━━\u001b[0m \u001b[32m103.9/103.9 kB\u001b[0m \u001b[31m2.0 MB/s\u001b[0m eta \u001b[36m0:00:00\u001b[0m:00:01\u001b[0m\n",
      "\u001b[?25hDownloading tensorboard_data_server-0.7.2-py3-none-manylinux_2_31_x86_64.whl (6.6 MB)\n",
      "\u001b[2K   \u001b[90m━━━━━━━━━━━━━━━━━━━━━━━━━━━━━━━━━━━━━━━━\u001b[0m \u001b[32m6.6/6.6 MB\u001b[0m \u001b[31m26.8 MB/s\u001b[0m eta \u001b[36m0:00:00\u001b[0m00:01\u001b[0m00:01\u001b[0m\n",
      "\u001b[?25hDownloading werkzeug-3.0.1-py3-none-any.whl (226 kB)\n",
      "\u001b[2K   \u001b[90m━━━━━━━━━━━━━━━━━━━━━━━━━━━━━━━━━━━━━━━━\u001b[0m \u001b[32m226.7/226.7 kB\u001b[0m \u001b[31m4.0 MB/s\u001b[0m eta \u001b[36m0:00:00\u001b[0m:00:01\u001b[0m\n",
      "\u001b[?25hDownloading wheel-0.42.0-py3-none-any.whl (65 kB)\n",
      "\u001b[2K   \u001b[90m━━━━━━━━━━━━━━━━━━━━━━━━━━━━━━━━━━━━━━━━\u001b[0m \u001b[32m65.4/65.4 kB\u001b[0m \u001b[31m1.1 MB/s\u001b[0m eta \u001b[36m0:00:00\u001b[0meta \u001b[36m0:00:01\u001b[0m\n",
      "\u001b[?25hDownloading cachetools-5.3.2-py3-none-any.whl (9.3 kB)\n",
      "Downloading pyasn1_modules-0.3.0-py2.py3-none-any.whl (181 kB)\n",
      "\u001b[2K   \u001b[90m━━━━━━━━━━━━━━━━━━━━━━━━━━━━━━━━━━━━━━━━\u001b[0m \u001b[32m181.3/181.3 kB\u001b[0m \u001b[31m3.5 MB/s\u001b[0m eta \u001b[36m0:00:00\u001b[0mta \u001b[36m0:00:01\u001b[0m\n",
      "\u001b[?25hDownloading rsa-4.9-py3-none-any.whl (34 kB)\n",
      "Downloading oauthlib-3.2.2-py3-none-any.whl (151 kB)\n",
      "\u001b[2K   \u001b[90m━━━━━━━━━━━━━━━━━━━━━━━━━━━━━━━━━━━━━━━━\u001b[0m \u001b[32m151.7/151.7 kB\u001b[0m \u001b[31m3.1 MB/s\u001b[0m eta \u001b[36m0:00:00\u001b[0mta \u001b[36m0:00:01\u001b[0m\n",
      "\u001b[?25hDownloading pyasn1-0.5.1-py2.py3-none-any.whl (84 kB)\n",
      "\u001b[2K   \u001b[90m━━━━━━━━━━━━━━━━━━━━━━━━━━━━━━━━━━━━━━━━\u001b[0m \u001b[32m84.9/84.9 kB\u001b[0m \u001b[31m1.5 MB/s\u001b[0m eta \u001b[36m0:00:00\u001b[0meta \u001b[36m0:00:01\u001b[0m\n",
      "\u001b[?25hInstalling collected packages: libclang, flatbuffers, wrapt, wheel, werkzeug, termcolor, tensorflow-io-gcs-filesystem, tensorflow-estimator, tensorboard-data-server, pyasn1, protobuf, opt-einsum, oauthlib, ml-dtypes, markdown, keras, h5py, grpcio, google-pasta, gast, cachetools, absl-py, rsa, requests-oauthlib, pyasn1-modules, astunparse, google-auth, google-auth-oauthlib, tensorboard, tensorflow\n",
      "Successfully installed absl-py-2.1.0 astunparse-1.6.3 cachetools-5.3.2 flatbuffers-23.5.26 gast-0.5.4 google-auth-2.28.1 google-auth-oauthlib-1.2.0 google-pasta-0.2.0 grpcio-1.62.0 h5py-3.10.0 keras-2.15.0 libclang-16.0.6 markdown-3.5.2 ml-dtypes-0.2.0 oauthlib-3.2.2 opt-einsum-3.3.0 protobuf-4.25.3 pyasn1-0.5.1 pyasn1-modules-0.3.0 requests-oauthlib-1.3.1 rsa-4.9 tensorboard-2.15.2 tensorboard-data-server-0.7.2 tensorflow-2.15.0.post1 tensorflow-estimator-2.15.0 tensorflow-io-gcs-filesystem-0.36.0 termcolor-2.4.0 werkzeug-3.0.1 wheel-0.42.0 wrapt-1.14.1\n",
      "Note: you may need to restart the kernel to use updated packages.\n"
     ]
    }
   ],
   "source": [
    "pip install tensorflow"
   ]
  },
  {
   "cell_type": "code",
   "execution_count": 1,
   "metadata": {},
   "outputs": [
    {
     "name": "stdout",
     "output_type": "stream",
     "text": [
      "Collecting tensorflow-federated\n",
      "  Downloading tensorflow_federated-0.71.0-py3-none-manylinux_2_31_x86_64.whl.metadata (4.0 kB)\n",
      "Collecting absl-py==1.*,>=1.0 (from tensorflow-federated)\n",
      "  Downloading absl_py-1.4.0-py3-none-any.whl.metadata (2.3 kB)\n",
      "Requirement already satisfied: attrs~=23.1 in /home/codespace/.local/lib/python3.10/site-packages (from tensorflow-federated) (23.2.0)\n",
      "Requirement already satisfied: cachetools~=5.3 in /usr/local/python/3.10.13/lib/python3.10/site-packages (from tensorflow-federated) (5.3.2)\n",
      "Collecting dm-tree==0.1.8 (from tensorflow-federated)\n",
      "  Downloading dm_tree-0.1.8-cp310-cp310-manylinux_2_17_x86_64.manylinux2014_x86_64.whl.metadata (1.9 kB)\n",
      "Collecting dp-accounting==0.4.3 (from tensorflow-federated)\n",
      "  Downloading dp_accounting-0.4.3-py3-none-any.whl.metadata (1.8 kB)\n",
      "Collecting farmhashpy==0.4.0 (from tensorflow-federated)\n",
      "  Downloading farmhashpy-0.4.0.tar.gz (98 kB)\n",
      "\u001b[2K     \u001b[90m━━━━━━━━━━━━━━━━━━━━━━━━━━━━━━━━━━━━━━━\u001b[0m \u001b[32m98.7/98.7 kB\u001b[0m \u001b[31m877.1 kB/s\u001b[0m eta \u001b[36m0:00:00\u001b[0m \u001b[36m0:00:01\u001b[0m\n",
      "\u001b[?25h  Preparing metadata (setup.py) ... \u001b[?25ldone\n",
      "\u001b[?25hCollecting google-vizier==0.1.11 (from tensorflow-federated)\n",
      "  Downloading google_vizier-0.1.11-py3-none-any.whl.metadata (10 kB)\n",
      "Requirement already satisfied: grpcio~=1.46 in /usr/local/python/3.10.13/lib/python3.10/site-packages (from tensorflow-federated) (1.62.0)\n",
      "Collecting jaxlib==0.4.14 (from tensorflow-federated)\n",
      "  Downloading jaxlib-0.4.14-cp310-cp310-manylinux2014_x86_64.whl.metadata (2.0 kB)\n",
      "Collecting jax==0.4.14 (from tensorflow-federated)\n",
      "  Downloading jax-0.4.14.tar.gz (1.3 MB)\n",
      "\u001b[2K     \u001b[90m━━━━━━━━━━━━━━━━━━━━━━━━━━━━━━━━━━━━━━━━\u001b[0m \u001b[32m1.3/1.3 MB\u001b[0m \u001b[31m6.2 MB/s\u001b[0m eta \u001b[36m0:00:00\u001b[0m00:01\u001b[0m00:01\u001b[0m\n",
      "\u001b[?25h  Installing build dependencies ... \u001b[?25ldone\n",
      "\u001b[?25h  Getting requirements to build wheel ... \u001b[?25ldone\n",
      "\u001b[?25h  Preparing metadata (pyproject.toml) ... \u001b[?25ldone\n",
      "\u001b[?25hRequirement already satisfied: numpy~=1.25 in /home/codespace/.local/lib/python3.10/site-packages (from tensorflow-federated) (1.26.4)\n",
      "Collecting portpicker~=1.6 (from tensorflow-federated)\n",
      "  Downloading portpicker-1.6.0-py3-none-any.whl.metadata (1.5 kB)\n",
      "Collecting scipy~=1.9.3 (from tensorflow-federated)\n",
      "  Downloading scipy-1.9.3-cp310-cp310-manylinux_2_17_x86_64.manylinux2014_x86_64.whl.metadata (58 kB)\n",
      "\u001b[2K     \u001b[90m━━━━━━━━━━━━━━━━━━━━━━━━━━━━━━━━━━━━━━━━\u001b[0m \u001b[32m58.4/58.4 kB\u001b[0m \u001b[31m1.3 MB/s\u001b[0m eta \u001b[36m0:00:00\u001b[0mta \u001b[36m0:00:01\u001b[0m\n",
      "\u001b[?25hCollecting semantic-version~=2.6 (from tensorflow-federated)\n",
      "  Downloading semantic_version-2.10.0-py2.py3-none-any.whl.metadata (9.7 kB)\n",
      "Collecting tensorflow-compression==2.14.*,>=2.14.0 (from tensorflow-federated)\n",
      "  Downloading tensorflow_compression-2.14.1-cp310-cp310-manylinux_2_17_x86_64.manylinux2014_x86_64.whl.metadata (1.3 kB)\n",
      "Collecting tensorflow-model-optimization==0.7.5 (from tensorflow-federated)\n",
      "  Downloading tensorflow_model_optimization-0.7.5-py2.py3-none-any.whl.metadata (914 bytes)\n",
      "Collecting tensorflow-privacy==0.8.12 (from tensorflow-federated)\n",
      "  Downloading tensorflow_privacy-0.8.12-py3-none-any.whl.metadata (962 bytes)\n",
      "Collecting tensorflow==2.14.*,>=2.14.0 (from tensorflow-federated)\n",
      "  Downloading tensorflow-2.14.1-cp310-cp310-manylinux_2_17_x86_64.manylinux2014_x86_64.whl.metadata (4.1 kB)\n",
      "Collecting tqdm~=4.64 (from tensorflow-federated)\n",
      "  Downloading tqdm-4.66.2-py3-none-any.whl.metadata (57 kB)\n",
      "\u001b[2K     \u001b[90m━━━━━━━━━━━━━━━━━━━━━━━━━━━━━━━━━━━━━━━━\u001b[0m \u001b[32m57.6/57.6 kB\u001b[0m \u001b[31m1.1 MB/s\u001b[0m eta \u001b[36m0:00:00\u001b[0mta \u001b[36m0:00:01\u001b[0m\n",
      "\u001b[?25hCollecting typing-extensions==4.5.*,>=4.5.0 (from tensorflow-federated)\n",
      "  Downloading typing_extensions-4.5.0-py3-none-any.whl.metadata (8.5 kB)\n",
      "Collecting googleapis-common-protos==1.61.0 (from tensorflow-federated)\n",
      "  Downloading googleapis_common_protos-1.61.0-py2.py3-none-any.whl.metadata (1.5 kB)\n",
      "Requirement already satisfied: mpmath~=1.2 in /home/codespace/.local/lib/python3.10/site-packages (from dp-accounting==0.4.3->tensorflow-federated) (1.3.0)\n",
      "Collecting attrs~=23.1 (from tensorflow-federated)\n",
      "  Downloading attrs-23.1.0-py3-none-any.whl.metadata (11 kB)\n",
      "Requirement already satisfied: protobuf>=3.6 in /usr/local/python/3.10.13/lib/python3.10/site-packages (from google-vizier==0.1.11->tensorflow-federated) (4.25.3)\n",
      "Collecting grpcio-tools>=1.35.0 (from google-vizier==0.1.11->tensorflow-federated)\n",
      "  Downloading grpcio_tools-1.62.0-cp310-cp310-manylinux_2_17_x86_64.manylinux2014_x86_64.whl.metadata (6.2 kB)\n",
      "Collecting sqlalchemy<=1.4.20,>=1.4 (from google-vizier==0.1.11->tensorflow-federated)\n",
      "  Downloading SQLAlchemy-1.4.20.tar.gz (7.7 MB)\n",
      "\u001b[2K     \u001b[90m━━━━━━━━━━━━━━━━━━━━━━━━━━━━━━━━━━━━━━━━\u001b[0m \u001b[32m7.7/7.7 MB\u001b[0m \u001b[31m22.7 MB/s\u001b[0m eta \u001b[36m0:00:00\u001b[0m00:01\u001b[0m00:01\u001b[0m\n",
      "\u001b[?25h  Preparing metadata (setup.py) ... \u001b[?25ldone\n",
      "\u001b[?25hRequirement already satisfied: ml-dtypes>=0.2.0 in /usr/local/python/3.10.13/lib/python3.10/site-packages (from jax==0.4.14->tensorflow-federated) (0.2.0)\n",
      "Requirement already satisfied: opt-einsum in /usr/local/python/3.10.13/lib/python3.10/site-packages (from jax==0.4.14->tensorflow-federated) (3.3.0)\n",
      "Requirement already satisfied: astunparse>=1.6.0 in /usr/local/python/3.10.13/lib/python3.10/site-packages (from tensorflow==2.14.*,>=2.14.0->tensorflow-federated) (1.6.3)\n",
      "Requirement already satisfied: flatbuffers>=23.5.26 in /usr/local/python/3.10.13/lib/python3.10/site-packages (from tensorflow==2.14.*,>=2.14.0->tensorflow-federated) (23.5.26)\n",
      "Requirement already satisfied: gast!=0.5.0,!=0.5.1,!=0.5.2,>=0.2.1 in /usr/local/python/3.10.13/lib/python3.10/site-packages (from tensorflow==2.14.*,>=2.14.0->tensorflow-federated) (0.5.4)\n",
      "Requirement already satisfied: google-pasta>=0.1.1 in /usr/local/python/3.10.13/lib/python3.10/site-packages (from tensorflow==2.14.*,>=2.14.0->tensorflow-federated) (0.2.0)\n",
      "Requirement already satisfied: h5py>=2.9.0 in /usr/local/python/3.10.13/lib/python3.10/site-packages (from tensorflow==2.14.*,>=2.14.0->tensorflow-federated) (3.10.0)\n",
      "Requirement already satisfied: libclang>=13.0.0 in /usr/local/python/3.10.13/lib/python3.10/site-packages (from tensorflow==2.14.*,>=2.14.0->tensorflow-federated) (16.0.6)\n",
      "Requirement already satisfied: packaging in /home/codespace/.local/lib/python3.10/site-packages (from tensorflow==2.14.*,>=2.14.0->tensorflow-federated) (23.2)\n",
      "Requirement already satisfied: setuptools in /usr/local/python/3.10.13/lib/python3.10/site-packages (from tensorflow==2.14.*,>=2.14.0->tensorflow-federated) (68.2.2)\n",
      "Requirement already satisfied: six>=1.12.0 in /home/codespace/.local/lib/python3.10/site-packages (from tensorflow==2.14.*,>=2.14.0->tensorflow-federated) (1.16.0)\n",
      "Requirement already satisfied: termcolor>=1.1.0 in /usr/local/python/3.10.13/lib/python3.10/site-packages (from tensorflow==2.14.*,>=2.14.0->tensorflow-federated) (2.4.0)\n",
      "Requirement already satisfied: wrapt<1.15,>=1.11.0 in /usr/local/python/3.10.13/lib/python3.10/site-packages (from tensorflow==2.14.*,>=2.14.0->tensorflow-federated) (1.14.1)\n",
      "Requirement already satisfied: tensorflow-io-gcs-filesystem>=0.23.1 in /usr/local/python/3.10.13/lib/python3.10/site-packages (from tensorflow==2.14.*,>=2.14.0->tensorflow-federated) (0.36.0)\n",
      "Collecting tensorboard<2.15,>=2.14 (from tensorflow==2.14.*,>=2.14.0->tensorflow-federated)\n",
      "  Downloading tensorboard-2.14.1-py3-none-any.whl.metadata (1.7 kB)\n",
      "Collecting tensorflow-estimator<2.15,>=2.14.0 (from tensorflow==2.14.*,>=2.14.0->tensorflow-federated)\n",
      "  Downloading tensorflow_estimator-2.14.0-py2.py3-none-any.whl.metadata (1.3 kB)\n",
      "Collecting keras<2.15,>=2.14.0 (from tensorflow==2.14.*,>=2.14.0->tensorflow-federated)\n",
      "  Downloading keras-2.14.0-py3-none-any.whl.metadata (2.4 kB)\n",
      "INFO: pip is looking at multiple versions of tensorflow-compression to determine which version is compatible with other requirements. This could take a while.\n",
      "Collecting tensorflow-compression==2.14.*,>=2.14.0 (from tensorflow-federated)\n",
      "  Downloading tensorflow_compression-2.14.0-cp310-cp310-manylinux_2_17_x86_64.manylinux2014_x86_64.whl.metadata (1.2 kB)\n",
      "Collecting tensorflow-probability~=0.15 (from tensorflow-compression==2.14.*,>=2.14.0->tensorflow-federated)\n",
      "  Downloading tensorflow_probability-0.23.0-py2.py3-none-any.whl.metadata (13 kB)\n",
      "Collecting immutabledict~=2.2 (from tensorflow-privacy==0.8.12->tensorflow-federated)\n",
      "  Downloading immutabledict-2.2.5-py3-none-any.whl.metadata (3.2 kB)\n",
      "Requirement already satisfied: matplotlib~=3.3 in /home/codespace/.local/lib/python3.10/site-packages (from tensorflow-privacy==0.8.12->tensorflow-federated) (3.8.2)\n",
      "Collecting packaging (from tensorflow==2.14.*,>=2.14.0->tensorflow-federated)\n",
      "  Downloading packaging-22.0-py3-none-any.whl.metadata (3.1 kB)\n",
      "Collecting pandas~=1.4 (from tensorflow-privacy==0.8.12->tensorflow-federated)\n",
      "  Downloading pandas-1.5.3-cp310-cp310-manylinux_2_17_x86_64.manylinux2014_x86_64.whl.metadata (11 kB)\n",
      "Requirement already satisfied: scikit-learn==1.*,>=1.0 in /home/codespace/.local/lib/python3.10/site-packages (from tensorflow-privacy==0.8.12->tensorflow-federated) (1.4.0)\n",
      "Collecting statsmodels~=0.13 (from tensorflow-privacy==0.8.12->tensorflow-federated)\n",
      "  Downloading statsmodels-0.14.1-cp310-cp310-manylinux_2_17_x86_64.manylinux2014_x86_64.whl.metadata (9.5 kB)\n",
      "Collecting tensorflow-probability~=0.15 (from tensorflow-compression==2.14.*,>=2.14.0->tensorflow-federated)\n",
      "  Downloading tensorflow_probability-0.22.1-py2.py3-none-any.whl.metadata (13 kB)\n",
      "Collecting tf-models-official~=2.13 (from tensorflow-privacy==0.8.12->tensorflow-federated)\n",
      "  Downloading tf_models_official-2.15.0-py2.py3-none-any.whl.metadata (1.4 kB)\n",
      "Requirement already satisfied: joblib>=1.2.0 in /home/codespace/.local/lib/python3.10/site-packages (from scikit-learn==1.*,>=1.0->tensorflow-privacy==0.8.12->tensorflow-federated) (1.3.2)\n",
      "Requirement already satisfied: threadpoolctl>=2.0.0 in /home/codespace/.local/lib/python3.10/site-packages (from scikit-learn==1.*,>=1.0->tensorflow-privacy==0.8.12->tensorflow-federated) (3.2.0)\n",
      "Requirement already satisfied: psutil in /home/codespace/.local/lib/python3.10/site-packages (from portpicker~=1.6->tensorflow-federated) (5.9.8)\n",
      "Collecting numpy~=1.25 (from tensorflow-federated)\n",
      "  Downloading numpy-1.25.2-cp310-cp310-manylinux_2_17_x86_64.manylinux2014_x86_64.whl.metadata (5.6 kB)\n",
      "Requirement already satisfied: wheel<1.0,>=0.23.0 in /usr/local/python/3.10.13/lib/python3.10/site-packages (from astunparse>=1.6.0->tensorflow==2.14.*,>=2.14.0->tensorflow-federated) (0.42.0)\n",
      "Requirement already satisfied: contourpy>=1.0.1 in /home/codespace/.local/lib/python3.10/site-packages (from matplotlib~=3.3->tensorflow-privacy==0.8.12->tensorflow-federated) (1.2.0)\n",
      "Requirement already satisfied: cycler>=0.10 in /home/codespace/.local/lib/python3.10/site-packages (from matplotlib~=3.3->tensorflow-privacy==0.8.12->tensorflow-federated) (0.12.1)\n",
      "Requirement already satisfied: fonttools>=4.22.0 in /home/codespace/.local/lib/python3.10/site-packages (from matplotlib~=3.3->tensorflow-privacy==0.8.12->tensorflow-federated) (4.48.1)\n",
      "Requirement already satisfied: kiwisolver>=1.3.1 in /home/codespace/.local/lib/python3.10/site-packages (from matplotlib~=3.3->tensorflow-privacy==0.8.12->tensorflow-federated) (1.4.5)\n",
      "Requirement already satisfied: pillow>=8 in /home/codespace/.local/lib/python3.10/site-packages (from matplotlib~=3.3->tensorflow-privacy==0.8.12->tensorflow-federated) (10.2.0)\n",
      "Requirement already satisfied: pyparsing>=2.3.1 in /home/codespace/.local/lib/python3.10/site-packages (from matplotlib~=3.3->tensorflow-privacy==0.8.12->tensorflow-federated) (3.1.1)\n",
      "Requirement already satisfied: python-dateutil>=2.7 in /home/codespace/.local/lib/python3.10/site-packages (from matplotlib~=3.3->tensorflow-privacy==0.8.12->tensorflow-federated) (2.8.2)\n",
      "Requirement already satisfied: pytz>=2020.1 in /home/codespace/.local/lib/python3.10/site-packages (from pandas~=1.4->tensorflow-privacy==0.8.12->tensorflow-federated) (2024.1)\n",
      "Collecting greenlet!=0.4.17 (from sqlalchemy<=1.4.20,>=1.4->google-vizier==0.1.11->tensorflow-federated)\n",
      "  Downloading greenlet-3.0.3-cp310-cp310-manylinux_2_24_x86_64.manylinux_2_28_x86_64.whl.metadata (3.8 kB)\n",
      "Collecting patsy>=0.5.4 (from statsmodels~=0.13->tensorflow-privacy==0.8.12->tensorflow-federated)\n",
      "  Downloading patsy-0.5.6-py2.py3-none-any.whl.metadata (3.5 kB)\n",
      "Requirement already satisfied: google-auth<3,>=1.6.3 in /usr/local/python/3.10.13/lib/python3.10/site-packages (from tensorboard<2.15,>=2.14->tensorflow==2.14.*,>=2.14.0->tensorflow-federated) (2.28.1)\n",
      "Collecting google-auth-oauthlib<1.1,>=0.5 (from tensorboard<2.15,>=2.14->tensorflow==2.14.*,>=2.14.0->tensorflow-federated)\n",
      "  Downloading google_auth_oauthlib-1.0.0-py2.py3-none-any.whl.metadata (2.7 kB)\n",
      "Requirement already satisfied: markdown>=2.6.8 in /usr/local/python/3.10.13/lib/python3.10/site-packages (from tensorboard<2.15,>=2.14->tensorflow==2.14.*,>=2.14.0->tensorflow-federated) (3.5.2)\n",
      "Requirement already satisfied: requests<3,>=2.21.0 in /home/codespace/.local/lib/python3.10/site-packages (from tensorboard<2.15,>=2.14->tensorflow==2.14.*,>=2.14.0->tensorflow-federated) (2.31.0)\n",
      "Requirement already satisfied: tensorboard-data-server<0.8.0,>=0.7.0 in /usr/local/python/3.10.13/lib/python3.10/site-packages (from tensorboard<2.15,>=2.14->tensorflow==2.14.*,>=2.14.0->tensorflow-federated) (0.7.2)\n",
      "Requirement already satisfied: werkzeug>=1.0.1 in /usr/local/python/3.10.13/lib/python3.10/site-packages (from tensorboard<2.15,>=2.14->tensorflow==2.14.*,>=2.14.0->tensorflow-federated) (3.0.1)\n",
      "Requirement already satisfied: decorator in /home/codespace/.local/lib/python3.10/site-packages (from tensorflow-probability~=0.15->tensorflow-compression==2.14.*,>=2.14.0->tensorflow-federated) (5.1.1)\n",
      "Collecting cloudpickle>=1.3 (from tensorflow-probability~=0.15->tensorflow-compression==2.14.*,>=2.14.0->tensorflow-federated)\n",
      "  Downloading cloudpickle-3.0.0-py3-none-any.whl.metadata (7.0 kB)\n",
      "Collecting Cython (from tf-models-official~=2.13->tensorflow-privacy==0.8.12->tensorflow-federated)\n",
      "  Downloading Cython-3.0.8-cp310-cp310-manylinux_2_17_x86_64.manylinux2014_x86_64.whl.metadata (3.2 kB)\n",
      "Collecting gin-config (from tf-models-official~=2.13->tensorflow-privacy==0.8.12->tensorflow-federated)\n",
      "  Downloading gin_config-0.5.0-py3-none-any.whl (61 kB)\n",
      "\u001b[2K     \u001b[90m━━━━━━━━━━━━━━━━━━━━━━━━━━━━━━━━━━━━━━━━\u001b[0m \u001b[32m61.3/61.3 kB\u001b[0m \u001b[31m1.3 MB/s\u001b[0m eta \u001b[36m0:00:00\u001b[0mta \u001b[36m0:00:01\u001b[0m\n",
      "\u001b[?25hCollecting google-api-python-client>=1.6.7 (from tf-models-official~=2.13->tensorflow-privacy==0.8.12->tensorflow-federated)\n",
      "  Downloading google_api_python_client-2.119.0-py2.py3-none-any.whl.metadata (6.6 kB)\n",
      "Collecting kaggle>=1.3.9 (from tf-models-official~=2.13->tensorflow-privacy==0.8.12->tensorflow-federated)\n",
      "  Downloading kaggle-1.6.6.tar.gz (84 kB)\n",
      "\u001b[2K     \u001b[90m━━━━━━━━━━━━━━━━━━━━━━━━━━━━━━━━━━━━━━━━\u001b[0m \u001b[32m84.6/84.6 kB\u001b[0m \u001b[31m1.7 MB/s\u001b[0m eta \u001b[36m0:00:00\u001b[0mta \u001b[36m0:00:01\u001b[0m\n",
      "\u001b[?25h  Preparing metadata (setup.py) ... \u001b[?25ldone\n",
      "\u001b[?25hCollecting oauth2client (from tf-models-official~=2.13->tensorflow-privacy==0.8.12->tensorflow-federated)\n",
      "  Downloading oauth2client-4.1.3-py2.py3-none-any.whl (98 kB)\n",
      "\u001b[2K     \u001b[90m━━━━━━━━━━━━━━━━━━━━━━━━━━━━━━━━━━━━━━━━\u001b[0m \u001b[32m98.2/98.2 kB\u001b[0m \u001b[31m2.3 MB/s\u001b[0m eta \u001b[36m0:00:00\u001b[0mta \u001b[36m0:00:01\u001b[0m\n",
      "\u001b[?25hCollecting opencv-python-headless (from tf-models-official~=2.13->tensorflow-privacy==0.8.12->tensorflow-federated)\n",
      "  Downloading opencv_python_headless-4.9.0.80-cp37-abi3-manylinux_2_17_x86_64.manylinux2014_x86_64.whl.metadata (20 kB)\n",
      "Collecting py-cpuinfo>=3.3.0 (from tf-models-official~=2.13->tensorflow-privacy==0.8.12->tensorflow-federated)\n",
      "  Downloading py_cpuinfo-9.0.0-py3-none-any.whl.metadata (794 bytes)\n",
      "Collecting pycocotools (from tf-models-official~=2.13->tensorflow-privacy==0.8.12->tensorflow-federated)\n",
      "  Downloading pycocotools-2.0.7-cp310-cp310-manylinux_2_17_x86_64.manylinux2014_x86_64.whl.metadata (1.1 kB)\n",
      "Requirement already satisfied: pyyaml>=6.0.0 in /home/codespace/.local/lib/python3.10/site-packages (from tf-models-official~=2.13->tensorflow-privacy==0.8.12->tensorflow-federated) (6.0.1)\n",
      "Collecting sacrebleu (from tf-models-official~=2.13->tensorflow-privacy==0.8.12->tensorflow-federated)\n",
      "  Downloading sacrebleu-2.4.0-py3-none-any.whl.metadata (57 kB)\n",
      "\u001b[2K     \u001b[90m━━━━━━━━━━━━━━━━━━━━━━━━━━━━━━━━━━━━━━━━\u001b[0m \u001b[32m57.4/57.4 kB\u001b[0m \u001b[31m1.2 MB/s\u001b[0m eta \u001b[36m0:00:00\u001b[0mta \u001b[36m0:00:01\u001b[0m\n",
      "\u001b[?25hCollecting sentencepiece (from tf-models-official~=2.13->tensorflow-privacy==0.8.12->tensorflow-federated)\n",
      "  Downloading sentencepiece-0.2.0-cp310-cp310-manylinux_2_17_x86_64.manylinux2014_x86_64.whl.metadata (7.7 kB)\n",
      "Collecting seqeval (from tf-models-official~=2.13->tensorflow-privacy==0.8.12->tensorflow-federated)\n",
      "  Downloading seqeval-1.2.2.tar.gz (43 kB)\n",
      "\u001b[2K     \u001b[90m━━━━━━━━━━━━━━━━━━━━━━━━━━━━━━━━━━━━━━━\u001b[0m \u001b[32m43.6/43.6 kB\u001b[0m \u001b[31m839.1 kB/s\u001b[0m eta \u001b[36m0:00:00\u001b[0ma \u001b[36m0:00:01\u001b[0m\n",
      "\u001b[?25h  Preparing metadata (setup.py) ... \u001b[?25ldone\n",
      "\u001b[?25hCollecting tensorflow-datasets (from tf-models-official~=2.13->tensorflow-privacy==0.8.12->tensorflow-federated)\n",
      "  Downloading tensorflow_datasets-4.9.4-py3-none-any.whl.metadata (9.2 kB)\n",
      "Collecting tensorflow-hub>=0.6.0 (from tf-models-official~=2.13->tensorflow-privacy==0.8.12->tensorflow-federated)\n",
      "  Downloading tensorflow_hub-0.16.1-py2.py3-none-any.whl.metadata (1.3 kB)\n",
      "Collecting tensorflow-text~=2.15.0 (from tf-models-official~=2.13->tensorflow-privacy==0.8.12->tensorflow-federated)\n",
      "  Downloading tensorflow_text-2.15.0-cp310-cp310-manylinux_2_17_x86_64.manylinux2014_x86_64.whl.metadata (1.9 kB)\n",
      "INFO: pip is looking at multiple versions of tf-models-official to determine which version is compatible with other requirements. This could take a while.\n",
      "Collecting tf-models-official~=2.13 (from tensorflow-privacy==0.8.12->tensorflow-federated)\n",
      "  Downloading tf_models_official-2.14.2-py2.py3-none-any.whl.metadata (1.4 kB)\n",
      "Collecting tensorflow-text~=2.14.0 (from tf-models-official~=2.13->tensorflow-privacy==0.8.12->tensorflow-federated)\n",
      "  Downloading tensorflow_text-2.14.0-cp310-cp310-manylinux_2_17_x86_64.manylinux2014_x86_64.whl.metadata (1.9 kB)\n",
      "Collecting tf-slim>=1.1.0 (from tf-models-official~=2.13->tensorflow-privacy==0.8.12->tensorflow-federated)\n",
      "  Downloading tf_slim-1.1.0-py2.py3-none-any.whl (352 kB)\n",
      "\u001b[2K     \u001b[90m━━━━━━━━━━━━━━━━━━━━━━━━━━━━━━━━━━━━━━━\u001b[0m \u001b[32m352.1/352.1 kB\u001b[0m \u001b[31m7.2 MB/s\u001b[0m eta \u001b[36m0:00:00\u001b[0m00:01\u001b[0m\n",
      "\u001b[?25hCollecting httplib2<1.dev0,>=0.15.0 (from google-api-python-client>=1.6.7->tf-models-official~=2.13->tensorflow-privacy==0.8.12->tensorflow-federated)\n",
      "  Downloading httplib2-0.22.0-py3-none-any.whl.metadata (2.6 kB)\n",
      "Collecting google-auth-httplib2>=0.1.0 (from google-api-python-client>=1.6.7->tf-models-official~=2.13->tensorflow-privacy==0.8.12->tensorflow-federated)\n",
      "  Downloading google_auth_httplib2-0.2.0-py2.py3-none-any.whl.metadata (2.2 kB)\n",
      "Collecting google-api-core!=2.0.*,!=2.1.*,!=2.2.*,!=2.3.0,<3.0.0.dev0,>=1.31.5 (from google-api-python-client>=1.6.7->tf-models-official~=2.13->tensorflow-privacy==0.8.12->tensorflow-federated)\n",
      "  Downloading google_api_core-2.17.1-py3-none-any.whl.metadata (2.7 kB)\n",
      "Collecting uritemplate<5,>=3.0.1 (from google-api-python-client>=1.6.7->tf-models-official~=2.13->tensorflow-privacy==0.8.12->tensorflow-federated)\n",
      "  Downloading uritemplate-4.1.1-py2.py3-none-any.whl (10 kB)\n",
      "Requirement already satisfied: pyasn1-modules>=0.2.1 in /usr/local/python/3.10.13/lib/python3.10/site-packages (from google-auth<3,>=1.6.3->tensorboard<2.15,>=2.14->tensorflow==2.14.*,>=2.14.0->tensorflow-federated) (0.3.0)\n",
      "Requirement already satisfied: rsa<5,>=3.1.4 in /usr/local/python/3.10.13/lib/python3.10/site-packages (from google-auth<3,>=1.6.3->tensorboard<2.15,>=2.14->tensorflow==2.14.*,>=2.14.0->tensorflow-federated) (4.9)\n",
      "Requirement already satisfied: requests-oauthlib>=0.7.0 in /usr/local/python/3.10.13/lib/python3.10/site-packages (from google-auth-oauthlib<1.1,>=0.5->tensorboard<2.15,>=2.14->tensorflow==2.14.*,>=2.14.0->tensorflow-federated) (1.3.1)\n",
      "Requirement already satisfied: certifi in /home/codespace/.local/lib/python3.10/site-packages (from kaggle>=1.3.9->tf-models-official~=2.13->tensorflow-privacy==0.8.12->tensorflow-federated) (2024.2.2)\n",
      "Collecting python-slugify (from kaggle>=1.3.9->tf-models-official~=2.13->tensorflow-privacy==0.8.12->tensorflow-federated)\n",
      "  Downloading python_slugify-8.0.4-py2.py3-none-any.whl.metadata (8.5 kB)\n",
      "Requirement already satisfied: urllib3 in /usr/local/python/3.10.13/lib/python3.10/site-packages (from kaggle>=1.3.9->tf-models-official~=2.13->tensorflow-privacy==0.8.12->tensorflow-federated) (2.0.7)\n",
      "Requirement already satisfied: bleach in /home/codespace/.local/lib/python3.10/site-packages (from kaggle>=1.3.9->tf-models-official~=2.13->tensorflow-privacy==0.8.12->tensorflow-federated) (6.1.0)\n",
      "Requirement already satisfied: charset-normalizer<4,>=2 in /home/codespace/.local/lib/python3.10/site-packages (from requests<3,>=2.21.0->tensorboard<2.15,>=2.14->tensorflow==2.14.*,>=2.14.0->tensorflow-federated) (3.3.2)\n",
      "Requirement already satisfied: idna<4,>=2.5 in /home/codespace/.local/lib/python3.10/site-packages (from requests<3,>=2.21.0->tensorboard<2.15,>=2.14->tensorflow==2.14.*,>=2.14.0->tensorflow-federated) (3.6)\n",
      "Collecting tf-keras>=2.14.1 (from tensorflow-hub>=0.6.0->tf-models-official~=2.13->tensorflow-privacy==0.8.12->tensorflow-federated)\n",
      "  Downloading tf_keras-2.15.0-py3-none-any.whl.metadata (1.6 kB)\n",
      "Requirement already satisfied: MarkupSafe>=2.1.1 in /home/codespace/.local/lib/python3.10/site-packages (from werkzeug>=1.0.1->tensorboard<2.15,>=2.14->tensorflow==2.14.*,>=2.14.0->tensorflow-federated) (2.1.5)\n",
      "Requirement already satisfied: pyasn1>=0.1.7 in /usr/local/python/3.10.13/lib/python3.10/site-packages (from oauth2client->tf-models-official~=2.13->tensorflow-privacy==0.8.12->tensorflow-federated) (0.5.1)\n",
      "Collecting portalocker (from sacrebleu->tf-models-official~=2.13->tensorflow-privacy==0.8.12->tensorflow-federated)\n",
      "  Downloading portalocker-2.8.2-py3-none-any.whl.metadata (8.5 kB)\n",
      "Collecting regex (from sacrebleu->tf-models-official~=2.13->tensorflow-privacy==0.8.12->tensorflow-federated)\n",
      "  Downloading regex-2023.12.25-cp310-cp310-manylinux_2_17_x86_64.manylinux2014_x86_64.whl.metadata (40 kB)\n",
      "\u001b[2K     \u001b[90m━━━━━━━━━━━━━━━━━━━━━━━━━━━━━━━━━━━━━━━\u001b[0m \u001b[32m40.9/40.9 kB\u001b[0m \u001b[31m747.9 kB/s\u001b[0m eta \u001b[36m0:00:00\u001b[0ma \u001b[36m0:00:01\u001b[0m\n",
      "\u001b[?25hCollecting tabulate>=0.8.9 (from sacrebleu->tf-models-official~=2.13->tensorflow-privacy==0.8.12->tensorflow-federated)\n",
      "  Downloading tabulate-0.9.0-py3-none-any.whl.metadata (34 kB)\n",
      "Requirement already satisfied: colorama in /home/codespace/.local/lib/python3.10/site-packages (from sacrebleu->tf-models-official~=2.13->tensorflow-privacy==0.8.12->tensorflow-federated) (0.4.6)\n",
      "Collecting lxml (from sacrebleu->tf-models-official~=2.13->tensorflow-privacy==0.8.12->tensorflow-federated)\n",
      "  Downloading lxml-5.1.0-cp310-cp310-manylinux_2_17_x86_64.manylinux2014_x86_64.whl.metadata (3.5 kB)\n",
      "Collecting click (from tensorflow-datasets->tf-models-official~=2.13->tensorflow-privacy==0.8.12->tensorflow-federated)\n",
      "  Downloading click-8.1.7-py3-none-any.whl.metadata (3.0 kB)\n",
      "Collecting etils>=0.9.0 (from etils[enp,epath,etree]>=0.9.0->tensorflow-datasets->tf-models-official~=2.13->tensorflow-privacy==0.8.12->tensorflow-federated)\n",
      "  Downloading etils-1.7.0-py3-none-any.whl.metadata (6.4 kB)\n",
      "Collecting promise (from tensorflow-datasets->tf-models-official~=2.13->tensorflow-privacy==0.8.12->tensorflow-federated)\n",
      "  Downloading promise-2.3.tar.gz (19 kB)\n",
      "  Preparing metadata (setup.py) ... \u001b[?25ldone\n",
      "\u001b[?25hCollecting tensorflow-metadata (from tensorflow-datasets->tf-models-official~=2.13->tensorflow-privacy==0.8.12->tensorflow-federated)\n",
      "  Downloading tensorflow_metadata-1.14.0-py3-none-any.whl.metadata (2.1 kB)\n",
      "Collecting toml (from tensorflow-datasets->tf-models-official~=2.13->tensorflow-privacy==0.8.12->tensorflow-federated)\n",
      "  Downloading toml-0.10.2-py2.py3-none-any.whl (16 kB)\n",
      "Collecting array-record>=0.5.0 (from tensorflow-datasets->tf-models-official~=2.13->tensorflow-privacy==0.8.12->tensorflow-federated)\n",
      "  Downloading array_record-0.5.0-cp310-cp310-manylinux_2_17_x86_64.manylinux2014_x86_64.whl.metadata (503 bytes)\n",
      "Requirement already satisfied: fsspec in /home/codespace/.local/lib/python3.10/site-packages (from etils[enp,epath,etree]>=0.9.0->tensorflow-datasets->tf-models-official~=2.13->tensorflow-privacy==0.8.12->tensorflow-federated) (2024.2.0)\n",
      "Collecting importlib_resources (from etils[enp,epath,etree]>=0.9.0->tensorflow-datasets->tf-models-official~=2.13->tensorflow-privacy==0.8.12->tensorflow-federated)\n",
      "  Downloading importlib_resources-6.1.1-py3-none-any.whl.metadata (4.1 kB)\n",
      "Collecting zipp (from etils[enp,epath,etree]>=0.9.0->tensorflow-datasets->tf-models-official~=2.13->tensorflow-privacy==0.8.12->tensorflow-federated)\n",
      "  Downloading zipp-3.17.0-py3-none-any.whl.metadata (3.7 kB)\n",
      "Requirement already satisfied: oauthlib>=3.0.0 in /usr/local/python/3.10.13/lib/python3.10/site-packages (from requests-oauthlib>=0.7.0->google-auth-oauthlib<1.1,>=0.5->tensorboard<2.15,>=2.14->tensorflow==2.14.*,>=2.14.0->tensorflow-federated) (3.2.2)\n",
      "Requirement already satisfied: webencodings in /home/codespace/.local/lib/python3.10/site-packages (from bleach->kaggle>=1.3.9->tf-models-official~=2.13->tensorflow-privacy==0.8.12->tensorflow-federated) (0.5.1)\n",
      "Collecting text-unidecode>=1.3 (from python-slugify->kaggle>=1.3.9->tf-models-official~=2.13->tensorflow-privacy==0.8.12->tensorflow-federated)\n",
      "  Downloading text_unidecode-1.3-py2.py3-none-any.whl (78 kB)\n",
      "\u001b[2K     \u001b[90m━━━━━━━━━━━━━━━━━━━━━━━━━━━━━━━━━━━━━━━━\u001b[0m \u001b[32m78.2/78.2 kB\u001b[0m \u001b[31m1.6 MB/s\u001b[0m eta \u001b[36m0:00:00\u001b[0mta \u001b[36m0:00:01\u001b[0m\n",
      "\u001b[?25hINFO: pip is looking at multiple versions of tensorflow-metadata to determine which version is compatible with other requirements. This could take a while.\n",
      "Collecting tensorflow-metadata (from tensorflow-datasets->tf-models-official~=2.13->tensorflow-privacy==0.8.12->tensorflow-federated)\n",
      "  Downloading tensorflow_metadata-1.13.1-py3-none-any.whl.metadata (2.1 kB)\n",
      "Downloading tensorflow_federated-0.71.0-py3-none-manylinux_2_31_x86_64.whl (70.6 MB)\n",
      "\u001b[2K   \u001b[90m━━━━━━━━━━━━━━━━━━━━━━━━━━━━━━━━━━━━━━━━\u001b[0m \u001b[32m70.6/70.6 MB\u001b[0m \u001b[31m10.2 MB/s\u001b[0m eta \u001b[36m0:00:00\u001b[0m00:01\u001b[0m00:01\u001b[0m\n",
      "\u001b[?25hDownloading absl_py-1.4.0-py3-none-any.whl (126 kB)\n",
      "\u001b[2K   \u001b[90m━━━━━━━━━━━━━━━━━━━━━━━━━━━━━━━━━━━━━━━━\u001b[0m \u001b[32m126.5/126.5 kB\u001b[0m \u001b[31m2.9 MB/s\u001b[0m eta \u001b[36m0:00:00\u001b[0mta \u001b[36m0:00:01\u001b[0m\n",
      "\u001b[?25hDownloading dm_tree-0.1.8-cp310-cp310-manylinux_2_17_x86_64.manylinux2014_x86_64.whl (152 kB)\n",
      "\u001b[2K   \u001b[90m━━━━━━━━━━━━━━━━━━━━━━━━━━━━━━━━━━━━━━━━\u001b[0m \u001b[32m152.8/152.8 kB\u001b[0m \u001b[31m3.0 MB/s\u001b[0m eta \u001b[36m0:00:00\u001b[0mta \u001b[36m0:00:01\u001b[0m\n",
      "\u001b[?25hDownloading dp_accounting-0.4.3-py3-none-any.whl (104 kB)\n",
      "\u001b[2K   \u001b[90m━━━━━━━━━━━━━━━━━━━━━━━━━━━━━━━━━━━━━━━━\u001b[0m \u001b[32m104.8/104.8 kB\u001b[0m \u001b[31m2.3 MB/s\u001b[0m eta \u001b[36m0:00:00\u001b[0m:00:01\u001b[0m\n",
      "\u001b[?25hDownloading google_vizier-0.1.11-py3-none-any.whl (721 kB)\n",
      "\u001b[2K   \u001b[90m━━━━━━━━━━━━━━━━━━━━━━━━━━━━━━━━━━━━━━━━\u001b[0m \u001b[32m721.6/721.6 kB\u001b[0m \u001b[31m13.0 MB/s\u001b[0m eta \u001b[36m0:00:00\u001b[0m00:01\u001b[0m\n",
      "\u001b[?25hDownloading attrs-23.1.0-py3-none-any.whl (61 kB)\n",
      "\u001b[2K   \u001b[90m━━━━━━━━━━━━━━━━━━━━━━━━━━━━━━━━━━━━━━━━\u001b[0m \u001b[32m61.2/61.2 kB\u001b[0m \u001b[31m1.3 MB/s\u001b[0m eta \u001b[36m0:00:00\u001b[0meta \u001b[36m0:00:01\u001b[0m\n",
      "\u001b[?25hDownloading googleapis_common_protos-1.61.0-py2.py3-none-any.whl (230 kB)\n",
      "\u001b[2K   \u001b[90m━━━━━━━━━━━━━━━━━━━━━━━━━━━━━━━━━━━━━━━━\u001b[0m \u001b[32m230.9/230.9 kB\u001b[0m \u001b[31m5.0 MB/s\u001b[0m eta \u001b[36m0:00:00\u001b[0m:00:01\u001b[0m\n",
      "\u001b[?25hDownloading jaxlib-0.4.14-cp310-cp310-manylinux2014_x86_64.whl (73.7 MB)\n",
      "\u001b[2K   \u001b[90m━━━━━━━━━━━━━━━━━━━━━━━━━━━━━━━━━━━━━━━━\u001b[0m \u001b[32m73.7/73.7 MB\u001b[0m \u001b[31m10.7 MB/s\u001b[0m eta \u001b[36m0:00:00\u001b[0m00:01\u001b[0m00:01\u001b[0m\n",
      "\u001b[?25hDownloading tensorflow-2.14.1-cp310-cp310-manylinux_2_17_x86_64.manylinux2014_x86_64.whl (489.9 MB)\n",
      "\u001b[2K   \u001b[90m━━━━━━━━━━━━━━━━━━━━━━━━━━━━━━━━━━━━━━━━\u001b[0m \u001b[32m489.9/489.9 MB\u001b[0m \u001b[31m2.8 MB/s\u001b[0m eta \u001b[36m0:00:00\u001b[0m:00:01\u001b[0m00:01\u001b[0m\n",
      "\u001b[?25hDownloading tensorflow_compression-2.14.0-cp310-cp310-manylinux_2_17_x86_64.manylinux2014_x86_64.whl (257 kB)\n",
      "\u001b[2K   \u001b[90m━━━━━━━━━━━━━━━━━━━━━━━━━━━━━━━━━━━━━━━━\u001b[0m \u001b[32m257.7/257.7 kB\u001b[0m \u001b[31m2.4 MB/s\u001b[0m eta \u001b[36m0:00:00\u001b[0m:00:01\u001b[0m\n",
      "\u001b[?25hDownloading tensorflow_model_optimization-0.7.5-py2.py3-none-any.whl (241 kB)\n",
      "\u001b[2K   \u001b[90m━━━━━━━━━━━━━━━━━━━━━━━━━━━━━━━━━━━━━━━━\u001b[0m \u001b[32m241.2/241.2 kB\u001b[0m \u001b[31m5.1 MB/s\u001b[0m eta \u001b[36m0:00:00\u001b[0m:00:01\u001b[0m\n",
      "\u001b[?25hDownloading tensorflow_privacy-0.8.12-py3-none-any.whl (405 kB)\n",
      "\u001b[2K   \u001b[90m━━━━━━━━━━━━━━━━━━━━━━━━━━━━━━━━━━━━━━━━\u001b[0m \u001b[32m405.5/405.5 kB\u001b[0m \u001b[31m8.2 MB/s\u001b[0m eta \u001b[36m0:00:00\u001b[0m:00:01\u001b[0m\n",
      "\u001b[?25hDownloading typing_extensions-4.5.0-py3-none-any.whl (27 kB)\n",
      "Downloading portpicker-1.6.0-py3-none-any.whl (16 kB)\n",
      "Downloading scipy-1.9.3-cp310-cp310-manylinux_2_17_x86_64.manylinux2014_x86_64.whl (33.7 MB)\n",
      "\u001b[2K   \u001b[90m━━━━━━━━━━━━━━━━━━━━━━━━━━━━━━━━━━━━━━━━\u001b[0m \u001b[32m33.7/33.7 MB\u001b[0m \u001b[31m19.5 MB/s\u001b[0m eta \u001b[36m0:00:00\u001b[0m00:01\u001b[0m00:01\u001b[0m\n",
      "\u001b[?25hDownloading numpy-1.25.2-cp310-cp310-manylinux_2_17_x86_64.manylinux2014_x86_64.whl (18.2 MB)\n",
      "\u001b[2K   \u001b[90m━━━━━━━━━━━━━━━━━━━━━━━━━━━━━━━━━━━━━━━━\u001b[0m \u001b[32m18.2/18.2 MB\u001b[0m \u001b[31m25.7 MB/s\u001b[0m eta \u001b[36m0:00:00\u001b[0m00:01\u001b[0m00:01\u001b[0m\n",
      "\u001b[?25hDownloading semantic_version-2.10.0-py2.py3-none-any.whl (15 kB)\n",
      "Downloading tqdm-4.66.2-py3-none-any.whl (78 kB)\n",
      "\u001b[2K   \u001b[90m━━━━━━━━━━━━━━━━━━━━━━━━━━━━━━━━━━━━━━━━\u001b[0m \u001b[32m78.3/78.3 kB\u001b[0m \u001b[31m1.8 MB/s\u001b[0m eta \u001b[36m0:00:00\u001b[0meta \u001b[36m0:00:01\u001b[0m\n",
      "\u001b[?25hDownloading grpcio_tools-1.62.0-cp310-cp310-manylinux_2_17_x86_64.manylinux2014_x86_64.whl (2.8 MB)\n",
      "\u001b[2K   \u001b[90m━━━━━━━━━━━━━━━━━━━━━━━━━━━━━━━━━━━━━━━━\u001b[0m \u001b[32m2.8/2.8 MB\u001b[0m \u001b[31m33.3 MB/s\u001b[0m eta \u001b[36m0:00:00\u001b[0m:00:01\u001b[0m\n",
      "\u001b[?25hDownloading immutabledict-2.2.5-py3-none-any.whl (4.1 kB)\n",
      "Downloading keras-2.14.0-py3-none-any.whl (1.7 MB)\n",
      "\u001b[2K   \u001b[90m━━━━━━━━━━━━━━━━━━━━━━━━━━━━━━━━━━━━━━━━\u001b[0m \u001b[32m1.7/1.7 MB\u001b[0m \u001b[31m22.5 MB/s\u001b[0m eta \u001b[36m0:00:00\u001b[0m:00:01\u001b[0m\n",
      "\u001b[?25hDownloading packaging-22.0-py3-none-any.whl (42 kB)\n",
      "\u001b[2K   \u001b[90m━━━━━━━━━━━━━━━━━━━━━━━━━━━━━━━━━━━━━━━━\u001b[0m \u001b[32m42.6/42.6 kB\u001b[0m \u001b[31m866.0 kB/s\u001b[0m eta \u001b[36m0:00:00\u001b[0ma \u001b[36m0:00:01\u001b[0m\n",
      "\u001b[?25hDownloading pandas-1.5.3-cp310-cp310-manylinux_2_17_x86_64.manylinux2014_x86_64.whl (12.1 MB)\n",
      "\u001b[2K   \u001b[90m━━━━━━━━━━━━━━━━━━━━━━━━━━━━━━━━━━━━━━━━\u001b[0m \u001b[32m12.1/12.1 MB\u001b[0m \u001b[31m29.9 MB/s\u001b[0m eta \u001b[36m0:00:00\u001b[0m00:01\u001b[0m00:01\u001b[0m\n",
      "\u001b[?25hDownloading statsmodels-0.14.1-cp310-cp310-manylinux_2_17_x86_64.manylinux2014_x86_64.whl (10.8 MB)\n",
      "\u001b[2K   \u001b[90m━━━━━━━━━━━━━━━━━━━━━━━━━━━━━━━━━━━━━━━━\u001b[0m \u001b[32m10.8/10.8 MB\u001b[0m \u001b[31m33.8 MB/s\u001b[0m eta \u001b[36m0:00:00\u001b[0m00:01\u001b[0m0:01\u001b[0mm\n",
      "\u001b[?25hDownloading tensorboard-2.14.1-py3-none-any.whl (5.5 MB)\n",
      "\u001b[2K   \u001b[90m━━━━━━━━━━━━━━━━━━━━━━━━━━━━━━━━━━━━━━━━\u001b[0m \u001b[32m5.5/5.5 MB\u001b[0m \u001b[31m33.8 MB/s\u001b[0m eta \u001b[36m0:00:00\u001b[0m00:01\u001b[0m:00:01\u001b[0m\n",
      "\u001b[?25hDownloading tensorflow_estimator-2.14.0-py2.py3-none-any.whl (440 kB)\n",
      "\u001b[2K   \u001b[90m━━━━━━━━━━━━━━━━━━━━━━━━━━━━━━━━━━━━━━━━\u001b[0m \u001b[32m440.7/440.7 kB\u001b[0m \u001b[31m7.5 MB/s\u001b[0m eta \u001b[36m0:00:00\u001b[0m:00:01\u001b[0m\n",
      "\u001b[?25hDownloading tensorflow_probability-0.22.1-py2.py3-none-any.whl (6.9 MB)\n",
      "\u001b[2K   \u001b[90m━━━━━━━━━━━━━━━━━━━━━━━━━━━━━━━━━━━━━━━━\u001b[0m \u001b[32m6.9/6.9 MB\u001b[0m \u001b[31m32.5 MB/s\u001b[0m eta \u001b[36m0:00:00\u001b[0m00:01\u001b[0m00:01\u001b[0mm\n",
      "\u001b[?25hDownloading tf_models_official-2.14.2-py2.py3-none-any.whl (2.7 MB)\n",
      "\u001b[2K   \u001b[90m━━━━━━━━━━━━━━━━━━━━━━━━━━━━━━━━━━━━━━━━\u001b[0m \u001b[32m2.7/2.7 MB\u001b[0m \u001b[31m29.9 MB/s\u001b[0m eta \u001b[36m0:00:00\u001b[0m:00:01\u001b[0m\n",
      "\u001b[?25hDownloading cloudpickle-3.0.0-py3-none-any.whl (20 kB)\n",
      "Downloading google_api_python_client-2.119.0-py2.py3-none-any.whl (12.2 MB)\n",
      "\u001b[2K   \u001b[90m━━━━━━━━━━━━━━━━━━━━━━━━━━━━━━━━━━━━━━━━\u001b[0m \u001b[32m12.2/12.2 MB\u001b[0m \u001b[31m29.2 MB/s\u001b[0m eta \u001b[36m0:00:00\u001b[0m00:01\u001b[0m00:01\u001b[0m\n",
      "\u001b[?25hDownloading google_auth_oauthlib-1.0.0-py2.py3-none-any.whl (18 kB)\n",
      "Downloading greenlet-3.0.3-cp310-cp310-manylinux_2_24_x86_64.manylinux_2_28_x86_64.whl (616 kB)\n",
      "\u001b[2K   \u001b[90m━━━━━━━━━━━━━━━━━━━━━━━━━━━━━━━━━━━━━━━━\u001b[0m \u001b[32m616.0/616.0 kB\u001b[0m \u001b[31m11.6 MB/s\u001b[0m eta \u001b[36m0:00:00\u001b[0m00:01\u001b[0m\n",
      "\u001b[?25hDownloading patsy-0.5.6-py2.py3-none-any.whl (233 kB)\n",
      "\u001b[2K   \u001b[90m━━━━━━━━━━━━━━━━━━━━━━━━━━━━━━━━━━━━━━━━\u001b[0m \u001b[32m233.9/233.9 kB\u001b[0m \u001b[31m5.5 MB/s\u001b[0m eta \u001b[36m0:00:00\u001b[0mta \u001b[36m0:00:01\u001b[0m\n",
      "\u001b[?25hDownloading py_cpuinfo-9.0.0-py3-none-any.whl (22 kB)\n",
      "Downloading tensorflow_hub-0.16.1-py2.py3-none-any.whl (30 kB)\n",
      "Downloading tensorflow_text-2.14.0-cp310-cp310-manylinux_2_17_x86_64.manylinux2014_x86_64.whl (6.5 MB)\n",
      "\u001b[2K   \u001b[90m━━━━━━━━━━━━━━━━━━━━━━━━━━━━━━━━━━━━━━━━\u001b[0m \u001b[32m6.5/6.5 MB\u001b[0m \u001b[31m30.1 MB/s\u001b[0m eta \u001b[36m0:00:00\u001b[0m00:01\u001b[0m00:01\u001b[0m\n",
      "\u001b[?25hDownloading Cython-3.0.8-cp310-cp310-manylinux_2_17_x86_64.manylinux2014_x86_64.whl (3.6 MB)\n",
      "\u001b[2K   \u001b[90m━━━━━━━━━━━━━━━━━━━━━━━━━━━━━━━━━━━━━━━━\u001b[0m \u001b[32m3.6/3.6 MB\u001b[0m \u001b[31m28.1 MB/s\u001b[0m eta \u001b[36m0:00:00\u001b[0m00:01\u001b[0m:00:01\u001b[0m\n",
      "\u001b[?25hDownloading opencv_python_headless-4.9.0.80-cp37-abi3-manylinux_2_17_x86_64.manylinux2014_x86_64.whl (49.6 MB)\n",
      "\u001b[2K   \u001b[90m━━━━━━━━━━━━━━━━━━━━━━━━━━━━━━━━━━━━━━━━\u001b[0m \u001b[32m49.6/49.6 MB\u001b[0m \u001b[31m15.1 MB/s\u001b[0m eta \u001b[36m0:00:00\u001b[0m00:01\u001b[0m00:01\u001b[0m\n",
      "\u001b[?25hDownloading pycocotools-2.0.7-cp310-cp310-manylinux_2_17_x86_64.manylinux2014_x86_64.whl (426 kB)\n",
      "\u001b[2K   \u001b[90m━━━━━━━━━━━━━━━━━━━━━━━━━━━━━━━━━━━━━━━━\u001b[0m \u001b[32m426.2/426.2 kB\u001b[0m \u001b[31m8.9 MB/s\u001b[0m eta \u001b[36m0:00:00\u001b[0m:00:01\u001b[0m\n",
      "\u001b[?25hDownloading sacrebleu-2.4.0-py3-none-any.whl (106 kB)\n",
      "\u001b[2K   \u001b[90m━━━━━━━━━━━━━━━━━━━━━━━━━━━━━━━━━━━━━━━━\u001b[0m \u001b[32m106.3/106.3 kB\u001b[0m \u001b[31m1.2 MB/s\u001b[0m eta \u001b[36m0:00:00\u001b[0mta \u001b[36m0:00:01\u001b[0m\n",
      "\u001b[?25hDownloading sentencepiece-0.2.0-cp310-cp310-manylinux_2_17_x86_64.manylinux2014_x86_64.whl (1.3 MB)\n",
      "\u001b[2K   \u001b[90m━━━━━━━━━━━━━━━━━━━━━━━━━━━━━━━━━━━━━━━━\u001b[0m \u001b[32m1.3/1.3 MB\u001b[0m \u001b[31m19.8 MB/s\u001b[0m eta \u001b[36m0:00:00\u001b[0m:00:01\u001b[0m\n",
      "\u001b[?25hDownloading tensorflow_datasets-4.9.4-py3-none-any.whl (5.1 MB)\n",
      "\u001b[2K   \u001b[90m━━━━━━━━━━━━━━━━━━━━━━━━━━━━━━━━━━━━━━━━\u001b[0m \u001b[32m5.1/5.1 MB\u001b[0m \u001b[31m31.5 MB/s\u001b[0m eta \u001b[36m0:00:00\u001b[0m00:01\u001b[0m:00:01\u001b[0m\n",
      "\u001b[?25hDownloading array_record-0.5.0-cp310-cp310-manylinux_2_17_x86_64.manylinux2014_x86_64.whl (3.0 MB)\n",
      "\u001b[2K   \u001b[90m━━━━━━━━━━━━━━━━━━━━━━━━━━━━━━━━━━━━━━━━\u001b[0m \u001b[32m3.0/3.0 MB\u001b[0m \u001b[31m32.4 MB/s\u001b[0m eta \u001b[36m0:00:00\u001b[0m:00:01\u001b[0m\n",
      "\u001b[?25hDownloading etils-1.7.0-py3-none-any.whl (152 kB)\n",
      "\u001b[2K   \u001b[90m━━━━━━━━━━━━━━━━━━━━━━━━━━━━━━━━━━━━━━━━\u001b[0m \u001b[32m152.4/152.4 kB\u001b[0m \u001b[31m3.6 MB/s\u001b[0m eta \u001b[36m0:00:00\u001b[0mta \u001b[36m0:00:01\u001b[0m\n",
      "\u001b[?25hDownloading google_api_core-2.17.1-py3-none-any.whl (137 kB)\n",
      "\u001b[2K   \u001b[90m━━━━━━━━━━━━━━━━━━━━━━━━━━━━━━━━━━━━━━━━\u001b[0m \u001b[32m137.0/137.0 kB\u001b[0m \u001b[31m3.0 MB/s\u001b[0m eta \u001b[36m0:00:00\u001b[0mta \u001b[36m0:00:01\u001b[0m\n",
      "\u001b[?25hDownloading google_auth_httplib2-0.2.0-py2.py3-none-any.whl (9.3 kB)\n",
      "Downloading httplib2-0.22.0-py3-none-any.whl (96 kB)\n",
      "\u001b[2K   \u001b[90m━━━━━━━━━━━━━━━━━━━━━━━━━━━━━━━━━━━━━━━━\u001b[0m \u001b[32m96.9/96.9 kB\u001b[0m \u001b[31m2.2 MB/s\u001b[0m eta \u001b[36m0:00:00\u001b[0meta \u001b[36m0:00:01\u001b[0m\n",
      "\u001b[?25hDownloading tabulate-0.9.0-py3-none-any.whl (35 kB)\n",
      "Downloading tf_keras-2.15.0-py3-none-any.whl (1.7 MB)\n",
      "\u001b[2K   \u001b[90m━━━━━━━━━━━━━━━━━━━━━━━━━━━━━━━━━━━━━━━━\u001b[0m \u001b[32m1.7/1.7 MB\u001b[0m \u001b[31m23.1 MB/s\u001b[0m eta \u001b[36m0:00:00\u001b[0m:00:01\u001b[0m\n",
      "\u001b[?25hDownloading click-8.1.7-py3-none-any.whl (97 kB)\n",
      "\u001b[2K   \u001b[90m━━━━━━━━━━━━━━━━━━━━━━━━━━━━━━━━━━━━━━━━\u001b[0m \u001b[32m97.9/97.9 kB\u001b[0m \u001b[31m2.2 MB/s\u001b[0m eta \u001b[36m0:00:00\u001b[0meta \u001b[36m0:00:01\u001b[0m\n",
      "\u001b[?25hDownloading lxml-5.1.0-cp310-cp310-manylinux_2_17_x86_64.manylinux2014_x86_64.whl (8.0 MB)\n",
      "\u001b[2K   \u001b[90m━━━━━━━━━━━━━━━━━━━━━━━━━━━━━━━━━━━━━━━━\u001b[0m \u001b[32m8.0/8.0 MB\u001b[0m \u001b[31m34.2 MB/s\u001b[0m eta \u001b[36m0:00:00\u001b[0m00:01\u001b[0m00:01\u001b[0mm\n",
      "\u001b[?25hDownloading portalocker-2.8.2-py3-none-any.whl (17 kB)\n",
      "Downloading python_slugify-8.0.4-py2.py3-none-any.whl (10 kB)\n",
      "Downloading regex-2023.12.25-cp310-cp310-manylinux_2_17_x86_64.manylinux2014_x86_64.whl (773 kB)\n",
      "\u001b[2K   \u001b[90m━━━━━━━━━━━━━━━━━━━━━━━━━━━━━━━━━━━━━━━━\u001b[0m \u001b[32m774.0/774.0 kB\u001b[0m \u001b[31m14.0 MB/s\u001b[0m eta \u001b[36m0:00:00\u001b[0m00:01\u001b[0m\n",
      "\u001b[?25hDownloading tensorflow_metadata-1.13.1-py3-none-any.whl (28 kB)\n",
      "Downloading importlib_resources-6.1.1-py3-none-any.whl (33 kB)\n",
      "Downloading zipp-3.17.0-py3-none-any.whl (7.4 kB)\n",
      "Building wheels for collected packages: farmhashpy, jax, sqlalchemy, kaggle, seqeval, promise\n",
      "  Building wheel for farmhashpy (setup.py) ... \u001b[?25ldone\n",
      "\u001b[?25h  Created wheel for farmhashpy: filename=farmhashpy-0.4.0-cp310-cp310-linux_x86_64.whl size=100688 sha256=d4e3c3ff6cdcb618d50d6306ab1cfb6f4c19c9f58f727e75c63ce3774c9f41c0\n",
      "  Stored in directory: /home/codespace/.cache/pip/wheels/14/0e/36/b61b3f47ae366b7d5dd2b746326d17234269dbc745ad554857\n",
      "  Building wheel for jax (pyproject.toml) ... \u001b[?25ldone\n",
      "\u001b[?25h  Created wheel for jax: filename=jax-0.4.14-py3-none-any.whl size=1535362 sha256=6587fbcda9b99c1f2ac07c5981b996969d691627ed74f7b968a09dea73a1b0ff\n",
      "  Stored in directory: /home/codespace/.cache/pip/wheels/85/52/e7/dfa571c9f9b879e3facaa1584f52be04c4c3d1e14054ef40ab\n",
      "  Building wheel for sqlalchemy (setup.py) ... \u001b[?25ldone\n",
      "\u001b[?25h  Created wheel for sqlalchemy: filename=SQLAlchemy-1.4.20-cp310-cp310-linux_x86_64.whl size=1549210 sha256=e9a66c1a116cb28625739773b962a388d938fcb506c65d5ba6a82744af7e30b7\n",
      "  Stored in directory: /home/codespace/.cache/pip/wheels/c4/42/20/a958989c470cc1a6fe1d1279b0193f0e508161327fc3d951d9\n",
      "  Building wheel for kaggle (setup.py) ... \u001b[?25ldone\n",
      "\u001b[?25h  Created wheel for kaggle: filename=kaggle-1.6.6-py3-none-any.whl size=111943 sha256=b7350bcd215c1575a359f31e7ae36018c0142d9dbf75fcea9d1c1be265420e58\n",
      "  Stored in directory: /home/codespace/.cache/pip/wheels/53/34/8c/8ca3450d17206d9e37e1ee3aeb47cbb2873d22a9e0c60eb137\n",
      "  Building wheel for seqeval (setup.py) ... \u001b[?25ldone\n",
      "\u001b[?25h  Created wheel for seqeval: filename=seqeval-1.2.2-py3-none-any.whl size=16162 sha256=e0167021d945490d1fc0e4f0a65c5db982e912fa049a68160e0d10c90be02bbc\n",
      "  Stored in directory: /home/codespace/.cache/pip/wheels/1a/67/4a/ad4082dd7dfc30f2abfe4d80a2ed5926a506eb8a972b4767fa\n",
      "  Building wheel for promise (setup.py) ... \u001b[?25ldone\n",
      "\u001b[?25h  Created wheel for promise: filename=promise-2.3-py3-none-any.whl size=21483 sha256=0fa2cfae6b29ecf2426a2e3246c154a75925507dc49125a01e822092bafe435a\n",
      "  Stored in directory: /home/codespace/.cache/pip/wheels/54/4e/28/3ed0e1c8a752867445bab994d2340724928aa3ab059c57c8db\n",
      "Successfully built farmhashpy jax sqlalchemy kaggle seqeval promise\n",
      "Installing collected packages: text-unidecode, sentencepiece, py-cpuinfo, gin-config, dm-tree, zipp, uritemplate, typing-extensions, tqdm, toml, tf-keras, tensorflow-estimator, tabulate, semantic-version, regex, python-slugify, promise, portpicker, portalocker, packaging, numpy, lxml, keras, importlib_resources, immutabledict, httplib2, grpcio-tools, greenlet, googleapis-common-protos, farmhashpy, etils, Cython, cloudpickle, click, attrs, absl-py, tf-slim, tensorflow-probability, tensorflow-model-optimization, tensorflow-metadata, tensorflow-hub, sqlalchemy, scipy, sacrebleu, patsy, pandas, opencv-python-headless, oauth2client, kaggle, statsmodels, jaxlib, jax, google-vizier, google-auth-oauthlib, google-auth-httplib2, google-api-core, dp-accounting, tensorboard, seqeval, pycocotools, google-api-python-client, array-record, tensorflow, tensorflow-text, tensorflow-datasets, tensorflow-compression, tf-models-official, tensorflow-privacy, tensorflow-federated\n",
      "  Attempting uninstall: typing-extensions\n",
      "    Found existing installation: typing_extensions 4.9.0\n",
      "    Uninstalling typing_extensions-4.9.0:\n",
      "      Successfully uninstalled typing_extensions-4.9.0\n",
      "  Attempting uninstall: tensorflow-estimator\n",
      "    Found existing installation: tensorflow-estimator 2.15.0\n",
      "    Uninstalling tensorflow-estimator-2.15.0:\n",
      "      Successfully uninstalled tensorflow-estimator-2.15.0\n",
      "  Attempting uninstall: packaging\n",
      "    Found existing installation: packaging 23.2\n",
      "    Uninstalling packaging-23.2:\n",
      "      Successfully uninstalled packaging-23.2\n",
      "  Attempting uninstall: numpy\n",
      "    Found existing installation: numpy 1.26.4\n",
      "    Uninstalling numpy-1.26.4:\n",
      "      Successfully uninstalled numpy-1.26.4\n",
      "  Attempting uninstall: keras\n",
      "    Found existing installation: keras 2.15.0\n",
      "    Uninstalling keras-2.15.0:\n",
      "      Successfully uninstalled keras-2.15.0\n",
      "  Attempting uninstall: attrs\n",
      "    Found existing installation: attrs 23.2.0\n",
      "    Uninstalling attrs-23.2.0:\n",
      "      Successfully uninstalled attrs-23.2.0\n",
      "  Attempting uninstall: absl-py\n",
      "    Found existing installation: absl-py 2.1.0\n",
      "    Uninstalling absl-py-2.1.0:\n",
      "      Successfully uninstalled absl-py-2.1.0\n",
      "  Attempting uninstall: scipy\n",
      "    Found existing installation: scipy 1.12.0\n",
      "    Uninstalling scipy-1.12.0:\n",
      "      Successfully uninstalled scipy-1.12.0\n",
      "  Attempting uninstall: pandas\n",
      "    Found existing installation: pandas 2.2.0\n",
      "    Uninstalling pandas-2.2.0:\n",
      "      Successfully uninstalled pandas-2.2.0\n",
      "  Attempting uninstall: google-auth-oauthlib\n",
      "    Found existing installation: google-auth-oauthlib 1.2.0\n",
      "    Uninstalling google-auth-oauthlib-1.2.0:\n",
      "      Successfully uninstalled google-auth-oauthlib-1.2.0\n",
      "  Attempting uninstall: tensorboard\n",
      "    Found existing installation: tensorboard 2.15.2\n",
      "    Uninstalling tensorboard-2.15.2:\n",
      "      Successfully uninstalled tensorboard-2.15.2\n",
      "  Attempting uninstall: tensorflow\n",
      "    Found existing installation: tensorflow 2.15.0.post1\n",
      "    Uninstalling tensorflow-2.15.0.post1:\n",
      "      Successfully uninstalled tensorflow-2.15.0.post1\n",
      "\u001b[31mERROR: pip's dependency resolver does not currently take into account all the packages that are installed. This behaviour is the source of the following dependency conflicts.\n",
      "torch 2.2.0 requires typing-extensions>=4.8.0, but you have typing-extensions 4.5.0 which is incompatible.\u001b[0m\u001b[31m\n",
      "\u001b[0mSuccessfully installed Cython-3.0.8 absl-py-1.4.0 array-record-0.5.0 attrs-23.1.0 click-8.1.7 cloudpickle-3.0.0 dm-tree-0.1.8 dp-accounting-0.4.3 etils-1.7.0 farmhashpy-0.4.0 gin-config-0.5.0 google-api-core-2.17.1 google-api-python-client-2.119.0 google-auth-httplib2-0.2.0 google-auth-oauthlib-1.0.0 google-vizier-0.1.11 googleapis-common-protos-1.61.0 greenlet-3.0.3 grpcio-tools-1.62.0 httplib2-0.22.0 immutabledict-2.2.5 importlib_resources-6.1.1 jax-0.4.14 jaxlib-0.4.14 kaggle-1.6.6 keras-2.14.0 lxml-5.1.0 numpy-1.25.2 oauth2client-4.1.3 opencv-python-headless-4.9.0.80 packaging-22.0 pandas-1.5.3 patsy-0.5.6 portalocker-2.8.2 portpicker-1.6.0 promise-2.3 py-cpuinfo-9.0.0 pycocotools-2.0.7 python-slugify-8.0.4 regex-2023.12.25 sacrebleu-2.4.0 scipy-1.9.3 semantic-version-2.10.0 sentencepiece-0.2.0 seqeval-1.2.2 sqlalchemy-1.4.20 statsmodels-0.14.1 tabulate-0.9.0 tensorboard-2.14.1 tensorflow-2.14.1 tensorflow-compression-2.14.0 tensorflow-datasets-4.9.4 tensorflow-estimator-2.14.0 tensorflow-federated-0.71.0 tensorflow-hub-0.16.1 tensorflow-metadata-1.13.1 tensorflow-model-optimization-0.7.5 tensorflow-privacy-0.8.12 tensorflow-probability-0.22.1 tensorflow-text-2.14.0 text-unidecode-1.3 tf-keras-2.15.0 tf-models-official-2.14.2 tf-slim-1.1.0 toml-0.10.2 tqdm-4.66.2 typing-extensions-4.5.0 uritemplate-4.1.1 zipp-3.17.0\n",
      "Note: you may need to restart the kernel to use updated packages.\n"
     ]
    }
   ],
   "source": [
    "pip install tensorflow-federated"
   ]
  },
  {
   "cell_type": "code",
   "execution_count": 1,
   "metadata": {},
   "outputs": [
    {
     "name": "stdout",
     "output_type": "stream",
     "text": [
      "Requirement already satisfied: nest-asyncio in /home/codespace/.local/lib/python3.10/site-packages (1.6.0)\n",
      "Requirement already satisfied: pandas in /usr/local/python/3.10.13/lib/python3.10/site-packages (1.5.3)\n",
      "Requirement already satisfied: python-dateutil>=2.8.1 in /home/codespace/.local/lib/python3.10/site-packages (from pandas) (2.8.2)\n",
      "Requirement already satisfied: pytz>=2020.1 in /home/codespace/.local/lib/python3.10/site-packages (from pandas) (2024.1)\n",
      "Requirement already satisfied: numpy>=1.21.0 in /usr/local/python/3.10.13/lib/python3.10/site-packages (from pandas) (1.25.2)\n",
      "Requirement already satisfied: six>=1.5 in /home/codespace/.local/lib/python3.10/site-packages (from python-dateutil>=2.8.1->pandas) (1.16.0)\n",
      "Requirement already satisfied: matplotlib in /home/codespace/.local/lib/python3.10/site-packages (3.8.2)\n",
      "Requirement already satisfied: contourpy>=1.0.1 in /home/codespace/.local/lib/python3.10/site-packages (from matplotlib) (1.2.0)\n",
      "Requirement already satisfied: cycler>=0.10 in /home/codespace/.local/lib/python3.10/site-packages (from matplotlib) (0.12.1)\n",
      "Requirement already satisfied: fonttools>=4.22.0 in /home/codespace/.local/lib/python3.10/site-packages (from matplotlib) (4.48.1)\n",
      "Requirement already satisfied: kiwisolver>=1.3.1 in /home/codespace/.local/lib/python3.10/site-packages (from matplotlib) (1.4.5)\n",
      "Requirement already satisfied: numpy<2,>=1.21 in /usr/local/python/3.10.13/lib/python3.10/site-packages (from matplotlib) (1.25.2)\n",
      "Requirement already satisfied: packaging>=20.0 in /usr/local/python/3.10.13/lib/python3.10/site-packages (from matplotlib) (22.0)\n",
      "Requirement already satisfied: pillow>=8 in /home/codespace/.local/lib/python3.10/site-packages (from matplotlib) (10.2.0)\n",
      "Requirement already satisfied: pyparsing>=2.3.1 in /home/codespace/.local/lib/python3.10/site-packages (from matplotlib) (3.1.1)\n",
      "Requirement already satisfied: python-dateutil>=2.7 in /home/codespace/.local/lib/python3.10/site-packages (from matplotlib) (2.8.2)\n",
      "Requirement already satisfied: six>=1.5 in /home/codespace/.local/lib/python3.10/site-packages (from python-dateutil>=2.7->matplotlib) (1.16.0)\n"
     ]
    }
   ],
   "source": [
    "!pip install nest-asyncio\n",
    "!pip install pandas\n",
    "!pip install matplotlib"
   ]
  },
  {
   "cell_type": "code",
   "execution_count": 2,
   "metadata": {},
   "outputs": [
    {
     "name": "stderr",
     "output_type": "stream",
     "text": [
      "2024-02-23 04:03:49.467487: I tensorflow/tsl/cuda/cudart_stub.cc:28] Could not find cuda drivers on your machine, GPU will not be used.\n",
      "2024-02-23 04:03:49.734047: E tensorflow/compiler/xla/stream_executor/cuda/cuda_dnn.cc:9342] Unable to register cuDNN factory: Attempting to register factory for plugin cuDNN when one has already been registered\n",
      "2024-02-23 04:03:49.734111: E tensorflow/compiler/xla/stream_executor/cuda/cuda_fft.cc:609] Unable to register cuFFT factory: Attempting to register factory for plugin cuFFT when one has already been registered\n",
      "2024-02-23 04:03:49.734165: E tensorflow/compiler/xla/stream_executor/cuda/cuda_blas.cc:1518] Unable to register cuBLAS factory: Attempting to register factory for plugin cuBLAS when one has already been registered\n",
      "2024-02-23 04:03:49.792334: I tensorflow/tsl/cuda/cudart_stub.cc:28] Could not find cuda drivers on your machine, GPU will not be used.\n",
      "2024-02-23 04:03:49.793296: I tensorflow/core/platform/cpu_feature_guard.cc:182] This TensorFlow binary is optimized to use available CPU instructions in performance-critical operations.\n",
      "To enable the following instructions: AVX2 FMA, in other operations, rebuild TensorFlow with the appropriate compiler flags.\n",
      "2024-02-23 04:03:51.740957: W tensorflow/compiler/tf2tensorrt/utils/py_utils.cc:38] TF-TRT Warning: Could not find TensorRT\n"
     ]
    }
   ],
   "source": [
    "import collections\n",
    "import os\n",
    "import pandas as pd\n",
    "import tensorflow as tf\n",
    "import tensorflow_federated as tff\n",
    "import time\n",
    "from matplotlib import pyplot as plt\n",
    "import nest_asyncio\n",
    "import numpy as np\n",
    "nest_asyncio.apply()\n",
    "\n",
    "%matplotlib inline"
   ]
  },
  {
   "cell_type": "code",
   "execution_count": 57,
   "metadata": {},
   "outputs": [],
   "source": [
    "df_train = pd.read_csv('/workspaces/Network_Intrusion_Detection/KDDTrain+.txt')  # Replace with the actual path\n",
    "df_test = pd.read_csv('/workspaces/Network_Intrusion_Detection/KDDTest+.txt')    # Replace with the actual path"
   ]
  },
  {
   "cell_type": "code",
   "execution_count": 58,
   "metadata": {},
   "outputs": [],
   "source": [
    "df_train.columns = ['duration', 'protocol_type', 'service', 'flag', 'src_bytes',\n",
    "'dst_bytes', 'land', 'wrong_fragment', 'urgent', 'hot',\n",
    "'num_failed_logins', 'logged_in', 'num_compromised', 'root_shell',\n",
    "'su_attempted', 'num_root', 'num_file_creations', 'num_shells',\n",
    "'num_access_files', 'num_outbound_cmds', 'is_host_login',\n",
    "'is_guest_login', 'count', 'srv_count', 'serror_rate',\n",
    "'srv_serror_rate', 'rerror_rate', 'srv_rerror_rate', 'same_srv_rate',\n",
    "'diff_srv_rate', 'srv_diff_host_rate', 'dst_host_count',\n",
    "'dst_host_srv_count', 'dst_host_same_srv_rate','dst_host_diff_srv_rate', 'dst_host_same_src_port_rate',\n",
    "'dst_host_srv_diff_host_rate', 'dst_host_serror_rate',\n",
    "'dst_host_srv_serror_rate', 'dst_host_rerror_rate',\n",
    "'dst_host_srv_rerror_rate', 'subclass', 'difficulty_level']\n",
    "\n",
    "df_test.columns = ['duration', 'protocol_type', 'service', 'flag', 'src_bytes',\n",
    "'dst_bytes', 'land', 'wrong_fragment', 'urgent', 'hot',\n",
    "'num_failed_logins', 'logged_in', 'num_compromised', 'root_shell',\n",
    "'su_attempted', 'num_root', 'num_file_creations', 'num_shells',\n",
    "'num_access_files', 'num_outbound_cmds', 'is_host_login',\n",
    "'is_guest_login', 'count', 'srv_count', 'serror_rate',\n",
    "'srv_serror_rate', 'rerror_rate', 'srv_rerror_rate', 'same_srv_rate',\n",
    "'diff_srv_rate', 'srv_diff_host_rate', 'dst_host_count',\n",
    "'dst_host_srv_count', 'dst_host_same_srv_rate','dst_host_diff_srv_rate', 'dst_host_same_src_port_rate',\n",
    "'dst_host_srv_diff_host_rate', 'dst_host_serror_rate',\n",
    "'dst_host_srv_serror_rate', 'dst_host_rerror_rate',\n",
    "'dst_host_srv_rerror_rate', 'subclass', 'difficulty_level']"
   ]
  },
  {
   "cell_type": "code",
   "execution_count": 59,
   "metadata": {},
   "outputs": [
    {
     "name": "stderr",
     "output_type": "stream",
     "text": [
      "/tmp/ipykernel_8862/824958944.py:1: FutureWarning: In a future version of pandas all arguments of DataFrame.drop except for the argument 'labels' will be keyword-only.\n",
      "  df_train = df_train.drop('difficulty_level', 1)\n",
      "/tmp/ipykernel_8862/824958944.py:2: FutureWarning: In a future version of pandas all arguments of DataFrame.drop except for the argument 'labels' will be keyword-only.\n",
      "  df_test = df_test.drop('difficulty_level', 1)\n"
     ]
    }
   ],
   "source": [
    "df_train = df_train.drop('difficulty_level', 1)\n",
    "df_test = df_test.drop('difficulty_level', 1)\n",
    "# df_train = df_train.drop('protocol_type', 1)\n",
    "# df_test = df_test.drop('protocol_type', 1)\n",
    "# df_train = df_train.drop('service', 1)\n",
    "# df_test = df_test.drop('service', 1)\n",
    "# df_train = df_train.drop('flag', 1)\n",
    "# df_test = df_test.drop('flag', 1)"
   ]
  },
  {
   "cell_type": "code",
   "execution_count": 60,
   "metadata": {},
   "outputs": [],
   "source": [
    "df_train['protocol_type'] = df_train['protocol_type'].str.lower()\n",
    "df_test['protocol_type'] = df_test['protocol_type'].str.lower()\n",
    "\n",
    "df_train['service'] = df_train['service'].str.lower()\n",
    "df_test['service'] = df_test['service'].str.lower()\n",
    "\n",
    "df_train['flag'] = df_train['flag'].str.lower()\n",
    "df_test['flag'] = df_test['flag'].str.lower()"
   ]
  },
  {
   "cell_type": "code",
   "execution_count": 7,
   "metadata": {},
   "outputs": [],
   "source": [
    "# tmp_pro_train = df_train.pop('protocol_type')\n",
    "# tmp_pro_test = df_test.pop('protocol_type')\n",
    "\n",
    "# tmp_ser_train = df_train.pop('service')\n",
    "# tmp_ser_test = df_test.pop('service')\n",
    "\n",
    "# tmp_flag_train = df_train.pop('flag')\n",
    "# tmp_flag_test = df_test.pop('flag')"
   ]
  },
  {
   "cell_type": "code",
   "execution_count": 61,
   "metadata": {},
   "outputs": [],
   "source": [
    "unique_labels_pro_train = list(df_train.protocol_type.astype('category').unique())\n",
    "unique_codes_pro_train = list(df_train.protocol_type.astype('category').cat.codes.unique())\n",
    "mapping_pro_train = {unique_codes_pro_train[i] : unique_labels_pro_train[i] for i in range(len(unique_labels_pro_train))}\n",
    "\n",
    "unique_labels_pro_test = list(df_test.protocol_type.astype('category').unique())\n",
    "unique_codes_pro_test = list(df_test.protocol_type.astype('category').cat.codes.unique())\n",
    "mapping_pro_test = {unique_codes_pro_test[i] : unique_labels_pro_test[i] for i in range(len(unique_labels_pro_test))}"
   ]
  },
  {
   "cell_type": "code",
   "execution_count": 62,
   "metadata": {},
   "outputs": [
    {
     "name": "stdout",
     "output_type": "stream",
     "text": [
      "{1: 'tcp', 0: 'icmp', 2: 'udp'}\n",
      "{2: 'udp', 1: 'tcp', 0: 'icmp'}\n"
     ]
    }
   ],
   "source": [
    "print(mapping_pro_test)\n",
    "print(mapping_pro_train)"
   ]
  },
  {
   "cell_type": "code",
   "execution_count": 63,
   "metadata": {},
   "outputs": [],
   "source": [
    "df_train['protocol_type'] = df_train['protocol_type'].replace(unique_labels_pro_train, unique_codes_pro_train)\n",
    "df_test['protocol_type'] = df_test['protocol_type'].replace(unique_labels_pro_test, unique_codes_pro_test)"
   ]
  },
  {
   "cell_type": "code",
   "execution_count": 64,
   "metadata": {},
   "outputs": [],
   "source": [
    "unique_labels_ser_train = list(df_train.service.astype('category').unique())\n",
    "unique_codes_ser_train = list(df_train.service.astype('category').cat.codes.unique())\n",
    "mapping_ser_train = {unique_codes_ser_train[i] : unique_labels_ser_train[i] for i in range(len(unique_labels_ser_train))}\n",
    "\n",
    "unique_labels_ser_test = list(df_test.service.astype('category').unique())\n",
    "unique_codes_ser_test = list(df_test.service.astype('category').cat.codes.unique())\n",
    "mapping_ser_test = {unique_codes_ser_test[i] : unique_labels_ser_test[i] for i in range(len(unique_labels_ser_test))}"
   ]
  },
  {
   "cell_type": "code",
   "execution_count": 65,
   "metadata": {},
   "outputs": [
    {
     "name": "stdout",
     "output_type": "stream",
     "text": [
      "{43: 'private', 16: 'ftp_data', 10: 'eco_i', 53: 'telnet', 19: 'http', 47: 'smtp', 15: 'ftp', 26: 'ldap', 41: 'pop_3', 2: 'courier', 6: 'discard', 11: 'ecr_i', 21: 'imap4', 8: 'domain_u', 29: 'mtp', 52: 'systat', 23: 'iso_tsap', 38: 'other', 3: 'csnet_ns', 14: 'finger', 58: 'uucp', 61: 'whois', 32: 'netbios_ns', 27: 'link', 63: 'z39_50', 50: 'sunrpc', 0: 'auth', 31: 'netbios_dgm', 59: 'uucp_path', 60: 'vmnet', 7: 'domain', 30: 'name', 40: 'pop_2', 20: 'http_443', 57: 'urp_i', 28: 'login', 17: 'gopher', 13: 'exec', 56: 'time', 44: 'remote_job', 49: 'ssh', 25: 'kshell', 48: 'sql_net', 46: 'shell', 18: 'hostnames', 9: 'echo', 5: 'daytime', 39: 'pm_dump', 22: 'irc', 34: 'netstat', 4: 'ctf', 36: 'nntp', 33: 'netbios_ssn', 55: 'tim_i', 51: 'supdup', 1: 'bgp', 35: 'nnsp', 45: 'rje', 42: 'printer', 12: 'efs', 62: 'x11', 37: 'ntp_u', 24: 'klogin', 54: 'tftp_u'}\n",
      "{42: 'other', 47: 'private', 21: 'http', 49: 'remote_job', 17: 'ftp_data', 34: 'name', 36: 'netbios_ns', 11: 'eco_i', 33: 'mtp', 58: 'telnet', 15: 'finger', 9: 'domain_u', 56: 'supdup', 65: 'uucp_path', 69: 'z39_50', 52: 'smtp', 4: 'csnet_ns', 64: 'uucp', 35: 'netbios_dgm', 63: 'urp_i', 1: 'auth', 8: 'domain', 16: 'ftp', 2: 'bgp', 30: 'ldap', 12: 'ecr_i', 18: 'gopher', 66: 'vmnet', 57: 'systat', 23: 'http_443', 13: 'efs', 67: 'whois', 25: 'imap4', 27: 'iso_tsap', 10: 'echo', 28: 'klogin', 31: 'link', 55: 'sunrpc', 32: 'login', 29: 'kshell', 53: 'sql_net', 61: 'time', 20: 'hostnames', 14: 'exec', 41: 'ntp_u', 7: 'discard', 40: 'nntp', 3: 'courier', 5: 'ctf', 54: 'ssh', 6: 'daytime', 51: 'shell', 38: 'netstat', 45: 'pop_3', 39: 'nnsp', 26: 'irc', 44: 'pop_2', 46: 'printer', 60: 'tim_i', 43: 'pm_dump', 48: 'red_i', 37: 'netbios_ssn', 50: 'rje', 68: 'x11', 62: 'urh_i', 24: 'http_8001', 0: 'aol', 22: 'http_2784', 59: 'tftp_u', 19: 'harvest'}\n"
     ]
    }
   ],
   "source": [
    "print(mapping_ser_test)\n",
    "print(mapping_ser_train)"
   ]
  },
  {
   "cell_type": "code",
   "execution_count": 66,
   "metadata": {},
   "outputs": [],
   "source": [
    "df_train['service'] = df_train['service'].replace(unique_labels_ser_train, unique_codes_ser_train)\n",
    "df_test['service'] = df_test['service'].replace(unique_labels_ser_test, unique_codes_ser_test)"
   ]
  },
  {
   "cell_type": "code",
   "execution_count": 67,
   "metadata": {},
   "outputs": [],
   "source": [
    "unique_labels_flag_train = list(df_train.flag.astype('category').unique())\n",
    "unique_codes_flag_train = list(df_train.flag.astype('category').cat.codes.unique())\n",
    "mapping_flag_train = {unique_codes_flag_train[i] : unique_labels_flag_train[i] for i in range(len(unique_labels_flag_train))}\n",
    "\n",
    "unique_labels_flag_test = list(df_test.flag.astype('category').unique())\n",
    "unique_codes_flag_test = list(df_test.flag.astype('category').cat.codes.unique())\n",
    "mapping_flag_test = {unique_codes_flag_test[i] : unique_labels_flag_test[i] for i in range(len(unique_labels_flag_test))}"
   ]
  },
  {
   "cell_type": "code",
   "execution_count": 68,
   "metadata": {},
   "outputs": [
    {
     "name": "stdout",
     "output_type": "stream",
     "text": [
      "{1: 'rej', 9: 'sf', 2: 'rsto', 5: 's0', 4: 'rstr', 10: 'sh', 8: 's3', 7: 's2', 6: 's1', 3: 'rstos0', 0: 'oth'}\n",
      "{9: 'sf', 5: 's0', 1: 'rej', 4: 'rstr', 10: 'sh', 2: 'rsto', 6: 's1', 3: 'rstos0', 8: 's3', 7: 's2', 0: 'oth'}\n"
     ]
    }
   ],
   "source": [
    "print(mapping_flag_test)\n",
    "print(mapping_flag_train)"
   ]
  },
  {
   "cell_type": "code",
   "execution_count": 69,
   "metadata": {},
   "outputs": [],
   "source": [
    "df_train['flag'] = df_train['flag'].replace(unique_labels_flag_train, unique_codes_flag_train)\n",
    "df_test['flag'] = df_test['flag'].replace(unique_labels_flag_test, unique_codes_flag_test)"
   ]
  },
  {
   "cell_type": "code",
   "execution_count": 70,
   "metadata": {},
   "outputs": [
    {
     "name": "stdout",
     "output_type": "stream",
     "text": [
      "<class 'pandas.core.frame.DataFrame'>\n",
      "RangeIndex: 125972 entries, 0 to 125971\n",
      "Data columns (total 42 columns):\n",
      " #   Column                       Non-Null Count   Dtype  \n",
      "---  ------                       --------------   -----  \n",
      " 0   duration                     125972 non-null  int64  \n",
      " 1   protocol_type                125972 non-null  int8   \n",
      " 2   service                      125972 non-null  int8   \n",
      " 3   flag                         125972 non-null  int8   \n",
      " 4   src_bytes                    125972 non-null  int64  \n",
      " 5   dst_bytes                    125972 non-null  int64  \n",
      " 6   land                         125972 non-null  int64  \n",
      " 7   wrong_fragment               125972 non-null  int64  \n",
      " 8   urgent                       125972 non-null  int64  \n",
      " 9   hot                          125972 non-null  int64  \n",
      " 10  num_failed_logins            125972 non-null  int64  \n",
      " 11  logged_in                    125972 non-null  int64  \n",
      " 12  num_compromised              125972 non-null  int64  \n",
      " 13  root_shell                   125972 non-null  int64  \n",
      " 14  su_attempted                 125972 non-null  int64  \n",
      " 15  num_root                     125972 non-null  int64  \n",
      " 16  num_file_creations           125972 non-null  int64  \n",
      " 17  num_shells                   125972 non-null  int64  \n",
      " 18  num_access_files             125972 non-null  int64  \n",
      " 19  num_outbound_cmds            125972 non-null  int64  \n",
      " 20  is_host_login                125972 non-null  int64  \n",
      " 21  is_guest_login               125972 non-null  int64  \n",
      " 22  count                        125972 non-null  int64  \n",
      " 23  srv_count                    125972 non-null  int64  \n",
      " 24  serror_rate                  125972 non-null  float64\n",
      " 25  srv_serror_rate              125972 non-null  float64\n",
      " 26  rerror_rate                  125972 non-null  float64\n",
      " 27  srv_rerror_rate              125972 non-null  float64\n",
      " 28  same_srv_rate                125972 non-null  float64\n",
      " 29  diff_srv_rate                125972 non-null  float64\n",
      " 30  srv_diff_host_rate           125972 non-null  float64\n",
      " 31  dst_host_count               125972 non-null  int64  \n",
      " 32  dst_host_srv_count           125972 non-null  int64  \n",
      " 33  dst_host_same_srv_rate       125972 non-null  float64\n",
      " 34  dst_host_diff_srv_rate       125972 non-null  float64\n",
      " 35  dst_host_same_src_port_rate  125972 non-null  float64\n",
      " 36  dst_host_srv_diff_host_rate  125972 non-null  float64\n",
      " 37  dst_host_serror_rate         125972 non-null  float64\n",
      " 38  dst_host_srv_serror_rate     125972 non-null  float64\n",
      " 39  dst_host_rerror_rate         125972 non-null  float64\n",
      " 40  dst_host_srv_rerror_rate     125972 non-null  float64\n",
      " 41  subclass                     125972 non-null  object \n",
      "dtypes: float64(15), int64(23), int8(3), object(1)\n",
      "memory usage: 37.8+ MB\n"
     ]
    }
   ],
   "source": [
    "df_train.info()"
   ]
  },
  {
   "cell_type": "code",
   "execution_count": 71,
   "metadata": {},
   "outputs": [],
   "source": [
    "df_train['subclass'] = df_train['subclass'].str.lower()\n",
    "df_test['subclass'] = df_test['subclass'].str.lower()"
   ]
  },
  {
   "cell_type": "code",
   "execution_count": 72,
   "metadata": {},
   "outputs": [],
   "source": [
    "tmp = df_train.pop('subclass')\n",
    "tmp1 = df_test.pop('subclass')"
   ]
  },
  {
   "cell_type": "code",
   "execution_count": 73,
   "metadata": {},
   "outputs": [],
   "source": [
    "classlist=[]\n",
    "classlist_test=[]\n",
    "NormalCount = 0\n",
    "AttackCount = 0\n",
    "NormalCount_test = 0\n",
    "AttackCount_test = 0\n",
    "\n",
    "for item in tmp:\n",
    "    if(item == \"normal\"):\n",
    "        classlist.append(\"normal\")\n",
    "        NormalCount+=1\n",
    "    else:\n",
    "        classlist.append(\"attack\")\n",
    "        AttackCount+=1\n",
    "\n",
    "for item in tmp1:\n",
    "    if(item == \"normal\"):\n",
    "        classlist_test.append(\"normal\")\n",
    "        NormalCount_test+=1\n",
    "    else:\n",
    "        classlist_test.append(\"attack\")\n",
    "        AttackCount_test+=1"
   ]
  },
  {
   "cell_type": "code",
   "execution_count": 74,
   "metadata": {},
   "outputs": [],
   "source": [
    "df_train[\"subclass\"] =classlist\n",
    "df_test[\"subclass\"] = classlist_test"
   ]
  },
  {
   "cell_type": "code",
   "execution_count": 75,
   "metadata": {},
   "outputs": [],
   "source": [
    "unique_labels = list(df_train.subclass.astype('category').unique())\n",
    "unique_codes = list(df_train.subclass.astype('category').cat.codes.unique())\n",
    "mapping = {unique_codes[i] : unique_labels[i] for i in range(len(unique_labels))}\n",
    "\n",
    "unique_labels_test = list(df_test.subclass.astype('category').unique())\n",
    "unique_codes_test = list(df_test.subclass.astype('category').cat.codes.unique())\n",
    "mapping_test = {unique_codes_test[i] : unique_labels_test[i] for i in range(len(unique_labels_test))}"
   ]
  },
  {
   "cell_type": "code",
   "execution_count": 76,
   "metadata": {},
   "outputs": [
    {
     "data": {
      "text/plain": [
       "{1: 'normal', 0: 'attack'}"
      ]
     },
     "execution_count": 76,
     "metadata": {},
     "output_type": "execute_result"
    }
   ],
   "source": [
    "mapping"
   ]
  },
  {
   "cell_type": "code",
   "execution_count": 77,
   "metadata": {},
   "outputs": [
    {
     "data": {
      "text/plain": [
       "{0: 'attack', 1: 'normal'}"
      ]
     },
     "execution_count": 77,
     "metadata": {},
     "output_type": "execute_result"
    }
   ],
   "source": [
    "mapping_test"
   ]
  },
  {
   "cell_type": "code",
   "execution_count": 78,
   "metadata": {},
   "outputs": [],
   "source": [
    "df_train['subclass'] = df_train['subclass'].replace(unique_labels, unique_codes)\n",
    "df_test['subclass'] = df_test['subclass'].replace(unique_labels_test, unique_codes_test)"
   ]
  },
  {
   "cell_type": "code",
   "execution_count": 79,
   "metadata": {},
   "outputs": [],
   "source": [
    "train = df_train\n",
    "test = df_test"
   ]
  },
  {
   "cell_type": "code",
   "execution_count": 80,
   "metadata": {},
   "outputs": [],
   "source": [
    "n_workers=2\n",
    "n_samples = int(df_train.shape[0] / n_workers)\n",
    "n_samples_test = int(df_test.shape[0]/n_workers)\n",
    "assert n_samples > 0, \"Each worker must be assigned at least one data point\""
   ]
  },
  {
   "cell_type": "code",
   "execution_count": 107,
   "metadata": {},
   "outputs": [
    {
     "name": "stdout",
     "output_type": "stream",
     "text": [
      "2  output_shape\n",
      "shuffle_buffer_size  125972\n",
      "batch_size  250\n",
      "prefetch_buffer_size  50\n",
      "input_shape  41\n"
     ]
    }
   ],
   "source": [
    "import numpy as np\n",
    "n_epochs = 10\n",
    "shuffle_buffer_size = df_train.shape[0]\n",
    "batch_size = 250\n",
    "prefetch_buffer_size = 50\n",
    "input_shape = df_train.shape[1]-1\n",
    "output_shape = len(unique_codes)\n",
    "print(output_shape , \" output_shape\")\n",
    "print(\"shuffle_buffer_size \", shuffle_buffer_size)\n",
    "print(\"batch_size \",batch_size)\n",
    "print(\"prefetch_buffer_size \", prefetch_buffer_size)\n",
    "print(\"input_shape \", input_shape)"
   ]
  },
  {
   "cell_type": "code",
   "execution_count": 106,
   "metadata": {},
   "outputs": [
    {
     "name": "stdout",
     "output_type": "stream",
     "text": [
      "22543 shuffle_buffer_size_test\n",
      "41 input_shape_test\n",
      "2 output_shape_test\n"
     ]
    }
   ],
   "source": [
    "n_epochs = 10\n",
    "shuffle_buffer_size_test = df_test.shape[0]\n",
    "print(shuffle_buffer_size_test, \"shuffle_buffer_size_test\")\n",
    "batch_size_test = 250\n",
    "prefetch_buffer_size_test = 50\n",
    "input_shape_test = df_test.shape[1]-1\n",
    "print(input_shape_test,\"input_shape_test\")\n",
    "output_shape_test = len(unique_codes_test)\n",
    "print(output_shape_test,\"output_shape_test\")"
   ]
  },
  {
   "cell_type": "code",
   "execution_count": 108,
   "metadata": {},
   "outputs": [],
   "source": [
    "def preprocess(dataframe):\n",
    "\n",
    "    \"\"\"Flatten a batch `pixels` and return the features as an `OrderedDict`.\"\"\"\n",
    "    def map_fn(dataset):\n",
    "        return collections.OrderedDict(\n",
    "            x=tf.cast(dataset[:,:-1], tf.float64),\n",
    "            y=tf.cast(tf.reshape(dataset[:,-1], shape=(-1, 1)), tf.int64)\n",
    "        )\n",
    "\n",
    "    return tf.data.Dataset.from_tensor_slices(dataframe).repeat(n_epochs).shuffle(\n",
    "        shuffle_buffer_size).batch(batch_size).map(map_fn).prefetch(prefetch_buffer_size)\n",
    "\n",
    "\n",
    "client_data = [preprocess(train.sample(n=n_samples)) for _ in range(n_workers)]"
   ]
  },
  {
   "cell_type": "code",
   "execution_count": 110,
   "metadata": {},
   "outputs": [],
   "source": [
    "def preprocess_test(dataframe):\n",
    "\n",
    "    \"\"\"Flatten a batch `pixels` and return the features as an `OrderedDict`.\"\"\"\n",
    "    def map_fn(dataset):\n",
    "        return collections.OrderedDict(\n",
    "            x=tf.cast(dataset[:,:-1], tf.float64),\n",
    "            y=tf.cast(tf.reshape(dataset[:,-1], shape=(-1, 1)), tf.int64)\n",
    "        )\n",
    "\n",
    "    return tf.data.Dataset.from_tensor_slices(dataframe).repeat(n_epochs).shuffle(\n",
    "        shuffle_buffer_size_test).batch(batch_size_test).map(map_fn).prefetch(prefetch_buffer_size_test)\n",
    "\n",
    "\n",
    "client_data_test = [preprocess(test.sample(n=n_samples_test)) for _ in range(n_workers)]"
   ]
  },
  {
   "cell_type": "code",
   "execution_count": 111,
   "metadata": {},
   "outputs": [
    {
     "data": {
      "text/plain": [
       "[<_PrefetchDataset element_spec=OrderedDict([('x', TensorSpec(shape=(None, 41), dtype=tf.float64, name=None)), ('y', TensorSpec(shape=(None, 1), dtype=tf.int64, name=None))])>,\n",
       " <_PrefetchDataset element_spec=OrderedDict([('x', TensorSpec(shape=(None, 41), dtype=tf.float64, name=None)), ('y', TensorSpec(shape=(None, 1), dtype=tf.int64, name=None))])>]"
      ]
     },
     "execution_count": 111,
     "metadata": {},
     "output_type": "execute_result"
    }
   ],
   "source": [
    "client_data"
   ]
  },
  {
   "cell_type": "code",
   "execution_count": 112,
   "metadata": {},
   "outputs": [
    {
     "data": {
      "text/plain": [
       "[<_PrefetchDataset element_spec=OrderedDict([('x', TensorSpec(shape=(None, 41), dtype=tf.float64, name=None)), ('y', TensorSpec(shape=(None, 1), dtype=tf.int64, name=None))])>,\n",
       " <_PrefetchDataset element_spec=OrderedDict([('x', TensorSpec(shape=(None, 41), dtype=tf.float64, name=None)), ('y', TensorSpec(shape=(None, 1), dtype=tf.int64, name=None))])>]"
      ]
     },
     "execution_count": 112,
     "metadata": {},
     "output_type": "execute_result"
    }
   ],
   "source": [
    "client_data_test"
   ]
  },
  {
   "cell_type": "code",
   "execution_count": 87,
   "metadata": {},
   "outputs": [
    {
     "name": "stdout",
     "output_type": "stream",
     "text": [
      "Worker 1 data contains 2520 training points\n",
      "Worker 2 data contains 2520 training points\n"
     ]
    }
   ],
   "source": [
    "for i in range(n_workers):\n",
    "    print(f\"Worker {i+1} data contains {len(client_data[i])} training points\")"
   ]
  },
  {
   "cell_type": "code",
   "execution_count": 113,
   "metadata": {},
   "outputs": [
    {
     "name": "stdout",
     "output_type": "stream",
     "text": [
      "Worker 1 data contains 451 testing points\n",
      "Worker 2 data contains 451 testing points\n"
     ]
    }
   ],
   "source": [
    "for i in range(n_workers):\n",
    "    print(f\"Worker {i+1} data contains {len(client_data_test[i])} testing points\")"
   ]
  },
  {
   "cell_type": "code",
   "execution_count": 115,
   "metadata": {},
   "outputs": [
    {
     "data": {
      "image/png": "[encoded data removed]",
      "text/plain": [
       "<Figure size 2000x700 with 2 Axes>"
      ]
     },
     "metadata": {},
     "output_type": "display_data"
    }
   ],
   "source": [
    "import matplotlib.pyplot as plt\n",
    "\n",
    "fig = plt.figure(figsize=(20, 7))\n",
    "fig.suptitle('Label Counts for a Sample of Worker Data')\n",
    "fig.tight_layout()\n",
    "\n",
    "for i in range(n_workers):\n",
    "    m = 0\n",
    "    plot_data = collections.defaultdict(list)\n",
    "    for label in list(client_data[i])[0]['y'].numpy()[:,0]:\n",
    "        plot_data[label].append(label)\n",
    "        m = max(m, len(plot_data[label]))\n",
    "\n",
    "    n_cols = n_workers if n_workers < 5 else 5\n",
    "    xlim = [0, m+(5-m%5)]\n",
    "    ylim = [min(unique_codes)-1, max(unique_codes)+1]\n",
    "    yticks = list(range(min(unique_codes), max(unique_codes)+1))\n",
    "    yticks_labels = [mapping[k] for k in range(0, max(unique_codes)+1)]\n",
    "\n",
    "    plt.subplot(int(n_workers / 5)+1, n_cols, i+1)\n",
    "    plt.subplots_adjust(wspace=0.3)\n",
    "    plt.title('Worker {}'.format(i+1))\n",
    "    plt.xlabel('#points')\n",
    "    plt.xlim(xlim)\n",
    "    plt.ylabel('Label')\n",
    "    plt.ylim(ylim)\n",
    "    plt.yticks(yticks, labels=yticks_labels)\n",
    "\n",
    "   \n",
    "    for key in plot_data:\n",
    "        if len(plot_data[key]) > 0:\n",
    "            plt.text(len(plot_data[key])+0.6, int(key)-0.1, str(len(plot_data[key])), ha='center')\n",
    "\n",
    "    for j in range(min(unique_codes),max(unique_codes)+1):\n",
    "        plt.hist(\n",
    "            plot_data[j],\n",
    "            density=False,\n",
    "            bins=[k-0.5 for k in range(min(unique_codes),max(unique_codes)+2)],\n",
    "            orientation='horizontal'\n",
    "        )"
   ]
  },
  {
   "cell_type": "code",
   "execution_count": 133,
   "metadata": {},
   "outputs": [],
   "source": [
    "from sklearn.model_selection import train_test_split\n",
    "from sklearn.preprocessing import LabelEncoder\n",
    "from keras.models import Sequential\n",
    "from keras.layers import Dense, Dropout, Activation, Embedding\n",
    "from keras.layers import LSTM, SimpleRNN, GRU, Bidirectional, BatchNormalization,Convolution1D,MaxPooling1D, Reshape, GlobalAveragePooling1D\n",
    "from keras.utils import to_categorical\n",
    "import sklearn.preprocessing\n",
    "from sklearn import metrics\n",
    "from scipy.stats import zscore\n",
    "from keras.layers import Dense\n",
    "from sklearn.metrics import precision_score, recall_score, f1_score\n",
    "from keras.optimizers import Adam"
   ]
  },
  {
   "cell_type": "code",
   "execution_count": 157,
   "metadata": {},
   "outputs": [],
   "source": [
    "def model_fn():\n",
    "    input_layer = tf.keras.layers.Input(shape=(input_shape,))\n",
    "    x = tf.keras.layers.Reshape((1, input_shape))(input_layer)\n",
    "    x = tf.keras.layers.LSTM(units=128, return_sequences=True)(x)\n",
    "    x = tf.keras.layers.Bidirectional(tf.keras.layers.LSTM(units=64, return_sequences=True))(x)\n",
    "    x = tf.keras.layers.Dense(128, activation='relu')(x)\n",
    "    output_layer = tf.keras.layers.Dense(output_shape, activation='softmax')(x)\n",
    "\n",
    "    model = tf.keras.models.Model(inputs=input_layer, outputs=output_layer)\n",
    "\n",
    "    return tff.learning.models.from_keras_model(\n",
    "        model,\n",
    "        input_spec=collections.OrderedDict(\n",
    "            x=tf.TensorSpec(shape=[None, input_shape], dtype=tf.float64),\n",
    "            y=tf.TensorSpec(shape=[None, 1], dtype=tf.int64)),\n",
    "\n",
    "        loss=tf.keras.losses.SparseCategoricalCrossentropy(from_logits=True),\n",
    "        metrics=[tf.keras.metrics.SparseCategoricalAccuracy()]\n",
    "    )"
   ]
  },
  {
   "cell_type": "code",
   "execution_count": 158,
   "metadata": {},
   "outputs": [],
   "source": [
    "trainer = tff.learning.algorithms.build_weighted_fed_avg(\n",
    "    model_fn,\n",
    "    client_optimizer_fn=lambda: tf.keras.optimizers.SGD(learning_rate=0.01),\n",
    "    server_optimizer_fn=lambda: tf.keras.optimizers.SGD(learning_rate=1.0)\n",
    ")"
   ]
  },
  {
   "cell_type": "code",
   "execution_count": 159,
   "metadata": {},
   "outputs": [
    {
     "name": "stdout",
     "output_type": "stream",
     "text": [
      "( -> <\n",
      "  global_model_weights=<\n",
      "    trainable=<\n",
      "      float32[41,512],\n",
      "      float32[128,512],\n",
      "      float32[512],\n",
      "      float32[128,256],\n",
      "      float32[64,256],\n",
      "      float32[256],\n",
      "      float32[128,256],\n",
      "      float32[64,256],\n",
      "      float32[256],\n",
      "      float32[128,128],\n",
      "      float32[128],\n",
      "      float32[128,2],\n",
      "      float32[2]\n",
      "    >,\n",
      "    non_trainable=<>\n",
      "  >,\n",
      "  distributor=<>,\n",
      "  client_work=<>,\n",
      "  aggregator=<\n",
      "    value_sum_process=<>,\n",
      "    weight_sum_process=<>\n",
      "  >,\n",
      "  finalizer=<\n",
      "    int64,\n",
      "    float32[41,512],\n",
      "    float32[128,512],\n",
      "    float32[512],\n",
      "    float32[128,256],\n",
      "    float32[64,256],\n",
      "    float32[256],\n",
      "    float32[128,256],\n",
      "    float32[64,256],\n",
      "    float32[256],\n",
      "    float32[128,128],\n",
      "    float32[128],\n",
      "    float32[128,2],\n",
      "    float32[2]\n",
      "  >\n",
      ">@SERVER)\n"
     ]
    }
   ],
   "source": [
    "print(trainer.initialize.type_signature.formatted_representation())"
   ]
  },
  {
   "cell_type": "code",
   "execution_count": 160,
   "metadata": {},
   "outputs": [],
   "source": [
    "def evaluate(num_rounds):\n",
    "    state = trainer.initialize()\n",
    "    for round in range(num_rounds):\n",
    "        t1 = time.time()\n",
    "        result = trainer.next(state, client_data)\n",
    "        state = result.state\n",
    "        train_metrics = result.metrics['client_work']['train']\n",
    "        # print(train_metrics)\n",
    "\n",
    "       \n",
    "        train_accuracy = train_metrics['sparse_categorical_accuracy'] * 100\n",
    "        \n",
    "\n",
    "        t2 = time.time()\n",
    "        print('Round {}: accuracy {}, round time {}'.format(\n",
    "            round+1, train_accuracy, t2 - t1))"
   ]
  },
  {
   "cell_type": "code",
   "execution_count": 162,
   "metadata": {},
   "outputs": [
    {
     "name": "stderr",
     "output_type": "stream",
     "text": [
      "2024-02-23 06:17:47.075910: I tensorflow/core/grappler/devices.cc:66] Number of eligible GPUs (core count >= 8, compute capability >= 0.0): 0\n",
      "2024-02-23 06:17:47.076031: I tensorflow/core/grappler/clusters/single_machine.cc:361] Starting new session\n",
      "2024-02-23 06:17:47.132743: I tensorflow/core/grappler/devices.cc:66] Number of eligible GPUs (core count >= 8, compute capability >= 0.0): 0\n",
      "2024-02-23 06:17:47.132846: I tensorflow/core/grappler/clusters/single_machine.cc:361] Starting new session\n",
      "2024-02-23 06:17:47.631475: I tensorflow/core/grappler/devices.cc:66] Number of eligible GPUs (core count >= 8, compute capability >= 0.0): 0\n",
      "2024-02-23 06:17:47.631614: I tensorflow/core/grappler/clusters/single_machine.cc:361] Starting new session\n",
      "2024-02-23 06:17:47.973889: I tensorflow/core/grappler/devices.cc:66] Number of eligible GPUs (core count >= 8, compute capability >= 0.0): 0\n",
      "2024-02-23 06:17:47.973993: I tensorflow/core/grappler/clusters/single_machine.cc:361] Starting new session\n",
      "2024-02-23 06:17:47.979450: I tensorflow/core/grappler/devices.cc:66] Number of eligible GPUs (core count >= 8, compute capability >= 0.0): 0\n",
      "2024-02-23 06:17:47.979534: I tensorflow/core/grappler/clusters/single_machine.cc:361] Starting new session\n",
      "2024-02-23 06:17:47.986762: I tensorflow/core/grappler/devices.cc:66] Number of eligible GPUs (core count >= 8, compute capability >= 0.0): 0\n",
      "2024-02-23 06:17:47.986840: I tensorflow/core/grappler/clusters/single_machine.cc:361] Starting new session\n",
      "2024-02-23 06:17:47.995793: I tensorflow/core/grappler/devices.cc:66] Number of eligible GPUs (core count >= 8, compute capability >= 0.0): 0\n",
      "2024-02-23 06:17:47.995868: I tensorflow/core/grappler/clusters/single_machine.cc:361] Starting new session\n",
      "2024-02-23 06:17:48.010261: I tensorflow/core/grappler/devices.cc:66] Number of eligible GPUs (core count >= 8, compute capability >= 0.0): 0\n",
      "2024-02-23 06:17:48.010338: I tensorflow/core/grappler/clusters/single_machine.cc:361] Starting new session\n",
      "2024-02-23 06:17:48.018893: I tensorflow/core/grappler/devices.cc:66] Number of eligible GPUs (core count >= 8, compute capability >= 0.0): 0\n",
      "2024-02-23 06:17:48.018974: I tensorflow/core/grappler/clusters/single_machine.cc:361] Starting new session\n",
      "2024-02-23 06:17:48.028410: I tensorflow/core/grappler/devices.cc:66] Number of eligible GPUs (core count >= 8, compute capability >= 0.0): 0\n",
      "2024-02-23 06:17:48.028484: I tensorflow/core/grappler/clusters/single_machine.cc:361] Starting new session\n",
      "2024-02-23 06:17:48.044116: I tensorflow/core/grappler/devices.cc:66] Number of eligible GPUs (core count >= 8, compute capability >= 0.0): 0\n",
      "2024-02-23 06:17:48.044205: I tensorflow/core/grappler/clusters/single_machine.cc:361] Starting new session\n",
      "2024-02-23 06:17:48.054145: I tensorflow/core/grappler/devices.cc:66] Number of eligible GPUs (core count >= 8, compute capability >= 0.0): 0\n",
      "2024-02-23 06:17:48.054223: I tensorflow/core/grappler/clusters/single_machine.cc:361] Starting new session\n",
      "2024-02-23 06:17:48.056106: I tensorflow/core/grappler/devices.cc:66] Number of eligible GPUs (core count >= 8, compute capability >= 0.0): 0\n",
      "2024-02-23 06:17:48.056175: I tensorflow/core/grappler/clusters/single_machine.cc:361] Starting new session\n",
      "2024-02-23 06:17:48.059681: I tensorflow/core/grappler/devices.cc:66] Number of eligible GPUs (core count >= 8, compute capability >= 0.0): 0\n",
      "2024-02-23 06:17:48.059755: I tensorflow/core/grappler/clusters/single_machine.cc:361] Starting new session\n",
      "2024-02-23 06:17:48.065275: I tensorflow/core/grappler/devices.cc:66] Number of eligible GPUs (core count >= 8, compute capability >= 0.0): 0\n",
      "2024-02-23 06:17:48.065351: I tensorflow/core/grappler/clusters/single_machine.cc:361] Starting new session\n",
      "2024-02-23 06:17:48.092570: I tensorflow/core/grappler/devices.cc:66] Number of eligible GPUs (core count >= 8, compute capability >= 0.0): 0\n",
      "2024-02-23 06:17:48.092655: I tensorflow/core/grappler/clusters/single_machine.cc:361] Starting new session\n"
     ]
    },
    {
     "name": "stdout",
     "output_type": "stream",
     "text": [
      "Round 1: accuracy 94.13496851921082, round time 43.622527837753296\n",
      "Round 2: accuracy 96.43087387084961, round time 42.00542068481445\n",
      "Round 3: accuracy 96.63480520248413, round time 41.800472021102905\n",
      "Round 4: accuracy 96.72982692718506, round time 41.60763454437256\n",
      "Round 5: accuracy 96.87573313713074, round time 41.57140040397644\n",
      "Round 6: accuracy 97.07300066947937, round time 41.76263737678528\n",
      "Round 7: accuracy 97.08331823348999, round time 41.58545756340027\n",
      "Round 8: accuracy 96.96845412254333, round time 41.541499853134155\n",
      "Round 9: accuracy 97.00520634651184, round time 41.358534812927246\n",
      "Round 10: accuracy 97.26637601852417, round time 41.58221936225891\n",
      "Round 11: accuracy 97.40815162658691, round time 41.73051333427429\n",
      "Round 12: accuracy 97.45379686355591, round time 41.31565713882446\n",
      "Round 13: accuracy 97.41156697273254, round time 40.363282918930054\n",
      "Round 14: accuracy 97.4813461303711, round time 40.228076696395874\n",
      "Round 15: accuracy 97.54770994186401, round time 40.26652407646179\n",
      "Round 16: accuracy 97.58819341659546, round time 40.683783531188965\n",
      "Round 17: accuracy 97.43450880050659, round time 40.18823599815369\n",
      "Round 18: accuracy 97.6281225681305, round time 40.504318952560425\n",
      "Round 19: accuracy 97.64971733093262, round time 40.37484931945801\n",
      "Round 20: accuracy 97.64003157615662, round time 40.31556963920593\n"
     ]
    }
   ],
   "source": [
    "# evaluate(n_epochs)\n",
    "evaluate(20)"
   ]
  },
  {
   "cell_type": "code",
   "execution_count": 168,
   "metadata": {},
   "outputs": [],
   "source": [
    "def evaluate_test(num_rounds):\n",
    "    state = trainer.initialize()\n",
    "    for round in range(num_rounds):\n",
    "        t1 = time.time()\n",
    "        result = trainer.next(state, client_data_test)\n",
    "        state = result.state\n",
    "        # print(result.metrics)\n",
    "        test_metrics = result.metrics['client_work']['train']\n",
    "        # print(train_metrics)\n",
    "\n",
    "        \n",
    "        test_accuracy = test_metrics['sparse_categorical_accuracy'] * 100\n",
    "        \n",
    "\n",
    "        t2 = time.time()\n",
    "        print('Round {}: accuracy {}, round time {}'.format(\n",
    "            round+1, test_accuracy, t2 - t1))"
   ]
  },
  {
   "cell_type": "code",
   "execution_count": 169,
   "metadata": {},
   "outputs": [
    {
     "name": "stdout",
     "output_type": "stream",
     "text": [
      "Round 1: accuracy 86.59302592277527, round time 7.720230579376221\n",
      "Round 2: accuracy 91.31399393081665, round time 7.947517395019531\n",
      "Round 3: accuracy 93.40475797653198, round time 7.769487380981445\n",
      "Round 4: accuracy 93.85990500450134, round time 7.758431434631348\n",
      "Round 5: accuracy 94.04489398002625, round time 7.759346961975098\n",
      "Round 6: accuracy 94.29908394813538, round time 7.9357383251190186\n",
      "Round 7: accuracy 94.25738453865051, round time 8.568270444869995\n",
      "Round 8: accuracy 94.46810483932495, round time 8.71834421157837\n",
      "Round 9: accuracy 94.64954137802124, round time 9.218492031097412\n",
      "Round 10: accuracy 94.90817189216614, round time 9.870906114578247\n",
      "Round 11: accuracy 95.11666893959045, round time 9.415223836898804\n",
      "Round 12: accuracy 95.01330852508545, round time 7.98927640914917\n",
      "Round 13: accuracy 94.93168592453003, round time 8.279592990875244\n",
      "Round 14: accuracy 94.59231495857239, round time 7.983611583709717\n",
      "Round 15: accuracy 95.07718682289124, round time 7.745166063308716\n",
      "Round 16: accuracy 95.0847327709198, round time 7.639664888381958\n",
      "Round 17: accuracy 95.10513544082642, round time 7.808959245681763\n",
      "Round 18: accuracy 94.84162926673889, round time 8.153904914855957\n",
      "Round 19: accuracy 94.72229480743408, round time 7.851577520370483\n",
      "Round 20: accuracy 94.81456875801086, round time 7.601074457168579\n",
      "Round 21: accuracy 95.20140290260315, round time 7.864716053009033\n",
      "Round 22: accuracy 95.01774311065674, round time 7.751825332641602\n",
      "Round 23: accuracy 95.1428472995758, round time 7.722004175186157\n",
      "Round 24: accuracy 95.10912895202637, round time 7.707399368286133\n",
      "Round 25: accuracy 94.7839617729187, round time 7.8210437297821045\n"
     ]
    }
   ],
   "source": [
    "evaluate_test(25)"
   ]
  },
  {
   "cell_type": "code",
   "execution_count": 170,
   "metadata": {},
   "outputs": [],
   "source": [
    "evaluation_process = tff.learning.algorithms.build_fed_eval(model_fn)"
   ]
  },
  {
   "cell_type": "code",
   "execution_count": 171,
   "metadata": {},
   "outputs": [
    {
     "name": "stdout",
     "output_type": "stream",
     "text": [
      "(<\n",
      "  state=<\n",
      "    global_model_weights=<\n",
      "      trainable=<\n",
      "        float32[41,512],\n",
      "        float32[128,512],\n",
      "        float32[512],\n",
      "        float32[128,256],\n",
      "        float32[64,256],\n",
      "        float32[256],\n",
      "        float32[128,256],\n",
      "        float32[64,256],\n",
      "        float32[256],\n",
      "        float32[128,128],\n",
      "        float32[128],\n",
      "        float32[128,2],\n",
      "        float32[2]\n",
      "      >,\n",
      "      non_trainable=<>\n",
      "    >,\n",
      "    distributor=<>,\n",
      "    client_work=<\n",
      "      <>,\n",
      "      <\n",
      "        sparse_categorical_accuracy=<\n",
      "          float32,\n",
      "          float32\n",
      "        >,\n",
      "        loss=<\n",
      "          float32,\n",
      "          float32\n",
      "        >,\n",
      "        num_examples=<\n",
      "          int64\n",
      "        >,\n",
      "        num_batches=<\n",
      "          int64\n",
      "        >\n",
      "      >\n",
      "    >,\n",
      "    aggregator=<\n",
      "      value_sum_process=<>,\n",
      "      weight_sum_process=<>\n",
      "    >,\n",
      "    finalizer=<>\n",
      "  >@SERVER,\n",
      "  client_data={<\n",
      "    x=float64[?,41],\n",
      "    y=int64[?,1]\n",
      "  >*}@CLIENTS\n",
      "> -> <\n",
      "  state=<\n",
      "    global_model_weights=<\n",
      "      trainable=<\n",
      "        float32[41,512],\n",
      "        float32[128,512],\n",
      "        float32[512],\n",
      "        float32[128,256],\n",
      "        float32[64,256],\n",
      "        float32[256],\n",
      "        float32[128,256],\n",
      "        float32[64,256],\n",
      "        float32[256],\n",
      "        float32[128,128],\n",
      "        float32[128],\n",
      "        float32[128,2],\n",
      "        float32[2]\n",
      "      >,\n",
      "      non_trainable=<>\n",
      "    >,\n",
      "    distributor=<>,\n",
      "    client_work=<\n",
      "      <>,\n",
      "      <\n",
      "        sparse_categorical_accuracy=<\n",
      "          float32,\n",
      "          float32\n",
      "        >,\n",
      "        loss=<\n",
      "          float32,\n",
      "          float32\n",
      "        >,\n",
      "        num_examples=<\n",
      "          int64\n",
      "        >,\n",
      "        num_batches=<\n",
      "          int64\n",
      "        >\n",
      "      >\n",
      "    >,\n",
      "    aggregator=<\n",
      "      value_sum_process=<>,\n",
      "      weight_sum_process=<>\n",
      "    >,\n",
      "    finalizer=<>\n",
      "  >@SERVER,\n",
      "  metrics=<\n",
      "    distributor=<>,\n",
      "    client_work=<\n",
      "      eval=<\n",
      "        current_round_metrics=<\n",
      "          sparse_categorical_accuracy=float32,\n",
      "          loss=float32,\n",
      "          num_examples=int64,\n",
      "          num_batches=int64\n",
      "        >,\n",
      "        total_rounds_metrics=<\n",
      "          sparse_categorical_accuracy=float32,\n",
      "          loss=float32,\n",
      "          num_examples=int64,\n",
      "          num_batches=int64\n",
      "        >\n",
      "      >\n",
      "    >,\n",
      "    aggregator=<\n",
      "      mean_value=<>,\n",
      "      mean_weight=<>\n",
      "    >,\n",
      "    finalizer=<>\n",
      "  >@SERVER\n",
      ">)\n"
     ]
    }
   ],
   "source": [
    "print(evaluation_process.next.type_signature.formatted_representation())"
   ]
  },
  {
   "cell_type": "code",
   "execution_count": 172,
   "metadata": {},
   "outputs": [],
   "source": [
    "train_state = trainer.initialize()\n",
    "result = trainer.next(train_state, client_data)\n",
    "train_state = result.state"
   ]
  },
  {
   "cell_type": "code",
   "execution_count": 173,
   "metadata": {},
   "outputs": [
    {
     "name": "stderr",
     "output_type": "stream",
     "text": [
      "2024-02-23 06:45:27.889200: I tensorflow/core/grappler/devices.cc:66] Number of eligible GPUs (core count >= 8, compute capability >= 0.0): 0\n",
      "2024-02-23 06:45:27.889315: I tensorflow/core/grappler/clusters/single_machine.cc:361] Starting new session\n",
      "2024-02-23 06:45:27.933820: I tensorflow/core/grappler/devices.cc:66] Number of eligible GPUs (core count >= 8, compute capability >= 0.0): 0\n",
      "2024-02-23 06:45:27.933914: I tensorflow/core/grappler/clusters/single_machine.cc:361] Starting new session\n"
     ]
    }
   ],
   "source": [
    "evaluation_state = evaluation_process.initialize()\n",
    "model_weights = trainer.get_model_weights(train_state)\n",
    "evaluation_state = evaluation_process.set_model_weights(evaluation_state, model_weights)"
   ]
  },
  {
   "cell_type": "code",
   "execution_count": 174,
   "metadata": {},
   "outputs": [
    {
     "name": "stderr",
     "output_type": "stream",
     "text": [
      "2024-02-23 06:45:32.383523: I tensorflow/core/grappler/devices.cc:66] Number of eligible GPUs (core count >= 8, compute capability >= 0.0): 0\n",
      "2024-02-23 06:45:32.383651: I tensorflow/core/grappler/clusters/single_machine.cc:361] Starting new session\n",
      "2024-02-23 06:45:32.495936: I tensorflow/core/grappler/devices.cc:66] Number of eligible GPUs (core count >= 8, compute capability >= 0.0): 0\n",
      "2024-02-23 06:45:32.496043: I tensorflow/core/grappler/clusters/single_machine.cc:361] Starting new session\n",
      "2024-02-23 06:45:32.501545: I tensorflow/core/grappler/devices.cc:66] Number of eligible GPUs (core count >= 8, compute capability >= 0.0): 0\n",
      "2024-02-23 06:45:32.501627: I tensorflow/core/grappler/clusters/single_machine.cc:361] Starting new session\n",
      "2024-02-23 06:45:32.508701: I tensorflow/core/grappler/devices.cc:66] Number of eligible GPUs (core count >= 8, compute capability >= 0.0): 0\n",
      "2024-02-23 06:45:32.508778: I tensorflow/core/grappler/clusters/single_machine.cc:361] Starting new session\n",
      "2024-02-23 06:45:32.515894: I tensorflow/core/grappler/devices.cc:66] Number of eligible GPUs (core count >= 8, compute capability >= 0.0): 0\n",
      "2024-02-23 06:45:32.515971: I tensorflow/core/grappler/clusters/single_machine.cc:361] Starting new session\n",
      "2024-02-23 06:45:32.525194: I tensorflow/core/grappler/devices.cc:66] Number of eligible GPUs (core count >= 8, compute capability >= 0.0): 0\n",
      "2024-02-23 06:45:32.525274: I tensorflow/core/grappler/clusters/single_machine.cc:361] Starting new session\n",
      "2024-02-23 06:45:32.541168: I tensorflow/core/grappler/devices.cc:66] Number of eligible GPUs (core count >= 8, compute capability >= 0.0): 0\n",
      "2024-02-23 06:45:32.541242: I tensorflow/core/grappler/clusters/single_machine.cc:361] Starting new session\n"
     ]
    }
   ],
   "source": [
    "evaluation_output = evaluation_process.next(evaluation_state, client_data)"
   ]
  },
  {
   "cell_type": "code",
   "execution_count": 175,
   "metadata": {},
   "outputs": [
    {
     "data": {
      "text/plain": [
       "\"OrderedDict([('distributor', ()), ('client_work', OrderedDict([('eval', OrderedDict([('current_round_metrics', OrderedDict([('sparse_categorical_accuracy', 0.9578636), ('loss', 0.3616904), ('num_examples', 1259720), ('num_batches', 5040)])), ('total_rounds_metrics', OrderedDict([('sparse_categorical_accuracy', 0.9578636), ('loss', 0.3616904), ('num_examples', 1259720), ('num_batches', 5040)]))]))])), ('aggregator', OrderedDict([('mean_value', ()), ('mean_weight', ())])), ('finalizer', ())])\""
      ]
     },
     "execution_count": 175,
     "metadata": {},
     "output_type": "execute_result"
    }
   ],
   "source": [
    "str(evaluation_output.metrics)"
   ]
  },
  {
   "cell_type": "code",
   "execution_count": 176,
   "metadata": {},
   "outputs": [],
   "source": [
    "evaluation_output = evaluation_process.next(evaluation_state, client_data_test)"
   ]
  },
  {
   "cell_type": "code",
   "execution_count": 177,
   "metadata": {},
   "outputs": [
    {
     "data": {
      "text/plain": [
       "\"OrderedDict([('distributor', ()), ('client_work', OrderedDict([('eval', OrderedDict([('current_round_metrics', OrderedDict([('sparse_categorical_accuracy', 0.7245586), ('loss', 0.56487656), ('num_examples', 225420), ('num_batches', 902)])), ('total_rounds_metrics', OrderedDict([('sparse_categorical_accuracy', 0.7245586), ('loss', 0.56487656), ('num_examples', 225420), ('num_batches', 902)]))]))])), ('aggregator', OrderedDict([('mean_value', ()), ('mean_weight', ())])), ('finalizer', ())])\""
      ]
     },
     "execution_count": 177,
     "metadata": {},
     "output_type": "execute_result"
    }
   ],
   "source": [
    "str(evaluation_output.metrics)"
   ]
  },
  {
   "cell_type": "code",
   "execution_count": null,
   "metadata": {},
   "outputs": [],
   "source": []
  }
 ],
 "metadata": {
  "kernelspec": {
   "display_name": "Python 3",
   "language": "python",
   "name": "python3"
  },
  "language_info": {
   "codemirror_mode": {
    "name": "ipython",
    "version": 3
   },
   "file_extension": ".py",
   "mimetype": "text/x-python",
   "name": "python",
   "nbconvert_exporter": "python",
   "pygments_lexer": "ipython3",
   "version": "3.10.13"
  }
 },
 "nbformat": 4,
 "nbformat_minor": 2
}
