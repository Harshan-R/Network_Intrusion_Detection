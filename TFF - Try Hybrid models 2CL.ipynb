{
 "cells": [
  {
   "cell_type": "code",
   "execution_count": 1,
   "metadata": {},
   "outputs": [
    {
     "name": "stdout",
     "output_type": "stream",
     "text": [
      "Requirement already satisfied: tensorflow in /usr/local/python/3.10.13/lib/python3.10/site-packages (2.14.1)\n",
      "Requirement already satisfied: absl-py>=1.0.0 in /usr/local/python/3.10.13/lib/python3.10/site-packages (from tensorflow) (1.4.0)\n",
      "Requirement already satisfied: astunparse>=1.6.0 in /usr/local/python/3.10.13/lib/python3.10/site-packages (from tensorflow) (1.6.3)\n",
      "Requirement already satisfied: flatbuffers>=23.5.26 in /usr/local/python/3.10.13/lib/python3.10/site-packages (from tensorflow) (23.5.26)\n",
      "Requirement already satisfied: gast!=0.5.0,!=0.5.1,!=0.5.2,>=0.2.1 in /usr/local/python/3.10.13/lib/python3.10/site-packages (from tensorflow) (0.5.4)\n",
      "Requirement already satisfied: google-pasta>=0.1.1 in /usr/local/python/3.10.13/lib/python3.10/site-packages (from tensorflow) (0.2.0)\n",
      "Requirement already satisfied: h5py>=2.9.0 in /usr/local/python/3.10.13/lib/python3.10/site-packages (from tensorflow) (3.10.0)\n",
      "Requirement already satisfied: libclang>=13.0.0 in /usr/local/python/3.10.13/lib/python3.10/site-packages (from tensorflow) (16.0.6)\n",
      "Requirement already satisfied: ml-dtypes==0.2.0 in /usr/local/python/3.10.13/lib/python3.10/site-packages (from tensorflow) (0.2.0)\n",
      "Requirement already satisfied: numpy<2.0.0,>=1.23.5 in /usr/local/python/3.10.13/lib/python3.10/site-packages (from tensorflow) (1.25.2)\n",
      "Requirement already satisfied: opt-einsum>=2.3.2 in /usr/local/python/3.10.13/lib/python3.10/site-packages (from tensorflow) (3.3.0)\n",
      "Requirement already satisfied: packaging in /usr/local/python/3.10.13/lib/python3.10/site-packages (from tensorflow) (22.0)\n",
      "Requirement already satisfied: protobuf!=4.21.0,!=4.21.1,!=4.21.2,!=4.21.3,!=4.21.4,!=4.21.5,<5.0.0dev,>=3.20.3 in /usr/local/python/3.10.13/lib/python3.10/site-packages (from tensorflow) (4.25.3)\n",
      "Requirement already satisfied: setuptools in /usr/local/python/3.10.13/lib/python3.10/site-packages (from tensorflow) (68.2.2)\n",
      "Requirement already satisfied: six>=1.12.0 in /home/codespace/.local/lib/python3.10/site-packages (from tensorflow) (1.16.0)\n",
      "Requirement already satisfied: termcolor>=1.1.0 in /usr/local/python/3.10.13/lib/python3.10/site-packages (from tensorflow) (2.4.0)\n",
      "Requirement already satisfied: typing-extensions>=3.6.6 in /usr/local/python/3.10.13/lib/python3.10/site-packages (from tensorflow) (4.5.0)\n",
      "Requirement already satisfied: wrapt<1.15,>=1.11.0 in /usr/local/python/3.10.13/lib/python3.10/site-packages (from tensorflow) (1.14.1)\n",
      "Requirement already satisfied: tensorflow-io-gcs-filesystem>=0.23.1 in /usr/local/python/3.10.13/lib/python3.10/site-packages (from tensorflow) (0.36.0)\n",
      "Requirement already satisfied: grpcio<2.0,>=1.24.3 in /usr/local/python/3.10.13/lib/python3.10/site-packages (from tensorflow) (1.62.0)\n",
      "Requirement already satisfied: tensorboard<2.15,>=2.14 in /usr/local/python/3.10.13/lib/python3.10/site-packages (from tensorflow) (2.14.1)\n",
      "Requirement already satisfied: tensorflow-estimator<2.15,>=2.14.0 in /usr/local/python/3.10.13/lib/python3.10/site-packages (from tensorflow) (2.14.0)\n",
      "Requirement already satisfied: keras<2.15,>=2.14.0 in /usr/local/python/3.10.13/lib/python3.10/site-packages (from tensorflow) (2.14.0)\n",
      "Requirement already satisfied: wheel<1.0,>=0.23.0 in /usr/local/python/3.10.13/lib/python3.10/site-packages (from astunparse>=1.6.0->tensorflow) (0.42.0)\n",
      "Requirement already satisfied: google-auth<3,>=1.6.3 in /usr/local/python/3.10.13/lib/python3.10/site-packages (from tensorboard<2.15,>=2.14->tensorflow) (2.28.1)\n",
      "Requirement already satisfied: google-auth-oauthlib<1.1,>=0.5 in /usr/local/python/3.10.13/lib/python3.10/site-packages (from tensorboard<2.15,>=2.14->tensorflow) (1.0.0)\n",
      "Requirement already satisfied: markdown>=2.6.8 in /usr/local/python/3.10.13/lib/python3.10/site-packages (from tensorboard<2.15,>=2.14->tensorflow) (3.5.2)\n",
      "Requirement already satisfied: requests<3,>=2.21.0 in /home/codespace/.local/lib/python3.10/site-packages (from tensorboard<2.15,>=2.14->tensorflow) (2.31.0)\n",
      "Requirement already satisfied: tensorboard-data-server<0.8.0,>=0.7.0 in /usr/local/python/3.10.13/lib/python3.10/site-packages (from tensorboard<2.15,>=2.14->tensorflow) (0.7.2)\n",
      "Requirement already satisfied: werkzeug>=1.0.1 in /usr/local/python/3.10.13/lib/python3.10/site-packages (from tensorboard<2.15,>=2.14->tensorflow) (3.0.1)\n",
      "Requirement already satisfied: cachetools<6.0,>=2.0.0 in /usr/local/python/3.10.13/lib/python3.10/site-packages (from google-auth<3,>=1.6.3->tensorboard<2.15,>=2.14->tensorflow) (5.3.2)\n",
      "Requirement already satisfied: pyasn1-modules>=0.2.1 in /usr/local/python/3.10.13/lib/python3.10/site-packages (from google-auth<3,>=1.6.3->tensorboard<2.15,>=2.14->tensorflow) (0.3.0)\n",
      "Requirement already satisfied: rsa<5,>=3.1.4 in /usr/local/python/3.10.13/lib/python3.10/site-packages (from google-auth<3,>=1.6.3->tensorboard<2.15,>=2.14->tensorflow) (4.9)\n",
      "Requirement already satisfied: requests-oauthlib>=0.7.0 in /usr/local/python/3.10.13/lib/python3.10/site-packages (from google-auth-oauthlib<1.1,>=0.5->tensorboard<2.15,>=2.14->tensorflow) (1.3.1)\n",
      "Requirement already satisfied: charset-normalizer<4,>=2 in /home/codespace/.local/lib/python3.10/site-packages (from requests<3,>=2.21.0->tensorboard<2.15,>=2.14->tensorflow) (3.3.2)\n",
      "Requirement already satisfied: idna<4,>=2.5 in /home/codespace/.local/lib/python3.10/site-packages (from requests<3,>=2.21.0->tensorboard<2.15,>=2.14->tensorflow) (3.6)\n",
      "Requirement already satisfied: urllib3<3,>=1.21.1 in /usr/local/python/3.10.13/lib/python3.10/site-packages (from requests<3,>=2.21.0->tensorboard<2.15,>=2.14->tensorflow) (2.0.7)\n",
      "Requirement already satisfied: certifi>=2017.4.17 in /home/codespace/.local/lib/python3.10/site-packages (from requests<3,>=2.21.0->tensorboard<2.15,>=2.14->tensorflow) (2024.2.2)\n",
      "Requirement already satisfied: MarkupSafe>=2.1.1 in /home/codespace/.local/lib/python3.10/site-packages (from werkzeug>=1.0.1->tensorboard<2.15,>=2.14->tensorflow) (2.1.5)\n",
      "Requirement already satisfied: pyasn1<0.6.0,>=0.4.6 in /usr/local/python/3.10.13/lib/python3.10/site-packages (from pyasn1-modules>=0.2.1->google-auth<3,>=1.6.3->tensorboard<2.15,>=2.14->tensorflow) (0.5.1)\n",
      "Requirement already satisfied: oauthlib>=3.0.0 in /usr/local/python/3.10.13/lib/python3.10/site-packages (from requests-oauthlib>=0.7.0->google-auth-oauthlib<1.1,>=0.5->tensorboard<2.15,>=2.14->tensorflow) (3.2.2)\n",
      "Note: you may need to restart the kernel to use updated packages.\n"
     ]
    }
   ],
   "source": [
    "pip install tensorflow"
   ]
  },
  {
   "cell_type": "code",
   "execution_count": 1,
   "metadata": {},
   "outputs": [
    {
     "name": "stdout",
     "output_type": "stream",
     "text": [
      "Requirement already satisfied: tensorflow-federated in /usr/local/python/3.10.13/lib/python3.10/site-packages (0.71.0)\n",
      "Requirement already satisfied: absl-py==1.*,>=1.0 in /usr/local/python/3.10.13/lib/python3.10/site-packages (from tensorflow-federated) (1.4.0)\n",
      "Requirement already satisfied: attrs~=23.1 in /usr/local/python/3.10.13/lib/python3.10/site-packages (from tensorflow-federated) (23.1.0)\n",
      "Requirement already satisfied: cachetools~=5.3 in /usr/local/python/3.10.13/lib/python3.10/site-packages (from tensorflow-federated) (5.3.2)\n",
      "Requirement already satisfied: dm-tree==0.1.8 in /usr/local/python/3.10.13/lib/python3.10/site-packages (from tensorflow-federated) (0.1.8)\n",
      "Requirement already satisfied: dp-accounting==0.4.3 in /usr/local/python/3.10.13/lib/python3.10/site-packages (from tensorflow-federated) (0.4.3)\n",
      "Requirement already satisfied: farmhashpy==0.4.0 in /usr/local/python/3.10.13/lib/python3.10/site-packages (from tensorflow-federated) (0.4.0)\n",
      "Requirement already satisfied: google-vizier==0.1.11 in /usr/local/python/3.10.13/lib/python3.10/site-packages (from tensorflow-federated) (0.1.11)\n",
      "Requirement already satisfied: grpcio~=1.46 in /usr/local/python/3.10.13/lib/python3.10/site-packages (from tensorflow-federated) (1.62.0)\n",
      "Requirement already satisfied: jaxlib==0.4.14 in /usr/local/python/3.10.13/lib/python3.10/site-packages (from tensorflow-federated) (0.4.14)\n",
      "Requirement already satisfied: jax==0.4.14 in /usr/local/python/3.10.13/lib/python3.10/site-packages (from tensorflow-federated) (0.4.14)\n",
      "Requirement already satisfied: numpy~=1.25 in /usr/local/python/3.10.13/lib/python3.10/site-packages (from tensorflow-federated) (1.25.2)\n",
      "Requirement already satisfied: portpicker~=1.6 in /usr/local/python/3.10.13/lib/python3.10/site-packages (from tensorflow-federated) (1.6.0)\n",
      "Requirement already satisfied: scipy~=1.9.3 in /usr/local/python/3.10.13/lib/python3.10/site-packages (from tensorflow-federated) (1.9.3)\n",
      "Requirement already satisfied: semantic-version~=2.6 in /usr/local/python/3.10.13/lib/python3.10/site-packages (from tensorflow-federated) (2.10.0)\n",
      "Requirement already satisfied: tensorflow-compression==2.14.*,>=2.14.0 in /usr/local/python/3.10.13/lib/python3.10/site-packages (from tensorflow-federated) (2.14.0)\n",
      "Requirement already satisfied: tensorflow-model-optimization==0.7.5 in /usr/local/python/3.10.13/lib/python3.10/site-packages (from tensorflow-federated) (0.7.5)\n",
      "Requirement already satisfied: tensorflow-privacy==0.8.12 in /usr/local/python/3.10.13/lib/python3.10/site-packages (from tensorflow-federated) (0.8.12)\n",
      "Requirement already satisfied: tensorflow==2.14.*,>=2.14.0 in /usr/local/python/3.10.13/lib/python3.10/site-packages (from tensorflow-federated) (2.14.1)\n",
      "Requirement already satisfied: tqdm~=4.64 in /usr/local/python/3.10.13/lib/python3.10/site-packages (from tensorflow-federated) (4.66.2)\n",
      "Requirement already satisfied: typing-extensions==4.5.*,>=4.5.0 in /usr/local/python/3.10.13/lib/python3.10/site-packages (from tensorflow-federated) (4.5.0)\n",
      "Requirement already satisfied: googleapis-common-protos==1.61.0 in /usr/local/python/3.10.13/lib/python3.10/site-packages (from tensorflow-federated) (1.61.0)\n",
      "Requirement already satisfied: mpmath~=1.2 in /home/codespace/.local/lib/python3.10/site-packages (from dp-accounting==0.4.3->tensorflow-federated) (1.3.0)\n",
      "Requirement already satisfied: protobuf>=3.6 in /usr/local/python/3.10.13/lib/python3.10/site-packages (from google-vizier==0.1.11->tensorflow-federated) (4.25.3)\n",
      "Requirement already satisfied: grpcio-tools>=1.35.0 in /usr/local/python/3.10.13/lib/python3.10/site-packages (from google-vizier==0.1.11->tensorflow-federated) (1.62.0)\n",
      "Requirement already satisfied: sqlalchemy<=1.4.20,>=1.4 in /usr/local/python/3.10.13/lib/python3.10/site-packages (from google-vizier==0.1.11->tensorflow-federated) (1.4.20)\n",
      "Requirement already satisfied: ml-dtypes>=0.2.0 in /usr/local/python/3.10.13/lib/python3.10/site-packages (from jax==0.4.14->tensorflow-federated) (0.2.0)\n",
      "Requirement already satisfied: opt-einsum in /usr/local/python/3.10.13/lib/python3.10/site-packages (from jax==0.4.14->tensorflow-federated) (3.3.0)\n",
      "Requirement already satisfied: astunparse>=1.6.0 in /usr/local/python/3.10.13/lib/python3.10/site-packages (from tensorflow==2.14.*,>=2.14.0->tensorflow-federated) (1.6.3)\n",
      "Requirement already satisfied: flatbuffers>=23.5.26 in /usr/local/python/3.10.13/lib/python3.10/site-packages (from tensorflow==2.14.*,>=2.14.0->tensorflow-federated) (23.5.26)\n",
      "Requirement already satisfied: gast!=0.5.0,!=0.5.1,!=0.5.2,>=0.2.1 in /usr/local/python/3.10.13/lib/python3.10/site-packages (from tensorflow==2.14.*,>=2.14.0->tensorflow-federated) (0.5.4)\n",
      "Requirement already satisfied: google-pasta>=0.1.1 in /usr/local/python/3.10.13/lib/python3.10/site-packages (from tensorflow==2.14.*,>=2.14.0->tensorflow-federated) (0.2.0)\n",
      "Requirement already satisfied: h5py>=2.9.0 in /usr/local/python/3.10.13/lib/python3.10/site-packages (from tensorflow==2.14.*,>=2.14.0->tensorflow-federated) (3.10.0)\n",
      "Requirement already satisfied: libclang>=13.0.0 in /usr/local/python/3.10.13/lib/python3.10/site-packages (from tensorflow==2.14.*,>=2.14.0->tensorflow-federated) (16.0.6)\n",
      "Requirement already satisfied: packaging in /usr/local/python/3.10.13/lib/python3.10/site-packages (from tensorflow==2.14.*,>=2.14.0->tensorflow-federated) (22.0)\n",
      "Requirement already satisfied: setuptools in /usr/local/python/3.10.13/lib/python3.10/site-packages (from tensorflow==2.14.*,>=2.14.0->tensorflow-federated) (68.2.2)\n",
      "Requirement already satisfied: six>=1.12.0 in /home/codespace/.local/lib/python3.10/site-packages (from tensorflow==2.14.*,>=2.14.0->tensorflow-federated) (1.16.0)\n",
      "Requirement already satisfied: termcolor>=1.1.0 in /usr/local/python/3.10.13/lib/python3.10/site-packages (from tensorflow==2.14.*,>=2.14.0->tensorflow-federated) (2.4.0)\n",
      "Requirement already satisfied: wrapt<1.15,>=1.11.0 in /usr/local/python/3.10.13/lib/python3.10/site-packages (from tensorflow==2.14.*,>=2.14.0->tensorflow-federated) (1.14.1)\n",
      "Requirement already satisfied: tensorflow-io-gcs-filesystem>=0.23.1 in /usr/local/python/3.10.13/lib/python3.10/site-packages (from tensorflow==2.14.*,>=2.14.0->tensorflow-federated) (0.36.0)\n",
      "Requirement already satisfied: tensorboard<2.15,>=2.14 in /usr/local/python/3.10.13/lib/python3.10/site-packages (from tensorflow==2.14.*,>=2.14.0->tensorflow-federated) (2.14.1)\n",
      "Requirement already satisfied: tensorflow-estimator<2.15,>=2.14.0 in /usr/local/python/3.10.13/lib/python3.10/site-packages (from tensorflow==2.14.*,>=2.14.0->tensorflow-federated) (2.14.0)\n",
      "Requirement already satisfied: keras<2.15,>=2.14.0 in /usr/local/python/3.10.13/lib/python3.10/site-packages (from tensorflow==2.14.*,>=2.14.0->tensorflow-federated) (2.14.0)\n",
      "Requirement already satisfied: tensorflow-probability~=0.15 in /usr/local/python/3.10.13/lib/python3.10/site-packages (from tensorflow-compression==2.14.*,>=2.14.0->tensorflow-federated) (0.22.1)\n",
      "Requirement already satisfied: immutabledict~=2.2 in /usr/local/python/3.10.13/lib/python3.10/site-packages (from tensorflow-privacy==0.8.12->tensorflow-federated) (2.2.5)\n",
      "Requirement already satisfied: matplotlib~=3.3 in /home/codespace/.local/lib/python3.10/site-packages (from tensorflow-privacy==0.8.12->tensorflow-federated) (3.8.2)\n",
      "Requirement already satisfied: pandas~=1.4 in /usr/local/python/3.10.13/lib/python3.10/site-packages (from tensorflow-privacy==0.8.12->tensorflow-federated) (1.5.3)\n",
      "Requirement already satisfied: scikit-learn==1.*,>=1.0 in /home/codespace/.local/lib/python3.10/site-packages (from tensorflow-privacy==0.8.12->tensorflow-federated) (1.4.0)\n",
      "Requirement already satisfied: statsmodels~=0.13 in /usr/local/python/3.10.13/lib/python3.10/site-packages (from tensorflow-privacy==0.8.12->tensorflow-federated) (0.14.1)\n",
      "Requirement already satisfied: tf-models-official~=2.13 in /usr/local/python/3.10.13/lib/python3.10/site-packages (from tensorflow-privacy==0.8.12->tensorflow-federated) (2.14.2)\n",
      "Requirement already satisfied: joblib>=1.2.0 in /home/codespace/.local/lib/python3.10/site-packages (from scikit-learn==1.*,>=1.0->tensorflow-privacy==0.8.12->tensorflow-federated) (1.3.2)\n",
      "Requirement already satisfied: threadpoolctl>=2.0.0 in /home/codespace/.local/lib/python3.10/site-packages (from scikit-learn==1.*,>=1.0->tensorflow-privacy==0.8.12->tensorflow-federated) (3.2.0)\n",
      "Requirement already satisfied: psutil in /home/codespace/.local/lib/python3.10/site-packages (from portpicker~=1.6->tensorflow-federated) (5.9.8)\n",
      "Requirement already satisfied: wheel<1.0,>=0.23.0 in /usr/local/python/3.10.13/lib/python3.10/site-packages (from astunparse>=1.6.0->tensorflow==2.14.*,>=2.14.0->tensorflow-federated) (0.42.0)\n",
      "Requirement already satisfied: contourpy>=1.0.1 in /home/codespace/.local/lib/python3.10/site-packages (from matplotlib~=3.3->tensorflow-privacy==0.8.12->tensorflow-federated) (1.2.0)\n",
      "Requirement already satisfied: cycler>=0.10 in /home/codespace/.local/lib/python3.10/site-packages (from matplotlib~=3.3->tensorflow-privacy==0.8.12->tensorflow-federated) (0.12.1)\n",
      "Requirement already satisfied: fonttools>=4.22.0 in /home/codespace/.local/lib/python3.10/site-packages (from matplotlib~=3.3->tensorflow-privacy==0.8.12->tensorflow-federated) (4.48.1)\n",
      "Requirement already satisfied: kiwisolver>=1.3.1 in /home/codespace/.local/lib/python3.10/site-packages (from matplotlib~=3.3->tensorflow-privacy==0.8.12->tensorflow-federated) (1.4.5)\n",
      "Requirement already satisfied: pillow>=8 in /home/codespace/.local/lib/python3.10/site-packages (from matplotlib~=3.3->tensorflow-privacy==0.8.12->tensorflow-federated) (10.2.0)\n",
      "Requirement already satisfied: pyparsing>=2.3.1 in /home/codespace/.local/lib/python3.10/site-packages (from matplotlib~=3.3->tensorflow-privacy==0.8.12->tensorflow-federated) (3.1.1)\n",
      "Requirement already satisfied: python-dateutil>=2.7 in /home/codespace/.local/lib/python3.10/site-packages (from matplotlib~=3.3->tensorflow-privacy==0.8.12->tensorflow-federated) (2.8.2)\n",
      "Requirement already satisfied: pytz>=2020.1 in /home/codespace/.local/lib/python3.10/site-packages (from pandas~=1.4->tensorflow-privacy==0.8.12->tensorflow-federated) (2024.1)\n",
      "Requirement already satisfied: greenlet!=0.4.17 in /usr/local/python/3.10.13/lib/python3.10/site-packages (from sqlalchemy<=1.4.20,>=1.4->google-vizier==0.1.11->tensorflow-federated) (3.0.3)\n",
      "Requirement already satisfied: patsy>=0.5.4 in /usr/local/python/3.10.13/lib/python3.10/site-packages (from statsmodels~=0.13->tensorflow-privacy==0.8.12->tensorflow-federated) (0.5.6)\n",
      "Requirement already satisfied: google-auth<3,>=1.6.3 in /usr/local/python/3.10.13/lib/python3.10/site-packages (from tensorboard<2.15,>=2.14->tensorflow==2.14.*,>=2.14.0->tensorflow-federated) (2.28.1)\n",
      "Requirement already satisfied: google-auth-oauthlib<1.1,>=0.5 in /usr/local/python/3.10.13/lib/python3.10/site-packages (from tensorboard<2.15,>=2.14->tensorflow==2.14.*,>=2.14.0->tensorflow-federated) (1.0.0)\n",
      "Requirement already satisfied: markdown>=2.6.8 in /usr/local/python/3.10.13/lib/python3.10/site-packages (from tensorboard<2.15,>=2.14->tensorflow==2.14.*,>=2.14.0->tensorflow-federated) (3.5.2)\n",
      "Requirement already satisfied: requests<3,>=2.21.0 in /home/codespace/.local/lib/python3.10/site-packages (from tensorboard<2.15,>=2.14->tensorflow==2.14.*,>=2.14.0->tensorflow-federated) (2.31.0)\n",
      "Requirement already satisfied: tensorboard-data-server<0.8.0,>=0.7.0 in /usr/local/python/3.10.13/lib/python3.10/site-packages (from tensorboard<2.15,>=2.14->tensorflow==2.14.*,>=2.14.0->tensorflow-federated) (0.7.2)\n",
      "Requirement already satisfied: werkzeug>=1.0.1 in /usr/local/python/3.10.13/lib/python3.10/site-packages (from tensorboard<2.15,>=2.14->tensorflow==2.14.*,>=2.14.0->tensorflow-federated) (3.0.1)\n",
      "Requirement already satisfied: decorator in /home/codespace/.local/lib/python3.10/site-packages (from tensorflow-probability~=0.15->tensorflow-compression==2.14.*,>=2.14.0->tensorflow-federated) (5.1.1)\n",
      "Requirement already satisfied: cloudpickle>=1.3 in /usr/local/python/3.10.13/lib/python3.10/site-packages (from tensorflow-probability~=0.15->tensorflow-compression==2.14.*,>=2.14.0->tensorflow-federated) (3.0.0)\n",
      "Requirement already satisfied: Cython in /usr/local/python/3.10.13/lib/python3.10/site-packages (from tf-models-official~=2.13->tensorflow-privacy==0.8.12->tensorflow-federated) (3.0.8)\n",
      "Requirement already satisfied: gin-config in /usr/local/python/3.10.13/lib/python3.10/site-packages (from tf-models-official~=2.13->tensorflow-privacy==0.8.12->tensorflow-federated) (0.5.0)\n",
      "Requirement already satisfied: google-api-python-client>=1.6.7 in /usr/local/python/3.10.13/lib/python3.10/site-packages (from tf-models-official~=2.13->tensorflow-privacy==0.8.12->tensorflow-federated) (2.119.0)\n",
      "Requirement already satisfied: kaggle>=1.3.9 in /usr/local/python/3.10.13/lib/python3.10/site-packages (from tf-models-official~=2.13->tensorflow-privacy==0.8.12->tensorflow-federated) (1.6.6)\n",
      "Requirement already satisfied: oauth2client in /usr/local/python/3.10.13/lib/python3.10/site-packages (from tf-models-official~=2.13->tensorflow-privacy==0.8.12->tensorflow-federated) (4.1.3)\n",
      "Requirement already satisfied: opencv-python-headless in /usr/local/python/3.10.13/lib/python3.10/site-packages (from tf-models-official~=2.13->tensorflow-privacy==0.8.12->tensorflow-federated) (4.9.0.80)\n",
      "Requirement already satisfied: py-cpuinfo>=3.3.0 in /usr/local/python/3.10.13/lib/python3.10/site-packages (from tf-models-official~=2.13->tensorflow-privacy==0.8.12->tensorflow-federated) (9.0.0)\n",
      "Requirement already satisfied: pycocotools in /usr/local/python/3.10.13/lib/python3.10/site-packages (from tf-models-official~=2.13->tensorflow-privacy==0.8.12->tensorflow-federated) (2.0.7)\n",
      "Requirement already satisfied: pyyaml>=6.0.0 in /home/codespace/.local/lib/python3.10/site-packages (from tf-models-official~=2.13->tensorflow-privacy==0.8.12->tensorflow-federated) (6.0.1)\n",
      "Requirement already satisfied: sacrebleu in /usr/local/python/3.10.13/lib/python3.10/site-packages (from tf-models-official~=2.13->tensorflow-privacy==0.8.12->tensorflow-federated) (2.4.0)\n",
      "Requirement already satisfied: sentencepiece in /usr/local/python/3.10.13/lib/python3.10/site-packages (from tf-models-official~=2.13->tensorflow-privacy==0.8.12->tensorflow-federated) (0.2.0)\n",
      "Requirement already satisfied: seqeval in /usr/local/python/3.10.13/lib/python3.10/site-packages (from tf-models-official~=2.13->tensorflow-privacy==0.8.12->tensorflow-federated) (1.2.2)\n",
      "Requirement already satisfied: tensorflow-datasets in /usr/local/python/3.10.13/lib/python3.10/site-packages (from tf-models-official~=2.13->tensorflow-privacy==0.8.12->tensorflow-federated) (4.9.4)\n",
      "Requirement already satisfied: tensorflow-hub>=0.6.0 in /usr/local/python/3.10.13/lib/python3.10/site-packages (from tf-models-official~=2.13->tensorflow-privacy==0.8.12->tensorflow-federated) (0.16.1)\n",
      "Requirement already satisfied: tensorflow-text~=2.14.0 in /usr/local/python/3.10.13/lib/python3.10/site-packages (from tf-models-official~=2.13->tensorflow-privacy==0.8.12->tensorflow-federated) (2.14.0)\n",
      "Requirement already satisfied: tf-slim>=1.1.0 in /usr/local/python/3.10.13/lib/python3.10/site-packages (from tf-models-official~=2.13->tensorflow-privacy==0.8.12->tensorflow-federated) (1.1.0)\n",
      "Requirement already satisfied: httplib2<1.dev0,>=0.15.0 in /usr/local/python/3.10.13/lib/python3.10/site-packages (from google-api-python-client>=1.6.7->tf-models-official~=2.13->tensorflow-privacy==0.8.12->tensorflow-federated) (0.22.0)\n",
      "Requirement already satisfied: google-auth-httplib2>=0.1.0 in /usr/local/python/3.10.13/lib/python3.10/site-packages (from google-api-python-client>=1.6.7->tf-models-official~=2.13->tensorflow-privacy==0.8.12->tensorflow-federated) (0.2.0)\n",
      "Requirement already satisfied: google-api-core!=2.0.*,!=2.1.*,!=2.2.*,!=2.3.0,<3.0.0.dev0,>=1.31.5 in /usr/local/python/3.10.13/lib/python3.10/site-packages (from google-api-python-client>=1.6.7->tf-models-official~=2.13->tensorflow-privacy==0.8.12->tensorflow-federated) (2.17.1)\n",
      "Requirement already satisfied: uritemplate<5,>=3.0.1 in /usr/local/python/3.10.13/lib/python3.10/site-packages (from google-api-python-client>=1.6.7->tf-models-official~=2.13->tensorflow-privacy==0.8.12->tensorflow-federated) (4.1.1)\n",
      "Requirement already satisfied: pyasn1-modules>=0.2.1 in /usr/local/python/3.10.13/lib/python3.10/site-packages (from google-auth<3,>=1.6.3->tensorboard<2.15,>=2.14->tensorflow==2.14.*,>=2.14.0->tensorflow-federated) (0.3.0)\n",
      "Requirement already satisfied: rsa<5,>=3.1.4 in /usr/local/python/3.10.13/lib/python3.10/site-packages (from google-auth<3,>=1.6.3->tensorboard<2.15,>=2.14->tensorflow==2.14.*,>=2.14.0->tensorflow-federated) (4.9)\n",
      "Requirement already satisfied: requests-oauthlib>=0.7.0 in /usr/local/python/3.10.13/lib/python3.10/site-packages (from google-auth-oauthlib<1.1,>=0.5->tensorboard<2.15,>=2.14->tensorflow==2.14.*,>=2.14.0->tensorflow-federated) (1.3.1)\n",
      "Requirement already satisfied: certifi in /home/codespace/.local/lib/python3.10/site-packages (from kaggle>=1.3.9->tf-models-official~=2.13->tensorflow-privacy==0.8.12->tensorflow-federated) (2024.2.2)\n",
      "Requirement already satisfied: python-slugify in /usr/local/python/3.10.13/lib/python3.10/site-packages (from kaggle>=1.3.9->tf-models-official~=2.13->tensorflow-privacy==0.8.12->tensorflow-federated) (8.0.4)\n",
      "Requirement already satisfied: urllib3 in /usr/local/python/3.10.13/lib/python3.10/site-packages (from kaggle>=1.3.9->tf-models-official~=2.13->tensorflow-privacy==0.8.12->tensorflow-federated) (2.0.7)\n",
      "Requirement already satisfied: bleach in /home/codespace/.local/lib/python3.10/site-packages (from kaggle>=1.3.9->tf-models-official~=2.13->tensorflow-privacy==0.8.12->tensorflow-federated) (6.1.0)\n",
      "Requirement already satisfied: charset-normalizer<4,>=2 in /home/codespace/.local/lib/python3.10/site-packages (from requests<3,>=2.21.0->tensorboard<2.15,>=2.14->tensorflow==2.14.*,>=2.14.0->tensorflow-federated) (3.3.2)\n",
      "Requirement already satisfied: idna<4,>=2.5 in /home/codespace/.local/lib/python3.10/site-packages (from requests<3,>=2.21.0->tensorboard<2.15,>=2.14->tensorflow==2.14.*,>=2.14.0->tensorflow-federated) (3.6)\n",
      "Requirement already satisfied: tf-keras>=2.14.1 in /usr/local/python/3.10.13/lib/python3.10/site-packages (from tensorflow-hub>=0.6.0->tf-models-official~=2.13->tensorflow-privacy==0.8.12->tensorflow-federated) (2.15.0)\n",
      "Requirement already satisfied: MarkupSafe>=2.1.1 in /home/codespace/.local/lib/python3.10/site-packages (from werkzeug>=1.0.1->tensorboard<2.15,>=2.14->tensorflow==2.14.*,>=2.14.0->tensorflow-federated) (2.1.5)\n",
      "Requirement already satisfied: pyasn1>=0.1.7 in /usr/local/python/3.10.13/lib/python3.10/site-packages (from oauth2client->tf-models-official~=2.13->tensorflow-privacy==0.8.12->tensorflow-federated) (0.5.1)\n",
      "Requirement already satisfied: portalocker in /usr/local/python/3.10.13/lib/python3.10/site-packages (from sacrebleu->tf-models-official~=2.13->tensorflow-privacy==0.8.12->tensorflow-federated) (2.8.2)\n",
      "Requirement already satisfied: regex in /usr/local/python/3.10.13/lib/python3.10/site-packages (from sacrebleu->tf-models-official~=2.13->tensorflow-privacy==0.8.12->tensorflow-federated) (2023.12.25)\n",
      "Requirement already satisfied: tabulate>=0.8.9 in /usr/local/python/3.10.13/lib/python3.10/site-packages (from sacrebleu->tf-models-official~=2.13->tensorflow-privacy==0.8.12->tensorflow-federated) (0.9.0)\n",
      "Requirement already satisfied: colorama in /home/codespace/.local/lib/python3.10/site-packages (from sacrebleu->tf-models-official~=2.13->tensorflow-privacy==0.8.12->tensorflow-federated) (0.4.6)\n",
      "Requirement already satisfied: lxml in /usr/local/python/3.10.13/lib/python3.10/site-packages (from sacrebleu->tf-models-official~=2.13->tensorflow-privacy==0.8.12->tensorflow-federated) (5.1.0)\n",
      "Requirement already satisfied: click in /usr/local/python/3.10.13/lib/python3.10/site-packages (from tensorflow-datasets->tf-models-official~=2.13->tensorflow-privacy==0.8.12->tensorflow-federated) (8.1.7)\n",
      "Requirement already satisfied: etils>=0.9.0 in /usr/local/python/3.10.13/lib/python3.10/site-packages (from etils[enp,epath,etree]>=0.9.0->tensorflow-datasets->tf-models-official~=2.13->tensorflow-privacy==0.8.12->tensorflow-federated) (1.7.0)\n",
      "Requirement already satisfied: promise in /usr/local/python/3.10.13/lib/python3.10/site-packages (from tensorflow-datasets->tf-models-official~=2.13->tensorflow-privacy==0.8.12->tensorflow-federated) (2.3)\n",
      "Requirement already satisfied: tensorflow-metadata in /usr/local/python/3.10.13/lib/python3.10/site-packages (from tensorflow-datasets->tf-models-official~=2.13->tensorflow-privacy==0.8.12->tensorflow-federated) (1.13.1)\n",
      "Requirement already satisfied: toml in /usr/local/python/3.10.13/lib/python3.10/site-packages (from tensorflow-datasets->tf-models-official~=2.13->tensorflow-privacy==0.8.12->tensorflow-federated) (0.10.2)\n",
      "Requirement already satisfied: array-record>=0.5.0 in /usr/local/python/3.10.13/lib/python3.10/site-packages (from tensorflow-datasets->tf-models-official~=2.13->tensorflow-privacy==0.8.12->tensorflow-federated) (0.5.0)\n",
      "Requirement already satisfied: fsspec in /home/codespace/.local/lib/python3.10/site-packages (from etils[enp,epath,etree]>=0.9.0->tensorflow-datasets->tf-models-official~=2.13->tensorflow-privacy==0.8.12->tensorflow-federated) (2024.2.0)\n",
      "Requirement already satisfied: importlib_resources in /usr/local/python/3.10.13/lib/python3.10/site-packages (from etils[enp,epath,etree]>=0.9.0->tensorflow-datasets->tf-models-official~=2.13->tensorflow-privacy==0.8.12->tensorflow-federated) (6.1.1)\n",
      "Requirement already satisfied: zipp in /usr/local/python/3.10.13/lib/python3.10/site-packages (from etils[enp,epath,etree]>=0.9.0->tensorflow-datasets->tf-models-official~=2.13->tensorflow-privacy==0.8.12->tensorflow-federated) (3.17.0)\n",
      "Requirement already satisfied: oauthlib>=3.0.0 in /usr/local/python/3.10.13/lib/python3.10/site-packages (from requests-oauthlib>=0.7.0->google-auth-oauthlib<1.1,>=0.5->tensorboard<2.15,>=2.14->tensorflow==2.14.*,>=2.14.0->tensorflow-federated) (3.2.2)\n",
      "Requirement already satisfied: webencodings in /home/codespace/.local/lib/python3.10/site-packages (from bleach->kaggle>=1.3.9->tf-models-official~=2.13->tensorflow-privacy==0.8.12->tensorflow-federated) (0.5.1)\n",
      "Requirement already satisfied: text-unidecode>=1.3 in /usr/local/python/3.10.13/lib/python3.10/site-packages (from python-slugify->kaggle>=1.3.9->tf-models-official~=2.13->tensorflow-privacy==0.8.12->tensorflow-federated) (1.3)\n",
      "Note: you may need to restart the kernel to use updated packages.\n"
     ]
    }
   ],
   "source": [
    "pip install tensorflow-federated"
   ]
  },
  {
   "cell_type": "code",
   "execution_count": 1,
   "metadata": {},
   "outputs": [
    {
     "name": "stdout",
     "output_type": "stream",
     "text": [
      "Requirement already satisfied: nest-asyncio in /home/codespace/.local/lib/python3.10/site-packages (1.6.0)\n",
      "Requirement already satisfied: pandas in /usr/local/python/3.10.13/lib/python3.10/site-packages (1.5.3)\n",
      "Requirement already satisfied: python-dateutil>=2.8.1 in /home/codespace/.local/lib/python3.10/site-packages (from pandas) (2.8.2)\n",
      "Requirement already satisfied: pytz>=2020.1 in /home/codespace/.local/lib/python3.10/site-packages (from pandas) (2024.1)\n",
      "Requirement already satisfied: numpy>=1.21.0 in /usr/local/python/3.10.13/lib/python3.10/site-packages (from pandas) (1.25.2)\n",
      "Requirement already satisfied: six>=1.5 in /home/codespace/.local/lib/python3.10/site-packages (from python-dateutil>=2.8.1->pandas) (1.16.0)\n",
      "Requirement already satisfied: matplotlib in /home/codespace/.local/lib/python3.10/site-packages (3.8.2)\n",
      "Requirement already satisfied: contourpy>=1.0.1 in /home/codespace/.local/lib/python3.10/site-packages (from matplotlib) (1.2.0)\n",
      "Requirement already satisfied: cycler>=0.10 in /home/codespace/.local/lib/python3.10/site-packages (from matplotlib) (0.12.1)\n",
      "Requirement already satisfied: fonttools>=4.22.0 in /home/codespace/.local/lib/python3.10/site-packages (from matplotlib) (4.48.1)\n",
      "Requirement already satisfied: kiwisolver>=1.3.1 in /home/codespace/.local/lib/python3.10/site-packages (from matplotlib) (1.4.5)\n",
      "Requirement already satisfied: numpy<2,>=1.21 in /usr/local/python/3.10.13/lib/python3.10/site-packages (from matplotlib) (1.25.2)\n",
      "Requirement already satisfied: packaging>=20.0 in /usr/local/python/3.10.13/lib/python3.10/site-packages (from matplotlib) (22.0)\n",
      "Requirement already satisfied: pillow>=8 in /home/codespace/.local/lib/python3.10/site-packages (from matplotlib) (10.2.0)\n",
      "Requirement already satisfied: pyparsing>=2.3.1 in /home/codespace/.local/lib/python3.10/site-packages (from matplotlib) (3.1.1)\n",
      "Requirement already satisfied: python-dateutil>=2.7 in /home/codespace/.local/lib/python3.10/site-packages (from matplotlib) (2.8.2)\n",
      "Requirement already satisfied: six>=1.5 in /home/codespace/.local/lib/python3.10/site-packages (from python-dateutil>=2.7->matplotlib) (1.16.0)\n"
     ]
    }
   ],
   "source": [
    "!pip install nest-asyncio\n",
    "!pip install pandas\n",
    "!pip install matplotlib"
   ]
  },
  {
   "cell_type": "code",
   "execution_count": 2,
   "metadata": {},
   "outputs": [
    {
     "name": "stderr",
     "output_type": "stream",
     "text": [
      "2024-02-23 11:51:05.331187: I tensorflow/tsl/cuda/cudart_stub.cc:28] Could not find cuda drivers on your machine, GPU will not be used.\n",
      "2024-02-23 11:51:08.229342: E tensorflow/compiler/xla/stream_executor/cuda/cuda_dnn.cc:9342] Unable to register cuDNN factory: Attempting to register factory for plugin cuDNN when one has already been registered\n",
      "2024-02-23 11:51:08.229404: E tensorflow/compiler/xla/stream_executor/cuda/cuda_fft.cc:609] Unable to register cuFFT factory: Attempting to register factory for plugin cuFFT when one has already been registered\n",
      "2024-02-23 11:51:08.232388: E tensorflow/compiler/xla/stream_executor/cuda/cuda_blas.cc:1518] Unable to register cuBLAS factory: Attempting to register factory for plugin cuBLAS when one has already been registered\n",
      "2024-02-23 11:51:09.357789: I tensorflow/tsl/cuda/cudart_stub.cc:28] Could not find cuda drivers on your machine, GPU will not be used.\n",
      "2024-02-23 11:51:09.359806: I tensorflow/core/platform/cpu_feature_guard.cc:182] This TensorFlow binary is optimized to use available CPU instructions in performance-critical operations.\n",
      "To enable the following instructions: AVX2 FMA, in other operations, rebuild TensorFlow with the appropriate compiler flags.\n",
      "2024-02-23 11:51:13.815895: W tensorflow/compiler/tf2tensorrt/utils/py_utils.cc:38] TF-TRT Warning: Could not find TensorRT\n"
     ]
    }
   ],
   "source": [
    "import collections\n",
    "import os\n",
    "import pandas as pd\n",
    "import tensorflow as tf\n",
    "import tensorflow_federated as tff\n",
    "import time\n",
    "from matplotlib import pyplot as plt\n",
    "import nest_asyncio\n",
    "import numpy as np\n",
    "nest_asyncio.apply()\n",
    "\n",
    "%matplotlib inline"
   ]
  },
  {
   "cell_type": "code",
   "execution_count": 3,
   "metadata": {},
   "outputs": [],
   "source": [
    "df_train = pd.read_csv('/workspaces/Network_Intrusion_Detection/KDDTrain+.txt')  # Replace with the actual path\n",
    "df_test = pd.read_csv('/workspaces/Network_Intrusion_Detection/KDDTest+.txt')    # Replace with the actual path"
   ]
  },
  {
   "cell_type": "code",
   "execution_count": 4,
   "metadata": {},
   "outputs": [],
   "source": [
    "df_train.columns = ['duration', 'protocol_type', 'service', 'flag', 'src_bytes',\n",
    "'dst_bytes', 'land', 'wrong_fragment', 'urgent', 'hot',\n",
    "'num_failed_logins', 'logged_in', 'num_compromised', 'root_shell',\n",
    "'su_attempted', 'num_root', 'num_file_creations', 'num_shells',\n",
    "'num_access_files', 'num_outbound_cmds', 'is_host_login',\n",
    "'is_guest_login', 'count', 'srv_count', 'serror_rate',\n",
    "'srv_serror_rate', 'rerror_rate', 'srv_rerror_rate', 'same_srv_rate',\n",
    "'diff_srv_rate', 'srv_diff_host_rate', 'dst_host_count',\n",
    "'dst_host_srv_count', 'dst_host_same_srv_rate','dst_host_diff_srv_rate', 'dst_host_same_src_port_rate',\n",
    "'dst_host_srv_diff_host_rate', 'dst_host_serror_rate',\n",
    "'dst_host_srv_serror_rate', 'dst_host_rerror_rate',\n",
    "'dst_host_srv_rerror_rate', 'subclass', 'difficulty_level']\n",
    "\n",
    "df_test.columns = ['duration', 'protocol_type', 'service', 'flag', 'src_bytes',\n",
    "'dst_bytes', 'land', 'wrong_fragment', 'urgent', 'hot',\n",
    "'num_failed_logins', 'logged_in', 'num_compromised', 'root_shell',\n",
    "'su_attempted', 'num_root', 'num_file_creations', 'num_shells',\n",
    "'num_access_files', 'num_outbound_cmds', 'is_host_login',\n",
    "'is_guest_login', 'count', 'srv_count', 'serror_rate',\n",
    "'srv_serror_rate', 'rerror_rate', 'srv_rerror_rate', 'same_srv_rate',\n",
    "'diff_srv_rate', 'srv_diff_host_rate', 'dst_host_count',\n",
    "'dst_host_srv_count', 'dst_host_same_srv_rate','dst_host_diff_srv_rate', 'dst_host_same_src_port_rate',\n",
    "'dst_host_srv_diff_host_rate', 'dst_host_serror_rate',\n",
    "'dst_host_srv_serror_rate', 'dst_host_rerror_rate',\n",
    "'dst_host_srv_rerror_rate', 'subclass', 'difficulty_level']"
   ]
  },
  {
   "cell_type": "code",
   "execution_count": 5,
   "metadata": {},
   "outputs": [
    {
     "name": "stderr",
     "output_type": "stream",
     "text": [
      "/tmp/ipykernel_2325/824958944.py:1: FutureWarning: In a future version of pandas all arguments of DataFrame.drop except for the argument 'labels' will be keyword-only.\n",
      "  df_train = df_train.drop('difficulty_level', 1)\n",
      "/tmp/ipykernel_2325/824958944.py:2: FutureWarning: In a future version of pandas all arguments of DataFrame.drop except for the argument 'labels' will be keyword-only.\n",
      "  df_test = df_test.drop('difficulty_level', 1)\n"
     ]
    }
   ],
   "source": [
    "df_train = df_train.drop('difficulty_level', 1)\n",
    "df_test = df_test.drop('difficulty_level', 1)\n",
    "# df_train = df_train.drop('protocol_type', 1)\n",
    "# df_test = df_test.drop('protocol_type', 1)\n",
    "# df_train = df_train.drop('service', 1)\n",
    "# df_test = df_test.drop('service', 1)\n",
    "# df_train = df_train.drop('flag', 1)\n",
    "# df_test = df_test.drop('flag', 1)"
   ]
  },
  {
   "cell_type": "code",
   "execution_count": 6,
   "metadata": {},
   "outputs": [],
   "source": [
    "df_train['protocol_type'] = df_train['protocol_type'].str.lower()\n",
    "df_test['protocol_type'] = df_test['protocol_type'].str.lower()\n",
    "\n",
    "df_train['service'] = df_train['service'].str.lower()\n",
    "df_test['service'] = df_test['service'].str.lower()\n",
    "\n",
    "df_train['flag'] = df_train['flag'].str.lower()\n",
    "df_test['flag'] = df_test['flag'].str.lower()"
   ]
  },
  {
   "cell_type": "code",
   "execution_count": 7,
   "metadata": {},
   "outputs": [],
   "source": [
    "# tmp_pro_train = df_train.pop('protocol_type')\n",
    "# tmp_pro_test = df_test.pop('protocol_type')\n",
    "\n",
    "# tmp_ser_train = df_train.pop('service')\n",
    "# tmp_ser_test = df_test.pop('service')\n",
    "\n",
    "# tmp_flag_train = df_train.pop('flag')\n",
    "# tmp_flag_test = df_test.pop('flag')"
   ]
  },
  {
   "cell_type": "code",
   "execution_count": 7,
   "metadata": {},
   "outputs": [],
   "source": [
    "unique_labels_pro_train = list(df_train.protocol_type.astype('category').unique())\n",
    "unique_codes_pro_train = list(df_train.protocol_type.astype('category').cat.codes.unique())\n",
    "mapping_pro_train = {unique_codes_pro_train[i] : unique_labels_pro_train[i] for i in range(len(unique_labels_pro_train))}\n",
    "\n",
    "unique_labels_pro_test = list(df_test.protocol_type.astype('category').unique())\n",
    "unique_codes_pro_test = list(df_test.protocol_type.astype('category').cat.codes.unique())\n",
    "mapping_pro_test = {unique_codes_pro_test[i] : unique_labels_pro_test[i] for i in range(len(unique_labels_pro_test))}"
   ]
  },
  {
   "cell_type": "code",
   "execution_count": 8,
   "metadata": {},
   "outputs": [
    {
     "name": "stdout",
     "output_type": "stream",
     "text": [
      "{1: 'tcp', 0: 'icmp', 2: 'udp'}\n",
      "{2: 'udp', 1: 'tcp', 0: 'icmp'}\n"
     ]
    }
   ],
   "source": [
    "print(mapping_pro_test)\n",
    "print(mapping_pro_train)"
   ]
  },
  {
   "cell_type": "code",
   "execution_count": 9,
   "metadata": {},
   "outputs": [],
   "source": [
    "df_train['protocol_type'] = df_train['protocol_type'].replace(unique_labels_pro_train, unique_codes_pro_train)\n",
    "df_test['protocol_type'] = df_test['protocol_type'].replace(unique_labels_pro_test, unique_codes_pro_test)"
   ]
  },
  {
   "cell_type": "code",
   "execution_count": 10,
   "metadata": {},
   "outputs": [],
   "source": [
    "unique_labels_ser_train = list(df_train.service.astype('category').unique())\n",
    "unique_codes_ser_train = list(df_train.service.astype('category').cat.codes.unique())\n",
    "mapping_ser_train = {unique_codes_ser_train[i] : unique_labels_ser_train[i] for i in range(len(unique_labels_ser_train))}\n",
    "\n",
    "unique_labels_ser_test = list(df_test.service.astype('category').unique())\n",
    "unique_codes_ser_test = list(df_test.service.astype('category').cat.codes.unique())\n",
    "mapping_ser_test = {unique_codes_ser_test[i] : unique_labels_ser_test[i] for i in range(len(unique_labels_ser_test))}"
   ]
  },
  {
   "cell_type": "code",
   "execution_count": 11,
   "metadata": {},
   "outputs": [
    {
     "name": "stdout",
     "output_type": "stream",
     "text": [
      "{43: 'private', 16: 'ftp_data', 10: 'eco_i', 53: 'telnet', 19: 'http', 47: 'smtp', 15: 'ftp', 26: 'ldap', 41: 'pop_3', 2: 'courier', 6: 'discard', 11: 'ecr_i', 21: 'imap4', 8: 'domain_u', 29: 'mtp', 52: 'systat', 23: 'iso_tsap', 38: 'other', 3: 'csnet_ns', 14: 'finger', 58: 'uucp', 61: 'whois', 32: 'netbios_ns', 27: 'link', 63: 'z39_50', 50: 'sunrpc', 0: 'auth', 31: 'netbios_dgm', 59: 'uucp_path', 60: 'vmnet', 7: 'domain', 30: 'name', 40: 'pop_2', 20: 'http_443', 57: 'urp_i', 28: 'login', 17: 'gopher', 13: 'exec', 56: 'time', 44: 'remote_job', 49: 'ssh', 25: 'kshell', 48: 'sql_net', 46: 'shell', 18: 'hostnames', 9: 'echo', 5: 'daytime', 39: 'pm_dump', 22: 'irc', 34: 'netstat', 4: 'ctf', 36: 'nntp', 33: 'netbios_ssn', 55: 'tim_i', 51: 'supdup', 1: 'bgp', 35: 'nnsp', 45: 'rje', 42: 'printer', 12: 'efs', 62: 'x11', 37: 'ntp_u', 24: 'klogin', 54: 'tftp_u'}\n",
      "{42: 'other', 47: 'private', 21: 'http', 49: 'remote_job', 17: 'ftp_data', 34: 'name', 36: 'netbios_ns', 11: 'eco_i', 33: 'mtp', 58: 'telnet', 15: 'finger', 9: 'domain_u', 56: 'supdup', 65: 'uucp_path', 69: 'z39_50', 52: 'smtp', 4: 'csnet_ns', 64: 'uucp', 35: 'netbios_dgm', 63: 'urp_i', 1: 'auth', 8: 'domain', 16: 'ftp', 2: 'bgp', 30: 'ldap', 12: 'ecr_i', 18: 'gopher', 66: 'vmnet', 57: 'systat', 23: 'http_443', 13: 'efs', 67: 'whois', 25: 'imap4', 27: 'iso_tsap', 10: 'echo', 28: 'klogin', 31: 'link', 55: 'sunrpc', 32: 'login', 29: 'kshell', 53: 'sql_net', 61: 'time', 20: 'hostnames', 14: 'exec', 41: 'ntp_u', 7: 'discard', 40: 'nntp', 3: 'courier', 5: 'ctf', 54: 'ssh', 6: 'daytime', 51: 'shell', 38: 'netstat', 45: 'pop_3', 39: 'nnsp', 26: 'irc', 44: 'pop_2', 46: 'printer', 60: 'tim_i', 43: 'pm_dump', 48: 'red_i', 37: 'netbios_ssn', 50: 'rje', 68: 'x11', 62: 'urh_i', 24: 'http_8001', 0: 'aol', 22: 'http_2784', 59: 'tftp_u', 19: 'harvest'}\n"
     ]
    }
   ],
   "source": [
    "print(mapping_ser_test)\n",
    "print(mapping_ser_train)"
   ]
  },
  {
   "cell_type": "code",
   "execution_count": 12,
   "metadata": {},
   "outputs": [],
   "source": [
    "df_train['service'] = df_train['service'].replace(unique_labels_ser_train, unique_codes_ser_train)\n",
    "df_test['service'] = df_test['service'].replace(unique_labels_ser_test, unique_codes_ser_test)"
   ]
  },
  {
   "cell_type": "code",
   "execution_count": 13,
   "metadata": {},
   "outputs": [],
   "source": [
    "unique_labels_flag_train = list(df_train.flag.astype('category').unique())\n",
    "unique_codes_flag_train = list(df_train.flag.astype('category').cat.codes.unique())\n",
    "mapping_flag_train = {unique_codes_flag_train[i] : unique_labels_flag_train[i] for i in range(len(unique_labels_flag_train))}\n",
    "\n",
    "unique_labels_flag_test = list(df_test.flag.astype('category').unique())\n",
    "unique_codes_flag_test = list(df_test.flag.astype('category').cat.codes.unique())\n",
    "mapping_flag_test = {unique_codes_flag_test[i] : unique_labels_flag_test[i] for i in range(len(unique_labels_flag_test))}"
   ]
  },
  {
   "cell_type": "code",
   "execution_count": 14,
   "metadata": {},
   "outputs": [
    {
     "name": "stdout",
     "output_type": "stream",
     "text": [
      "{1: 'rej', 9: 'sf', 2: 'rsto', 5: 's0', 4: 'rstr', 10: 'sh', 8: 's3', 7: 's2', 6: 's1', 3: 'rstos0', 0: 'oth'}\n",
      "{9: 'sf', 5: 's0', 1: 'rej', 4: 'rstr', 10: 'sh', 2: 'rsto', 6: 's1', 3: 'rstos0', 8: 's3', 7: 's2', 0: 'oth'}\n"
     ]
    }
   ],
   "source": [
    "print(mapping_flag_test)\n",
    "print(mapping_flag_train)"
   ]
  },
  {
   "cell_type": "code",
   "execution_count": 15,
   "metadata": {},
   "outputs": [],
   "source": [
    "df_train['flag'] = df_train['flag'].replace(unique_labels_flag_train, unique_codes_flag_train)\n",
    "df_test['flag'] = df_test['flag'].replace(unique_labels_flag_test, unique_codes_flag_test)"
   ]
  },
  {
   "cell_type": "code",
   "execution_count": 16,
   "metadata": {},
   "outputs": [
    {
     "name": "stdout",
     "output_type": "stream",
     "text": [
      "<class 'pandas.core.frame.DataFrame'>\n",
      "RangeIndex: 125972 entries, 0 to 125971\n",
      "Data columns (total 42 columns):\n",
      " #   Column                       Non-Null Count   Dtype  \n",
      "---  ------                       --------------   -----  \n",
      " 0   duration                     125972 non-null  int64  \n",
      " 1   protocol_type                125972 non-null  int8   \n",
      " 2   service                      125972 non-null  int8   \n",
      " 3   flag                         125972 non-null  int8   \n",
      " 4   src_bytes                    125972 non-null  int64  \n",
      " 5   dst_bytes                    125972 non-null  int64  \n",
      " 6   land                         125972 non-null  int64  \n",
      " 7   wrong_fragment               125972 non-null  int64  \n",
      " 8   urgent                       125972 non-null  int64  \n",
      " 9   hot                          125972 non-null  int64  \n",
      " 10  num_failed_logins            125972 non-null  int64  \n",
      " 11  logged_in                    125972 non-null  int64  \n",
      " 12  num_compromised              125972 non-null  int64  \n",
      " 13  root_shell                   125972 non-null  int64  \n",
      " 14  su_attempted                 125972 non-null  int64  \n",
      " 15  num_root                     125972 non-null  int64  \n",
      " 16  num_file_creations           125972 non-null  int64  \n",
      " 17  num_shells                   125972 non-null  int64  \n",
      " 18  num_access_files             125972 non-null  int64  \n",
      " 19  num_outbound_cmds            125972 non-null  int64  \n",
      " 20  is_host_login                125972 non-null  int64  \n",
      " 21  is_guest_login               125972 non-null  int64  \n",
      " 22  count                        125972 non-null  int64  \n",
      " 23  srv_count                    125972 non-null  int64  \n",
      " 24  serror_rate                  125972 non-null  float64\n",
      " 25  srv_serror_rate              125972 non-null  float64\n",
      " 26  rerror_rate                  125972 non-null  float64\n",
      " 27  srv_rerror_rate              125972 non-null  float64\n",
      " 28  same_srv_rate                125972 non-null  float64\n",
      " 29  diff_srv_rate                125972 non-null  float64\n",
      " 30  srv_diff_host_rate           125972 non-null  float64\n",
      " 31  dst_host_count               125972 non-null  int64  \n",
      " 32  dst_host_srv_count           125972 non-null  int64  \n",
      " 33  dst_host_same_srv_rate       125972 non-null  float64\n",
      " 34  dst_host_diff_srv_rate       125972 non-null  float64\n",
      " 35  dst_host_same_src_port_rate  125972 non-null  float64\n",
      " 36  dst_host_srv_diff_host_rate  125972 non-null  float64\n",
      " 37  dst_host_serror_rate         125972 non-null  float64\n",
      " 38  dst_host_srv_serror_rate     125972 non-null  float64\n",
      " 39  dst_host_rerror_rate         125972 non-null  float64\n",
      " 40  dst_host_srv_rerror_rate     125972 non-null  float64\n",
      " 41  subclass                     125972 non-null  object \n",
      "dtypes: float64(15), int64(23), int8(3), object(1)\n",
      "memory usage: 37.8+ MB\n"
     ]
    }
   ],
   "source": [
    "df_train.info()"
   ]
  },
  {
   "cell_type": "code",
   "execution_count": 17,
   "metadata": {},
   "outputs": [],
   "source": [
    "df_train['subclass'] = df_train['subclass'].str.lower()\n",
    "df_test['subclass'] = df_test['subclass'].str.lower()"
   ]
  },
  {
   "cell_type": "code",
   "execution_count": 18,
   "metadata": {},
   "outputs": [],
   "source": [
    "tmp = df_train.pop('subclass')\n",
    "tmp1 = df_test.pop('subclass')"
   ]
  },
  {
   "cell_type": "code",
   "execution_count": 20,
   "metadata": {},
   "outputs": [],
   "source": [
    "classlist=[]\n",
    "classlist_test=[]\n",
    "NormalCount = 0\n",
    "AttackCount = 0\n",
    "NormalCount_test = 0\n",
    "AttackCount_test = 0\n",
    "\n",
    "for item in tmp:\n",
    "    if(item == \"normal\"):\n",
    "        classlist.append(\"normal\")\n",
    "        NormalCount+=1\n",
    "    else:\n",
    "        classlist.append(\"attack\")\n",
    "        AttackCount+=1\n",
    "\n",
    "for item in tmp1:\n",
    "    if(item == \"normal\"):\n",
    "        classlist_test.append(\"normal\")\n",
    "        NormalCount_test+=1\n",
    "    else:\n",
    "        classlist_test.append(\"attack\")\n",
    "        AttackCount_test+=1"
   ]
  },
  {
   "cell_type": "code",
   "execution_count": 21,
   "metadata": {},
   "outputs": [],
   "source": [
    "df_train[\"subclass\"] =classlist\n",
    "df_test[\"subclass\"] = classlist_test"
   ]
  },
  {
   "cell_type": "code",
   "execution_count": 22,
   "metadata": {},
   "outputs": [],
   "source": [
    "unique_labels = list(df_train.subclass.astype('category').unique())\n",
    "unique_codes = list(df_train.subclass.astype('category').cat.codes.unique())\n",
    "mapping = {unique_codes[i] : unique_labels[i] for i in range(len(unique_labels))}\n",
    "\n",
    "unique_labels_test = list(df_test.subclass.astype('category').unique())\n",
    "unique_codes_test = list(df_test.subclass.astype('category').cat.codes.unique())\n",
    "mapping_test = {unique_codes_test[i] : unique_labels_test[i] for i in range(len(unique_labels_test))}"
   ]
  },
  {
   "cell_type": "code",
   "execution_count": 23,
   "metadata": {},
   "outputs": [
    {
     "data": {
      "text/plain": [
       "{1: 'normal', 0: 'attack'}"
      ]
     },
     "execution_count": 23,
     "metadata": {},
     "output_type": "execute_result"
    }
   ],
   "source": [
    "mapping"
   ]
  },
  {
   "cell_type": "code",
   "execution_count": 24,
   "metadata": {},
   "outputs": [
    {
     "data": {
      "text/plain": [
       "{0: 'attack', 1: 'normal'}"
      ]
     },
     "execution_count": 24,
     "metadata": {},
     "output_type": "execute_result"
    }
   ],
   "source": [
    "mapping_test"
   ]
  },
  {
   "cell_type": "code",
   "execution_count": 25,
   "metadata": {},
   "outputs": [],
   "source": [
    "df_train['subclass'] = df_train['subclass'].replace(unique_labels, unique_codes)\n",
    "df_test['subclass'] = df_test['subclass'].replace(unique_labels_test, unique_codes_test)"
   ]
  },
  {
   "cell_type": "code",
   "execution_count": 26,
   "metadata": {},
   "outputs": [],
   "source": [
    "train = df_train\n",
    "test = df_test"
   ]
  },
  {
   "cell_type": "code",
   "execution_count": 27,
   "metadata": {},
   "outputs": [],
   "source": [
    "n_workers=2\n",
    "n_samples = int(df_train.shape[0] / n_workers)\n",
    "n_samples_test = int(df_test.shape[0]/n_workers)\n",
    "assert n_samples > 0, \"Each worker must be assigned at least one data point\""
   ]
  },
  {
   "cell_type": "code",
   "execution_count": 28,
   "metadata": {},
   "outputs": [
    {
     "name": "stdout",
     "output_type": "stream",
     "text": [
      "2  output_shape\n",
      "shuffle_buffer_size  125972\n",
      "batch_size  250\n",
      "prefetch_buffer_size  50\n",
      "input_shape  41\n"
     ]
    }
   ],
   "source": [
    "import numpy as np\n",
    "n_epochs = 10\n",
    "shuffle_buffer_size = df_train.shape[0]\n",
    "batch_size = 250\n",
    "prefetch_buffer_size = 50\n",
    "input_shape = df_train.shape[1]-1\n",
    "output_shape = len(unique_codes)\n",
    "print(output_shape , \" output_shape\")\n",
    "print(\"shuffle_buffer_size \", shuffle_buffer_size)\n",
    "print(\"batch_size \",batch_size)\n",
    "print(\"prefetch_buffer_size \", prefetch_buffer_size)\n",
    "print(\"input_shape \", input_shape)"
   ]
  },
  {
   "cell_type": "code",
   "execution_count": 29,
   "metadata": {},
   "outputs": [
    {
     "name": "stdout",
     "output_type": "stream",
     "text": [
      "22543 shuffle_buffer_size_test\n",
      "41 input_shape_test\n",
      "2 output_shape_test\n"
     ]
    }
   ],
   "source": [
    "n_epochs = 10\n",
    "shuffle_buffer_size_test = df_test.shape[0]\n",
    "print(shuffle_buffer_size_test, \"shuffle_buffer_size_test\")\n",
    "batch_size_test = 250\n",
    "prefetch_buffer_size_test = 50\n",
    "input_shape_test = df_test.shape[1]-1\n",
    "print(input_shape_test,\"input_shape_test\")\n",
    "output_shape_test = len(unique_codes_test)\n",
    "print(output_shape_test,\"output_shape_test\")"
   ]
  },
  {
   "cell_type": "code",
   "execution_count": 30,
   "metadata": {},
   "outputs": [
    {
     "name": "stderr",
     "output_type": "stream",
     "text": [
      "2024-02-23 11:52:46.108679: W tensorflow/tsl/framework/cpu_allocator_impl.cc:83] Allocation of 21163296 exceeds 10% of free system memory.\n",
      "2024-02-23 11:52:46.222643: W tensorflow/tsl/framework/cpu_allocator_impl.cc:83] Allocation of 21163296 exceeds 10% of free system memory.\n"
     ]
    }
   ],
   "source": [
    "def preprocess(dataframe):\n",
    "\n",
    "    \"\"\"Flatten a batch `pixels` and return the features as an `OrderedDict`.\"\"\"\n",
    "    def map_fn(dataset):\n",
    "        return collections.OrderedDict(\n",
    "            x=tf.cast(dataset[:,:-1], tf.float64),\n",
    "            y=tf.cast(tf.reshape(dataset[:,-1], shape=(-1, 1)), tf.int64)\n",
    "        )\n",
    "\n",
    "    return tf.data.Dataset.from_tensor_slices(dataframe).repeat(n_epochs).shuffle(\n",
    "        shuffle_buffer_size).batch(batch_size).map(map_fn).prefetch(prefetch_buffer_size)\n",
    "\n",
    "\n",
    "client_data = [preprocess(train.sample(n=n_samples)) for _ in range(n_workers)]"
   ]
  },
  {
   "cell_type": "code",
   "execution_count": 32,
   "metadata": {},
   "outputs": [],
   "source": [
    "def preprocess_test(dataframe):\n",
    "\n",
    "    \"\"\"Flatten a batch `pixels` and return the features as an `OrderedDict`.\"\"\"\n",
    "    def map_fn(dataset):\n",
    "        return collections.OrderedDict(\n",
    "            x=tf.cast(dataset[:,:-1], tf.float64),\n",
    "            y=tf.cast(tf.reshape(dataset[:,-1], shape=(-1, 1)), tf.int64)\n",
    "        )\n",
    "\n",
    "    return tf.data.Dataset.from_tensor_slices(dataframe).repeat(n_epochs).shuffle(\n",
    "        shuffle_buffer_size_test).batch(batch_size_test).map(map_fn).prefetch(prefetch_buffer_size_test)\n",
    "\n",
    "\n",
    "client_data_test = [preprocess(test.sample(n=n_samples_test)) for _ in range(n_workers)]"
   ]
  },
  {
   "cell_type": "code",
   "execution_count": 33,
   "metadata": {},
   "outputs": [
    {
     "data": {
      "text/plain": [
       "[<_PrefetchDataset element_spec=OrderedDict([('x', TensorSpec(shape=(None, 41), dtype=tf.float64, name=None)), ('y', TensorSpec(shape=(None, 1), dtype=tf.int64, name=None))])>,\n",
       " <_PrefetchDataset element_spec=OrderedDict([('x', TensorSpec(shape=(None, 41), dtype=tf.float64, name=None)), ('y', TensorSpec(shape=(None, 1), dtype=tf.int64, name=None))])>]"
      ]
     },
     "execution_count": 33,
     "metadata": {},
     "output_type": "execute_result"
    }
   ],
   "source": [
    "client_data"
   ]
  },
  {
   "cell_type": "code",
   "execution_count": 34,
   "metadata": {},
   "outputs": [
    {
     "data": {
      "text/plain": [
       "[<_PrefetchDataset element_spec=OrderedDict([('x', TensorSpec(shape=(None, 41), dtype=tf.float64, name=None)), ('y', TensorSpec(shape=(None, 1), dtype=tf.int64, name=None))])>,\n",
       " <_PrefetchDataset element_spec=OrderedDict([('x', TensorSpec(shape=(None, 41), dtype=tf.float64, name=None)), ('y', TensorSpec(shape=(None, 1), dtype=tf.int64, name=None))])>]"
      ]
     },
     "execution_count": 34,
     "metadata": {},
     "output_type": "execute_result"
    }
   ],
   "source": [
    "client_data_test"
   ]
  },
  {
   "cell_type": "code",
   "execution_count": 35,
   "metadata": {},
   "outputs": [
    {
     "name": "stdout",
     "output_type": "stream",
     "text": [
      "Worker 1 data contains 2520 training points\n",
      "Worker 2 data contains 2520 training points\n"
     ]
    }
   ],
   "source": [
    "for i in range(n_workers):\n",
    "    print(f\"Worker {i+1} data contains {len(client_data[i])} training points\")"
   ]
  },
  {
   "cell_type": "code",
   "execution_count": 36,
   "metadata": {},
   "outputs": [
    {
     "name": "stdout",
     "output_type": "stream",
     "text": [
      "Worker 1 data contains 451 testing points\n",
      "Worker 2 data contains 451 testing points\n"
     ]
    }
   ],
   "source": [
    "for i in range(n_workers):\n",
    "    print(f\"Worker {i+1} data contains {len(client_data_test[i])} testing points\")"
   ]
  },
  {
   "cell_type": "code",
   "execution_count": 39,
   "metadata": {},
   "outputs": [
    {
     "data": {
      "image/png": "[encoded data removed]",
      "text/plain": [
       "<Figure size 2000x700 with 2 Axes>"
      ]
     },
     "metadata": {},
     "output_type": "display_data"
    }
   ],
   "source": [
    "import matplotlib.pyplot as plt\n",
    "\n",
    "fig = plt.figure(figsize=(20, 7))\n",
    "fig.suptitle('Label Counts for a Sample of Worker Data')\n",
    "fig.tight_layout()\n",
    "\n",
    "for i in range(n_workers):\n",
    "    m = 0\n",
    "    plot_data = collections.defaultdict(list)\n",
    "    for label in list(client_data[i])[0]['y'].numpy()[:,0]:\n",
    "        plot_data[label].append(label)\n",
    "        m = max(m, len(plot_data[label]))\n",
    "\n",
    "    n_cols = n_workers if n_workers < 5 else 5\n",
    "    xlim = [0, m+(5-m%5)]\n",
    "    ylim = [min(unique_codes)-1, max(unique_codes)+1]\n",
    "    yticks = list(range(min(unique_codes), max(unique_codes)+1))\n",
    "    yticks_labels = [mapping[k] for k in range(0, max(unique_codes)+1)]\n",
    "\n",
    "    plt.subplot(int(n_workers / 5)+1, n_cols, i+1)\n",
    "    plt.subplots_adjust(wspace=0.3)\n",
    "    plt.title('Worker {}'.format(i+1))\n",
    "    plt.xlabel('#points')\n",
    "    plt.xlim(xlim)\n",
    "    plt.ylabel('Label')\n",
    "    plt.ylim(ylim)\n",
    "    plt.yticks(yticks, labels=yticks_labels)\n",
    "\n",
    "   \n",
    "    for key in plot_data:\n",
    "        if len(plot_data[key]) > 0:\n",
    "            plt.text(len(plot_data[key])+0.6, int(key)-0.1, str(len(plot_data[key])), ha='center')\n",
    "\n",
    "    for j in range(min(unique_codes),max(unique_codes)+1):\n",
    "        plt.hist(\n",
    "            plot_data[j],\n",
    "            density=False,\n",
    "            bins=[k-0.5 for k in range(min(unique_codes),max(unique_codes)+2)],\n",
    "            orientation='horizontal'\n",
    "        )"
   ]
  },
  {
   "cell_type": "code",
   "execution_count": 40,
   "metadata": {},
   "outputs": [],
   "source": [
    "from sklearn.model_selection import train_test_split\n",
    "from sklearn.preprocessing import LabelEncoder\n",
    "from keras.models import Sequential\n",
    "from keras.layers import Dense, Dropout, Activation, Embedding\n",
    "from keras.layers import LSTM, SimpleRNN, GRU, Bidirectional, BatchNormalization,Convolution1D,MaxPooling1D, Reshape, GlobalAveragePooling1D\n",
    "from keras.utils import to_categorical\n",
    "import sklearn.preprocessing\n",
    "from sklearn import metrics\n",
    "from scipy.stats import zscore\n",
    "from keras.layers import Dense\n",
    "from sklearn.metrics import precision_score, recall_score, f1_score\n",
    "from keras.optimizers import Adam"
   ]
  },
  {
   "cell_type": "code",
   "execution_count": 41,
   "metadata": {},
   "outputs": [],
   "source": [
    "def model_fn():\n",
    "    input_layer = tf.keras.layers.Input(shape=(input_shape,))\n",
    "    x = tf.keras.layers.Reshape((1, input_shape))(input_layer)\n",
    "    x = tf.keras.layers.LSTM(units=128, return_sequences=True)(x)\n",
    "    x = tf.keras.layers.Bidirectional(tf.keras.layers.LSTM(units=64, return_sequences=True))(x)\n",
    "    x = tf.keras.layers.Dense(128, activation='relu')(x)\n",
    "    output_layer = tf.keras.layers.Dense(output_shape, activation='softmax')(x)\n",
    "\n",
    "    model = tf.keras.models.Model(inputs=input_layer, outputs=output_layer)\n",
    "\n",
    "    return tff.learning.models.from_keras_model(\n",
    "        model,\n",
    "        input_spec=collections.OrderedDict(\n",
    "            x=tf.TensorSpec(shape=[None, input_shape], dtype=tf.float64),\n",
    "            y=tf.TensorSpec(shape=[None, 1], dtype=tf.int64)),\n",
    "\n",
    "        loss=tf.keras.losses.SparseCategoricalCrossentropy(from_logits=True),\n",
    "        metrics=[tf.keras.metrics.SparseCategoricalAccuracy()]\n",
    "    )"
   ]
  },
  {
   "cell_type": "code",
   "execution_count": 42,
   "metadata": {},
   "outputs": [],
   "source": [
    "trainer = tff.learning.algorithms.build_weighted_fed_avg(\n",
    "    model_fn,\n",
    "    client_optimizer_fn=lambda: tf.keras.optimizers.SGD(learning_rate=0.01),\n",
    "    server_optimizer_fn=lambda: tf.keras.optimizers.SGD(learning_rate=1.0)\n",
    ")"
   ]
  },
  {
   "cell_type": "code",
   "execution_count": 43,
   "metadata": {},
   "outputs": [
    {
     "name": "stdout",
     "output_type": "stream",
     "text": [
      "( -> <\n",
      "  global_model_weights=<\n",
      "    trainable=<\n",
      "      float32[41,512],\n",
      "      float32[128,512],\n",
      "      float32[512],\n",
      "      float32[128,256],\n",
      "      float32[64,256],\n",
      "      float32[256],\n",
      "      float32[128,256],\n",
      "      float32[64,256],\n",
      "      float32[256],\n",
      "      float32[128,128],\n",
      "      float32[128],\n",
      "      float32[128,2],\n",
      "      float32[2]\n",
      "    >,\n",
      "    non_trainable=<>\n",
      "  >,\n",
      "  distributor=<>,\n",
      "  client_work=<>,\n",
      "  aggregator=<\n",
      "    value_sum_process=<>,\n",
      "    weight_sum_process=<>\n",
      "  >,\n",
      "  finalizer=<\n",
      "    int64,\n",
      "    float32[41,512],\n",
      "    float32[128,512],\n",
      "    float32[512],\n",
      "    float32[128,256],\n",
      "    float32[64,256],\n",
      "    float32[256],\n",
      "    float32[128,256],\n",
      "    float32[64,256],\n",
      "    float32[256],\n",
      "    float32[128,128],\n",
      "    float32[128],\n",
      "    float32[128,2],\n",
      "    float32[2]\n",
      "  >\n",
      ">@SERVER)\n"
     ]
    }
   ],
   "source": [
    "print(trainer.initialize.type_signature.formatted_representation())"
   ]
  },
  {
   "cell_type": "code",
   "execution_count": 44,
   "metadata": {},
   "outputs": [],
   "source": [
    "def evaluate(num_rounds):\n",
    "    state = trainer.initialize()\n",
    "    for round in range(num_rounds):\n",
    "        t1 = time.time()\n",
    "        result = trainer.next(state, client_data)\n",
    "        state = result.state\n",
    "        train_metrics = result.metrics['client_work']['train']\n",
    "        # print(train_metrics)\n",
    "\n",
    "       \n",
    "        train_accuracy = train_metrics['sparse_categorical_accuracy'] * 100\n",
    "        \n",
    "\n",
    "        t2 = time.time()\n",
    "        print('Round {}: accuracy {}, round time {}'.format(\n",
    "            round+1, train_accuracy, t2 - t1))"
   ]
  },
  {
   "cell_type": "code",
   "execution_count": 45,
   "metadata": {},
   "outputs": [
    {
     "name": "stderr",
     "output_type": "stream",
     "text": [
      "2024-02-23 11:54:29.574675: I tensorflow/core/grappler/devices.cc:66] Number of eligible GPUs (core count >= 8, compute capability >= 0.0): 0\n",
      "2024-02-23 11:54:29.574904: I tensorflow/core/grappler/clusters/single_machine.cc:361] Starting new session\n",
      "2024-02-23 11:54:29.762326: I tensorflow/core/grappler/devices.cc:66] Number of eligible GPUs (core count >= 8, compute capability >= 0.0): 0\n",
      "2024-02-23 11:54:29.762843: I tensorflow/core/grappler/clusters/single_machine.cc:361] Starting new session\n",
      "2024-02-23 11:54:34.003410: I tensorflow/core/grappler/devices.cc:66] Number of eligible GPUs (core count >= 8, compute capability >= 0.0): 0\n",
      "2024-02-23 11:54:34.003577: I tensorflow/core/grappler/clusters/single_machine.cc:361] Starting new session\n",
      "2024-02-23 11:54:34.372614: I tensorflow/core/grappler/devices.cc:66] Number of eligible GPUs (core count >= 8, compute capability >= 0.0): 0\n",
      "2024-02-23 11:54:34.372726: I tensorflow/core/grappler/clusters/single_machine.cc:361] Starting new session\n",
      "2024-02-23 11:54:34.378394: I tensorflow/core/grappler/devices.cc:66] Number of eligible GPUs (core count >= 8, compute capability >= 0.0): 0\n",
      "2024-02-23 11:54:34.378473: I tensorflow/core/grappler/clusters/single_machine.cc:361] Starting new session\n",
      "2024-02-23 11:54:34.386175: I tensorflow/core/grappler/devices.cc:66] Number of eligible GPUs (core count >= 8, compute capability >= 0.0): 0\n",
      "2024-02-23 11:54:34.386264: I tensorflow/core/grappler/clusters/single_machine.cc:361] Starting new session\n",
      "2024-02-23 11:54:34.395661: I tensorflow/core/grappler/devices.cc:66] Number of eligible GPUs (core count >= 8, compute capability >= 0.0): 0\n",
      "2024-02-23 11:54:34.395753: I tensorflow/core/grappler/clusters/single_machine.cc:361] Starting new session\n",
      "2024-02-23 11:54:34.414402: I tensorflow/core/grappler/devices.cc:66] Number of eligible GPUs (core count >= 8, compute capability >= 0.0): 0\n",
      "2024-02-23 11:54:34.414496: I tensorflow/core/grappler/clusters/single_machine.cc:361] Starting new session\n",
      "2024-02-23 11:54:34.439307: I tensorflow/core/grappler/devices.cc:66] Number of eligible GPUs (core count >= 8, compute capability >= 0.0): 0\n",
      "2024-02-23 11:54:34.439414: I tensorflow/core/grappler/clusters/single_machine.cc:361] Starting new session\n",
      "2024-02-23 11:54:34.454686: I tensorflow/core/grappler/devices.cc:66] Number of eligible GPUs (core count >= 8, compute capability >= 0.0): 0\n",
      "2024-02-23 11:54:34.454778: I tensorflow/core/grappler/clusters/single_machine.cc:361] Starting new session\n",
      "2024-02-23 11:54:34.467106: I tensorflow/core/grappler/devices.cc:66] Number of eligible GPUs (core count >= 8, compute capability >= 0.0): 0\n",
      "2024-02-23 11:54:34.467182: I tensorflow/core/grappler/clusters/single_machine.cc:361] Starting new session\n",
      "2024-02-23 11:54:34.482907: I tensorflow/core/grappler/devices.cc:66] Number of eligible GPUs (core count >= 8, compute capability >= 0.0): 0\n",
      "2024-02-23 11:54:34.482999: I tensorflow/core/grappler/clusters/single_machine.cc:361] Starting new session\n",
      "2024-02-23 11:54:34.485482: I tensorflow/core/grappler/devices.cc:66] Number of eligible GPUs (core count >= 8, compute capability >= 0.0): 0\n",
      "2024-02-23 11:54:34.485634: I tensorflow/core/grappler/clusters/single_machine.cc:361] Starting new session\n",
      "2024-02-23 11:54:34.491161: I tensorflow/core/grappler/devices.cc:66] Number of eligible GPUs (core count >= 8, compute capability >= 0.0): 0\n",
      "2024-02-23 11:54:34.491239: I tensorflow/core/grappler/clusters/single_machine.cc:361] Starting new session\n",
      "2024-02-23 11:54:34.497244: I tensorflow/core/grappler/devices.cc:66] Number of eligible GPUs (core count >= 8, compute capability >= 0.0): 0\n",
      "2024-02-23 11:54:34.497323: I tensorflow/core/grappler/clusters/single_machine.cc:361] Starting new session\n",
      "2024-02-23 11:54:34.525282: I tensorflow/core/grappler/devices.cc:66] Number of eligible GPUs (core count >= 8, compute capability >= 0.0): 0\n",
      "2024-02-23 11:54:34.525374: I tensorflow/core/grappler/clusters/single_machine.cc:361] Starting new session\n"
     ]
    },
    {
     "name": "stdout",
     "output_type": "stream",
     "text": [
      "Round 1: accuracy 93.46084594726562, round time 46.47958278656006\n",
      "Round 2: accuracy 96.29266858100891, round time 44.173797607421875\n",
      "Round 3: accuracy 96.45199179649353, round time 43.05843377113342\n",
      "Round 4: accuracy 96.57391905784607, round time 43.93229651451111\n",
      "Round 5: accuracy 96.66449427604675, round time 43.31723499298096\n",
      "Round 6: accuracy 96.79960608482361, round time 43.35549330711365\n",
      "Round 7: accuracy 96.91494703292847, round time 43.356882095336914\n",
      "Round 8: accuracy 96.90573811531067, round time 43.90997362136841\n",
      "Round 9: accuracy 96.96233868598938, round time 43.22192335128784\n",
      "Round 10: accuracy 96.98829650878906, round time 43.662652254104614\n",
      "Round 11: accuracy 97.0097303390503, round time 44.12848472595215\n",
      "Round 12: accuracy 97.02608585357666, round time 43.24090909957886\n",
      "Round 13: accuracy 97.26574420928955, round time 43.31584882736206\n",
      "Round 14: accuracy 97.72878289222717, round time 43.65930390357971\n",
      "Round 15: accuracy 97.9697048664093, round time 43.48652410507202\n",
      "Round 16: accuracy 98.16070199012756, round time 43.41497302055359\n",
      "Round 17: accuracy 97.81134128570557, round time 43.267924308776855\n",
      "Round 18: accuracy 97.43244647979736, round time 43.349265813827515\n",
      "Round 19: accuracy 97.28074669837952, round time 43.09171438217163\n",
      "Round 20: accuracy 97.34981060028076, round time 43.752392530441284\n",
      "Round 21: accuracy 97.34084010124207, round time 43.726136207580566\n",
      "Round 22: accuracy 97.40021824836731, round time 43.80277895927429\n",
      "Round 23: accuracy 97.51262068748474, round time 43.56051993370056\n",
      "Round 24: accuracy 97.47475385665894, round time 43.60291028022766\n",
      "Round 25: accuracy 97.46038913726807, round time 43.74568581581116\n",
      "Round 26: accuracy 97.3711609840393, round time 43.469242572784424\n",
      "Round 27: accuracy 97.39950299263, round time 82.16833257675171\n",
      "Round 28: accuracy 97.37766981124878, round time 43.704602003097534\n",
      "Round 29: accuracy 97.425377368927, round time 43.57388782501221\n",
      "Round 30: accuracy 97.43887782096863, round time 43.08536148071289\n",
      "Round 31: accuracy 97.42712378501892, round time 43.02145743370056\n",
      "Round 32: accuracy 97.4260151386261, round time 43.68307137489319\n",
      "Round 33: accuracy 97.35957384109497, round time 42.95962882041931\n",
      "Round 34: accuracy 97.37187623977661, round time 43.70148158073425\n",
      "Round 35: accuracy 97.36552834510803, round time 43.55259084701538\n",
      "Round 36: accuracy 97.35941290855408, round time 43.792476177215576\n",
      "Round 37: accuracy 97.34806418418884, round time 43.2858202457428\n",
      "Round 38: accuracy 97.52008318901062, round time 43.69926571846008\n",
      "Round 39: accuracy 97.50809669494629, round time 43.29938983917236\n",
      "Round 40: accuracy 97.47015237808228, round time 43.36901521682739\n",
      "Round 41: accuracy 97.48610854148865, round time 43.96380424499512\n",
      "Round 42: accuracy 97.54135608673096, round time 43.803340673446655\n",
      "Round 43: accuracy 97.55675792694092, round time 43.72606873512268\n",
      "Round 44: accuracy 97.57160544395447, round time 43.18318796157837\n",
      "Round 45: accuracy 97.83062934875488, round time 43.15967869758606\n",
      "Round 46: accuracy 97.6108968257904, round time 43.96954894065857\n",
      "Round 47: accuracy 97.57644534111023, round time 43.656091928482056\n",
      "Round 48: accuracy 97.60795831680298, round time 44.483914613723755\n",
      "Round 49: accuracy 97.58041501045227, round time 43.70075273513794\n",
      "Round 50: accuracy 97.6020872592926, round time 44.350706815719604\n"
     ]
    }
   ],
   "source": [
    "# evaluate(n_epochs)\n",
    "evaluate(50)"
   ]
  },
  {
   "cell_type": "code",
   "execution_count": 46,
   "metadata": {},
   "outputs": [],
   "source": [
    "def evaluate_test(num_rounds):\n",
    "    state = trainer.initialize()\n",
    "    for round in range(num_rounds):\n",
    "        t1 = time.time()\n",
    "        result = trainer.next(state, client_data_test)\n",
    "        state = result.state\n",
    "        # print(result.metrics)\n",
    "        test_metrics = result.metrics['client_work']['train']\n",
    "        # print(train_metrics)\n",
    "\n",
    "        \n",
    "        test_accuracy = test_metrics['sparse_categorical_accuracy'] * 100\n",
    "        \n",
    "\n",
    "        t2 = time.time()\n",
    "        print('Round {}: accuracy {}, round time {}'.format(\n",
    "            round+1, test_accuracy, t2 - t1))"
   ]
  },
  {
   "cell_type": "code",
   "execution_count": 47,
   "metadata": {},
   "outputs": [
    {
     "name": "stdout",
     "output_type": "stream",
     "text": [
      "Round 1: accuracy 84.04445052146912, round time 9.959782361984253\n",
      "Round 2: accuracy 90.24044275283813, round time 8.255967855453491\n",
      "Round 3: accuracy 92.4146056175232, round time 8.247885465621948\n",
      "Round 4: accuracy 93.6682641506195, round time 8.493952512741089\n",
      "Round 5: accuracy 94.11808848381042, round time 8.18141222000122\n",
      "Round 6: accuracy 94.30440664291382, round time 8.133972406387329\n",
      "Round 7: accuracy 94.44636702537537, round time 8.110005617141724\n",
      "Round 8: accuracy 94.52621936798096, round time 8.225540399551392\n",
      "Round 9: accuracy 94.54440474510193, round time 7.931894540786743\n",
      "Round 10: accuracy 94.582998752594, round time 8.14103078842163\n",
      "Round 11: accuracy 94.68414783477783, round time 8.174439668655396\n",
      "Round 12: accuracy 94.77863311767578, round time 8.24897837638855\n",
      "Round 13: accuracy 94.75778341293335, round time 8.081172227859497\n",
      "Round 14: accuracy 94.7586715221405, round time 7.98117733001709\n",
      "Round 15: accuracy 94.72318291664124, round time 8.228646755218506\n",
      "Round 16: accuracy 94.73560452461243, round time 8.054255723953247\n",
      "Round 17: accuracy 94.76266503334045, round time 7.9817774295806885\n",
      "Round 18: accuracy 94.67881917953491, round time 8.074804782867432\n",
      "Round 19: accuracy 94.70987319946289, round time 8.145885944366455\n",
      "Round 20: accuracy 94.63889598846436, round time 7.942484140396118\n",
      "Round 21: accuracy 94.61094737052917, round time 8.075987100601196\n",
      "Round 22: accuracy 94.60074305534363, round time 8.150348663330078\n",
      "Round 23: accuracy 94.36873197555542, round time 8.1634840965271\n",
      "Round 24: accuracy 94.88953948020935, round time 7.991222620010376\n",
      "Round 25: accuracy 94.97515559196472, round time 8.045848369598389\n",
      "Round 26: accuracy 94.78617906570435, round time 8.194420576095581\n",
      "Round 27: accuracy 94.65131759643555, round time 8.052048444747925\n",
      "Round 28: accuracy 94.72185373306274, round time 7.917799949645996\n",
      "Round 29: accuracy 94.21080946922302, round time 8.143931150436401\n",
      "Round 30: accuracy 94.92413997650146, round time 7.987661361694336\n",
      "Round 31: accuracy 95.2085018157959, round time 8.04337191581726\n",
      "Round 32: accuracy 94.5315420627594, round time 8.190367221832275\n",
      "Round 33: accuracy 94.44326162338257, round time 7.9013447761535645\n",
      "Round 34: accuracy 95.15792727470398, round time 8.362455129623413\n",
      "Round 35: accuracy 95.26439309120178, round time 7.9100494384765625\n",
      "Round 36: accuracy 95.16857266426086, round time 8.175241708755493\n",
      "Round 37: accuracy 95.04125714302063, round time 7.877461194992065\n",
      "Round 38: accuracy 95.27592658996582, round time 8.218687057495117\n",
      "Round 39: accuracy 95.13840675354004, round time 7.800765037536621\n",
      "Round 40: accuracy 94.07373070716858, round time 7.86103892326355\n",
      "Round 41: accuracy 94.88776326179504, round time 8.202909231185913\n",
      "Round 42: accuracy 93.77073645591736, round time 7.977177858352661\n",
      "Round 43: accuracy 94.68680620193481, round time 8.1073899269104\n",
      "Round 44: accuracy 94.8292076587677, round time 7.8706371784210205\n",
      "Round 45: accuracy 94.97604370117188, round time 8.191059112548828\n",
      "Round 46: accuracy 94.30928826332092, round time 7.931508302688599\n",
      "Round 47: accuracy 94.22855377197266, round time 8.041102409362793\n",
      "Round 48: accuracy 93.75077486038208, round time 7.8838791847229\n",
      "Round 49: accuracy 94.56081986427307, round time 8.11564588546753\n",
      "Round 50: accuracy 94.6491003036499, round time 8.06563663482666\n",
      "Round 51: accuracy 94.876229763031, round time 7.975010633468628\n",
      "Round 52: accuracy 95.28480172157288, round time 8.13191294670105\n",
      "Round 53: accuracy 95.35045623779297, round time 7.79874324798584\n",
      "Round 54: accuracy 94.20282244682312, round time 8.160790205001831\n",
      "Round 55: accuracy 94.0475583076477, round time 8.0073881149292\n",
      "Round 56: accuracy 94.97737288475037, round time 8.146303176879883\n",
      "Round 57: accuracy 94.85094547271729, round time 7.911223888397217\n",
      "Round 58: accuracy 95.081627368927, round time 8.005275964736938\n",
      "Round 59: accuracy 94.48850750923157, round time 8.04029130935669\n",
      "Round 60: accuracy 94.27069425582886, round time 7.991006851196289\n",
      "Round 61: accuracy 93.12350153923035, round time 8.167177438735962\n",
      "Round 62: accuracy 94.15269494056702, round time 8.002503156661987\n",
      "Round 63: accuracy 94.59231495857239, round time 8.057593584060669\n",
      "Round 64: accuracy 93.97081136703491, round time 8.134217262268066\n",
      "Round 65: accuracy 94.04445290565491, round time 7.9529454708099365\n",
      "Round 66: accuracy 95.32206654548645, round time 8.133076190948486\n",
      "Round 67: accuracy 95.00665664672852, round time 8.040151834487915\n",
      "Round 68: accuracy 95.45337557792664, round time 8.063068151473999\n",
      "Round 69: accuracy 94.86292004585266, round time 8.13319730758667\n",
      "Round 70: accuracy 94.18862462043762, round time 7.9096128940582275\n",
      "Round 71: accuracy 94.72495913505554, round time 8.022318840026855\n",
      "Round 72: accuracy 94.26359534263611, round time 7.948812007904053\n",
      "Round 73: accuracy 94.29908394813538, round time 8.06270146369934\n",
      "Round 74: accuracy 94.45346593856812, round time 8.010611534118652\n",
      "Round 75: accuracy 95.42276859283447, round time 7.975605249404907\n"
     ]
    }
   ],
   "source": [
    "evaluate_test(75)"
   ]
  },
  {
   "cell_type": "code",
   "execution_count": 48,
   "metadata": {},
   "outputs": [],
   "source": [
    "evaluation_process = tff.learning.algorithms.build_fed_eval(model_fn)"
   ]
  },
  {
   "cell_type": "code",
   "execution_count": 49,
   "metadata": {},
   "outputs": [
    {
     "name": "stdout",
     "output_type": "stream",
     "text": [
      "(<\n",
      "  state=<\n",
      "    global_model_weights=<\n",
      "      trainable=<\n",
      "        float32[41,512],\n",
      "        float32[128,512],\n",
      "        float32[512],\n",
      "        float32[128,256],\n",
      "        float32[64,256],\n",
      "        float32[256],\n",
      "        float32[128,256],\n",
      "        float32[64,256],\n",
      "        float32[256],\n",
      "        float32[128,128],\n",
      "        float32[128],\n",
      "        float32[128,2],\n",
      "        float32[2]\n",
      "      >,\n",
      "      non_trainable=<>\n",
      "    >,\n",
      "    distributor=<>,\n",
      "    client_work=<\n",
      "      <>,\n",
      "      <\n",
      "        sparse_categorical_accuracy=<\n",
      "          float32,\n",
      "          float32\n",
      "        >,\n",
      "        loss=<\n",
      "          float32,\n",
      "          float32\n",
      "        >,\n",
      "        num_examples=<\n",
      "          int64\n",
      "        >,\n",
      "        num_batches=<\n",
      "          int64\n",
      "        >\n",
      "      >\n",
      "    >,\n",
      "    aggregator=<\n",
      "      value_sum_process=<>,\n",
      "      weight_sum_process=<>\n",
      "    >,\n",
      "    finalizer=<>\n",
      "  >@SERVER,\n",
      "  client_data={<\n",
      "    x=float64[?,41],\n",
      "    y=int64[?,1]\n",
      "  >*}@CLIENTS\n",
      "> -> <\n",
      "  state=<\n",
      "    global_model_weights=<\n",
      "      trainable=<\n",
      "        float32[41,512],\n",
      "        float32[128,512],\n",
      "        float32[512],\n",
      "        float32[128,256],\n",
      "        float32[64,256],\n",
      "        float32[256],\n",
      "        float32[128,256],\n",
      "        float32[64,256],\n",
      "        float32[256],\n",
      "        float32[128,128],\n",
      "        float32[128],\n",
      "        float32[128,2],\n",
      "        float32[2]\n",
      "      >,\n",
      "      non_trainable=<>\n",
      "    >,\n",
      "    distributor=<>,\n",
      "    client_work=<\n",
      "      <>,\n",
      "      <\n",
      "        sparse_categorical_accuracy=<\n",
      "          float32,\n",
      "          float32\n",
      "        >,\n",
      "        loss=<\n",
      "          float32,\n",
      "          float32\n",
      "        >,\n",
      "        num_examples=<\n",
      "          int64\n",
      "        >,\n",
      "        num_batches=<\n",
      "          int64\n",
      "        >\n",
      "      >\n",
      "    >,\n",
      "    aggregator=<\n",
      "      value_sum_process=<>,\n",
      "      weight_sum_process=<>\n",
      "    >,\n",
      "    finalizer=<>\n",
      "  >@SERVER,\n",
      "  metrics=<\n",
      "    distributor=<>,\n",
      "    client_work=<\n",
      "      eval=<\n",
      "        current_round_metrics=<\n",
      "          sparse_categorical_accuracy=float32,\n",
      "          loss=float32,\n",
      "          num_examples=int64,\n",
      "          num_batches=int64\n",
      "        >,\n",
      "        total_rounds_metrics=<\n",
      "          sparse_categorical_accuracy=float32,\n",
      "          loss=float32,\n",
      "          num_examples=int64,\n",
      "          num_batches=int64\n",
      "        >\n",
      "      >\n",
      "    >,\n",
      "    aggregator=<\n",
      "      mean_value=<>,\n",
      "      mean_weight=<>\n",
      "    >,\n",
      "    finalizer=<>\n",
      "  >@SERVER\n",
      ">)\n"
     ]
    }
   ],
   "source": [
    "print(evaluation_process.next.type_signature.formatted_representation())"
   ]
  },
  {
   "cell_type": "code",
   "execution_count": 50,
   "metadata": {},
   "outputs": [],
   "source": [
    "train_state = trainer.initialize()\n",
    "result = trainer.next(train_state, client_data)\n",
    "train_state = result.state"
   ]
  },
  {
   "cell_type": "code",
   "execution_count": 51,
   "metadata": {},
   "outputs": [
    {
     "name": "stderr",
     "output_type": "stream",
     "text": [
      "2024-02-23 12:43:02.712469: I tensorflow/core/grappler/devices.cc:66] Number of eligible GPUs (core count >= 8, compute capability >= 0.0): 0\n",
      "2024-02-23 12:43:02.712582: I tensorflow/core/grappler/clusters/single_machine.cc:361] Starting new session\n",
      "2024-02-23 12:43:02.788530: I tensorflow/core/grappler/devices.cc:66] Number of eligible GPUs (core count >= 8, compute capability >= 0.0): 0\n",
      "2024-02-23 12:43:02.788638: I tensorflow/core/grappler/clusters/single_machine.cc:361] Starting new session\n",
      "2024-02-23 12:43:02.818866: I tensorflow/core/grappler/devices.cc:66] Number of eligible GPUs (core count >= 8, compute capability >= 0.0): 0\n",
      "2024-02-23 12:43:02.819017: I tensorflow/core/grappler/clusters/single_machine.cc:361] Starting new session\n",
      "2024-02-23 12:43:02.855572: I tensorflow/core/grappler/devices.cc:66] Number of eligible GPUs (core count >= 8, compute capability >= 0.0): 0\n",
      "2024-02-23 12:43:02.855716: I tensorflow/core/grappler/clusters/single_machine.cc:361] Starting new session\n"
     ]
    }
   ],
   "source": [
    "evaluation_state = evaluation_process.initialize()\n",
    "model_weights = trainer.get_model_weights(train_state)\n",
    "evaluation_state = evaluation_process.set_model_weights(evaluation_state, model_weights)"
   ]
  },
  {
   "cell_type": "code",
   "execution_count": 52,
   "metadata": {},
   "outputs": [
    {
     "name": "stderr",
     "output_type": "stream",
     "text": [
      "2024-02-23 12:43:12.005385: I tensorflow/core/grappler/devices.cc:66] Number of eligible GPUs (core count >= 8, compute capability >= 0.0): 0\n",
      "2024-02-23 12:43:12.005537: I tensorflow/core/grappler/clusters/single_machine.cc:361] Starting new session\n",
      "2024-02-23 12:43:12.132785: I tensorflow/core/grappler/devices.cc:66] Number of eligible GPUs (core count >= 8, compute capability >= 0.0): 0\n",
      "2024-02-23 12:43:12.132896: I tensorflow/core/grappler/clusters/single_machine.cc:361] Starting new session\n",
      "2024-02-23 12:43:12.139847: I tensorflow/core/grappler/devices.cc:66] Number of eligible GPUs (core count >= 8, compute capability >= 0.0): 0\n",
      "2024-02-23 12:43:12.139925: I tensorflow/core/grappler/clusters/single_machine.cc:361] Starting new session\n",
      "2024-02-23 12:43:12.146934: I tensorflow/core/grappler/devices.cc:66] Number of eligible GPUs (core count >= 8, compute capability >= 0.0): 0\n",
      "2024-02-23 12:43:12.147013: I tensorflow/core/grappler/clusters/single_machine.cc:361] Starting new session\n",
      "2024-02-23 12:43:12.155113: I tensorflow/core/grappler/devices.cc:66] Number of eligible GPUs (core count >= 8, compute capability >= 0.0): 0\n",
      "2024-02-23 12:43:12.155193: I tensorflow/core/grappler/clusters/single_machine.cc:361] Starting new session\n",
      "2024-02-23 12:43:12.164635: I tensorflow/core/grappler/devices.cc:66] Number of eligible GPUs (core count >= 8, compute capability >= 0.0): 0\n",
      "2024-02-23 12:43:12.164711: I tensorflow/core/grappler/clusters/single_machine.cc:361] Starting new session\n",
      "2024-02-23 12:43:12.180316: I tensorflow/core/grappler/devices.cc:66] Number of eligible GPUs (core count >= 8, compute capability >= 0.0): 0\n",
      "2024-02-23 12:43:12.180393: I tensorflow/core/grappler/clusters/single_machine.cc:361] Starting new session\n"
     ]
    }
   ],
   "source": [
    "evaluation_output = evaluation_process.next(evaluation_state, client_data)"
   ]
  },
  {
   "cell_type": "code",
   "execution_count": 53,
   "metadata": {},
   "outputs": [
    {
     "data": {
      "text/plain": [
       "\"OrderedDict([('distributor', ()), ('client_work', OrderedDict([('eval', OrderedDict([('current_round_metrics', OrderedDict([('sparse_categorical_accuracy', 0.96045154), ('loss', 0.36037898), ('num_examples', 1259720), ('num_batches', 5040)])), ('total_rounds_metrics', OrderedDict([('sparse_categorical_accuracy', 0.96045154), ('loss', 0.36037898), ('num_examples', 1259720), ('num_batches', 5040)]))]))])), ('aggregator', OrderedDict([('mean_value', ()), ('mean_weight', ())])), ('finalizer', ())])\""
      ]
     },
     "execution_count": 53,
     "metadata": {},
     "output_type": "execute_result"
    }
   ],
   "source": [
    "str(evaluation_output.metrics)"
   ]
  },
  {
   "cell_type": "code",
   "execution_count": 54,
   "metadata": {},
   "outputs": [],
   "source": [
    "evaluation_output = evaluation_process.next(evaluation_state, client_data_test)"
   ]
  },
  {
   "cell_type": "code",
   "execution_count": 55,
   "metadata": {},
   "outputs": [
    {
     "data": {
      "text/plain": [
       "\"OrderedDict([('distributor', ()), ('client_work', OrderedDict([('eval', OrderedDict([('current_round_metrics', OrderedDict([('sparse_categorical_accuracy', 0.7218082), ('loss', 0.56341225), ('num_examples', 225420), ('num_batches', 902)])), ('total_rounds_metrics', OrderedDict([('sparse_categorical_accuracy', 0.7218082), ('loss', 0.56341225), ('num_examples', 225420), ('num_batches', 902)]))]))])), ('aggregator', OrderedDict([('mean_value', ()), ('mean_weight', ())])), ('finalizer', ())])\""
      ]
     },
     "execution_count": 55,
     "metadata": {},
     "output_type": "execute_result"
    }
   ],
   "source": [
    "str(evaluation_output.metrics)"
   ]
  },
  {
   "cell_type": "code",
   "execution_count": null,
   "metadata": {},
   "outputs": [],
   "source": []
  }
 ],
 "metadata": {
  "kernelspec": {
   "display_name": "Python 3",
   "language": "python",
   "name": "python3"
  },
  "language_info": {
   "codemirror_mode": {
    "name": "ipython",
    "version": 3
   },
   "file_extension": ".py",
   "mimetype": "text/x-python",
   "name": "python",
   "nbconvert_exporter": "python",
   "pygments_lexer": "ipython3",
   "version": "3.10.13"
  }
 },
 "nbformat": 4,
 "nbformat_minor": 2
}
