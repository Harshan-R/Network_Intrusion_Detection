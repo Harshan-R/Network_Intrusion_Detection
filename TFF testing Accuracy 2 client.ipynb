{
 "cells": [
  {
   "cell_type": "code",
   "execution_count": 1,
   "metadata": {},
   "outputs": [
    {
     "name": "stdout",
     "output_type": "stream",
     "text": [
      "Requirement already satisfied: tensorflow in /usr/local/python/3.10.13/lib/python3.10/site-packages (2.14.1)\n",
      "Requirement already satisfied: absl-py>=1.0.0 in /usr/local/python/3.10.13/lib/python3.10/site-packages (from tensorflow) (1.4.0)\n",
      "Requirement already satisfied: astunparse>=1.6.0 in /usr/local/python/3.10.13/lib/python3.10/site-packages (from tensorflow) (1.6.3)\n",
      "Requirement already satisfied: flatbuffers>=23.5.26 in /usr/local/python/3.10.13/lib/python3.10/site-packages (from tensorflow) (23.5.26)\n",
      "Requirement already satisfied: gast!=0.5.0,!=0.5.1,!=0.5.2,>=0.2.1 in /usr/local/python/3.10.13/lib/python3.10/site-packages (from tensorflow) (0.5.4)\n",
      "Requirement already satisfied: google-pasta>=0.1.1 in /usr/local/python/3.10.13/lib/python3.10/site-packages (from tensorflow) (0.2.0)\n",
      "Requirement already satisfied: h5py>=2.9.0 in /usr/local/python/3.10.13/lib/python3.10/site-packages (from tensorflow) (3.10.0)\n",
      "Requirement already satisfied: libclang>=13.0.0 in /usr/local/python/3.10.13/lib/python3.10/site-packages (from tensorflow) (16.0.6)\n",
      "Requirement already satisfied: ml-dtypes==0.2.0 in /usr/local/python/3.10.13/lib/python3.10/site-packages (from tensorflow) (0.2.0)\n",
      "Requirement already satisfied: numpy<2.0.0,>=1.23.5 in /usr/local/python/3.10.13/lib/python3.10/site-packages (from tensorflow) (1.25.2)\n",
      "Requirement already satisfied: opt-einsum>=2.3.2 in /usr/local/python/3.10.13/lib/python3.10/site-packages (from tensorflow) (3.3.0)\n",
      "Requirement already satisfied: packaging in /usr/local/python/3.10.13/lib/python3.10/site-packages (from tensorflow) (22.0)\n",
      "Requirement already satisfied: protobuf!=4.21.0,!=4.21.1,!=4.21.2,!=4.21.3,!=4.21.4,!=4.21.5,<5.0.0dev,>=3.20.3 in /usr/local/python/3.10.13/lib/python3.10/site-packages (from tensorflow) (4.25.3)\n",
      "Requirement already satisfied: setuptools in /usr/local/python/3.10.13/lib/python3.10/site-packages (from tensorflow) (68.2.2)\n",
      "Requirement already satisfied: six>=1.12.0 in /home/codespace/.local/lib/python3.10/site-packages (from tensorflow) (1.16.0)\n",
      "Requirement already satisfied: termcolor>=1.1.0 in /usr/local/python/3.10.13/lib/python3.10/site-packages (from tensorflow) (2.4.0)\n",
      "Requirement already satisfied: typing-extensions>=3.6.6 in /usr/local/python/3.10.13/lib/python3.10/site-packages (from tensorflow) (4.5.0)\n",
      "Requirement already satisfied: wrapt<1.15,>=1.11.0 in /usr/local/python/3.10.13/lib/python3.10/site-packages (from tensorflow) (1.14.1)\n",
      "Requirement already satisfied: tensorflow-io-gcs-filesystem>=0.23.1 in /usr/local/python/3.10.13/lib/python3.10/site-packages (from tensorflow) (0.36.0)\n",
      "Requirement already satisfied: grpcio<2.0,>=1.24.3 in /usr/local/python/3.10.13/lib/python3.10/site-packages (from tensorflow) (1.60.1)\n",
      "Requirement already satisfied: tensorboard<2.15,>=2.14 in /usr/local/python/3.10.13/lib/python3.10/site-packages (from tensorflow) (2.14.1)\n",
      "Requirement already satisfied: tensorflow-estimator<2.15,>=2.14.0 in /usr/local/python/3.10.13/lib/python3.10/site-packages (from tensorflow) (2.14.0)\n",
      "Requirement already satisfied: keras<2.15,>=2.14.0 in /usr/local/python/3.10.13/lib/python3.10/site-packages (from tensorflow) (2.14.0)\n",
      "Requirement already satisfied: wheel<1.0,>=0.23.0 in /usr/local/python/3.10.13/lib/python3.10/site-packages (from astunparse>=1.6.0->tensorflow) (0.42.0)\n",
      "Requirement already satisfied: google-auth<3,>=1.6.3 in /usr/local/python/3.10.13/lib/python3.10/site-packages (from tensorboard<2.15,>=2.14->tensorflow) (2.28.0)\n",
      "Requirement already satisfied: google-auth-oauthlib<1.1,>=0.5 in /usr/local/python/3.10.13/lib/python3.10/site-packages (from tensorboard<2.15,>=2.14->tensorflow) (1.0.0)\n",
      "Requirement already satisfied: markdown>=2.6.8 in /usr/local/python/3.10.13/lib/python3.10/site-packages (from tensorboard<2.15,>=2.14->tensorflow) (3.5.2)\n",
      "Requirement already satisfied: requests<3,>=2.21.0 in /home/codespace/.local/lib/python3.10/site-packages (from tensorboard<2.15,>=2.14->tensorflow) (2.31.0)\n",
      "Requirement already satisfied: tensorboard-data-server<0.8.0,>=0.7.0 in /usr/local/python/3.10.13/lib/python3.10/site-packages (from tensorboard<2.15,>=2.14->tensorflow) (0.7.2)\n",
      "Requirement already satisfied: werkzeug>=1.0.1 in /usr/local/python/3.10.13/lib/python3.10/site-packages (from tensorboard<2.15,>=2.14->tensorflow) (3.0.1)\n",
      "Requirement already satisfied: cachetools<6.0,>=2.0.0 in /usr/local/python/3.10.13/lib/python3.10/site-packages (from google-auth<3,>=1.6.3->tensorboard<2.15,>=2.14->tensorflow) (5.3.2)\n",
      "Requirement already satisfied: pyasn1-modules>=0.2.1 in /usr/local/python/3.10.13/lib/python3.10/site-packages (from google-auth<3,>=1.6.3->tensorboard<2.15,>=2.14->tensorflow) (0.3.0)\n",
      "Requirement already satisfied: rsa<5,>=3.1.4 in /usr/local/python/3.10.13/lib/python3.10/site-packages (from google-auth<3,>=1.6.3->tensorboard<2.15,>=2.14->tensorflow) (4.9)\n",
      "Requirement already satisfied: requests-oauthlib>=0.7.0 in /usr/local/python/3.10.13/lib/python3.10/site-packages (from google-auth-oauthlib<1.1,>=0.5->tensorboard<2.15,>=2.14->tensorflow) (1.3.1)\n",
      "Requirement already satisfied: charset-normalizer<4,>=2 in /home/codespace/.local/lib/python3.10/site-packages (from requests<3,>=2.21.0->tensorboard<2.15,>=2.14->tensorflow) (3.3.2)\n",
      "Requirement already satisfied: idna<4,>=2.5 in /home/codespace/.local/lib/python3.10/site-packages (from requests<3,>=2.21.0->tensorboard<2.15,>=2.14->tensorflow) (3.6)\n",
      "Requirement already satisfied: urllib3<3,>=1.21.1 in /usr/local/python/3.10.13/lib/python3.10/site-packages (from requests<3,>=2.21.0->tensorboard<2.15,>=2.14->tensorflow) (2.0.7)\n",
      "Requirement already satisfied: certifi>=2017.4.17 in /home/codespace/.local/lib/python3.10/site-packages (from requests<3,>=2.21.0->tensorboard<2.15,>=2.14->tensorflow) (2024.2.2)\n",
      "Requirement already satisfied: MarkupSafe>=2.1.1 in /home/codespace/.local/lib/python3.10/site-packages (from werkzeug>=1.0.1->tensorboard<2.15,>=2.14->tensorflow) (2.1.5)\n",
      "Requirement already satisfied: pyasn1<0.6.0,>=0.4.6 in /usr/local/python/3.10.13/lib/python3.10/site-packages (from pyasn1-modules>=0.2.1->google-auth<3,>=1.6.3->tensorboard<2.15,>=2.14->tensorflow) (0.5.1)\n",
      "Requirement already satisfied: oauthlib>=3.0.0 in /usr/local/python/3.10.13/lib/python3.10/site-packages (from requests-oauthlib>=0.7.0->google-auth-oauthlib<1.1,>=0.5->tensorboard<2.15,>=2.14->tensorflow) (3.2.2)\n",
      "Note: you may need to restart the kernel to use updated packages.\n"
     ]
    }
   ],
   "source": [
    "pip install tensorflow"
   ]
  },
  {
   "cell_type": "code",
   "execution_count": 1,
   "metadata": {},
   "outputs": [
    {
     "name": "stdout",
     "output_type": "stream",
     "text": [
      "Requirement already satisfied: tensorflow-federated in /usr/local/python/3.10.13/lib/python3.10/site-packages (0.71.0)\n",
      "Requirement already satisfied: absl-py==1.*,>=1.0 in /usr/local/python/3.10.13/lib/python3.10/site-packages (from tensorflow-federated) (1.4.0)\n",
      "Requirement already satisfied: attrs~=23.1 in /usr/local/python/3.10.13/lib/python3.10/site-packages (from tensorflow-federated) (23.1.0)\n",
      "Requirement already satisfied: cachetools~=5.3 in /usr/local/python/3.10.13/lib/python3.10/site-packages (from tensorflow-federated) (5.3.2)\n",
      "Requirement already satisfied: dm-tree==0.1.8 in /usr/local/python/3.10.13/lib/python3.10/site-packages (from tensorflow-federated) (0.1.8)\n",
      "Requirement already satisfied: dp-accounting==0.4.3 in /usr/local/python/3.10.13/lib/python3.10/site-packages (from tensorflow-federated) (0.4.3)\n",
      "Requirement already satisfied: farmhashpy==0.4.0 in /usr/local/python/3.10.13/lib/python3.10/site-packages (from tensorflow-federated) (0.4.0)\n",
      "Requirement already satisfied: google-vizier==0.1.11 in /usr/local/python/3.10.13/lib/python3.10/site-packages (from tensorflow-federated) (0.1.11)\n",
      "Requirement already satisfied: grpcio~=1.46 in /usr/local/python/3.10.13/lib/python3.10/site-packages (from tensorflow-federated) (1.60.1)\n",
      "Requirement already satisfied: jaxlib==0.4.14 in /usr/local/python/3.10.13/lib/python3.10/site-packages (from tensorflow-federated) (0.4.14)\n",
      "Requirement already satisfied: jax==0.4.14 in /usr/local/python/3.10.13/lib/python3.10/site-packages (from tensorflow-federated) (0.4.14)\n",
      "Requirement already satisfied: numpy~=1.25 in /usr/local/python/3.10.13/lib/python3.10/site-packages (from tensorflow-federated) (1.25.2)\n",
      "Requirement already satisfied: portpicker~=1.6 in /usr/local/python/3.10.13/lib/python3.10/site-packages (from tensorflow-federated) (1.6.0)\n",
      "Requirement already satisfied: scipy~=1.9.3 in /usr/local/python/3.10.13/lib/python3.10/site-packages (from tensorflow-federated) (1.9.3)\n",
      "Requirement already satisfied: semantic-version~=2.6 in /usr/local/python/3.10.13/lib/python3.10/site-packages (from tensorflow-federated) (2.10.0)\n",
      "Requirement already satisfied: tensorflow-compression==2.14.*,>=2.14.0 in /usr/local/python/3.10.13/lib/python3.10/site-packages (from tensorflow-federated) (2.14.0)\n",
      "Requirement already satisfied: tensorflow-model-optimization==0.7.5 in /usr/local/python/3.10.13/lib/python3.10/site-packages (from tensorflow-federated) (0.7.5)\n",
      "Requirement already satisfied: tensorflow-privacy==0.8.12 in /usr/local/python/3.10.13/lib/python3.10/site-packages (from tensorflow-federated) (0.8.12)\n",
      "Requirement already satisfied: tensorflow==2.14.*,>=2.14.0 in /usr/local/python/3.10.13/lib/python3.10/site-packages (from tensorflow-federated) (2.14.1)\n",
      "Requirement already satisfied: tqdm~=4.64 in /usr/local/python/3.10.13/lib/python3.10/site-packages (from tensorflow-federated) (4.66.2)\n",
      "Requirement already satisfied: typing-extensions==4.5.*,>=4.5.0 in /usr/local/python/3.10.13/lib/python3.10/site-packages (from tensorflow-federated) (4.5.0)\n",
      "Requirement already satisfied: googleapis-common-protos==1.61.0 in /usr/local/python/3.10.13/lib/python3.10/site-packages (from tensorflow-federated) (1.61.0)\n",
      "Requirement already satisfied: mpmath~=1.2 in /home/codespace/.local/lib/python3.10/site-packages (from dp-accounting==0.4.3->tensorflow-federated) (1.3.0)\n",
      "Requirement already satisfied: protobuf>=3.6 in /usr/local/python/3.10.13/lib/python3.10/site-packages (from google-vizier==0.1.11->tensorflow-federated) (4.25.3)\n",
      "Requirement already satisfied: grpcio-tools>=1.35.0 in /usr/local/python/3.10.13/lib/python3.10/site-packages (from google-vizier==0.1.11->tensorflow-federated) (1.60.1)\n",
      "Requirement already satisfied: sqlalchemy<=1.4.20,>=1.4 in /usr/local/python/3.10.13/lib/python3.10/site-packages (from google-vizier==0.1.11->tensorflow-federated) (1.4.20)\n",
      "Requirement already satisfied: ml-dtypes>=0.2.0 in /usr/local/python/3.10.13/lib/python3.10/site-packages (from jax==0.4.14->tensorflow-federated) (0.2.0)\n",
      "Requirement already satisfied: opt-einsum in /usr/local/python/3.10.13/lib/python3.10/site-packages (from jax==0.4.14->tensorflow-federated) (3.3.0)\n",
      "Requirement already satisfied: astunparse>=1.6.0 in /usr/local/python/3.10.13/lib/python3.10/site-packages (from tensorflow==2.14.*,>=2.14.0->tensorflow-federated) (1.6.3)\n",
      "Requirement already satisfied: flatbuffers>=23.5.26 in /usr/local/python/3.10.13/lib/python3.10/site-packages (from tensorflow==2.14.*,>=2.14.0->tensorflow-federated) (23.5.26)\n",
      "Requirement already satisfied: gast!=0.5.0,!=0.5.1,!=0.5.2,>=0.2.1 in /usr/local/python/3.10.13/lib/python3.10/site-packages (from tensorflow==2.14.*,>=2.14.0->tensorflow-federated) (0.5.4)\n",
      "Requirement already satisfied: google-pasta>=0.1.1 in /usr/local/python/3.10.13/lib/python3.10/site-packages (from tensorflow==2.14.*,>=2.14.0->tensorflow-federated) (0.2.0)\n",
      "Requirement already satisfied: h5py>=2.9.0 in /usr/local/python/3.10.13/lib/python3.10/site-packages (from tensorflow==2.14.*,>=2.14.0->tensorflow-federated) (3.10.0)\n",
      "Requirement already satisfied: libclang>=13.0.0 in /usr/local/python/3.10.13/lib/python3.10/site-packages (from tensorflow==2.14.*,>=2.14.0->tensorflow-federated) (16.0.6)\n",
      "Requirement already satisfied: packaging in /usr/local/python/3.10.13/lib/python3.10/site-packages (from tensorflow==2.14.*,>=2.14.0->tensorflow-federated) (22.0)\n",
      "Requirement already satisfied: setuptools in /usr/local/python/3.10.13/lib/python3.10/site-packages (from tensorflow==2.14.*,>=2.14.0->tensorflow-federated) (68.2.2)\n",
      "Requirement already satisfied: six>=1.12.0 in /home/codespace/.local/lib/python3.10/site-packages (from tensorflow==2.14.*,>=2.14.0->tensorflow-federated) (1.16.0)\n",
      "Requirement already satisfied: termcolor>=1.1.0 in /usr/local/python/3.10.13/lib/python3.10/site-packages (from tensorflow==2.14.*,>=2.14.0->tensorflow-federated) (2.4.0)\n",
      "Requirement already satisfied: wrapt<1.15,>=1.11.0 in /usr/local/python/3.10.13/lib/python3.10/site-packages (from tensorflow==2.14.*,>=2.14.0->tensorflow-federated) (1.14.1)\n",
      "Requirement already satisfied: tensorflow-io-gcs-filesystem>=0.23.1 in /usr/local/python/3.10.13/lib/python3.10/site-packages (from tensorflow==2.14.*,>=2.14.0->tensorflow-federated) (0.36.0)\n",
      "Requirement already satisfied: tensorboard<2.15,>=2.14 in /usr/local/python/3.10.13/lib/python3.10/site-packages (from tensorflow==2.14.*,>=2.14.0->tensorflow-federated) (2.14.1)\n",
      "Requirement already satisfied: tensorflow-estimator<2.15,>=2.14.0 in /usr/local/python/3.10.13/lib/python3.10/site-packages (from tensorflow==2.14.*,>=2.14.0->tensorflow-federated) (2.14.0)\n",
      "Requirement already satisfied: keras<2.15,>=2.14.0 in /usr/local/python/3.10.13/lib/python3.10/site-packages (from tensorflow==2.14.*,>=2.14.0->tensorflow-federated) (2.14.0)\n",
      "Requirement already satisfied: tensorflow-probability~=0.15 in /usr/local/python/3.10.13/lib/python3.10/site-packages (from tensorflow-compression==2.14.*,>=2.14.0->tensorflow-federated) (0.22.1)\n",
      "Requirement already satisfied: immutabledict~=2.2 in /usr/local/python/3.10.13/lib/python3.10/site-packages (from tensorflow-privacy==0.8.12->tensorflow-federated) (2.2.5)\n",
      "Requirement already satisfied: matplotlib~=3.3 in /home/codespace/.local/lib/python3.10/site-packages (from tensorflow-privacy==0.8.12->tensorflow-federated) (3.8.2)\n",
      "Requirement already satisfied: pandas~=1.4 in /usr/local/python/3.10.13/lib/python3.10/site-packages (from tensorflow-privacy==0.8.12->tensorflow-federated) (1.5.3)\n",
      "Requirement already satisfied: scikit-learn==1.*,>=1.0 in /home/codespace/.local/lib/python3.10/site-packages (from tensorflow-privacy==0.8.12->tensorflow-federated) (1.4.0)\n",
      "Requirement already satisfied: statsmodels~=0.13 in /usr/local/python/3.10.13/lib/python3.10/site-packages (from tensorflow-privacy==0.8.12->tensorflow-federated) (0.14.1)\n",
      "Requirement already satisfied: tf-models-official~=2.13 in /usr/local/python/3.10.13/lib/python3.10/site-packages (from tensorflow-privacy==0.8.12->tensorflow-federated) (2.14.2)\n",
      "Requirement already satisfied: joblib>=1.2.0 in /home/codespace/.local/lib/python3.10/site-packages (from scikit-learn==1.*,>=1.0->tensorflow-privacy==0.8.12->tensorflow-federated) (1.3.2)\n",
      "Requirement already satisfied: threadpoolctl>=2.0.0 in /home/codespace/.local/lib/python3.10/site-packages (from scikit-learn==1.*,>=1.0->tensorflow-privacy==0.8.12->tensorflow-federated) (3.2.0)\n",
      "Requirement already satisfied: psutil in /home/codespace/.local/lib/python3.10/site-packages (from portpicker~=1.6->tensorflow-federated) (5.9.8)\n",
      "Requirement already satisfied: wheel<1.0,>=0.23.0 in /usr/local/python/3.10.13/lib/python3.10/site-packages (from astunparse>=1.6.0->tensorflow==2.14.*,>=2.14.0->tensorflow-federated) (0.42.0)\n",
      "Requirement already satisfied: contourpy>=1.0.1 in /home/codespace/.local/lib/python3.10/site-packages (from matplotlib~=3.3->tensorflow-privacy==0.8.12->tensorflow-federated) (1.2.0)\n",
      "Requirement already satisfied: cycler>=0.10 in /home/codespace/.local/lib/python3.10/site-packages (from matplotlib~=3.3->tensorflow-privacy==0.8.12->tensorflow-federated) (0.12.1)\n",
      "Requirement already satisfied: fonttools>=4.22.0 in /home/codespace/.local/lib/python3.10/site-packages (from matplotlib~=3.3->tensorflow-privacy==0.8.12->tensorflow-federated) (4.48.1)\n",
      "Requirement already satisfied: kiwisolver>=1.3.1 in /home/codespace/.local/lib/python3.10/site-packages (from matplotlib~=3.3->tensorflow-privacy==0.8.12->tensorflow-federated) (1.4.5)\n",
      "Requirement already satisfied: pillow>=8 in /home/codespace/.local/lib/python3.10/site-packages (from matplotlib~=3.3->tensorflow-privacy==0.8.12->tensorflow-federated) (10.2.0)\n",
      "Requirement already satisfied: pyparsing>=2.3.1 in /home/codespace/.local/lib/python3.10/site-packages (from matplotlib~=3.3->tensorflow-privacy==0.8.12->tensorflow-federated) (3.1.1)\n",
      "Requirement already satisfied: python-dateutil>=2.7 in /home/codespace/.local/lib/python3.10/site-packages (from matplotlib~=3.3->tensorflow-privacy==0.8.12->tensorflow-federated) (2.8.2)\n",
      "Requirement already satisfied: pytz>=2020.1 in /home/codespace/.local/lib/python3.10/site-packages (from pandas~=1.4->tensorflow-privacy==0.8.12->tensorflow-federated) (2024.1)\n",
      "Requirement already satisfied: greenlet!=0.4.17 in /usr/local/python/3.10.13/lib/python3.10/site-packages (from sqlalchemy<=1.4.20,>=1.4->google-vizier==0.1.11->tensorflow-federated) (3.0.3)\n",
      "Requirement already satisfied: patsy>=0.5.4 in /usr/local/python/3.10.13/lib/python3.10/site-packages (from statsmodels~=0.13->tensorflow-privacy==0.8.12->tensorflow-federated) (0.5.6)\n",
      "Requirement already satisfied: google-auth<3,>=1.6.3 in /usr/local/python/3.10.13/lib/python3.10/site-packages (from tensorboard<2.15,>=2.14->tensorflow==2.14.*,>=2.14.0->tensorflow-federated) (2.28.0)\n",
      "Requirement already satisfied: google-auth-oauthlib<1.1,>=0.5 in /usr/local/python/3.10.13/lib/python3.10/site-packages (from tensorboard<2.15,>=2.14->tensorflow==2.14.*,>=2.14.0->tensorflow-federated) (1.0.0)\n",
      "Requirement already satisfied: markdown>=2.6.8 in /usr/local/python/3.10.13/lib/python3.10/site-packages (from tensorboard<2.15,>=2.14->tensorflow==2.14.*,>=2.14.0->tensorflow-federated) (3.5.2)\n",
      "Requirement already satisfied: requests<3,>=2.21.0 in /home/codespace/.local/lib/python3.10/site-packages (from tensorboard<2.15,>=2.14->tensorflow==2.14.*,>=2.14.0->tensorflow-federated) (2.31.0)\n",
      "Requirement already satisfied: tensorboard-data-server<0.8.0,>=0.7.0 in /usr/local/python/3.10.13/lib/python3.10/site-packages (from tensorboard<2.15,>=2.14->tensorflow==2.14.*,>=2.14.0->tensorflow-federated) (0.7.2)\n",
      "Requirement already satisfied: werkzeug>=1.0.1 in /usr/local/python/3.10.13/lib/python3.10/site-packages (from tensorboard<2.15,>=2.14->tensorflow==2.14.*,>=2.14.0->tensorflow-federated) (3.0.1)\n",
      "Requirement already satisfied: decorator in /home/codespace/.local/lib/python3.10/site-packages (from tensorflow-probability~=0.15->tensorflow-compression==2.14.*,>=2.14.0->tensorflow-federated) (5.1.1)\n",
      "Requirement already satisfied: cloudpickle>=1.3 in /usr/local/python/3.10.13/lib/python3.10/site-packages (from tensorflow-probability~=0.15->tensorflow-compression==2.14.*,>=2.14.0->tensorflow-federated) (3.0.0)\n",
      "Requirement already satisfied: Cython in /usr/local/python/3.10.13/lib/python3.10/site-packages (from tf-models-official~=2.13->tensorflow-privacy==0.8.12->tensorflow-federated) (3.0.8)\n",
      "Requirement already satisfied: gin-config in /usr/local/python/3.10.13/lib/python3.10/site-packages (from tf-models-official~=2.13->tensorflow-privacy==0.8.12->tensorflow-federated) (0.5.0)\n",
      "Requirement already satisfied: google-api-python-client>=1.6.7 in /usr/local/python/3.10.13/lib/python3.10/site-packages (from tf-models-official~=2.13->tensorflow-privacy==0.8.12->tensorflow-federated) (2.118.0)\n",
      "Requirement already satisfied: kaggle>=1.3.9 in /usr/local/python/3.10.13/lib/python3.10/site-packages (from tf-models-official~=2.13->tensorflow-privacy==0.8.12->tensorflow-federated) (1.6.6)\n",
      "Requirement already satisfied: oauth2client in /usr/local/python/3.10.13/lib/python3.10/site-packages (from tf-models-official~=2.13->tensorflow-privacy==0.8.12->tensorflow-federated) (4.1.3)\n",
      "Requirement already satisfied: opencv-python-headless in /usr/local/python/3.10.13/lib/python3.10/site-packages (from tf-models-official~=2.13->tensorflow-privacy==0.8.12->tensorflow-federated) (4.9.0.80)\n",
      "Requirement already satisfied: py-cpuinfo>=3.3.0 in /usr/local/python/3.10.13/lib/python3.10/site-packages (from tf-models-official~=2.13->tensorflow-privacy==0.8.12->tensorflow-federated) (9.0.0)\n",
      "Requirement already satisfied: pycocotools in /usr/local/python/3.10.13/lib/python3.10/site-packages (from tf-models-official~=2.13->tensorflow-privacy==0.8.12->tensorflow-federated) (2.0.7)\n",
      "Requirement already satisfied: pyyaml>=6.0.0 in /home/codespace/.local/lib/python3.10/site-packages (from tf-models-official~=2.13->tensorflow-privacy==0.8.12->tensorflow-federated) (6.0.1)\n",
      "Requirement already satisfied: sacrebleu in /usr/local/python/3.10.13/lib/python3.10/site-packages (from tf-models-official~=2.13->tensorflow-privacy==0.8.12->tensorflow-federated) (2.4.0)\n",
      "Requirement already satisfied: sentencepiece in /usr/local/python/3.10.13/lib/python3.10/site-packages (from tf-models-official~=2.13->tensorflow-privacy==0.8.12->tensorflow-federated) (0.2.0)\n",
      "Requirement already satisfied: seqeval in /usr/local/python/3.10.13/lib/python3.10/site-packages (from tf-models-official~=2.13->tensorflow-privacy==0.8.12->tensorflow-federated) (1.2.2)\n",
      "Requirement already satisfied: tensorflow-datasets in /usr/local/python/3.10.13/lib/python3.10/site-packages (from tf-models-official~=2.13->tensorflow-privacy==0.8.12->tensorflow-federated) (4.9.4)\n",
      "Requirement already satisfied: tensorflow-hub>=0.6.0 in /usr/local/python/3.10.13/lib/python3.10/site-packages (from tf-models-official~=2.13->tensorflow-privacy==0.8.12->tensorflow-federated) (0.16.1)\n",
      "Requirement already satisfied: tensorflow-text~=2.14.0 in /usr/local/python/3.10.13/lib/python3.10/site-packages (from tf-models-official~=2.13->tensorflow-privacy==0.8.12->tensorflow-federated) (2.14.0)\n",
      "Requirement already satisfied: tf-slim>=1.1.0 in /usr/local/python/3.10.13/lib/python3.10/site-packages (from tf-models-official~=2.13->tensorflow-privacy==0.8.12->tensorflow-federated) (1.1.0)\n",
      "Requirement already satisfied: httplib2<1.dev0,>=0.15.0 in /usr/local/python/3.10.13/lib/python3.10/site-packages (from google-api-python-client>=1.6.7->tf-models-official~=2.13->tensorflow-privacy==0.8.12->tensorflow-federated) (0.22.0)\n",
      "Requirement already satisfied: google-auth-httplib2>=0.1.0 in /usr/local/python/3.10.13/lib/python3.10/site-packages (from google-api-python-client>=1.6.7->tf-models-official~=2.13->tensorflow-privacy==0.8.12->tensorflow-federated) (0.2.0)\n",
      "Requirement already satisfied: google-api-core!=2.0.*,!=2.1.*,!=2.2.*,!=2.3.0,<3.0.0.dev0,>=1.31.5 in /usr/local/python/3.10.13/lib/python3.10/site-packages (from google-api-python-client>=1.6.7->tf-models-official~=2.13->tensorflow-privacy==0.8.12->tensorflow-federated) (2.17.1)\n",
      "Requirement already satisfied: uritemplate<5,>=3.0.1 in /usr/local/python/3.10.13/lib/python3.10/site-packages (from google-api-python-client>=1.6.7->tf-models-official~=2.13->tensorflow-privacy==0.8.12->tensorflow-federated) (4.1.1)\n",
      "Requirement already satisfied: pyasn1-modules>=0.2.1 in /usr/local/python/3.10.13/lib/python3.10/site-packages (from google-auth<3,>=1.6.3->tensorboard<2.15,>=2.14->tensorflow==2.14.*,>=2.14.0->tensorflow-federated) (0.3.0)\n",
      "Requirement already satisfied: rsa<5,>=3.1.4 in /usr/local/python/3.10.13/lib/python3.10/site-packages (from google-auth<3,>=1.6.3->tensorboard<2.15,>=2.14->tensorflow==2.14.*,>=2.14.0->tensorflow-federated) (4.9)\n",
      "Requirement already satisfied: requests-oauthlib>=0.7.0 in /usr/local/python/3.10.13/lib/python3.10/site-packages (from google-auth-oauthlib<1.1,>=0.5->tensorboard<2.15,>=2.14->tensorflow==2.14.*,>=2.14.0->tensorflow-federated) (1.3.1)\n",
      "Requirement already satisfied: certifi in /home/codespace/.local/lib/python3.10/site-packages (from kaggle>=1.3.9->tf-models-official~=2.13->tensorflow-privacy==0.8.12->tensorflow-federated) (2024.2.2)\n",
      "Requirement already satisfied: python-slugify in /usr/local/python/3.10.13/lib/python3.10/site-packages (from kaggle>=1.3.9->tf-models-official~=2.13->tensorflow-privacy==0.8.12->tensorflow-federated) (8.0.4)\n",
      "Requirement already satisfied: urllib3 in /usr/local/python/3.10.13/lib/python3.10/site-packages (from kaggle>=1.3.9->tf-models-official~=2.13->tensorflow-privacy==0.8.12->tensorflow-federated) (2.0.7)\n",
      "Requirement already satisfied: bleach in /home/codespace/.local/lib/python3.10/site-packages (from kaggle>=1.3.9->tf-models-official~=2.13->tensorflow-privacy==0.8.12->tensorflow-federated) (6.1.0)\n",
      "Requirement already satisfied: charset-normalizer<4,>=2 in /home/codespace/.local/lib/python3.10/site-packages (from requests<3,>=2.21.0->tensorboard<2.15,>=2.14->tensorflow==2.14.*,>=2.14.0->tensorflow-federated) (3.3.2)\n",
      "Requirement already satisfied: idna<4,>=2.5 in /home/codespace/.local/lib/python3.10/site-packages (from requests<3,>=2.21.0->tensorboard<2.15,>=2.14->tensorflow==2.14.*,>=2.14.0->tensorflow-federated) (3.6)\n",
      "Requirement already satisfied: tf-keras>=2.14.1 in /usr/local/python/3.10.13/lib/python3.10/site-packages (from tensorflow-hub>=0.6.0->tf-models-official~=2.13->tensorflow-privacy==0.8.12->tensorflow-federated) (2.15.0)\n",
      "Requirement already satisfied: MarkupSafe>=2.1.1 in /home/codespace/.local/lib/python3.10/site-packages (from werkzeug>=1.0.1->tensorboard<2.15,>=2.14->tensorflow==2.14.*,>=2.14.0->tensorflow-federated) (2.1.5)\n",
      "Requirement already satisfied: pyasn1>=0.1.7 in /usr/local/python/3.10.13/lib/python3.10/site-packages (from oauth2client->tf-models-official~=2.13->tensorflow-privacy==0.8.12->tensorflow-federated) (0.5.1)\n",
      "Requirement already satisfied: portalocker in /usr/local/python/3.10.13/lib/python3.10/site-packages (from sacrebleu->tf-models-official~=2.13->tensorflow-privacy==0.8.12->tensorflow-federated) (2.8.2)\n",
      "Requirement already satisfied: regex in /usr/local/python/3.10.13/lib/python3.10/site-packages (from sacrebleu->tf-models-official~=2.13->tensorflow-privacy==0.8.12->tensorflow-federated) (2023.12.25)\n",
      "Requirement already satisfied: tabulate>=0.8.9 in /usr/local/python/3.10.13/lib/python3.10/site-packages (from sacrebleu->tf-models-official~=2.13->tensorflow-privacy==0.8.12->tensorflow-federated) (0.9.0)\n",
      "Requirement already satisfied: colorama in /home/codespace/.local/lib/python3.10/site-packages (from sacrebleu->tf-models-official~=2.13->tensorflow-privacy==0.8.12->tensorflow-federated) (0.4.6)\n",
      "Requirement already satisfied: lxml in /usr/local/python/3.10.13/lib/python3.10/site-packages (from sacrebleu->tf-models-official~=2.13->tensorflow-privacy==0.8.12->tensorflow-federated) (5.1.0)\n",
      "Requirement already satisfied: click in /usr/local/python/3.10.13/lib/python3.10/site-packages (from tensorflow-datasets->tf-models-official~=2.13->tensorflow-privacy==0.8.12->tensorflow-federated) (8.1.7)\n",
      "Requirement already satisfied: etils>=0.9.0 in /usr/local/python/3.10.13/lib/python3.10/site-packages (from etils[enp,epath,etree]>=0.9.0->tensorflow-datasets->tf-models-official~=2.13->tensorflow-privacy==0.8.12->tensorflow-federated) (1.7.0)\n",
      "Requirement already satisfied: promise in /usr/local/python/3.10.13/lib/python3.10/site-packages (from tensorflow-datasets->tf-models-official~=2.13->tensorflow-privacy==0.8.12->tensorflow-federated) (2.3)\n",
      "Requirement already satisfied: tensorflow-metadata in /usr/local/python/3.10.13/lib/python3.10/site-packages (from tensorflow-datasets->tf-models-official~=2.13->tensorflow-privacy==0.8.12->tensorflow-federated) (1.13.1)\n",
      "Requirement already satisfied: toml in /usr/local/python/3.10.13/lib/python3.10/site-packages (from tensorflow-datasets->tf-models-official~=2.13->tensorflow-privacy==0.8.12->tensorflow-federated) (0.10.2)\n",
      "Requirement already satisfied: array-record>=0.5.0 in /usr/local/python/3.10.13/lib/python3.10/site-packages (from tensorflow-datasets->tf-models-official~=2.13->tensorflow-privacy==0.8.12->tensorflow-federated) (0.5.0)\n",
      "Requirement already satisfied: fsspec in /home/codespace/.local/lib/python3.10/site-packages (from etils[enp,epath,etree]>=0.9.0->tensorflow-datasets->tf-models-official~=2.13->tensorflow-privacy==0.8.12->tensorflow-federated) (2024.2.0)\n",
      "Requirement already satisfied: importlib_resources in /usr/local/python/3.10.13/lib/python3.10/site-packages (from etils[enp,epath,etree]>=0.9.0->tensorflow-datasets->tf-models-official~=2.13->tensorflow-privacy==0.8.12->tensorflow-federated) (6.1.1)\n",
      "Requirement already satisfied: zipp in /usr/local/python/3.10.13/lib/python3.10/site-packages (from etils[enp,epath,etree]>=0.9.0->tensorflow-datasets->tf-models-official~=2.13->tensorflow-privacy==0.8.12->tensorflow-federated) (3.17.0)\n",
      "Requirement already satisfied: oauthlib>=3.0.0 in /usr/local/python/3.10.13/lib/python3.10/site-packages (from requests-oauthlib>=0.7.0->google-auth-oauthlib<1.1,>=0.5->tensorboard<2.15,>=2.14->tensorflow==2.14.*,>=2.14.0->tensorflow-federated) (3.2.2)\n",
      "Requirement already satisfied: webencodings in /home/codespace/.local/lib/python3.10/site-packages (from bleach->kaggle>=1.3.9->tf-models-official~=2.13->tensorflow-privacy==0.8.12->tensorflow-federated) (0.5.1)\n",
      "Requirement already satisfied: text-unidecode>=1.3 in /usr/local/python/3.10.13/lib/python3.10/site-packages (from python-slugify->kaggle>=1.3.9->tf-models-official~=2.13->tensorflow-privacy==0.8.12->tensorflow-federated) (1.3)\n",
      "Note: you may need to restart the kernel to use updated packages.\n"
     ]
    }
   ],
   "source": [
    "pip install tensorflow-federated"
   ]
  },
  {
   "cell_type": "code",
   "execution_count": 1,
   "metadata": {},
   "outputs": [
    {
     "name": "stdout",
     "output_type": "stream",
     "text": [
      "Requirement already satisfied: nest-asyncio in /home/codespace/.local/lib/python3.10/site-packages (1.6.0)\n",
      "Requirement already satisfied: pandas in /usr/local/python/3.10.13/lib/python3.10/site-packages (1.5.3)\n",
      "Requirement already satisfied: python-dateutil>=2.8.1 in /home/codespace/.local/lib/python3.10/site-packages (from pandas) (2.8.2)\n",
      "Requirement already satisfied: pytz>=2020.1 in /home/codespace/.local/lib/python3.10/site-packages (from pandas) (2024.1)\n",
      "Requirement already satisfied: numpy>=1.21.0 in /usr/local/python/3.10.13/lib/python3.10/site-packages (from pandas) (1.25.2)\n",
      "Requirement already satisfied: six>=1.5 in /home/codespace/.local/lib/python3.10/site-packages (from python-dateutil>=2.8.1->pandas) (1.16.0)\n",
      "Requirement already satisfied: matplotlib in /home/codespace/.local/lib/python3.10/site-packages (3.8.2)\n",
      "Requirement already satisfied: contourpy>=1.0.1 in /home/codespace/.local/lib/python3.10/site-packages (from matplotlib) (1.2.0)\n",
      "Requirement already satisfied: cycler>=0.10 in /home/codespace/.local/lib/python3.10/site-packages (from matplotlib) (0.12.1)\n",
      "Requirement already satisfied: fonttools>=4.22.0 in /home/codespace/.local/lib/python3.10/site-packages (from matplotlib) (4.48.1)\n",
      "Requirement already satisfied: kiwisolver>=1.3.1 in /home/codespace/.local/lib/python3.10/site-packages (from matplotlib) (1.4.5)\n",
      "Requirement already satisfied: numpy<2,>=1.21 in /usr/local/python/3.10.13/lib/python3.10/site-packages (from matplotlib) (1.25.2)\n",
      "Requirement already satisfied: packaging>=20.0 in /usr/local/python/3.10.13/lib/python3.10/site-packages (from matplotlib) (22.0)\n",
      "Requirement already satisfied: pillow>=8 in /home/codespace/.local/lib/python3.10/site-packages (from matplotlib) (10.2.0)\n",
      "Requirement already satisfied: pyparsing>=2.3.1 in /home/codespace/.local/lib/python3.10/site-packages (from matplotlib) (3.1.1)\n",
      "Requirement already satisfied: python-dateutil>=2.7 in /home/codespace/.local/lib/python3.10/site-packages (from matplotlib) (2.8.2)\n",
      "Requirement already satisfied: six>=1.5 in /home/codespace/.local/lib/python3.10/site-packages (from python-dateutil>=2.7->matplotlib) (1.16.0)\n"
     ]
    }
   ],
   "source": [
    "!pip install nest-asyncio\n",
    "!pip install pandas\n",
    "!pip install matplotlib"
   ]
  },
  {
   "cell_type": "code",
   "execution_count": 2,
   "metadata": {},
   "outputs": [
    {
     "name": "stderr",
     "output_type": "stream",
     "text": [
      "2024-02-22 03:41:13.682726: I tensorflow/tsl/cuda/cudart_stub.cc:28] Could not find cuda drivers on your machine, GPU will not be used.\n",
      "2024-02-22 03:41:16.116730: E tensorflow/compiler/xla/stream_executor/cuda/cuda_dnn.cc:9342] Unable to register cuDNN factory: Attempting to register factory for plugin cuDNN when one has already been registered\n",
      "2024-02-22 03:41:16.116779: E tensorflow/compiler/xla/stream_executor/cuda/cuda_fft.cc:609] Unable to register cuFFT factory: Attempting to register factory for plugin cuFFT when one has already been registered\n",
      "2024-02-22 03:41:16.136239: E tensorflow/compiler/xla/stream_executor/cuda/cuda_blas.cc:1518] Unable to register cuBLAS factory: Attempting to register factory for plugin cuBLAS when one has already been registered\n",
      "2024-02-22 03:41:17.313048: I tensorflow/tsl/cuda/cudart_stub.cc:28] Could not find cuda drivers on your machine, GPU will not be used.\n",
      "2024-02-22 03:41:17.314345: I tensorflow/core/platform/cpu_feature_guard.cc:182] This TensorFlow binary is optimized to use available CPU instructions in performance-critical operations.\n",
      "To enable the following instructions: AVX2 FMA, in other operations, rebuild TensorFlow with the appropriate compiler flags.\n",
      "2024-02-22 03:41:21.687070: W tensorflow/compiler/tf2tensorrt/utils/py_utils.cc:38] TF-TRT Warning: Could not find TensorRT\n"
     ]
    }
   ],
   "source": [
    "import collections\n",
    "import os\n",
    "import pandas as pd\n",
    "import tensorflow as tf\n",
    "import tensorflow_federated as tff\n",
    "import time\n",
    "from matplotlib import pyplot as plt\n",
    "import nest_asyncio\n",
    "import numpy as np\n",
    "nest_asyncio.apply()\n",
    "\n",
    "%matplotlib inline"
   ]
  },
  {
   "cell_type": "code",
   "execution_count": 16,
   "metadata": {},
   "outputs": [],
   "source": [
    "df_train = pd.read_csv('/workspaces/Network_Intrusion_Detection/KDDTrain+.txt')  # Replace with the actual path\n",
    "df_test = pd.read_csv('/workspaces/Network_Intrusion_Detection/KDDTest+.txt')    # Replace with the actual path"
   ]
  },
  {
   "cell_type": "code",
   "execution_count": 17,
   "metadata": {},
   "outputs": [],
   "source": [
    "df_train.columns = ['duration', 'protocol_type', 'service', 'flag', 'src_bytes',\n",
    "'dst_bytes', 'land', 'wrong_fragment', 'urgent', 'hot',\n",
    "'num_failed_logins', 'logged_in', 'num_compromised', 'root_shell',\n",
    "'su_attempted', 'num_root', 'num_file_creations', 'num_shells',\n",
    "'num_access_files', 'num_outbound_cmds', 'is_host_login',\n",
    "'is_guest_login', 'count', 'srv_count', 'serror_rate',\n",
    "'srv_serror_rate', 'rerror_rate', 'srv_rerror_rate', 'same_srv_rate',\n",
    "'diff_srv_rate', 'srv_diff_host_rate', 'dst_host_count',\n",
    "'dst_host_srv_count', 'dst_host_same_srv_rate','dst_host_diff_srv_rate', 'dst_host_same_src_port_rate',\n",
    "'dst_host_srv_diff_host_rate', 'dst_host_serror_rate',\n",
    "'dst_host_srv_serror_rate', 'dst_host_rerror_rate',\n",
    "'dst_host_srv_rerror_rate', 'subclass', 'difficulty_level']\n",
    "\n",
    "df_test.columns = ['duration', 'protocol_type', 'service', 'flag', 'src_bytes',\n",
    "'dst_bytes', 'land', 'wrong_fragment', 'urgent', 'hot',\n",
    "'num_failed_logins', 'logged_in', 'num_compromised', 'root_shell',\n",
    "'su_attempted', 'num_root', 'num_file_creations', 'num_shells',\n",
    "'num_access_files', 'num_outbound_cmds', 'is_host_login',\n",
    "'is_guest_login', 'count', 'srv_count', 'serror_rate',\n",
    "'srv_serror_rate', 'rerror_rate', 'srv_rerror_rate', 'same_srv_rate',\n",
    "'diff_srv_rate', 'srv_diff_host_rate', 'dst_host_count',\n",
    "'dst_host_srv_count', 'dst_host_same_srv_rate','dst_host_diff_srv_rate', 'dst_host_same_src_port_rate',\n",
    "'dst_host_srv_diff_host_rate', 'dst_host_serror_rate',\n",
    "'dst_host_srv_serror_rate', 'dst_host_rerror_rate',\n",
    "'dst_host_srv_rerror_rate', 'subclass', 'difficulty_level']"
   ]
  },
  {
   "cell_type": "code",
   "execution_count": 18,
   "metadata": {},
   "outputs": [
    {
     "name": "stderr",
     "output_type": "stream",
     "text": [
      "/tmp/ipykernel_3883/1202639473.py:1: FutureWarning: In a future version of pandas all arguments of DataFrame.drop except for the argument 'labels' will be keyword-only.\n",
      "  df_train = df_train.drop('difficulty_level', 1)\n",
      "/tmp/ipykernel_3883/1202639473.py:2: FutureWarning: In a future version of pandas all arguments of DataFrame.drop except for the argument 'labels' will be keyword-only.\n",
      "  df_test = df_test.drop('difficulty_level', 1)\n",
      "/tmp/ipykernel_3883/1202639473.py:3: FutureWarning: In a future version of pandas all arguments of DataFrame.drop except for the argument 'labels' will be keyword-only.\n",
      "  df_train = df_train.drop('protocol_type', 1)\n",
      "/tmp/ipykernel_3883/1202639473.py:4: FutureWarning: In a future version of pandas all arguments of DataFrame.drop except for the argument 'labels' will be keyword-only.\n",
      "  df_test = df_test.drop('protocol_type', 1)\n",
      "/tmp/ipykernel_3883/1202639473.py:5: FutureWarning: In a future version of pandas all arguments of DataFrame.drop except for the argument 'labels' will be keyword-only.\n",
      "  df_train = df_train.drop('service', 1)\n",
      "/tmp/ipykernel_3883/1202639473.py:6: FutureWarning: In a future version of pandas all arguments of DataFrame.drop except for the argument 'labels' will be keyword-only.\n",
      "  df_test = df_test.drop('service', 1)\n",
      "/tmp/ipykernel_3883/1202639473.py:7: FutureWarning: In a future version of pandas all arguments of DataFrame.drop except for the argument 'labels' will be keyword-only.\n",
      "  df_train = df_train.drop('flag', 1)\n",
      "/tmp/ipykernel_3883/1202639473.py:8: FutureWarning: In a future version of pandas all arguments of DataFrame.drop except for the argument 'labels' will be keyword-only.\n",
      "  df_test = df_test.drop('flag', 1)\n"
     ]
    }
   ],
   "source": [
    "df_train = df_train.drop('difficulty_level', 1)\n",
    "df_test = df_test.drop('difficulty_level', 1)\n",
    "df_train = df_train.drop('protocol_type', 1)\n",
    "df_test = df_test.drop('protocol_type', 1)\n",
    "df_train = df_train.drop('service', 1)\n",
    "df_test = df_test.drop('service', 1)\n",
    "df_train = df_train.drop('flag', 1)\n",
    "df_test = df_test.drop('flag', 1)"
   ]
  },
  {
   "cell_type": "code",
   "execution_count": 19,
   "metadata": {},
   "outputs": [
    {
     "name": "stdout",
     "output_type": "stream",
     "text": [
      "<class 'pandas.core.frame.DataFrame'>\n",
      "RangeIndex: 125972 entries, 0 to 125971\n",
      "Data columns (total 39 columns):\n",
      " #   Column                       Non-Null Count   Dtype  \n",
      "---  ------                       --------------   -----  \n",
      " 0   duration                     125972 non-null  int64  \n",
      " 1   src_bytes                    125972 non-null  int64  \n",
      " 2   dst_bytes                    125972 non-null  int64  \n",
      " 3   land                         125972 non-null  int64  \n",
      " 4   wrong_fragment               125972 non-null  int64  \n",
      " 5   urgent                       125972 non-null  int64  \n",
      " 6   hot                          125972 non-null  int64  \n",
      " 7   num_failed_logins            125972 non-null  int64  \n",
      " 8   logged_in                    125972 non-null  int64  \n",
      " 9   num_compromised              125972 non-null  int64  \n",
      " 10  root_shell                   125972 non-null  int64  \n",
      " 11  su_attempted                 125972 non-null  int64  \n",
      " 12  num_root                     125972 non-null  int64  \n",
      " 13  num_file_creations           125972 non-null  int64  \n",
      " 14  num_shells                   125972 non-null  int64  \n",
      " 15  num_access_files             125972 non-null  int64  \n",
      " 16  num_outbound_cmds            125972 non-null  int64  \n",
      " 17  is_host_login                125972 non-null  int64  \n",
      " 18  is_guest_login               125972 non-null  int64  \n",
      " 19  count                        125972 non-null  int64  \n",
      " 20  srv_count                    125972 non-null  int64  \n",
      " 21  serror_rate                  125972 non-null  float64\n",
      " 22  srv_serror_rate              125972 non-null  float64\n",
      " 23  rerror_rate                  125972 non-null  float64\n",
      " 24  srv_rerror_rate              125972 non-null  float64\n",
      " 25  same_srv_rate                125972 non-null  float64\n",
      " 26  diff_srv_rate                125972 non-null  float64\n",
      " 27  srv_diff_host_rate           125972 non-null  float64\n",
      " 28  dst_host_count               125972 non-null  int64  \n",
      " 29  dst_host_srv_count           125972 non-null  int64  \n",
      " 30  dst_host_same_srv_rate       125972 non-null  float64\n",
      " 31  dst_host_diff_srv_rate       125972 non-null  float64\n",
      " 32  dst_host_same_src_port_rate  125972 non-null  float64\n",
      " 33  dst_host_srv_diff_host_rate  125972 non-null  float64\n",
      " 34  dst_host_serror_rate         125972 non-null  float64\n",
      " 35  dst_host_srv_serror_rate     125972 non-null  float64\n",
      " 36  dst_host_rerror_rate         125972 non-null  float64\n",
      " 37  dst_host_srv_rerror_rate     125972 non-null  float64\n",
      " 38  subclass                     125972 non-null  object \n",
      "dtypes: float64(15), int64(23), object(1)\n",
      "memory usage: 37.5+ MB\n"
     ]
    }
   ],
   "source": [
    "df_train.info()"
   ]
  },
  {
   "cell_type": "code",
   "execution_count": 20,
   "metadata": {},
   "outputs": [],
   "source": [
    "df_train['subclass'] = df_train['subclass'].str.lower()\n",
    "df_test['subclass'] = df_test['subclass'].str.lower()"
   ]
  },
  {
   "cell_type": "code",
   "execution_count": 21,
   "metadata": {},
   "outputs": [],
   "source": [
    "tmp = df_train.pop('subclass')\n",
    "tmp1 = df_test.pop('subclass')"
   ]
  },
  {
   "cell_type": "code",
   "execution_count": 22,
   "metadata": {},
   "outputs": [],
   "source": [
    "classlist=[]\n",
    "classlist_test=[]\n",
    "NormalCount = 0\n",
    "AttackCount = 0\n",
    "NormalCount_test = 0\n",
    "AttackCount_test = 0\n",
    "\n",
    "for item in tmp:\n",
    "    if(item == \"normal\"):\n",
    "        classlist.append(\"normal\")\n",
    "        NormalCount+=1\n",
    "    else:\n",
    "        classlist.append(\"attack\")\n",
    "        AttackCount+=1\n",
    "\n",
    "for item in tmp1:\n",
    "    if(item == \"normal\"):\n",
    "        classlist_test.append(\"normal\")\n",
    "        NormalCount_test+=1\n",
    "    else:\n",
    "        classlist_test.append(\"attack\")\n",
    "        AttackCount_test+=1"
   ]
  },
  {
   "cell_type": "code",
   "execution_count": 23,
   "metadata": {},
   "outputs": [],
   "source": [
    "df_train[\"subclass\"] =classlist\n",
    "df_test[\"subclass\"] = classlist_test"
   ]
  },
  {
   "cell_type": "code",
   "execution_count": 24,
   "metadata": {},
   "outputs": [],
   "source": [
    "unique_labels = list(df_train.subclass.astype('category').unique())\n",
    "unique_codes = list(df_train.subclass.astype('category').cat.codes.unique())\n",
    "mapping = {unique_codes[i] : unique_labels[i] for i in range(len(unique_labels))}\n",
    "\n",
    "unique_labels_test = list(df_test.subclass.astype('category').unique())\n",
    "unique_codes_test = list(df_test.subclass.astype('category').cat.codes.unique())\n",
    "mapping_test = {unique_codes_test[i] : unique_labels_test[i] for i in range(len(unique_labels_test))}"
   ]
  },
  {
   "cell_type": "code",
   "execution_count": 25,
   "metadata": {},
   "outputs": [
    {
     "data": {
      "text/plain": [
       "{1: 'normal', 0: 'attack'}"
      ]
     },
     "execution_count": 25,
     "metadata": {},
     "output_type": "execute_result"
    }
   ],
   "source": [
    "mapping"
   ]
  },
  {
   "cell_type": "code",
   "execution_count": 26,
   "metadata": {},
   "outputs": [
    {
     "data": {
      "text/plain": [
       "{0: 'attack', 1: 'normal'}"
      ]
     },
     "execution_count": 26,
     "metadata": {},
     "output_type": "execute_result"
    }
   ],
   "source": [
    "mapping_test"
   ]
  },
  {
   "cell_type": "code",
   "execution_count": 27,
   "metadata": {},
   "outputs": [],
   "source": [
    "df_train['subclass'] = df_train['subclass'].replace(unique_labels, unique_codes)\n",
    "df_test['subclass'] = df_test['subclass'].replace(unique_labels_test, unique_codes_test)"
   ]
  },
  {
   "cell_type": "code",
   "execution_count": 28,
   "metadata": {},
   "outputs": [],
   "source": [
    "train = df_train\n",
    "test = df_test"
   ]
  },
  {
   "cell_type": "code",
   "execution_count": 29,
   "metadata": {},
   "outputs": [],
   "source": [
    "n_workers=2\n",
    "n_samples = int(df_train.shape[0] / n_workers)\n",
    "n_samples_test = int(df_test.shape[0]/n_workers)\n",
    "assert n_samples > 0, \"Each worker must be assigned at least one data point\""
   ]
  },
  {
   "cell_type": "code",
   "execution_count": 30,
   "metadata": {},
   "outputs": [
    {
     "name": "stdout",
     "output_type": "stream",
     "text": [
      "2  output_shape\n",
      "shuffle_buffer_size  125972\n",
      "batch_size  250\n",
      "prefetch_buffer_size  50\n",
      "input_shape  38\n"
     ]
    }
   ],
   "source": [
    "import numpy as np\n",
    "n_epochs = 10\n",
    "shuffle_buffer_size = df_train.shape[0]\n",
    "batch_size = 250\n",
    "prefetch_buffer_size = 50\n",
    "input_shape = df_train.shape[1]-1\n",
    "output_shape = len(unique_codes)\n",
    "print(output_shape , \" output_shape\")\n",
    "print(\"shuffle_buffer_size \", shuffle_buffer_size)\n",
    "print(\"batch_size \",batch_size)\n",
    "print(\"prefetch_buffer_size \", prefetch_buffer_size)\n",
    "print(\"input_shape \", input_shape)"
   ]
  },
  {
   "cell_type": "code",
   "execution_count": 31,
   "metadata": {},
   "outputs": [
    {
     "name": "stdout",
     "output_type": "stream",
     "text": [
      "22543 shuffle_buffer_size_test\n",
      "38 input_shape_test\n",
      "2 output_shape_test\n"
     ]
    }
   ],
   "source": [
    "n_epochs = 10\n",
    "shuffle_buffer_size_test = df_test.shape[0]\n",
    "print(shuffle_buffer_size_test, \"shuffle_buffer_size_test\")\n",
    "batch_size_test = 250\n",
    "prefetch_buffer_size_test = 50\n",
    "input_shape_test = df_test.shape[1]-1\n",
    "print(input_shape_test,\"input_shape_test\")\n",
    "output_shape_test = len(unique_codes_test)\n",
    "print(output_shape_test,\"output_shape_test\")"
   ]
  },
  {
   "cell_type": "code",
   "execution_count": 32,
   "metadata": {},
   "outputs": [],
   "source": [
    "def preprocess(dataframe):\n",
    "\n",
    "    \"\"\"Flatten a batch `pixels` and return the features as an `OrderedDict`.\"\"\"\n",
    "    def map_fn(dataset):\n",
    "        return collections.OrderedDict(\n",
    "            x=tf.cast(dataset[:,:-1], tf.float64),\n",
    "            y=tf.cast(tf.reshape(dataset[:,-1], shape=(-1, 1)), tf.int64)\n",
    "        )\n",
    "\n",
    "    return tf.data.Dataset.from_tensor_slices(dataframe).repeat(n_epochs).shuffle(\n",
    "        shuffle_buffer_size).batch(batch_size).map(map_fn).prefetch(prefetch_buffer_size)\n",
    "\n",
    "\n",
    "client_data = [preprocess(train.sample(n=n_samples)) for _ in range(n_workers)]"
   ]
  },
  {
   "cell_type": "code",
   "execution_count": 33,
   "metadata": {},
   "outputs": [],
   "source": [
    "def preprocess_test(dataframe):\n",
    "\n",
    "    \"\"\"Flatten a batch `pixels` and return the features as an `OrderedDict`.\"\"\"\n",
    "    def map_fn(dataset):\n",
    "        return collections.OrderedDict(\n",
    "            x=tf.cast(dataset[:,:-1], tf.float64),\n",
    "            y=tf.cast(tf.reshape(dataset[:,-1], shape=(-1, 1)), tf.int64)\n",
    "        )\n",
    "\n",
    "    return tf.data.Dataset.from_tensor_slices(dataframe).repeat(n_epochs).shuffle(\n",
    "        shuffle_buffer_size_test).batch(batch_size_test).map(map_fn).prefetch(prefetch_buffer_size_test)\n",
    "\n",
    "\n",
    "client_data_test = [preprocess(test.sample(n=n_samples_test)) for _ in range(n_workers)]"
   ]
  },
  {
   "cell_type": "code",
   "execution_count": 34,
   "metadata": {},
   "outputs": [
    {
     "data": {
      "text/plain": [
       "[<_PrefetchDataset element_spec=OrderedDict([('x', TensorSpec(shape=(None, 38), dtype=tf.float64, name=None)), ('y', TensorSpec(shape=(None, 1), dtype=tf.int64, name=None))])>,\n",
       " <_PrefetchDataset element_spec=OrderedDict([('x', TensorSpec(shape=(None, 38), dtype=tf.float64, name=None)), ('y', TensorSpec(shape=(None, 1), dtype=tf.int64, name=None))])>]"
      ]
     },
     "execution_count": 34,
     "metadata": {},
     "output_type": "execute_result"
    }
   ],
   "source": [
    "client_data"
   ]
  },
  {
   "cell_type": "code",
   "execution_count": 35,
   "metadata": {},
   "outputs": [
    {
     "data": {
      "text/plain": [
       "[<_PrefetchDataset element_spec=OrderedDict([('x', TensorSpec(shape=(None, 38), dtype=tf.float64, name=None)), ('y', TensorSpec(shape=(None, 1), dtype=tf.int64, name=None))])>,\n",
       " <_PrefetchDataset element_spec=OrderedDict([('x', TensorSpec(shape=(None, 38), dtype=tf.float64, name=None)), ('y', TensorSpec(shape=(None, 1), dtype=tf.int64, name=None))])>]"
      ]
     },
     "execution_count": 35,
     "metadata": {},
     "output_type": "execute_result"
    }
   ],
   "source": [
    "client_data_test"
   ]
  },
  {
   "cell_type": "code",
   "execution_count": 36,
   "metadata": {},
   "outputs": [
    {
     "name": "stdout",
     "output_type": "stream",
     "text": [
      "Worker 1 data contains 2520 training points\n",
      "Worker 2 data contains 2520 training points\n"
     ]
    }
   ],
   "source": [
    "for i in range(n_workers):\n",
    "    print(f\"Worker {i+1} data contains {len(client_data[i])} training points\")"
   ]
  },
  {
   "cell_type": "code",
   "execution_count": 37,
   "metadata": {},
   "outputs": [
    {
     "name": "stdout",
     "output_type": "stream",
     "text": [
      "Worker 1 data contains 451 testing points\n",
      "Worker 2 data contains 451 testing points\n"
     ]
    }
   ],
   "source": [
    "for i in range(n_workers):\n",
    "    print(f\"Worker {i+1} data contains {len(client_data_test[i])} testing points\")"
   ]
  },
  {
   "cell_type": "code",
   "execution_count": 38,
   "metadata": {},
   "outputs": [
    {
     "data": {
      "image/png": "[encoded data removed]",
      "text/plain": [
       "<Figure size 2000x700 with 2 Axes>"
      ]
     },
     "metadata": {},
     "output_type": "display_data"
    }
   ],
   "source": [
    "import matplotlib.pyplot as plt\n",
    "\n",
    "fig = plt.figure(figsize=(20, 7))\n",
    "fig.suptitle('Label Counts for a Sample of Worker Data')\n",
    "fig.tight_layout()\n",
    "\n",
    "for i in range(n_workers):\n",
    "    m = 0\n",
    "    plot_data = collections.defaultdict(list)\n",
    "    for label in list(client_data[i])[0]['y'].numpy()[:,0]:\n",
    "        # Append counts individually per label to make plots\n",
    "        # more colorful instead of one color per plot.\n",
    "        plot_data[label].append(label)\n",
    "        m = max(m, len(plot_data[label]))\n",
    "\n",
    "    n_cols = n_workers if n_workers < 5 else 5\n",
    "    xlim = [0, m+(5-m%5)]\n",
    "    ylim = [min(unique_codes)-1, max(unique_codes)+1]\n",
    "    yticks = list(range(min(unique_codes), max(unique_codes)+1))\n",
    "    yticks_labels = [mapping[k] for k in range(0, max(unique_codes)+1)]\n",
    "\n",
    "    plt.subplot(int(n_workers / 5)+1, n_cols, i+1)\n",
    "    plt.subplots_adjust(wspace=0.3)\n",
    "    plt.title('Worker {}'.format(i+1))\n",
    "    plt.xlabel('#points')\n",
    "    plt.xlim(xlim)\n",
    "    plt.ylabel('Label')\n",
    "    plt.ylim(ylim)\n",
    "    plt.yticks(yticks, labels=yticks_labels)\n",
    "\n",
    "    # plot values on top of bars\n",
    "    for key in plot_data:\n",
    "        if len(plot_data[key]) > 0:\n",
    "            plt.text(len(plot_data[key])+0.6, int(key)-0.1, str(len(plot_data[key])), ha='center')\n",
    "\n",
    "    for j in range(min(unique_codes),max(unique_codes)+1):\n",
    "        plt.hist(\n",
    "            plot_data[j],\n",
    "            density=False,\n",
    "            bins=[k-0.5 for k in range(min(unique_codes),max(unique_codes)+2)],\n",
    "            orientation='horizontal'\n",
    "        )"
   ]
  },
  {
   "cell_type": "code",
   "execution_count": 39,
   "metadata": {},
   "outputs": [],
   "source": [
    "from sklearn.model_selection import train_test_split\n",
    "from sklearn.preprocessing import LabelEncoder\n",
    "from keras.models import Sequential\n",
    "from keras.layers import Dense, Dropout, Activation, Embedding\n",
    "from keras.layers import LSTM, SimpleRNN, GRU, Bidirectional, BatchNormalization,Convolution1D,MaxPooling1D, Reshape, GlobalAveragePooling1D\n",
    "from keras.utils import to_categorical\n",
    "import sklearn.preprocessing\n",
    "from sklearn import metrics\n",
    "from scipy.stats import zscore\n",
    "from keras.layers import Dense\n",
    "from keras.optimizers import Adam"
   ]
  },
  {
   "cell_type": "code",
   "execution_count": 40,
   "metadata": {},
   "outputs": [],
   "source": [
    "def model_fn():\n",
    "    input_layer = tf.keras.layers.Input(shape=(input_shape,))\n",
    "    x = tf.keras.layers.Reshape((1, input_shape))(input_layer)\n",
    "    x = tf.keras.layers.LSTM(units=128, return_sequences=True)(x)\n",
    "    x = tf.keras.layers.Bidirectional(tf.keras.layers.LSTM(units=64, return_sequences=True))(x)\n",
    "    x = tf.keras.layers.Dense(128, activation='relu')(x)\n",
    "    output_layer = tf.keras.layers.Dense(output_shape, activation='softmax')(x)\n",
    "\n",
    "    model = tf.keras.models.Model(inputs=input_layer, outputs=output_layer)\n",
    "\n",
    "    return tff.learning.models.from_keras_model(\n",
    "        model,\n",
    "        input_spec=collections.OrderedDict(\n",
    "            x=tf.TensorSpec(shape=[None, input_shape], dtype=tf.float64),\n",
    "            y=tf.TensorSpec(shape=[None, 1], dtype=tf.int64)),\n",
    "\n",
    "        loss=tf.keras.losses.SparseCategoricalCrossentropy(from_logits=True),\n",
    "        metrics=[tf.keras.metrics.SparseCategoricalAccuracy()]\n",
    "    )"
   ]
  },
  {
   "cell_type": "code",
   "execution_count": 41,
   "metadata": {},
   "outputs": [],
   "source": [
    "trainer = tff.learning.algorithms.build_weighted_fed_avg(\n",
    "    model_fn,\n",
    "    client_optimizer_fn=lambda: tf.keras.optimizers.SGD(learning_rate=0.01),\n",
    "    server_optimizer_fn=lambda: tf.keras.optimizers.SGD(learning_rate=1.0)\n",
    ")"
   ]
  },
  {
   "cell_type": "code",
   "execution_count": 42,
   "metadata": {},
   "outputs": [
    {
     "name": "stdout",
     "output_type": "stream",
     "text": [
      "( -> <\n",
      "  global_model_weights=<\n",
      "    trainable=<\n",
      "      float32[38,512],\n",
      "      float32[128,512],\n",
      "      float32[512],\n",
      "      float32[128,256],\n",
      "      float32[64,256],\n",
      "      float32[256],\n",
      "      float32[128,256],\n",
      "      float32[64,256],\n",
      "      float32[256],\n",
      "      float32[128,128],\n",
      "      float32[128],\n",
      "      float32[128,2],\n",
      "      float32[2]\n",
      "    >,\n",
      "    non_trainable=<>\n",
      "  >,\n",
      "  distributor=<>,\n",
      "  client_work=<>,\n",
      "  aggregator=<\n",
      "    value_sum_process=<>,\n",
      "    weight_sum_process=<>\n",
      "  >,\n",
      "  finalizer=<\n",
      "    int64,\n",
      "    float32[38,512],\n",
      "    float32[128,512],\n",
      "    float32[512],\n",
      "    float32[128,256],\n",
      "    float32[64,256],\n",
      "    float32[256],\n",
      "    float32[128,256],\n",
      "    float32[64,256],\n",
      "    float32[256],\n",
      "    float32[128,128],\n",
      "    float32[128],\n",
      "    float32[128,2],\n",
      "    float32[2]\n",
      "  >\n",
      ">@SERVER)\n"
     ]
    }
   ],
   "source": [
    "print(trainer.initialize.type_signature.formatted_representation())"
   ]
  },
  {
   "cell_type": "code",
   "execution_count": 43,
   "metadata": {},
   "outputs": [],
   "source": [
    "def evaluate(num_rounds=10):\n",
    "    state = trainer.initialize()\n",
    "    for round in range(num_rounds):\n",
    "        t1 = time.time()\n",
    "        result = trainer.next(state, client_data)\n",
    "        state = result.state\n",
    "        train_metrics = result.metrics['client_work']['train']\n",
    "\n",
    "        # Assuming 'SparseCategoricalAccuracy' metric is used\n",
    "        train_accuracy = train_metrics['sparse_categorical_accuracy'] * 100\n",
    "\n",
    "        t2 = time.time()\n",
    "        print('Round {}: accuracy {}, round time {}'.format(\n",
    "            round+1, train_accuracy, t2 - t1))"
   ]
  },
  {
   "cell_type": "code",
   "execution_count": 44,
   "metadata": {},
   "outputs": [
    {
     "name": "stderr",
     "output_type": "stream",
     "text": [
      "2024-02-22 03:52:32.223842: I tensorflow/core/grappler/devices.cc:66] Number of eligible GPUs (core count >= 8, compute capability >= 0.0): 0\n",
      "2024-02-22 03:52:32.223981: I tensorflow/core/grappler/clusters/single_machine.cc:361] Starting new session\n",
      "2024-02-22 03:52:32.443685: I tensorflow/core/grappler/devices.cc:66] Number of eligible GPUs (core count >= 8, compute capability >= 0.0): 0\n",
      "2024-02-22 03:52:32.443786: I tensorflow/core/grappler/clusters/single_machine.cc:361] Starting new session\n",
      "2024-02-22 03:52:36.626722: I tensorflow/core/grappler/devices.cc:66] Number of eligible GPUs (core count >= 8, compute capability >= 0.0): 0\n",
      "2024-02-22 03:52:36.626892: I tensorflow/core/grappler/clusters/single_machine.cc:361] Starting new session\n",
      "2024-02-22 03:52:37.018048: I tensorflow/core/grappler/devices.cc:66] Number of eligible GPUs (core count >= 8, compute capability >= 0.0): 0\n",
      "2024-02-22 03:52:37.018161: I tensorflow/core/grappler/clusters/single_machine.cc:361] Starting new session\n",
      "2024-02-22 03:52:37.023588: I tensorflow/core/grappler/devices.cc:66] Number of eligible GPUs (core count >= 8, compute capability >= 0.0): 0\n",
      "2024-02-22 03:52:37.023662: I tensorflow/core/grappler/clusters/single_machine.cc:361] Starting new session\n",
      "2024-02-22 03:52:37.030867: I tensorflow/core/grappler/devices.cc:66] Number of eligible GPUs (core count >= 8, compute capability >= 0.0): 0\n",
      "2024-02-22 03:52:37.030943: I tensorflow/core/grappler/clusters/single_machine.cc:361] Starting new session\n",
      "2024-02-22 03:52:37.040140: I tensorflow/core/grappler/devices.cc:66] Number of eligible GPUs (core count >= 8, compute capability >= 0.0): 0\n",
      "2024-02-22 03:52:37.040214: I tensorflow/core/grappler/clusters/single_machine.cc:361] Starting new session\n",
      "2024-02-22 03:52:37.054691: I tensorflow/core/grappler/devices.cc:66] Number of eligible GPUs (core count >= 8, compute capability >= 0.0): 0\n",
      "2024-02-22 03:52:37.054766: I tensorflow/core/grappler/clusters/single_machine.cc:361] Starting new session\n",
      "2024-02-22 03:52:37.063764: I tensorflow/core/grappler/devices.cc:66] Number of eligible GPUs (core count >= 8, compute capability >= 0.0): 0\n",
      "2024-02-22 03:52:37.063839: I tensorflow/core/grappler/clusters/single_machine.cc:361] Starting new session\n",
      "2024-02-22 03:52:37.072495: I tensorflow/core/grappler/devices.cc:66] Number of eligible GPUs (core count >= 8, compute capability >= 0.0): 0\n",
      "2024-02-22 03:52:37.072574: I tensorflow/core/grappler/clusters/single_machine.cc:361] Starting new session\n",
      "2024-02-22 03:52:37.084290: I tensorflow/core/grappler/devices.cc:66] Number of eligible GPUs (core count >= 8, compute capability >= 0.0): 0\n",
      "2024-02-22 03:52:37.084367: I tensorflow/core/grappler/clusters/single_machine.cc:361] Starting new session\n",
      "2024-02-22 03:52:37.093149: I tensorflow/core/grappler/devices.cc:66] Number of eligible GPUs (core count >= 8, compute capability >= 0.0): 0\n",
      "2024-02-22 03:52:37.093239: I tensorflow/core/grappler/clusters/single_machine.cc:361] Starting new session\n",
      "2024-02-22 03:52:37.094813: I tensorflow/core/grappler/devices.cc:66] Number of eligible GPUs (core count >= 8, compute capability >= 0.0): 0\n",
      "2024-02-22 03:52:37.094892: I tensorflow/core/grappler/clusters/single_machine.cc:361] Starting new session\n",
      "2024-02-22 03:52:37.098187: I tensorflow/core/grappler/devices.cc:66] Number of eligible GPUs (core count >= 8, compute capability >= 0.0): 0\n",
      "2024-02-22 03:52:37.098265: I tensorflow/core/grappler/clusters/single_machine.cc:361] Starting new session\n",
      "2024-02-22 03:52:37.106220: I tensorflow/core/grappler/devices.cc:66] Number of eligible GPUs (core count >= 8, compute capability >= 0.0): 0\n",
      "2024-02-22 03:52:37.106290: I tensorflow/core/grappler/clusters/single_machine.cc:361] Starting new session\n",
      "2024-02-22 03:52:37.132331: I tensorflow/core/grappler/devices.cc:66] Number of eligible GPUs (core count >= 8, compute capability >= 0.0): 0\n",
      "2024-02-22 03:52:37.132427: I tensorflow/core/grappler/clusters/single_machine.cc:361] Starting new session\n",
      "2024-02-22 03:52:38.183730: W external/org_tensorflow/tensorflow/tsl/framework/cpu_allocator_impl.cc:83] Allocation of 19651632 exceeds 10% of free system memory.\n",
      "2024-02-22 03:52:38.198811: W external/org_tensorflow/tensorflow/tsl/framework/cpu_allocator_impl.cc:83] Allocation of 19651632 exceeds 10% of free system memory.\n",
      "2024-02-22 03:52:38.318623: W external/org_tensorflow/tensorflow/tsl/framework/cpu_allocator_impl.cc:83] Allocation of 19651632 exceeds 10% of free system memory.\n",
      "2024-02-22 03:52:38.318783: W external/org_tensorflow/tensorflow/tsl/framework/cpu_allocator_impl.cc:83] Allocation of 19651632 exceeds 10% of free system memory.\n"
     ]
    },
    {
     "name": "stdout",
     "output_type": "stream",
     "text": [
      "Round 1: accuracy 93.4048056602478, round time 46.30793213844299\n"
     ]
    },
    {
     "name": "stderr",
     "output_type": "stream",
     "text": [
      "2024-02-22 03:53:22.777404: W external/org_tensorflow/tensorflow/tsl/framework/cpu_allocator_impl.cc:83] Allocation of 19651632 exceeds 10% of free system memory.\n"
     ]
    },
    {
     "name": "stdout",
     "output_type": "stream",
     "text": [
      "Round 2: accuracy 96.09429240226746, round time 42.973098278045654\n",
      "Round 3: accuracy 96.25980257987976, round time 43.75869917869568\n",
      "Round 4: accuracy 96.34847640991211, round time 45.01670455932617\n",
      "Round 5: accuracy 96.39142155647278, round time 43.401028871536255\n",
      "Round 6: accuracy 96.44627571105957, round time 43.21067237854004\n",
      "Round 7: accuracy 96.4945375919342, round time 43.560062885284424\n",
      "Round 8: accuracy 96.54653668403625, round time 43.86864471435547\n",
      "Round 9: accuracy 96.55447006225586, round time 43.23102426528931\n",
      "Round 10: accuracy 96.59479856491089, round time 43.776127338409424\n"
     ]
    }
   ],
   "source": [
    "evaluate(n_epochs)"
   ]
  },
  {
   "cell_type": "code",
   "execution_count": 45,
   "metadata": {},
   "outputs": [],
   "source": [
    "evaluation_process = tff.learning.algorithms.build_fed_eval(model_fn)"
   ]
  },
  {
   "cell_type": "code",
   "execution_count": 46,
   "metadata": {},
   "outputs": [
    {
     "name": "stdout",
     "output_type": "stream",
     "text": [
      "(<\n",
      "  state=<\n",
      "    global_model_weights=<\n",
      "      trainable=<\n",
      "        float32[38,512],\n",
      "        float32[128,512],\n",
      "        float32[512],\n",
      "        float32[128,256],\n",
      "        float32[64,256],\n",
      "        float32[256],\n",
      "        float32[128,256],\n",
      "        float32[64,256],\n",
      "        float32[256],\n",
      "        float32[128,128],\n",
      "        float32[128],\n",
      "        float32[128,2],\n",
      "        float32[2]\n",
      "      >,\n",
      "      non_trainable=<>\n",
      "    >,\n",
      "    distributor=<>,\n",
      "    client_work=<\n",
      "      <>,\n",
      "      <\n",
      "        sparse_categorical_accuracy=<\n",
      "          float32,\n",
      "          float32\n",
      "        >,\n",
      "        loss=<\n",
      "          float32,\n",
      "          float32\n",
      "        >,\n",
      "        num_examples=<\n",
      "          int64\n",
      "        >,\n",
      "        num_batches=<\n",
      "          int64\n",
      "        >\n",
      "      >\n",
      "    >,\n",
      "    aggregator=<\n",
      "      value_sum_process=<>,\n",
      "      weight_sum_process=<>\n",
      "    >,\n",
      "    finalizer=<>\n",
      "  >@SERVER,\n",
      "  client_data={<\n",
      "    x=float64[?,38],\n",
      "    y=int64[?,1]\n",
      "  >*}@CLIENTS\n",
      "> -> <\n",
      "  state=<\n",
      "    global_model_weights=<\n",
      "      trainable=<\n",
      "        float32[38,512],\n",
      "        float32[128,512],\n",
      "        float32[512],\n",
      "        float32[128,256],\n",
      "        float32[64,256],\n",
      "        float32[256],\n",
      "        float32[128,256],\n",
      "        float32[64,256],\n",
      "        float32[256],\n",
      "        float32[128,128],\n",
      "        float32[128],\n",
      "        float32[128,2],\n",
      "        float32[2]\n",
      "      >,\n",
      "      non_trainable=<>\n",
      "    >,\n",
      "    distributor=<>,\n",
      "    client_work=<\n",
      "      <>,\n",
      "      <\n",
      "        sparse_categorical_accuracy=<\n",
      "          float32,\n",
      "          float32\n",
      "        >,\n",
      "        loss=<\n",
      "          float32,\n",
      "          float32\n",
      "        >,\n",
      "        num_examples=<\n",
      "          int64\n",
      "        >,\n",
      "        num_batches=<\n",
      "          int64\n",
      "        >\n",
      "      >\n",
      "    >,\n",
      "    aggregator=<\n",
      "      value_sum_process=<>,\n",
      "      weight_sum_process=<>\n",
      "    >,\n",
      "    finalizer=<>\n",
      "  >@SERVER,\n",
      "  metrics=<\n",
      "    distributor=<>,\n",
      "    client_work=<\n",
      "      eval=<\n",
      "        current_round_metrics=<\n",
      "          sparse_categorical_accuracy=float32,\n",
      "          loss=float32,\n",
      "          num_examples=int64,\n",
      "          num_batches=int64\n",
      "        >,\n",
      "        total_rounds_metrics=<\n",
      "          sparse_categorical_accuracy=float32,\n",
      "          loss=float32,\n",
      "          num_examples=int64,\n",
      "          num_batches=int64\n",
      "        >\n",
      "      >\n",
      "    >,\n",
      "    aggregator=<\n",
      "      mean_value=<>,\n",
      "      mean_weight=<>\n",
      "    >,\n",
      "    finalizer=<>\n",
      "  >@SERVER\n",
      ">)\n"
     ]
    }
   ],
   "source": [
    "print(evaluation_process.next.type_signature.formatted_representation())"
   ]
  },
  {
   "cell_type": "code",
   "execution_count": 47,
   "metadata": {},
   "outputs": [],
   "source": [
    "train_state = trainer.initialize()\n",
    "result = trainer.next(train_state, client_data)\n",
    "train_state = result.state"
   ]
  },
  {
   "cell_type": "code",
   "execution_count": 48,
   "metadata": {},
   "outputs": [
    {
     "name": "stderr",
     "output_type": "stream",
     "text": [
      "2024-02-22 04:03:08.061065: I tensorflow/core/grappler/devices.cc:66] Number of eligible GPUs (core count >= 8, compute capability >= 0.0): 0\n",
      "2024-02-22 04:03:08.061219: I tensorflow/core/grappler/clusters/single_machine.cc:361] Starting new session\n",
      "2024-02-22 04:03:08.107014: I tensorflow/core/grappler/devices.cc:66] Number of eligible GPUs (core count >= 8, compute capability >= 0.0): 0\n",
      "2024-02-22 04:03:08.107194: I tensorflow/core/grappler/clusters/single_machine.cc:361] Starting new session\n",
      "2024-02-22 04:03:08.143013: I tensorflow/core/grappler/devices.cc:66] Number of eligible GPUs (core count >= 8, compute capability >= 0.0): 0\n",
      "2024-02-22 04:03:08.143147: I tensorflow/core/grappler/clusters/single_machine.cc:361] Starting new session\n",
      "2024-02-22 04:03:08.180573: I tensorflow/core/grappler/devices.cc:66] Number of eligible GPUs (core count >= 8, compute capability >= 0.0): 0\n",
      "2024-02-22 04:03:08.180692: I tensorflow/core/grappler/clusters/single_machine.cc:361] Starting new session\n"
     ]
    }
   ],
   "source": [
    "evaluation_state = evaluation_process.initialize()\n",
    "model_weights = trainer.get_model_weights(train_state)\n",
    "evaluation_state = evaluation_process.set_model_weights(evaluation_state, model_weights)"
   ]
  },
  {
   "cell_type": "code",
   "execution_count": 49,
   "metadata": {},
   "outputs": [
    {
     "name": "stderr",
     "output_type": "stream",
     "text": [
      "2024-02-22 04:03:24.216546: I tensorflow/core/grappler/devices.cc:66] Number of eligible GPUs (core count >= 8, compute capability >= 0.0): 0\n",
      "2024-02-22 04:03:24.216676: I tensorflow/core/grappler/clusters/single_machine.cc:361] Starting new session\n",
      "2024-02-22 04:03:24.356800: I tensorflow/core/grappler/devices.cc:66] Number of eligible GPUs (core count >= 8, compute capability >= 0.0): 0\n",
      "2024-02-22 04:03:24.356904: I tensorflow/core/grappler/clusters/single_machine.cc:361] Starting new session\n",
      "2024-02-22 04:03:24.362522: I tensorflow/core/grappler/devices.cc:66] Number of eligible GPUs (core count >= 8, compute capability >= 0.0): 0\n",
      "2024-02-22 04:03:24.362599: I tensorflow/core/grappler/clusters/single_machine.cc:361] Starting new session\n",
      "2024-02-22 04:03:24.369835: I tensorflow/core/grappler/devices.cc:66] Number of eligible GPUs (core count >= 8, compute capability >= 0.0): 0\n",
      "2024-02-22 04:03:24.369917: I tensorflow/core/grappler/clusters/single_machine.cc:361] Starting new session\n",
      "2024-02-22 04:03:24.376843: I tensorflow/core/grappler/devices.cc:66] Number of eligible GPUs (core count >= 8, compute capability >= 0.0): 0\n",
      "2024-02-22 04:03:24.376919: I tensorflow/core/grappler/clusters/single_machine.cc:361] Starting new session\n",
      "2024-02-22 04:03:24.386497: I tensorflow/core/grappler/devices.cc:66] Number of eligible GPUs (core count >= 8, compute capability >= 0.0): 0\n",
      "2024-02-22 04:03:24.386571: I tensorflow/core/grappler/clusters/single_machine.cc:361] Starting new session\n",
      "2024-02-22 04:03:24.402972: I tensorflow/core/grappler/devices.cc:66] Number of eligible GPUs (core count >= 8, compute capability >= 0.0): 0\n",
      "2024-02-22 04:03:24.403069: I tensorflow/core/grappler/clusters/single_machine.cc:361] Starting new session\n"
     ]
    }
   ],
   "source": [
    "evaluation_output = evaluation_process.next(evaluation_state, client_data)"
   ]
  },
  {
   "cell_type": "code",
   "execution_count": 50,
   "metadata": {},
   "outputs": [
    {
     "data": {
      "text/plain": [
       "\"OrderedDict([('distributor', ()), ('client_work', OrderedDict([('eval', OrderedDict([('current_round_metrics', OrderedDict([('sparse_categorical_accuracy', 0.95827645), ('loss', 0.36400494), ('num_examples', 1259720), ('num_batches', 5040)])), ('total_rounds_metrics', OrderedDict([('sparse_categorical_accuracy', 0.95827645), ('loss', 0.36400494), ('num_examples', 1259720), ('num_batches', 5040)]))]))])), ('aggregator', OrderedDict([('mean_value', ()), ('mean_weight', ())])), ('finalizer', ())])\""
      ]
     },
     "execution_count": 50,
     "metadata": {},
     "output_type": "execute_result"
    }
   ],
   "source": [
    "str(evaluation_output.metrics)"
   ]
  },
  {
   "cell_type": "code",
   "execution_count": 51,
   "metadata": {},
   "outputs": [],
   "source": [
    "evaluation_output = evaluation_process.next(evaluation_state, client_data_test)"
   ]
  },
  {
   "cell_type": "code",
   "execution_count": 52,
   "metadata": {},
   "outputs": [
    {
     "data": {
      "text/plain": [
       "\"OrderedDict([('distributor', ()), ('client_work', OrderedDict([('eval', OrderedDict([('current_round_metrics', OrderedDict([('sparse_categorical_accuracy', 0.70876586), ('loss', 0.58138806), ('num_examples', 225420), ('num_batches', 902)])), ('total_rounds_metrics', OrderedDict([('sparse_categorical_accuracy', 0.70876586), ('loss', 0.58138806), ('num_examples', 225420), ('num_batches', 902)]))]))])), ('aggregator', OrderedDict([('mean_value', ()), ('mean_weight', ())])), ('finalizer', ())])\""
      ]
     },
     "execution_count": 52,
     "metadata": {},
     "output_type": "execute_result"
    }
   ],
   "source": [
    "str(evaluation_output.metrics)"
   ]
  },
  {
   "cell_type": "code",
   "execution_count": null,
   "metadata": {},
   "outputs": [],
   "source": []
  }
 ],
 "metadata": {
  "kernelspec": {
   "display_name": "Python 3",
   "language": "python",
   "name": "python3"
  },
  "language_info": {
   "codemirror_mode": {
    "name": "ipython",
    "version": 3
   },
   "file_extension": ".py",
   "mimetype": "text/x-python",
   "name": "python",
   "nbconvert_exporter": "python",
   "pygments_lexer": "ipython3",
   "version": "3.10.13"
  }
 },
 "nbformat": 4,
 "nbformat_minor": 2
}
