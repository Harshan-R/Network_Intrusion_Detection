{
 "cells": [
  {
   "cell_type": "code",
   "execution_count": 30,
   "metadata": {},
   "outputs": [
    {
     "name": "stdout",
     "output_type": "stream",
     "text": [
      "Requirement already satisfied: tensorflow-federated in /usr/local/python/3.10.13/lib/python3.10/site-packages (0.70.0)\n",
      "Requirement already satisfied: absl-py==1.*,>=1.0 in /usr/local/python/3.10.13/lib/python3.10/site-packages (from tensorflow-federated) (1.4.0)\n",
      "Requirement already satisfied: attrs~=23.1 in /usr/local/python/3.10.13/lib/python3.10/site-packages (from tensorflow-federated) (23.1.0)\n",
      "Requirement already satisfied: cachetools~=5.3 in /usr/local/python/3.10.13/lib/python3.10/site-packages (from tensorflow-federated) (5.3.2)\n",
      "Requirement already satisfied: dm-tree==0.1.8 in /usr/local/python/3.10.13/lib/python3.10/site-packages (from tensorflow-federated) (0.1.8)\n",
      "Requirement already satisfied: dp-accounting==0.4.3 in /usr/local/python/3.10.13/lib/python3.10/site-packages (from tensorflow-federated) (0.4.3)\n",
      "Requirement already satisfied: farmhashpy==0.4.0 in /usr/local/python/3.10.13/lib/python3.10/site-packages (from tensorflow-federated) (0.4.0)\n",
      "Requirement already satisfied: google-vizier==0.1.11 in /usr/local/python/3.10.13/lib/python3.10/site-packages (from tensorflow-federated) (0.1.11)\n",
      "Requirement already satisfied: grpcio~=1.46 in /usr/local/python/3.10.13/lib/python3.10/site-packages (from tensorflow-federated) (1.60.1)\n",
      "Requirement already satisfied: jaxlib==0.4.14 in /usr/local/python/3.10.13/lib/python3.10/site-packages (from tensorflow-federated) (0.4.14)\n",
      "Requirement already satisfied: jax==0.4.14 in /usr/local/python/3.10.13/lib/python3.10/site-packages (from tensorflow-federated) (0.4.14)\n",
      "Requirement already satisfied: numpy~=1.25 in /usr/local/python/3.10.13/lib/python3.10/site-packages (from tensorflow-federated) (1.25.2)\n",
      "Requirement already satisfied: portpicker~=1.6 in /usr/local/python/3.10.13/lib/python3.10/site-packages (from tensorflow-federated) (1.6.0)\n",
      "Requirement already satisfied: scipy~=1.9.3 in /usr/local/python/3.10.13/lib/python3.10/site-packages (from tensorflow-federated) (1.9.3)\n",
      "Requirement already satisfied: semantic-version~=2.6 in /usr/local/python/3.10.13/lib/python3.10/site-packages (from tensorflow-federated) (2.10.0)\n",
      "Requirement already satisfied: tensorflow-compression==2.14.*,>=2.14.0 in /usr/local/python/3.10.13/lib/python3.10/site-packages (from tensorflow-federated) (2.14.0)\n",
      "Requirement already satisfied: tensorflow-model-optimization==0.7.5 in /usr/local/python/3.10.13/lib/python3.10/site-packages (from tensorflow-federated) (0.7.5)\n",
      "Requirement already satisfied: tensorflow-privacy==0.8.12 in /usr/local/python/3.10.13/lib/python3.10/site-packages (from tensorflow-federated) (0.8.12)\n",
      "Requirement already satisfied: tensorflow==2.14.*,>=2.14.0 in /usr/local/python/3.10.13/lib/python3.10/site-packages (from tensorflow-federated) (2.14.1)\n",
      "Requirement already satisfied: tqdm~=4.64 in /usr/local/python/3.10.13/lib/python3.10/site-packages (from tensorflow-federated) (4.66.2)\n",
      "Requirement already satisfied: typing-extensions==4.5.*,>=4.5.0 in /usr/local/python/3.10.13/lib/python3.10/site-packages (from tensorflow-federated) (4.5.0)\n",
      "Requirement already satisfied: googleapis-common-protos==1.61.0 in /usr/local/python/3.10.13/lib/python3.10/site-packages (from tensorflow-federated) (1.61.0)\n",
      "Requirement already satisfied: mpmath~=1.2 in /home/codespace/.local/lib/python3.10/site-packages (from dp-accounting==0.4.3->tensorflow-federated) (1.3.0)\n",
      "Requirement already satisfied: protobuf>=3.6 in /usr/local/python/3.10.13/lib/python3.10/site-packages (from google-vizier==0.1.11->tensorflow-federated) (4.25.2)\n",
      "Requirement already satisfied: grpcio-tools>=1.35.0 in /usr/local/python/3.10.13/lib/python3.10/site-packages (from google-vizier==0.1.11->tensorflow-federated) (1.60.1)\n",
      "Requirement already satisfied: sqlalchemy<=1.4.20,>=1.4 in /usr/local/python/3.10.13/lib/python3.10/site-packages (from google-vizier==0.1.11->tensorflow-federated) (1.4.20)\n",
      "Requirement already satisfied: ml-dtypes>=0.2.0 in /usr/local/python/3.10.13/lib/python3.10/site-packages (from jax==0.4.14->tensorflow-federated) (0.2.0)\n",
      "Requirement already satisfied: opt-einsum in /usr/local/python/3.10.13/lib/python3.10/site-packages (from jax==0.4.14->tensorflow-federated) (3.3.0)\n",
      "Requirement already satisfied: astunparse>=1.6.0 in /usr/local/python/3.10.13/lib/python3.10/site-packages (from tensorflow==2.14.*,>=2.14.0->tensorflow-federated) (1.6.3)\n",
      "Requirement already satisfied: flatbuffers>=23.5.26 in /usr/local/python/3.10.13/lib/python3.10/site-packages (from tensorflow==2.14.*,>=2.14.0->tensorflow-federated) (23.5.26)\n",
      "Requirement already satisfied: gast!=0.5.0,!=0.5.1,!=0.5.2,>=0.2.1 in /usr/local/python/3.10.13/lib/python3.10/site-packages (from tensorflow==2.14.*,>=2.14.0->tensorflow-federated) (0.5.4)\n",
      "Requirement already satisfied: google-pasta>=0.1.1 in /usr/local/python/3.10.13/lib/python3.10/site-packages (from tensorflow==2.14.*,>=2.14.0->tensorflow-federated) (0.2.0)\n",
      "Requirement already satisfied: h5py>=2.9.0 in /usr/local/python/3.10.13/lib/python3.10/site-packages (from tensorflow==2.14.*,>=2.14.0->tensorflow-federated) (3.10.0)\n",
      "Requirement already satisfied: libclang>=13.0.0 in /usr/local/python/3.10.13/lib/python3.10/site-packages (from tensorflow==2.14.*,>=2.14.0->tensorflow-federated) (16.0.6)\n",
      "Requirement already satisfied: packaging in /usr/local/python/3.10.13/lib/python3.10/site-packages (from tensorflow==2.14.*,>=2.14.0->tensorflow-federated) (22.0)\n",
      "Requirement already satisfied: setuptools in /usr/local/python/3.10.13/lib/python3.10/site-packages (from tensorflow==2.14.*,>=2.14.0->tensorflow-federated) (68.2.2)\n",
      "Requirement already satisfied: six>=1.12.0 in /home/codespace/.local/lib/python3.10/site-packages (from tensorflow==2.14.*,>=2.14.0->tensorflow-federated) (1.16.0)\n",
      "Requirement already satisfied: termcolor>=1.1.0 in /usr/local/python/3.10.13/lib/python3.10/site-packages (from tensorflow==2.14.*,>=2.14.0->tensorflow-federated) (2.4.0)\n",
      "Requirement already satisfied: wrapt<1.15,>=1.11.0 in /usr/local/python/3.10.13/lib/python3.10/site-packages (from tensorflow==2.14.*,>=2.14.0->tensorflow-federated) (1.14.1)\n",
      "Requirement already satisfied: tensorflow-io-gcs-filesystem>=0.23.1 in /usr/local/python/3.10.13/lib/python3.10/site-packages (from tensorflow==2.14.*,>=2.14.0->tensorflow-federated) (0.36.0)\n",
      "Requirement already satisfied: tensorboard<2.15,>=2.14 in /usr/local/python/3.10.13/lib/python3.10/site-packages (from tensorflow==2.14.*,>=2.14.0->tensorflow-federated) (2.14.1)\n",
      "Requirement already satisfied: tensorflow-estimator<2.15,>=2.14.0 in /usr/local/python/3.10.13/lib/python3.10/site-packages (from tensorflow==2.14.*,>=2.14.0->tensorflow-federated) (2.14.0)\n",
      "Requirement already satisfied: keras<2.15,>=2.14.0 in /usr/local/python/3.10.13/lib/python3.10/site-packages (from tensorflow==2.14.*,>=2.14.0->tensorflow-federated) (2.14.0)\n",
      "Requirement already satisfied: tensorflow-probability~=0.15 in /usr/local/python/3.10.13/lib/python3.10/site-packages (from tensorflow-compression==2.14.*,>=2.14.0->tensorflow-federated) (0.22.1)\n",
      "Requirement already satisfied: immutabledict~=2.2 in /usr/local/python/3.10.13/lib/python3.10/site-packages (from tensorflow-privacy==0.8.12->tensorflow-federated) (2.2.5)\n",
      "Requirement already satisfied: matplotlib~=3.3 in /home/codespace/.local/lib/python3.10/site-packages (from tensorflow-privacy==0.8.12->tensorflow-federated) (3.8.2)\n",
      "Collecting pandas~=1.4 (from tensorflow-privacy==0.8.12->tensorflow-federated)\n",
      "  Using cached pandas-1.5.3-cp310-cp310-manylinux_2_17_x86_64.manylinux2014_x86_64.whl (12.1 MB)\n",
      "Requirement already satisfied: scikit-learn==1.*,>=1.0 in /home/codespace/.local/lib/python3.10/site-packages (from tensorflow-privacy==0.8.12->tensorflow-federated) (1.3.2)\n",
      "Requirement already satisfied: statsmodels~=0.13 in /usr/local/python/3.10.13/lib/python3.10/site-packages (from tensorflow-privacy==0.8.12->tensorflow-federated) (0.14.1)\n",
      "Requirement already satisfied: tf-models-official~=2.13 in /usr/local/python/3.10.13/lib/python3.10/site-packages (from tensorflow-privacy==0.8.12->tensorflow-federated) (2.14.2)\n",
      "Requirement already satisfied: joblib>=1.1.1 in /home/codespace/.local/lib/python3.10/site-packages (from scikit-learn==1.*,>=1.0->tensorflow-privacy==0.8.12->tensorflow-federated) (1.3.2)\n",
      "Requirement already satisfied: threadpoolctl>=2.0.0 in /home/codespace/.local/lib/python3.10/site-packages (from scikit-learn==1.*,>=1.0->tensorflow-privacy==0.8.12->tensorflow-federated) (3.2.0)\n",
      "Requirement already satisfied: psutil in /home/codespace/.local/lib/python3.10/site-packages (from portpicker~=1.6->tensorflow-federated) (5.9.7)\n",
      "Requirement already satisfied: wheel<1.0,>=0.23.0 in /usr/local/python/3.10.13/lib/python3.10/site-packages (from astunparse>=1.6.0->tensorflow==2.14.*,>=2.14.0->tensorflow-federated) (0.42.0)\n",
      "Requirement already satisfied: contourpy>=1.0.1 in /home/codespace/.local/lib/python3.10/site-packages (from matplotlib~=3.3->tensorflow-privacy==0.8.12->tensorflow-federated) (1.2.0)\n",
      "Requirement already satisfied: cycler>=0.10 in /home/codespace/.local/lib/python3.10/site-packages (from matplotlib~=3.3->tensorflow-privacy==0.8.12->tensorflow-federated) (0.12.1)\n",
      "Requirement already satisfied: fonttools>=4.22.0 in /home/codespace/.local/lib/python3.10/site-packages (from matplotlib~=3.3->tensorflow-privacy==0.8.12->tensorflow-federated) (4.47.0)\n",
      "Requirement already satisfied: kiwisolver>=1.3.1 in /home/codespace/.local/lib/python3.10/site-packages (from matplotlib~=3.3->tensorflow-privacy==0.8.12->tensorflow-federated) (1.4.5)\n",
      "Requirement already satisfied: pillow>=8 in /home/codespace/.local/lib/python3.10/site-packages (from matplotlib~=3.3->tensorflow-privacy==0.8.12->tensorflow-federated) (10.2.0)\n",
      "Requirement already satisfied: pyparsing>=2.3.1 in /home/codespace/.local/lib/python3.10/site-packages (from matplotlib~=3.3->tensorflow-privacy==0.8.12->tensorflow-federated) (3.1.1)\n",
      "Requirement already satisfied: python-dateutil>=2.7 in /home/codespace/.local/lib/python3.10/site-packages (from matplotlib~=3.3->tensorflow-privacy==0.8.12->tensorflow-federated) (2.8.2)\n",
      "Requirement already satisfied: pytz>=2020.1 in /home/codespace/.local/lib/python3.10/site-packages (from pandas~=1.4->tensorflow-privacy==0.8.12->tensorflow-federated) (2023.3.post1)\n",
      "Requirement already satisfied: greenlet!=0.4.17 in /usr/local/python/3.10.13/lib/python3.10/site-packages (from sqlalchemy<=1.4.20,>=1.4->google-vizier==0.1.11->tensorflow-federated) (3.0.3)\n",
      "Requirement already satisfied: patsy>=0.5.4 in /usr/local/python/3.10.13/lib/python3.10/site-packages (from statsmodels~=0.13->tensorflow-privacy==0.8.12->tensorflow-federated) (0.5.6)\n",
      "Requirement already satisfied: google-auth<3,>=1.6.3 in /usr/local/python/3.10.13/lib/python3.10/site-packages (from tensorboard<2.15,>=2.14->tensorflow==2.14.*,>=2.14.0->tensorflow-federated) (2.27.0)\n",
      "Requirement already satisfied: google-auth-oauthlib<1.1,>=0.5 in /usr/local/python/3.10.13/lib/python3.10/site-packages (from tensorboard<2.15,>=2.14->tensorflow==2.14.*,>=2.14.0->tensorflow-federated) (1.0.0)\n",
      "Requirement already satisfied: markdown>=2.6.8 in /usr/local/python/3.10.13/lib/python3.10/site-packages (from tensorboard<2.15,>=2.14->tensorflow==2.14.*,>=2.14.0->tensorflow-federated) (3.5.2)\n",
      "Requirement already satisfied: requests<3,>=2.21.0 in /home/codespace/.local/lib/python3.10/site-packages (from tensorboard<2.15,>=2.14->tensorflow==2.14.*,>=2.14.0->tensorflow-federated) (2.31.0)\n",
      "Requirement already satisfied: tensorboard-data-server<0.8.0,>=0.7.0 in /usr/local/python/3.10.13/lib/python3.10/site-packages (from tensorboard<2.15,>=2.14->tensorflow==2.14.*,>=2.14.0->tensorflow-federated) (0.7.2)\n",
      "Requirement already satisfied: werkzeug>=1.0.1 in /usr/local/python/3.10.13/lib/python3.10/site-packages (from tensorboard<2.15,>=2.14->tensorflow==2.14.*,>=2.14.0->tensorflow-federated) (3.0.1)\n",
      "Requirement already satisfied: decorator in /home/codespace/.local/lib/python3.10/site-packages (from tensorflow-probability~=0.15->tensorflow-compression==2.14.*,>=2.14.0->tensorflow-federated) (5.1.1)\n",
      "Requirement already satisfied: cloudpickle>=1.3 in /usr/local/python/3.10.13/lib/python3.10/site-packages (from tensorflow-probability~=0.15->tensorflow-compression==2.14.*,>=2.14.0->tensorflow-federated) (3.0.0)\n",
      "Requirement already satisfied: Cython in /usr/local/python/3.10.13/lib/python3.10/site-packages (from tf-models-official~=2.13->tensorflow-privacy==0.8.12->tensorflow-federated) (3.0.8)\n",
      "Requirement already satisfied: gin-config in /usr/local/python/3.10.13/lib/python3.10/site-packages (from tf-models-official~=2.13->tensorflow-privacy==0.8.12->tensorflow-federated) (0.5.0)\n",
      "Requirement already satisfied: google-api-python-client>=1.6.7 in /usr/local/python/3.10.13/lib/python3.10/site-packages (from tf-models-official~=2.13->tensorflow-privacy==0.8.12->tensorflow-federated) (2.117.0)\n",
      "Requirement already satisfied: kaggle>=1.3.9 in /usr/local/python/3.10.13/lib/python3.10/site-packages (from tf-models-official~=2.13->tensorflow-privacy==0.8.12->tensorflow-federated) (1.6.5)\n",
      "Requirement already satisfied: oauth2client in /usr/local/python/3.10.13/lib/python3.10/site-packages (from tf-models-official~=2.13->tensorflow-privacy==0.8.12->tensorflow-federated) (4.1.3)\n",
      "Requirement already satisfied: opencv-python-headless in /usr/local/python/3.10.13/lib/python3.10/site-packages (from tf-models-official~=2.13->tensorflow-privacy==0.8.12->tensorflow-federated) (4.9.0.80)\n",
      "Requirement already satisfied: py-cpuinfo>=3.3.0 in /usr/local/python/3.10.13/lib/python3.10/site-packages (from tf-models-official~=2.13->tensorflow-privacy==0.8.12->tensorflow-federated) (9.0.0)\n",
      "Requirement already satisfied: pycocotools in /usr/local/python/3.10.13/lib/python3.10/site-packages (from tf-models-official~=2.13->tensorflow-privacy==0.8.12->tensorflow-federated) (2.0.7)\n",
      "Requirement already satisfied: pyyaml>=6.0.0 in /home/codespace/.local/lib/python3.10/site-packages (from tf-models-official~=2.13->tensorflow-privacy==0.8.12->tensorflow-federated) (6.0.1)\n",
      "Requirement already satisfied: sacrebleu in /usr/local/python/3.10.13/lib/python3.10/site-packages (from tf-models-official~=2.13->tensorflow-privacy==0.8.12->tensorflow-federated) (2.4.0)\n",
      "Requirement already satisfied: sentencepiece in /usr/local/python/3.10.13/lib/python3.10/site-packages (from tf-models-official~=2.13->tensorflow-privacy==0.8.12->tensorflow-federated) (0.1.99)\n",
      "Requirement already satisfied: seqeval in /usr/local/python/3.10.13/lib/python3.10/site-packages (from tf-models-official~=2.13->tensorflow-privacy==0.8.12->tensorflow-federated) (1.2.2)\n",
      "Requirement already satisfied: tensorflow-datasets in /usr/local/python/3.10.13/lib/python3.10/site-packages (from tf-models-official~=2.13->tensorflow-privacy==0.8.12->tensorflow-federated) (4.9.4)\n",
      "Requirement already satisfied: tensorflow-hub>=0.6.0 in /usr/local/python/3.10.13/lib/python3.10/site-packages (from tf-models-official~=2.13->tensorflow-privacy==0.8.12->tensorflow-federated) (0.16.1)\n",
      "Requirement already satisfied: tensorflow-text~=2.14.0 in /usr/local/python/3.10.13/lib/python3.10/site-packages (from tf-models-official~=2.13->tensorflow-privacy==0.8.12->tensorflow-federated) (2.14.0)\n",
      "Requirement already satisfied: tf-slim>=1.1.0 in /usr/local/python/3.10.13/lib/python3.10/site-packages (from tf-models-official~=2.13->tensorflow-privacy==0.8.12->tensorflow-federated) (1.1.0)\n",
      "Requirement already satisfied: httplib2<1.dev0,>=0.15.0 in /usr/local/python/3.10.13/lib/python3.10/site-packages (from google-api-python-client>=1.6.7->tf-models-official~=2.13->tensorflow-privacy==0.8.12->tensorflow-federated) (0.22.0)\n",
      "Requirement already satisfied: google-auth-httplib2>=0.1.0 in /usr/local/python/3.10.13/lib/python3.10/site-packages (from google-api-python-client>=1.6.7->tf-models-official~=2.13->tensorflow-privacy==0.8.12->tensorflow-federated) (0.2.0)\n",
      "Requirement already satisfied: google-api-core!=2.0.*,!=2.1.*,!=2.2.*,!=2.3.0,<3.0.0.dev0,>=1.31.5 in /usr/local/python/3.10.13/lib/python3.10/site-packages (from google-api-python-client>=1.6.7->tf-models-official~=2.13->tensorflow-privacy==0.8.12->tensorflow-federated) (2.17.0)\n",
      "Requirement already satisfied: uritemplate<5,>=3.0.1 in /usr/local/python/3.10.13/lib/python3.10/site-packages (from google-api-python-client>=1.6.7->tf-models-official~=2.13->tensorflow-privacy==0.8.12->tensorflow-federated) (4.1.1)\n",
      "Requirement already satisfied: pyasn1-modules>=0.2.1 in /usr/local/python/3.10.13/lib/python3.10/site-packages (from google-auth<3,>=1.6.3->tensorboard<2.15,>=2.14->tensorflow==2.14.*,>=2.14.0->tensorflow-federated) (0.3.0)\n",
      "Requirement already satisfied: rsa<5,>=3.1.4 in /usr/local/python/3.10.13/lib/python3.10/site-packages (from google-auth<3,>=1.6.3->tensorboard<2.15,>=2.14->tensorflow==2.14.*,>=2.14.0->tensorflow-federated) (4.9)\n",
      "Requirement already satisfied: requests-oauthlib>=0.7.0 in /usr/local/python/3.10.13/lib/python3.10/site-packages (from google-auth-oauthlib<1.1,>=0.5->tensorboard<2.15,>=2.14->tensorflow==2.14.*,>=2.14.0->tensorflow-federated) (1.3.1)\n",
      "Requirement already satisfied: certifi in /home/codespace/.local/lib/python3.10/site-packages (from kaggle>=1.3.9->tf-models-official~=2.13->tensorflow-privacy==0.8.12->tensorflow-federated) (2023.11.17)\n",
      "Requirement already satisfied: python-slugify in /usr/local/python/3.10.13/lib/python3.10/site-packages (from kaggle>=1.3.9->tf-models-official~=2.13->tensorflow-privacy==0.8.12->tensorflow-federated) (8.0.4)\n",
      "Requirement already satisfied: urllib3 in /usr/local/python/3.10.13/lib/python3.10/site-packages (from kaggle>=1.3.9->tf-models-official~=2.13->tensorflow-privacy==0.8.12->tensorflow-federated) (2.0.7)\n",
      "Requirement already satisfied: bleach in /home/codespace/.local/lib/python3.10/site-packages (from kaggle>=1.3.9->tf-models-official~=2.13->tensorflow-privacy==0.8.12->tensorflow-federated) (6.1.0)\n",
      "Requirement already satisfied: charset-normalizer<4,>=2 in /home/codespace/.local/lib/python3.10/site-packages (from requests<3,>=2.21.0->tensorboard<2.15,>=2.14->tensorflow==2.14.*,>=2.14.0->tensorflow-federated) (3.3.2)\n",
      "Requirement already satisfied: idna<4,>=2.5 in /home/codespace/.local/lib/python3.10/site-packages (from requests<3,>=2.21.0->tensorboard<2.15,>=2.14->tensorflow==2.14.*,>=2.14.0->tensorflow-federated) (3.6)\n",
      "Requirement already satisfied: tf-keras>=2.14.1 in /usr/local/python/3.10.13/lib/python3.10/site-packages (from tensorflow-hub>=0.6.0->tf-models-official~=2.13->tensorflow-privacy==0.8.12->tensorflow-federated) (2.15.0)\n",
      "Requirement already satisfied: MarkupSafe>=2.1.1 in /home/codespace/.local/lib/python3.10/site-packages (from werkzeug>=1.0.1->tensorboard<2.15,>=2.14->tensorflow==2.14.*,>=2.14.0->tensorflow-federated) (2.1.3)\n",
      "Requirement already satisfied: pyasn1>=0.1.7 in /usr/local/python/3.10.13/lib/python3.10/site-packages (from oauth2client->tf-models-official~=2.13->tensorflow-privacy==0.8.12->tensorflow-federated) (0.5.1)\n",
      "Requirement already satisfied: portalocker in /usr/local/python/3.10.13/lib/python3.10/site-packages (from sacrebleu->tf-models-official~=2.13->tensorflow-privacy==0.8.12->tensorflow-federated) (2.8.2)\n",
      "Requirement already satisfied: regex in /usr/local/python/3.10.13/lib/python3.10/site-packages (from sacrebleu->tf-models-official~=2.13->tensorflow-privacy==0.8.12->tensorflow-federated) (2023.12.25)\n",
      "Requirement already satisfied: tabulate>=0.8.9 in /usr/local/python/3.10.13/lib/python3.10/site-packages (from sacrebleu->tf-models-official~=2.13->tensorflow-privacy==0.8.12->tensorflow-federated) (0.9.0)\n",
      "Requirement already satisfied: colorama in /home/codespace/.local/lib/python3.10/site-packages (from sacrebleu->tf-models-official~=2.13->tensorflow-privacy==0.8.12->tensorflow-federated) (0.4.6)\n",
      "Requirement already satisfied: lxml in /usr/local/python/3.10.13/lib/python3.10/site-packages (from sacrebleu->tf-models-official~=2.13->tensorflow-privacy==0.8.12->tensorflow-federated) (5.1.0)\n",
      "Requirement already satisfied: click in /usr/local/python/3.10.13/lib/python3.10/site-packages (from tensorflow-datasets->tf-models-official~=2.13->tensorflow-privacy==0.8.12->tensorflow-federated) (8.1.7)\n",
      "Requirement already satisfied: etils>=0.9.0 in /usr/local/python/3.10.13/lib/python3.10/site-packages (from etils[enp,epath,etree]>=0.9.0->tensorflow-datasets->tf-models-official~=2.13->tensorflow-privacy==0.8.12->tensorflow-federated) (1.6.0)\n",
      "Requirement already satisfied: promise in /usr/local/python/3.10.13/lib/python3.10/site-packages (from tensorflow-datasets->tf-models-official~=2.13->tensorflow-privacy==0.8.12->tensorflow-federated) (2.3)\n",
      "Requirement already satisfied: tensorflow-metadata in /usr/local/python/3.10.13/lib/python3.10/site-packages (from tensorflow-datasets->tf-models-official~=2.13->tensorflow-privacy==0.8.12->tensorflow-federated) (1.13.1)\n",
      "Requirement already satisfied: toml in /usr/local/python/3.10.13/lib/python3.10/site-packages (from tensorflow-datasets->tf-models-official~=2.13->tensorflow-privacy==0.8.12->tensorflow-federated) (0.10.2)\n",
      "Requirement already satisfied: array-record>=0.5.0 in /usr/local/python/3.10.13/lib/python3.10/site-packages (from tensorflow-datasets->tf-models-official~=2.13->tensorflow-privacy==0.8.12->tensorflow-federated) (0.5.0)\n",
      "Requirement already satisfied: fsspec in /home/codespace/.local/lib/python3.10/site-packages (from etils[enp,epath,etree]>=0.9.0->tensorflow-datasets->tf-models-official~=2.13->tensorflow-privacy==0.8.12->tensorflow-federated) (2023.12.2)\n",
      "Requirement already satisfied: importlib_resources in /usr/local/python/3.10.13/lib/python3.10/site-packages (from etils[enp,epath,etree]>=0.9.0->tensorflow-datasets->tf-models-official~=2.13->tensorflow-privacy==0.8.12->tensorflow-federated) (6.1.1)\n",
      "Requirement already satisfied: zipp in /usr/local/python/3.10.13/lib/python3.10/site-packages (from etils[enp,epath,etree]>=0.9.0->tensorflow-datasets->tf-models-official~=2.13->tensorflow-privacy==0.8.12->tensorflow-federated) (3.17.0)\n",
      "Requirement already satisfied: oauthlib>=3.0.0 in /usr/local/python/3.10.13/lib/python3.10/site-packages (from requests-oauthlib>=0.7.0->google-auth-oauthlib<1.1,>=0.5->tensorboard<2.15,>=2.14->tensorflow==2.14.*,>=2.14.0->tensorflow-federated) (3.2.2)\n",
      "Requirement already satisfied: webencodings in /home/codespace/.local/lib/python3.10/site-packages (from bleach->kaggle>=1.3.9->tf-models-official~=2.13->tensorflow-privacy==0.8.12->tensorflow-federated) (0.5.1)\n",
      "Requirement already satisfied: text-unidecode>=1.3 in /usr/local/python/3.10.13/lib/python3.10/site-packages (from python-slugify->kaggle>=1.3.9->tf-models-official~=2.13->tensorflow-privacy==0.8.12->tensorflow-federated) (1.3)\n",
      "Installing collected packages: pandas\n",
      "  Attempting uninstall: pandas\n",
      "    Found existing installation: pandas 2.2.0\n",
      "    Uninstalling pandas-2.2.0:\n",
      "      Successfully uninstalled pandas-2.2.0\n",
      "Successfully installed pandas-1.5.3\n",
      "Note: you may need to restart the kernel to use updated packages.\n"
     ]
    }
   ],
   "source": [
    "pip install --upgrade tensorflow-federated\n"
   ]
  },
  {
   "cell_type": "code",
   "execution_count": 1,
   "metadata": {},
   "outputs": [
    {
     "name": "stdout",
     "output_type": "stream",
     "text": [
      "\u001b[31mERROR: pip's dependency resolver does not currently take into account all the packages that are installed. This behaviour is the source of the following dependency conflicts.\n",
      "tensorflow-privacy 0.8.12 requires pandas~=1.4, but you have pandas 2.2.0 which is incompatible.\u001b[0m\u001b[31m\n",
      "\u001b[0m"
     ]
    }
   ],
   "source": [
    "!pip install --quiet --upgrade nest-asyncio\n",
    "!pip install --quiet --upgrade pandas\n",
    "!pip install --quiet --upgrade matplotlib"
   ]
  },
  {
   "cell_type": "code",
   "execution_count": 28,
   "metadata": {},
   "outputs": [
    {
     "name": "stdout",
     "output_type": "stream",
     "text": [
      "Requirement already satisfied: pip in /usr/local/python/3.10.13/lib/python3.10/site-packages (24.0)\n"
     ]
    }
   ],
   "source": [
    "!pip install --upgrade pip"
   ]
  },
  {
   "cell_type": "code",
   "execution_count": 4,
   "metadata": {},
   "outputs": [
    {
     "name": "stdout",
     "output_type": "stream",
     "text": [
      "Requirement already satisfied: tensorflow-federated in /usr/local/python/3.10.13/lib/python3.10/site-packages (0.70.0)\n",
      "Requirement already satisfied: absl-py==1.*,>=1.0 in /usr/local/python/3.10.13/lib/python3.10/site-packages (from tensorflow-federated) (1.4.0)\n",
      "Requirement already satisfied: attrs~=23.1 in /usr/local/python/3.10.13/lib/python3.10/site-packages (from tensorflow-federated) (23.1.0)\n",
      "Requirement already satisfied: cachetools~=5.3 in /usr/local/python/3.10.13/lib/python3.10/site-packages (from tensorflow-federated) (5.3.2)\n",
      "Requirement already satisfied: dm-tree==0.1.8 in /usr/local/python/3.10.13/lib/python3.10/site-packages (from tensorflow-federated) (0.1.8)\n",
      "Requirement already satisfied: dp-accounting==0.4.3 in /usr/local/python/3.10.13/lib/python3.10/site-packages (from tensorflow-federated) (0.4.3)\n",
      "Requirement already satisfied: farmhashpy==0.4.0 in /usr/local/python/3.10.13/lib/python3.10/site-packages (from tensorflow-federated) (0.4.0)\n",
      "Requirement already satisfied: google-vizier==0.1.11 in /usr/local/python/3.10.13/lib/python3.10/site-packages (from tensorflow-federated) (0.1.11)\n",
      "Requirement already satisfied: grpcio~=1.46 in /usr/local/python/3.10.13/lib/python3.10/site-packages (from tensorflow-federated) (1.60.1)\n",
      "Requirement already satisfied: jaxlib==0.4.14 in /usr/local/python/3.10.13/lib/python3.10/site-packages (from tensorflow-federated) (0.4.14)\n",
      "Requirement already satisfied: jax==0.4.14 in /usr/local/python/3.10.13/lib/python3.10/site-packages (from tensorflow-federated) (0.4.14)\n",
      "Requirement already satisfied: numpy~=1.25 in /usr/local/python/3.10.13/lib/python3.10/site-packages (from tensorflow-federated) (1.25.2)\n",
      "Requirement already satisfied: portpicker~=1.6 in /usr/local/python/3.10.13/lib/python3.10/site-packages (from tensorflow-federated) (1.6.0)\n",
      "Requirement already satisfied: scipy~=1.9.3 in /usr/local/python/3.10.13/lib/python3.10/site-packages (from tensorflow-federated) (1.9.3)\n",
      "Requirement already satisfied: semantic-version~=2.6 in /usr/local/python/3.10.13/lib/python3.10/site-packages (from tensorflow-federated) (2.10.0)\n",
      "Requirement already satisfied: tensorflow-compression==2.14.*,>=2.14.0 in /usr/local/python/3.10.13/lib/python3.10/site-packages (from tensorflow-federated) (2.14.0)\n",
      "Requirement already satisfied: tensorflow-model-optimization==0.7.5 in /usr/local/python/3.10.13/lib/python3.10/site-packages (from tensorflow-federated) (0.7.5)\n",
      "Requirement already satisfied: tensorflow-privacy==0.8.12 in /usr/local/python/3.10.13/lib/python3.10/site-packages (from tensorflow-federated) (0.8.12)\n",
      "Requirement already satisfied: tensorflow==2.14.*,>=2.14.0 in /usr/local/python/3.10.13/lib/python3.10/site-packages (from tensorflow-federated) (2.14.1)\n",
      "Requirement already satisfied: tqdm~=4.64 in /usr/local/python/3.10.13/lib/python3.10/site-packages (from tensorflow-federated) (4.66.2)\n",
      "Requirement already satisfied: typing-extensions==4.5.*,>=4.5.0 in /usr/local/python/3.10.13/lib/python3.10/site-packages (from tensorflow-federated) (4.5.0)\n",
      "Requirement already satisfied: googleapis-common-protos==1.61.0 in /usr/local/python/3.10.13/lib/python3.10/site-packages (from tensorflow-federated) (1.61.0)\n",
      "Requirement already satisfied: mpmath~=1.2 in /home/codespace/.local/lib/python3.10/site-packages (from dp-accounting==0.4.3->tensorflow-federated) (1.3.0)\n",
      "Requirement already satisfied: protobuf>=3.6 in /usr/local/python/3.10.13/lib/python3.10/site-packages (from google-vizier==0.1.11->tensorflow-federated) (4.25.2)\n",
      "Requirement already satisfied: grpcio-tools>=1.35.0 in /usr/local/python/3.10.13/lib/python3.10/site-packages (from google-vizier==0.1.11->tensorflow-federated) (1.60.1)\n",
      "Requirement already satisfied: sqlalchemy<=1.4.20,>=1.4 in /usr/local/python/3.10.13/lib/python3.10/site-packages (from google-vizier==0.1.11->tensorflow-federated) (1.4.20)\n",
      "Requirement already satisfied: ml-dtypes>=0.2.0 in /usr/local/python/3.10.13/lib/python3.10/site-packages (from jax==0.4.14->tensorflow-federated) (0.2.0)\n",
      "Requirement already satisfied: opt-einsum in /usr/local/python/3.10.13/lib/python3.10/site-packages (from jax==0.4.14->tensorflow-federated) (3.3.0)\n",
      "Requirement already satisfied: astunparse>=1.6.0 in /usr/local/python/3.10.13/lib/python3.10/site-packages (from tensorflow==2.14.*,>=2.14.0->tensorflow-federated) (1.6.3)\n",
      "Requirement already satisfied: flatbuffers>=23.5.26 in /usr/local/python/3.10.13/lib/python3.10/site-packages (from tensorflow==2.14.*,>=2.14.0->tensorflow-federated) (23.5.26)\n",
      "Requirement already satisfied: gast!=0.5.0,!=0.5.1,!=0.5.2,>=0.2.1 in /usr/local/python/3.10.13/lib/python3.10/site-packages (from tensorflow==2.14.*,>=2.14.0->tensorflow-federated) (0.5.4)\n",
      "Requirement already satisfied: google-pasta>=0.1.1 in /usr/local/python/3.10.13/lib/python3.10/site-packages (from tensorflow==2.14.*,>=2.14.0->tensorflow-federated) (0.2.0)\n",
      "Requirement already satisfied: h5py>=2.9.0 in /usr/local/python/3.10.13/lib/python3.10/site-packages (from tensorflow==2.14.*,>=2.14.0->tensorflow-federated) (3.10.0)\n",
      "Requirement already satisfied: libclang>=13.0.0 in /usr/local/python/3.10.13/lib/python3.10/site-packages (from tensorflow==2.14.*,>=2.14.0->tensorflow-federated) (16.0.6)\n",
      "Requirement already satisfied: packaging in /usr/local/python/3.10.13/lib/python3.10/site-packages (from tensorflow==2.14.*,>=2.14.0->tensorflow-federated) (22.0)\n",
      "Requirement already satisfied: setuptools in /usr/local/python/3.10.13/lib/python3.10/site-packages (from tensorflow==2.14.*,>=2.14.0->tensorflow-federated) (68.2.2)\n",
      "Requirement already satisfied: six>=1.12.0 in /home/codespace/.local/lib/python3.10/site-packages (from tensorflow==2.14.*,>=2.14.0->tensorflow-federated) (1.16.0)\n",
      "Requirement already satisfied: termcolor>=1.1.0 in /usr/local/python/3.10.13/lib/python3.10/site-packages (from tensorflow==2.14.*,>=2.14.0->tensorflow-federated) (2.4.0)\n",
      "Requirement already satisfied: wrapt<1.15,>=1.11.0 in /usr/local/python/3.10.13/lib/python3.10/site-packages (from tensorflow==2.14.*,>=2.14.0->tensorflow-federated) (1.14.1)\n",
      "Requirement already satisfied: tensorflow-io-gcs-filesystem>=0.23.1 in /usr/local/python/3.10.13/lib/python3.10/site-packages (from tensorflow==2.14.*,>=2.14.0->tensorflow-federated) (0.36.0)\n",
      "Requirement already satisfied: tensorboard<2.15,>=2.14 in /usr/local/python/3.10.13/lib/python3.10/site-packages (from tensorflow==2.14.*,>=2.14.0->tensorflow-federated) (2.14.1)\n",
      "Requirement already satisfied: tensorflow-estimator<2.15,>=2.14.0 in /usr/local/python/3.10.13/lib/python3.10/site-packages (from tensorflow==2.14.*,>=2.14.0->tensorflow-federated) (2.14.0)\n",
      "Requirement already satisfied: keras<2.15,>=2.14.0 in /usr/local/python/3.10.13/lib/python3.10/site-packages (from tensorflow==2.14.*,>=2.14.0->tensorflow-federated) (2.14.0)\n",
      "Requirement already satisfied: tensorflow-probability~=0.15 in /usr/local/python/3.10.13/lib/python3.10/site-packages (from tensorflow-compression==2.14.*,>=2.14.0->tensorflow-federated) (0.22.1)\n",
      "Requirement already satisfied: immutabledict~=2.2 in /usr/local/python/3.10.13/lib/python3.10/site-packages (from tensorflow-privacy==0.8.12->tensorflow-federated) (2.2.5)\n",
      "Requirement already satisfied: matplotlib~=3.3 in /home/codespace/.local/lib/python3.10/site-packages (from tensorflow-privacy==0.8.12->tensorflow-federated) (3.8.2)\n",
      "Collecting pandas~=1.4 (from tensorflow-privacy==0.8.12->tensorflow-federated)\n",
      "  Using cached pandas-1.5.3-cp310-cp310-manylinux_2_17_x86_64.manylinux2014_x86_64.whl (12.1 MB)\n",
      "Requirement already satisfied: scikit-learn==1.*,>=1.0 in /home/codespace/.local/lib/python3.10/site-packages (from tensorflow-privacy==0.8.12->tensorflow-federated) (1.3.2)\n",
      "Requirement already satisfied: statsmodels~=0.13 in /usr/local/python/3.10.13/lib/python3.10/site-packages (from tensorflow-privacy==0.8.12->tensorflow-federated) (0.14.1)\n",
      "Requirement already satisfied: tf-models-official~=2.13 in /usr/local/python/3.10.13/lib/python3.10/site-packages (from tensorflow-privacy==0.8.12->tensorflow-federated) (2.14.2)\n",
      "Requirement already satisfied: joblib>=1.1.1 in /home/codespace/.local/lib/python3.10/site-packages (from scikit-learn==1.*,>=1.0->tensorflow-privacy==0.8.12->tensorflow-federated) (1.3.2)\n",
      "Requirement already satisfied: threadpoolctl>=2.0.0 in /home/codespace/.local/lib/python3.10/site-packages (from scikit-learn==1.*,>=1.0->tensorflow-privacy==0.8.12->tensorflow-federated) (3.2.0)\n",
      "Requirement already satisfied: psutil in /home/codespace/.local/lib/python3.10/site-packages (from portpicker~=1.6->tensorflow-federated) (5.9.7)\n",
      "Requirement already satisfied: wheel<1.0,>=0.23.0 in /usr/local/python/3.10.13/lib/python3.10/site-packages (from astunparse>=1.6.0->tensorflow==2.14.*,>=2.14.0->tensorflow-federated) (0.42.0)\n",
      "Requirement already satisfied: contourpy>=1.0.1 in /home/codespace/.local/lib/python3.10/site-packages (from matplotlib~=3.3->tensorflow-privacy==0.8.12->tensorflow-federated) (1.2.0)\n",
      "Requirement already satisfied: cycler>=0.10 in /home/codespace/.local/lib/python3.10/site-packages (from matplotlib~=3.3->tensorflow-privacy==0.8.12->tensorflow-federated) (0.12.1)\n",
      "Requirement already satisfied: fonttools>=4.22.0 in /home/codespace/.local/lib/python3.10/site-packages (from matplotlib~=3.3->tensorflow-privacy==0.8.12->tensorflow-federated) (4.47.0)\n",
      "Requirement already satisfied: kiwisolver>=1.3.1 in /home/codespace/.local/lib/python3.10/site-packages (from matplotlib~=3.3->tensorflow-privacy==0.8.12->tensorflow-federated) (1.4.5)\n",
      "Requirement already satisfied: pillow>=8 in /home/codespace/.local/lib/python3.10/site-packages (from matplotlib~=3.3->tensorflow-privacy==0.8.12->tensorflow-federated) (10.2.0)\n",
      "Requirement already satisfied: pyparsing>=2.3.1 in /home/codespace/.local/lib/python3.10/site-packages (from matplotlib~=3.3->tensorflow-privacy==0.8.12->tensorflow-federated) (3.1.1)\n",
      "Requirement already satisfied: python-dateutil>=2.7 in /home/codespace/.local/lib/python3.10/site-packages (from matplotlib~=3.3->tensorflow-privacy==0.8.12->tensorflow-federated) (2.8.2)\n",
      "Requirement already satisfied: pytz>=2020.1 in /home/codespace/.local/lib/python3.10/site-packages (from pandas~=1.4->tensorflow-privacy==0.8.12->tensorflow-federated) (2023.3.post1)\n",
      "Requirement already satisfied: greenlet!=0.4.17 in /usr/local/python/3.10.13/lib/python3.10/site-packages (from sqlalchemy<=1.4.20,>=1.4->google-vizier==0.1.11->tensorflow-federated) (3.0.3)\n",
      "Requirement already satisfied: patsy>=0.5.4 in /usr/local/python/3.10.13/lib/python3.10/site-packages (from statsmodels~=0.13->tensorflow-privacy==0.8.12->tensorflow-federated) (0.5.6)\n",
      "Requirement already satisfied: google-auth<3,>=1.6.3 in /usr/local/python/3.10.13/lib/python3.10/site-packages (from tensorboard<2.15,>=2.14->tensorflow==2.14.*,>=2.14.0->tensorflow-federated) (2.27.0)\n",
      "Requirement already satisfied: google-auth-oauthlib<1.1,>=0.5 in /usr/local/python/3.10.13/lib/python3.10/site-packages (from tensorboard<2.15,>=2.14->tensorflow==2.14.*,>=2.14.0->tensorflow-federated) (1.0.0)\n",
      "Requirement already satisfied: markdown>=2.6.8 in /usr/local/python/3.10.13/lib/python3.10/site-packages (from tensorboard<2.15,>=2.14->tensorflow==2.14.*,>=2.14.0->tensorflow-federated) (3.5.2)\n",
      "Requirement already satisfied: requests<3,>=2.21.0 in /home/codespace/.local/lib/python3.10/site-packages (from tensorboard<2.15,>=2.14->tensorflow==2.14.*,>=2.14.0->tensorflow-federated) (2.31.0)\n",
      "Requirement already satisfied: tensorboard-data-server<0.8.0,>=0.7.0 in /usr/local/python/3.10.13/lib/python3.10/site-packages (from tensorboard<2.15,>=2.14->tensorflow==2.14.*,>=2.14.0->tensorflow-federated) (0.7.2)\n",
      "Requirement already satisfied: werkzeug>=1.0.1 in /usr/local/python/3.10.13/lib/python3.10/site-packages (from tensorboard<2.15,>=2.14->tensorflow==2.14.*,>=2.14.0->tensorflow-federated) (3.0.1)\n",
      "Requirement already satisfied: decorator in /home/codespace/.local/lib/python3.10/site-packages (from tensorflow-probability~=0.15->tensorflow-compression==2.14.*,>=2.14.0->tensorflow-federated) (5.1.1)\n",
      "Requirement already satisfied: cloudpickle>=1.3 in /usr/local/python/3.10.13/lib/python3.10/site-packages (from tensorflow-probability~=0.15->tensorflow-compression==2.14.*,>=2.14.0->tensorflow-federated) (3.0.0)\n",
      "Requirement already satisfied: Cython in /usr/local/python/3.10.13/lib/python3.10/site-packages (from tf-models-official~=2.13->tensorflow-privacy==0.8.12->tensorflow-federated) (3.0.8)\n",
      "Requirement already satisfied: gin-config in /usr/local/python/3.10.13/lib/python3.10/site-packages (from tf-models-official~=2.13->tensorflow-privacy==0.8.12->tensorflow-federated) (0.5.0)\n",
      "Requirement already satisfied: google-api-python-client>=1.6.7 in /usr/local/python/3.10.13/lib/python3.10/site-packages (from tf-models-official~=2.13->tensorflow-privacy==0.8.12->tensorflow-federated) (2.117.0)\n",
      "Requirement already satisfied: kaggle>=1.3.9 in /usr/local/python/3.10.13/lib/python3.10/site-packages (from tf-models-official~=2.13->tensorflow-privacy==0.8.12->tensorflow-federated) (1.6.5)\n",
      "Requirement already satisfied: oauth2client in /usr/local/python/3.10.13/lib/python3.10/site-packages (from tf-models-official~=2.13->tensorflow-privacy==0.8.12->tensorflow-federated) (4.1.3)\n",
      "Requirement already satisfied: opencv-python-headless in /usr/local/python/3.10.13/lib/python3.10/site-packages (from tf-models-official~=2.13->tensorflow-privacy==0.8.12->tensorflow-federated) (4.9.0.80)\n",
      "Requirement already satisfied: py-cpuinfo>=3.3.0 in /usr/local/python/3.10.13/lib/python3.10/site-packages (from tf-models-official~=2.13->tensorflow-privacy==0.8.12->tensorflow-federated) (9.0.0)\n",
      "Requirement already satisfied: pycocotools in /usr/local/python/3.10.13/lib/python3.10/site-packages (from tf-models-official~=2.13->tensorflow-privacy==0.8.12->tensorflow-federated) (2.0.7)\n",
      "Requirement already satisfied: pyyaml>=6.0.0 in /home/codespace/.local/lib/python3.10/site-packages (from tf-models-official~=2.13->tensorflow-privacy==0.8.12->tensorflow-federated) (6.0.1)\n",
      "Requirement already satisfied: sacrebleu in /usr/local/python/3.10.13/lib/python3.10/site-packages (from tf-models-official~=2.13->tensorflow-privacy==0.8.12->tensorflow-federated) (2.4.0)\n",
      "Requirement already satisfied: sentencepiece in /usr/local/python/3.10.13/lib/python3.10/site-packages (from tf-models-official~=2.13->tensorflow-privacy==0.8.12->tensorflow-federated) (0.1.99)\n",
      "Requirement already satisfied: seqeval in /usr/local/python/3.10.13/lib/python3.10/site-packages (from tf-models-official~=2.13->tensorflow-privacy==0.8.12->tensorflow-federated) (1.2.2)\n",
      "Requirement already satisfied: tensorflow-datasets in /usr/local/python/3.10.13/lib/python3.10/site-packages (from tf-models-official~=2.13->tensorflow-privacy==0.8.12->tensorflow-federated) (4.9.4)\n",
      "Requirement already satisfied: tensorflow-hub>=0.6.0 in /usr/local/python/3.10.13/lib/python3.10/site-packages (from tf-models-official~=2.13->tensorflow-privacy==0.8.12->tensorflow-federated) (0.16.1)\n",
      "Requirement already satisfied: tensorflow-text~=2.14.0 in /usr/local/python/3.10.13/lib/python3.10/site-packages (from tf-models-official~=2.13->tensorflow-privacy==0.8.12->tensorflow-federated) (2.14.0)\n",
      "Requirement already satisfied: tf-slim>=1.1.0 in /usr/local/python/3.10.13/lib/python3.10/site-packages (from tf-models-official~=2.13->tensorflow-privacy==0.8.12->tensorflow-federated) (1.1.0)\n",
      "Requirement already satisfied: httplib2<1.dev0,>=0.15.0 in /usr/local/python/3.10.13/lib/python3.10/site-packages (from google-api-python-client>=1.6.7->tf-models-official~=2.13->tensorflow-privacy==0.8.12->tensorflow-federated) (0.22.0)\n",
      "Requirement already satisfied: google-auth-httplib2>=0.1.0 in /usr/local/python/3.10.13/lib/python3.10/site-packages (from google-api-python-client>=1.6.7->tf-models-official~=2.13->tensorflow-privacy==0.8.12->tensorflow-federated) (0.2.0)\n",
      "Requirement already satisfied: google-api-core!=2.0.*,!=2.1.*,!=2.2.*,!=2.3.0,<3.0.0.dev0,>=1.31.5 in /usr/local/python/3.10.13/lib/python3.10/site-packages (from google-api-python-client>=1.6.7->tf-models-official~=2.13->tensorflow-privacy==0.8.12->tensorflow-federated) (2.17.0)\n",
      "Requirement already satisfied: uritemplate<5,>=3.0.1 in /usr/local/python/3.10.13/lib/python3.10/site-packages (from google-api-python-client>=1.6.7->tf-models-official~=2.13->tensorflow-privacy==0.8.12->tensorflow-federated) (4.1.1)\n",
      "Requirement already satisfied: pyasn1-modules>=0.2.1 in /usr/local/python/3.10.13/lib/python3.10/site-packages (from google-auth<3,>=1.6.3->tensorboard<2.15,>=2.14->tensorflow==2.14.*,>=2.14.0->tensorflow-federated) (0.3.0)\n",
      "Requirement already satisfied: rsa<5,>=3.1.4 in /usr/local/python/3.10.13/lib/python3.10/site-packages (from google-auth<3,>=1.6.3->tensorboard<2.15,>=2.14->tensorflow==2.14.*,>=2.14.0->tensorflow-federated) (4.9)\n",
      "Requirement already satisfied: requests-oauthlib>=0.7.0 in /usr/local/python/3.10.13/lib/python3.10/site-packages (from google-auth-oauthlib<1.1,>=0.5->tensorboard<2.15,>=2.14->tensorflow==2.14.*,>=2.14.0->tensorflow-federated) (1.3.1)\n",
      "Requirement already satisfied: certifi in /home/codespace/.local/lib/python3.10/site-packages (from kaggle>=1.3.9->tf-models-official~=2.13->tensorflow-privacy==0.8.12->tensorflow-federated) (2023.11.17)\n",
      "Requirement already satisfied: python-slugify in /usr/local/python/3.10.13/lib/python3.10/site-packages (from kaggle>=1.3.9->tf-models-official~=2.13->tensorflow-privacy==0.8.12->tensorflow-federated) (8.0.4)\n",
      "Requirement already satisfied: urllib3 in /usr/local/python/3.10.13/lib/python3.10/site-packages (from kaggle>=1.3.9->tf-models-official~=2.13->tensorflow-privacy==0.8.12->tensorflow-federated) (2.0.7)\n",
      "Requirement already satisfied: bleach in /home/codespace/.local/lib/python3.10/site-packages (from kaggle>=1.3.9->tf-models-official~=2.13->tensorflow-privacy==0.8.12->tensorflow-federated) (6.1.0)\n",
      "Requirement already satisfied: charset-normalizer<4,>=2 in /home/codespace/.local/lib/python3.10/site-packages (from requests<3,>=2.21.0->tensorboard<2.15,>=2.14->tensorflow==2.14.*,>=2.14.0->tensorflow-federated) (3.3.2)\n",
      "Requirement already satisfied: idna<4,>=2.5 in /home/codespace/.local/lib/python3.10/site-packages (from requests<3,>=2.21.0->tensorboard<2.15,>=2.14->tensorflow==2.14.*,>=2.14.0->tensorflow-federated) (3.6)\n",
      "Requirement already satisfied: tf-keras>=2.14.1 in /usr/local/python/3.10.13/lib/python3.10/site-packages (from tensorflow-hub>=0.6.0->tf-models-official~=2.13->tensorflow-privacy==0.8.12->tensorflow-federated) (2.15.0)\n",
      "Requirement already satisfied: MarkupSafe>=2.1.1 in /home/codespace/.local/lib/python3.10/site-packages (from werkzeug>=1.0.1->tensorboard<2.15,>=2.14->tensorflow==2.14.*,>=2.14.0->tensorflow-federated) (2.1.3)\n",
      "Requirement already satisfied: pyasn1>=0.1.7 in /usr/local/python/3.10.13/lib/python3.10/site-packages (from oauth2client->tf-models-official~=2.13->tensorflow-privacy==0.8.12->tensorflow-federated) (0.5.1)\n",
      "Requirement already satisfied: portalocker in /usr/local/python/3.10.13/lib/python3.10/site-packages (from sacrebleu->tf-models-official~=2.13->tensorflow-privacy==0.8.12->tensorflow-federated) (2.8.2)\n",
      "Requirement already satisfied: regex in /usr/local/python/3.10.13/lib/python3.10/site-packages (from sacrebleu->tf-models-official~=2.13->tensorflow-privacy==0.8.12->tensorflow-federated) (2023.12.25)\n",
      "Requirement already satisfied: tabulate>=0.8.9 in /usr/local/python/3.10.13/lib/python3.10/site-packages (from sacrebleu->tf-models-official~=2.13->tensorflow-privacy==0.8.12->tensorflow-federated) (0.9.0)\n",
      "Requirement already satisfied: colorama in /home/codespace/.local/lib/python3.10/site-packages (from sacrebleu->tf-models-official~=2.13->tensorflow-privacy==0.8.12->tensorflow-federated) (0.4.6)\n",
      "Requirement already satisfied: lxml in /usr/local/python/3.10.13/lib/python3.10/site-packages (from sacrebleu->tf-models-official~=2.13->tensorflow-privacy==0.8.12->tensorflow-federated) (5.1.0)\n",
      "Requirement already satisfied: click in /usr/local/python/3.10.13/lib/python3.10/site-packages (from tensorflow-datasets->tf-models-official~=2.13->tensorflow-privacy==0.8.12->tensorflow-federated) (8.1.7)\n",
      "Requirement already satisfied: etils>=0.9.0 in /usr/local/python/3.10.13/lib/python3.10/site-packages (from etils[enp,epath,etree]>=0.9.0->tensorflow-datasets->tf-models-official~=2.13->tensorflow-privacy==0.8.12->tensorflow-federated) (1.6.0)\n",
      "Requirement already satisfied: promise in /usr/local/python/3.10.13/lib/python3.10/site-packages (from tensorflow-datasets->tf-models-official~=2.13->tensorflow-privacy==0.8.12->tensorflow-federated) (2.3)\n",
      "Requirement already satisfied: tensorflow-metadata in /usr/local/python/3.10.13/lib/python3.10/site-packages (from tensorflow-datasets->tf-models-official~=2.13->tensorflow-privacy==0.8.12->tensorflow-federated) (1.13.1)\n",
      "Requirement already satisfied: toml in /usr/local/python/3.10.13/lib/python3.10/site-packages (from tensorflow-datasets->tf-models-official~=2.13->tensorflow-privacy==0.8.12->tensorflow-federated) (0.10.2)\n",
      "Requirement already satisfied: array-record>=0.5.0 in /usr/local/python/3.10.13/lib/python3.10/site-packages (from tensorflow-datasets->tf-models-official~=2.13->tensorflow-privacy==0.8.12->tensorflow-federated) (0.5.0)\n",
      "Requirement already satisfied: fsspec in /home/codespace/.local/lib/python3.10/site-packages (from etils[enp,epath,etree]>=0.9.0->tensorflow-datasets->tf-models-official~=2.13->tensorflow-privacy==0.8.12->tensorflow-federated) (2023.12.2)\n",
      "Requirement already satisfied: importlib_resources in /usr/local/python/3.10.13/lib/python3.10/site-packages (from etils[enp,epath,etree]>=0.9.0->tensorflow-datasets->tf-models-official~=2.13->tensorflow-privacy==0.8.12->tensorflow-federated) (6.1.1)\n",
      "Requirement already satisfied: zipp in /usr/local/python/3.10.13/lib/python3.10/site-packages (from etils[enp,epath,etree]>=0.9.0->tensorflow-datasets->tf-models-official~=2.13->tensorflow-privacy==0.8.12->tensorflow-federated) (3.17.0)\n",
      "Requirement already satisfied: oauthlib>=3.0.0 in /usr/local/python/3.10.13/lib/python3.10/site-packages (from requests-oauthlib>=0.7.0->google-auth-oauthlib<1.1,>=0.5->tensorboard<2.15,>=2.14->tensorflow==2.14.*,>=2.14.0->tensorflow-federated) (3.2.2)\n",
      "Requirement already satisfied: webencodings in /home/codespace/.local/lib/python3.10/site-packages (from bleach->kaggle>=1.3.9->tf-models-official~=2.13->tensorflow-privacy==0.8.12->tensorflow-federated) (0.5.1)\n",
      "Requirement already satisfied: text-unidecode>=1.3 in /usr/local/python/3.10.13/lib/python3.10/site-packages (from python-slugify->kaggle>=1.3.9->tf-models-official~=2.13->tensorflow-privacy==0.8.12->tensorflow-federated) (1.3)\n",
      "Installing collected packages: pandas\n",
      "  Attempting uninstall: pandas\n",
      "    Found existing installation: pandas 2.2.0\n",
      "    Uninstalling pandas-2.2.0:\n",
      "      Successfully uninstalled pandas-2.2.0\n",
      "Successfully installed pandas-1.5.3\n",
      "Note: you may need to restart the kernel to use updated packages.\n"
     ]
    }
   ],
   "source": []
  },
  {
   "cell_type": "code",
   "execution_count": 2,
   "metadata": {},
   "outputs": [
    {
     "name": "stderr",
     "output_type": "stream",
     "text": [
      "/tmp/ipykernel_3120/3403798242.py:3: DeprecationWarning: \n",
      "Pyarrow will become a required dependency of pandas in the next major release of pandas (pandas 3.0),\n",
      "(to allow more performant data types, such as the Arrow string type, and better interoperability with other libraries)\n",
      "but was not found to be installed on your system.\n",
      "If this would cause problems for you,\n",
      "please provide us feedback at https://github.com/pandas-dev/pandas/issues/54466\n",
      "        \n",
      "  import pandas as pd\n",
      "2024-02-13 11:15:34.567272: I tensorflow/tsl/cuda/cudart_stub.cc:28] Could not find cuda drivers on your machine, GPU will not be used.\n",
      "2024-02-13 11:15:34.599234: E tensorflow/compiler/xla/stream_executor/cuda/cuda_dnn.cc:9342] Unable to register cuDNN factory: Attempting to register factory for plugin cuDNN when one has already been registered\n",
      "2024-02-13 11:15:34.599272: E tensorflow/compiler/xla/stream_executor/cuda/cuda_fft.cc:609] Unable to register cuFFT factory: Attempting to register factory for plugin cuFFT when one has already been registered\n",
      "2024-02-13 11:15:34.599306: E tensorflow/compiler/xla/stream_executor/cuda/cuda_blas.cc:1518] Unable to register cuBLAS factory: Attempting to register factory for plugin cuBLAS when one has already been registered\n",
      "2024-02-13 11:15:34.606112: I tensorflow/tsl/cuda/cudart_stub.cc:28] Could not find cuda drivers on your machine, GPU will not be used.\n",
      "2024-02-13 11:15:34.607557: I tensorflow/core/platform/cpu_feature_guard.cc:182] This TensorFlow binary is optimized to use available CPU instructions in performance-critical operations.\n",
      "To enable the following instructions: AVX2 FMA, in other operations, rebuild TensorFlow with the appropriate compiler flags.\n",
      "2024-02-13 11:15:35.718709: W tensorflow/compiler/tf2tensorrt/utils/py_utils.cc:38] TF-TRT Warning: Could not find TensorRT\n"
     ]
    }
   ],
   "source": [
    "import collections\n",
    "import os\n",
    "import pandas as pd\n",
    "import tensorflow as tf\n",
    "import tensorflow_federated as tff\n",
    "import time\n",
    "\n",
    "from matplotlib import pyplot as plt\n",
    "\n",
    "import nest_asyncio\n",
    "nest_asyncio.apply()\n",
    "\n",
    "%matplotlib inline"
   ]
  },
  {
   "cell_type": "code",
   "execution_count": 3,
   "metadata": {},
   "outputs": [],
   "source": [
    "tp = 'cic'      # Type: choose between 'cic' and 'custom'\n",
    "tm = 90        # Timeout: choose one value from the following list [15, 30, 60, 90, 120, 180]\n",
    "n_workers = 2   # #workers: choose between 2 and 5 workers (2 and 5 inclusive)"
   ]
  },
  {
   "cell_type": "code",
   "execution_count": 4,
   "metadata": {},
   "outputs": [],
   "source": [
    "df_train = pd.read_csv('/workspaces/Network_Intrusion_Detection/train_90_custom_script.csv')\n",
    "df_test = pd.read_csv('/workspaces/Network_Intrusion_Detection/test_90_custom_script.csv')"
   ]
  },
  {
   "cell_type": "code",
   "execution_count": 5,
   "metadata": {},
   "outputs": [
    {
     "data": {
      "text/plain": [
       "flow idle time max                                 float64\n",
       "flow idle time min                                 float64\n",
       "flow idle time mean                                float64\n",
       "flow idle time std                                 float64\n",
       "flow idle time variance                            float64\n",
       "                                                    ...   \n",
       "type_id_system_information_in_monitor_direction      int64\n",
       "type_id_system_information_in_control_direction      int64\n",
       "type_id_parameter_in_control_direction               int64\n",
       "type_id_file_transfer                                int64\n",
       "Label                                               object\n",
       "Length: 112, dtype: object"
      ]
     },
     "execution_count": 5,
     "metadata": {},
     "output_type": "execute_result"
    }
   ],
   "source": [
    "df_train.dtypes"
   ]
  },
  {
   "cell_type": "code",
   "execution_count": 6,
   "metadata": {},
   "outputs": [
    {
     "data": {
      "text/plain": [
       "flow idle time max                                 float64\n",
       "flow idle time min                                 float64\n",
       "flow idle time mean                                float64\n",
       "flow idle time std                                 float64\n",
       "flow idle time variance                            float64\n",
       "                                                    ...   \n",
       "type_id_system_information_in_monitor_direction      int64\n",
       "type_id_system_information_in_control_direction      int64\n",
       "type_id_parameter_in_control_direction               int64\n",
       "type_id_file_transfer                                int64\n",
       "Label                                               object\n",
       "Length: 112, dtype: object"
      ]
     },
     "execution_count": 6,
     "metadata": {},
     "output_type": "execute_result"
    }
   ],
   "source": [
    "df_test.dtypes"
   ]
  },
  {
   "cell_type": "code",
   "execution_count": 7,
   "metadata": {},
   "outputs": [],
   "source": [
    "df_train['Label'] = df_train['Label'].str.lower()\n",
    "df_test['Label'] = df_test['Label'].str.lower()"
   ]
  },
  {
   "cell_type": "code",
   "execution_count": 8,
   "metadata": {},
   "outputs": [],
   "source": [
    "unique_labels = list(df_train.Label.astype('category').unique())\n",
    "unique_codes = list(df_train.Label.astype('category').cat.codes.unique())\n",
    "mapping = {unique_codes[i] : unique_labels[i] for i in range(len(unique_labels))}"
   ]
  },
  {
   "cell_type": "code",
   "execution_count": 9,
   "metadata": {},
   "outputs": [
    {
     "data": {
      "text/plain": [
       "{11: 'normal',\n",
       " 0: 'c_ci_na_1',\n",
       " 1: 'c_ci_na_1_dos',\n",
       " 2: 'c_rd_na_1',\n",
       " 3: 'c_rd_na_1_dos',\n",
       " 4: 'c_rp_na_1',\n",
       " 5: 'c_rp_na_1_dos',\n",
       " 6: 'c_sc_na_1',\n",
       " 7: 'c_sc_na_1_dos',\n",
       " 8: 'c_se_na_1',\n",
       " 9: 'c_se_na_1_dos',\n",
       " 10: 'm_sp_na_1_dos'}"
      ]
     },
     "execution_count": 9,
     "metadata": {},
     "output_type": "execute_result"
    }
   ],
   "source": [
    "mapping"
   ]
  },
  {
   "cell_type": "code",
   "execution_count": 10,
   "metadata": {},
   "outputs": [
    {
     "name": "stderr",
     "output_type": "stream",
     "text": [
      "/tmp/ipykernel_3120/3176878993.py:1: FutureWarning: Downcasting behavior in `replace` is deprecated and will be removed in a future version. To retain the old behavior, explicitly call `result.infer_objects(copy=False)`. To opt-in to the future behavior, set `pd.set_option('future.no_silent_downcasting', True)`\n",
      "  df_train['Label'] = df_train['Label'].replace(unique_labels, unique_codes)\n",
      "/tmp/ipykernel_3120/3176878993.py:2: FutureWarning: Downcasting behavior in `replace` is deprecated and will be removed in a future version. To retain the old behavior, explicitly call `result.infer_objects(copy=False)`. To opt-in to the future behavior, set `pd.set_option('future.no_silent_downcasting', True)`\n",
      "  df_test['Label'] = df_test['Label'].replace(unique_labels, unique_codes)\n"
     ]
    }
   ],
   "source": [
    "df_train['Label'] = df_train['Label'].replace(unique_labels, unique_codes)\n",
    "df_test['Label'] = df_test['Label'].replace(unique_labels, unique_codes)"
   ]
  },
  {
   "cell_type": "code",
   "execution_count": 11,
   "metadata": {},
   "outputs": [],
   "source": [
    "\n",
    "train = df_train\n",
    "test = df_test"
   ]
  },
  {
   "cell_type": "code",
   "execution_count": 12,
   "metadata": {},
   "outputs": [],
   "source": [
    "n_samples = int(df_train.shape[0] / n_workers)\n",
    "\n",
    "assert n_samples > 0, \"Each worker must be assigned at least one data point\""
   ]
  },
  {
   "cell_type": "code",
   "execution_count": 13,
   "metadata": {},
   "outputs": [],
   "source": [
    "n_epochs = 10\n",
    "shuffle_buffer_size = df_train.shape[0]\n",
    "batch_size = 250\n",
    "prefetch_buffer_size = 50\n",
    "input_shape = train.shape[1] - 1\n",
    "output_shape = len(unique_codes)"
   ]
  },
  {
   "cell_type": "code",
   "execution_count": 14,
   "metadata": {},
   "outputs": [],
   "source": [
    "def preprocess(dataframe):\n",
    "    \n",
    "    \n",
    "    def map_fn(dataset):\n",
    "        return collections.OrderedDict(\n",
    "            x=tf.cast(dataset[:,:-1], tf.float64),\n",
    "            y=tf.cast(tf.reshape(dataset[:,-1], shape=(-1, 1)), tf.int64)\n",
    "        )\n",
    "\n",
    "    return tf.data.Dataset.from_tensor_slices(dataframe).repeat(n_epochs).shuffle(\n",
    "        shuffle_buffer_size).batch(batch_size).map(map_fn).prefetch(prefetch_buffer_size)\n",
    "\n",
    "\n",
    "client_data = [preprocess(train.sample(n=n_samples)) for _ in range(n_workers)]"
   ]
  },
  {
   "cell_type": "code",
   "execution_count": 15,
   "metadata": {},
   "outputs": [
    {
     "name": "stdout",
     "output_type": "stream",
     "text": [
      "Worker 1 data contains 102 training points\n",
      "Worker 2 data contains 102 training points\n"
     ]
    }
   ],
   "source": [
    "for i in range(n_workers):\n",
    "    print(f\"Worker {i+1} data contains {len(client_data[i])} training points\")"
   ]
  },
  {
   "cell_type": "code",
   "execution_count": 16,
   "metadata": {},
   "outputs": [
    {
     "data": {
      "image/png": "[encoded data removed]",
      "text/plain": [
       "<Figure size 2000x700 with 2 Axes>"
      ]
     },
     "metadata": {},
     "output_type": "display_data"
    }
   ],
   "source": [
    "fig = plt.figure(figsize=(20, 7))\n",
    "fig.suptitle('Label Counts for a Sample of Worker Data')\n",
    "fig.tight_layout()\n",
    "\n",
    "for i in range(n_workers):\n",
    "    m = 0\n",
    "    plot_data = collections.defaultdict(list)\n",
    "    for label in list(client_data[i])[0]['y'].numpy()[:,0]:\n",
    "        # Append counts individually per label to make plots\n",
    "        # more colorful instead of one color per plot.\n",
    "        plot_data[label].append(label)\n",
    "        m = max(m, len(plot_data[label]))\n",
    "    \n",
    "    n_cols = n_workers if n_workers < 5 else 5\n",
    "    xlim = [0, m+(5-m%5)]\n",
    "    ylim = [min(unique_codes)-1, max(unique_codes)+1]\n",
    "    yticks = list(range(min(unique_codes), max(unique_codes)+1))\n",
    "    yticks_labels = [mapping[k] for k in range(0, max(unique_codes)+1)]\n",
    "    \n",
    "    plt.subplot(int(n_workers / 5)+1, n_cols, i+1)\n",
    "    plt.subplots_adjust(wspace=0.3)\n",
    "    plt.title('Worker {}'.format(i+1))\n",
    "    plt.xlabel('#points')\n",
    "    plt.xlim(xlim)\n",
    "    plt.ylabel('Label')\n",
    "    plt.ylim(ylim)\n",
    "    plt.yticks(yticks, labels=yticks_labels)\n",
    "    \n",
    "    # plot values on top of bars\n",
    "    for key in plot_data:\n",
    "        if len(plot_data[key]) > 0:\n",
    "            plt.text(len(plot_data[key])+0.6, int(key)-0.1, str(len(plot_data[key])), ha='center')\n",
    "    \n",
    "    for j in range(min(unique_codes),max(unique_codes)+1):\n",
    "        plt.hist(\n",
    "            plot_data[j],\n",
    "            density=False,\n",
    "            bins=[k-0.5 for k in range(min(unique_codes),max(unique_codes)+2)],\n",
    "            orientation='horizontal'\n",
    "        )"
   ]
  },
  {
   "cell_type": "code",
   "execution_count": 20,
   "metadata": {},
   "outputs": [],
   "source": [
    "# def model_fn():\n",
    "#     model = tf.keras.models.Sequential([\n",
    "#         tf.keras.layers.InputLayer(input_shape=(input_shape,)),\n",
    "#         tf.keras.layers.Dense(output_shape, kernel_initializer='zeros', activation='relu'),\n",
    "#         tf.keras.layers.Softmax(),\n",
    "#     ])\n",
    "\n",
    "#     return tff.learning.from_compiled_keras_model(model,\n",
    "#         # Note: input spec is the _batched_ shape, and includes the \n",
    "#         # label tensor which will be passed to the loss function. This model is\n",
    "#         # therefore configured to accept data _after_ it has been preprocessed.\n",
    "#         input_spec=collections.OrderedDict(\n",
    "#             x=tf.TensorSpec(shape=[None, input_shape], dtype=tf.float64),\n",
    "#             y=tf.TensorSpec(shape=[None, 1], dtype=tf.int64)),\n",
    "#         loss=tf.keras.losses.SparseCategoricalCrossentropy(from_logits=True),\n",
    "#         metrics=[tf.keras.metrics.SparseCategoricalAccuracy()])\n"
   ]
  },
  {
   "cell_type": "code",
   "execution_count": 21,
   "metadata": {},
   "outputs": [],
   "source": [
    "# def model_fn():\n",
    "#     model = tf.keras.models.Sequential([\n",
    "#         tf.keras.layers.InputLayer(input_shape=(input_shape,)),\n",
    "#         tf.keras.layers.Dense(output_shape, kernel_initializer='zeros', activation='relu'),\n",
    "#         tf.keras.layers.Softmax(),\n",
    "#     ])\n",
    "#     return tff.learning.from_keras_model(\n",
    "#         model,\n",
    "#         input_spec=collections.OrderedDict(\n",
    "#             x=tf.TensorSpec(shape=[None, input_shape], dtype=tf.float64),\n",
    "#             y=tf.TensorSpec(shape=[None, 1], dtype=tf.int64)),\n",
    "#         loss=tf.keras.losses.SparseCategoricalCrossentropy(from_logits=True),\n",
    "#         metrics=[tf.keras.metrics.SparseCategoricalAccuracy()])"
   ]
  },
  {
   "cell_type": "code",
   "execution_count": 19,
   "metadata": {},
   "outputs": [],
   "source": [
    "def model_fn():\n",
    "    model = tf.keras.models.Sequential([\n",
    "        tf.keras.layers.InputLayer(input_shape=(input_shape,)),\n",
    "        tf.keras.layers.Dense(output_shape, kernel_initializer='zeros', activation='relu'),\n",
    "        tf.keras.layers.Softmax(),\n",
    "    ])\n",
    "\n",
    "    # Specify input spec (batched shape) and label tensor\n",
    "    input_spec = collections.OrderedDict(\n",
    "        x=tf.TensorSpec(shape=[None, input_shape], dtype=tf.float64),\n",
    "        y=tf.TensorSpec(shape=[None, 1], dtype=tf.int64))\n",
    "\n",
    "    # Convert Keras model to TFF functional model\n",
    "    tff_model = tff.learning.models.from_keras_model(\n",
    "        keras_model=model,\n",
    "        input_spec=input_spec,\n",
    "        loss=tf.keras.losses.SparseCategoricalCrossentropy(),\n",
    "        metrics=[tf.keras.metrics.SparseCategoricalAccuracy()])\n",
    "\n",
    "    return tff_model\n",
    "\n",
    "# Build the weighted federated averaging trainer\n",
    "trainer = tff.learning.algorithms.build_weighted_fed_avg(\n",
    "    model_fn,\n",
    "    client_optimizer_fn=lambda: tf.keras.optimizers.SGD(learning_rate=0.01),\n",
    "    server_optimizer_fn=lambda: tf.keras.optimizers.SGD(learning_rate=1.0)\n",
    ")"
   ]
  },
  {
   "cell_type": "code",
   "execution_count": 20,
   "metadata": {},
   "outputs": [
    {
     "name": "stdout",
     "output_type": "stream",
     "text": [
      "( -> <\n",
      "  global_model_weights=<\n",
      "    trainable=<\n",
      "      float32[111,12],\n",
      "      float32[12]\n",
      "    >,\n",
      "    non_trainable=<>\n",
      "  >,\n",
      "  distributor=<>,\n",
      "  client_work=<>,\n",
      "  aggregator=<\n",
      "    value_sum_process=<>,\n",
      "    weight_sum_process=<>\n",
      "  >,\n",
      "  finalizer=<\n",
      "    int64,\n",
      "    float32[111,12],\n",
      "    float32[12]\n",
      "  >\n",
      ">@SERVER)\n"
     ]
    }
   ],
   "source": [
    "print(trainer.initialize.type_signature.formatted_representation())"
   ]
  },
  {
   "cell_type": "code",
   "execution_count": 27,
   "metadata": {},
   "outputs": [],
   "source": [
    "def evaluate(num_rounds=10):    \n",
    "    state = trainer.initialize()\n",
    "    for round in range(num_rounds):\n",
    "        t1 = time.time()\n",
    "        result = trainer.next(state, client_data)\n",
    "        state = result.state\n",
    "        train_metrics = result.metrics['client_work']['train']\n",
    "        accuracy = train_metrics.pop('accuracy')\n",
    "        t2 = time.time()\n",
    "        print('Round {}: loss {}, accuracy {}, round time {}'.format(\n",
    "            round+1, train_metrics['loss'], accuracy, t2 - t1))"
   ]
  },
  {
   "cell_type": "code",
   "execution_count": 28,
   "metadata": {},
   "outputs": [],
   "source": [
    "import grpc\n",
    "ip_address = ['0.0.0.0'] * n_workers  #@param {type:\"string\"}\n",
    "ports = [80+i for i in range(n_workers)]  #@param {type:list[\"integer\"]}\n",
    "\n",
    "channels = [grpc.insecure_channel(f'{ip_address[i]}:{ports[i]}') for i in range(len(ports))]\n",
    "\n",
    "tff.backends.native.set_sync_local_cpp_execution_context(channels)"
   ]
  },
  {
   "cell_type": "code",
   "execution_count": null,
   "metadata": {},
   "outputs": [],
   "source": []
  },
  {
   "cell_type": "code",
   "execution_count": 29,
   "metadata": {},
   "outputs": [
    {
     "name": "stderr",
     "output_type": "stream",
     "text": [
      "2024-02-13 11:50:45.610410: I tensorflow/core/grappler/devices.cc:66] Number of eligible GPUs (core count >= 8, compute capability >= 0.0): 0\n",
      "2024-02-13 11:50:45.610516: I tensorflow/core/grappler/clusters/single_machine.cc:361] Starting new session\n",
      "2024-02-13 11:50:45.622034: I tensorflow/core/grappler/devices.cc:66] Number of eligible GPUs (core count >= 8, compute capability >= 0.0): 0\n",
      "2024-02-13 11:50:45.622125: I tensorflow/core/grappler/clusters/single_machine.cc:361] Starting new session\n"
     ]
    },
    {
     "ename": "KeyboardInterrupt",
     "evalue": "",
     "output_type": "error",
     "traceback": [
      "\u001b[0;31m---------------------------------------------------------------------------\u001b[0m",
      "\u001b[0;31mKeyboardInterrupt\u001b[0m                         Traceback (most recent call last)",
      "Cell \u001b[0;32mIn[29], line 1\u001b[0m\n\u001b[0;32m----> 1\u001b[0m \u001b[43mevaluate\u001b[49m\u001b[43m(\u001b[49m\u001b[43mn_epochs\u001b[49m\u001b[43m)\u001b[49m\n",
      "Cell \u001b[0;32mIn[27], line 2\u001b[0m, in \u001b[0;36mevaluate\u001b[0;34m(num_rounds)\u001b[0m\n\u001b[1;32m      1\u001b[0m \u001b[38;5;28;01mdef\u001b[39;00m \u001b[38;5;21mevaluate\u001b[39m(num_rounds\u001b[38;5;241m=\u001b[39m\u001b[38;5;241m10\u001b[39m):    \n\u001b[0;32m----> 2\u001b[0m     state \u001b[38;5;241m=\u001b[39m \u001b[43mtrainer\u001b[49m\u001b[38;5;241;43m.\u001b[39;49m\u001b[43minitialize\u001b[49m\u001b[43m(\u001b[49m\u001b[43m)\u001b[49m\n\u001b[1;32m      3\u001b[0m     \u001b[38;5;28;01mfor\u001b[39;00m \u001b[38;5;28mround\u001b[39m \u001b[38;5;129;01min\u001b[39;00m \u001b[38;5;28mrange\u001b[39m(num_rounds):\n\u001b[1;32m      4\u001b[0m         t1 \u001b[38;5;241m=\u001b[39m time\u001b[38;5;241m.\u001b[39mtime()\n",
      "File \u001b[0;32m~/.python/current/lib/python3.10/site-packages/tensorflow_federated/python/core/impl/computation/computation_impl.py:151\u001b[0m, in \u001b[0;36mConcreteComputation.__call__\u001b[0;34m(self, *args, **kwargs)\u001b[0m\n\u001b[1;32m    145\u001b[0m \u001b[38;5;28;01mdef\u001b[39;00m \u001b[38;5;21m__call__\u001b[39m(\u001b[38;5;28mself\u001b[39m, \u001b[38;5;241m*\u001b[39margs, \u001b[38;5;241m*\u001b[39m\u001b[38;5;241m*\u001b[39mkwargs):\n\u001b[1;32m    146\u001b[0m   arg \u001b[38;5;241m=\u001b[39m function_utils\u001b[38;5;241m.\u001b[39mpack_args(\n\u001b[1;32m    147\u001b[0m       \u001b[38;5;28mself\u001b[39m\u001b[38;5;241m.\u001b[39m_type_signature\u001b[38;5;241m.\u001b[39mparameter,  \u001b[38;5;66;03m# pytype: disable=attribute-error\u001b[39;00m\n\u001b[1;32m    148\u001b[0m       args,\n\u001b[1;32m    149\u001b[0m       kwargs,\n\u001b[1;32m    150\u001b[0m   )\n\u001b[0;32m--> 151\u001b[0m   result \u001b[38;5;241m=\u001b[39m \u001b[38;5;28;43mself\u001b[39;49m\u001b[38;5;241;43m.\u001b[39;49m\u001b[43m_context_stack\u001b[49m\u001b[38;5;241;43m.\u001b[39;49m\u001b[43mcurrent\u001b[49m\u001b[38;5;241;43m.\u001b[39;49m\u001b[43minvoke\u001b[49m\u001b[43m(\u001b[49m\u001b[38;5;28;43mself\u001b[39;49m\u001b[43m,\u001b[49m\u001b[43m \u001b[49m\u001b[43marg\u001b[49m\u001b[43m)\u001b[49m\n\u001b[1;32m    152\u001b[0m   \u001b[38;5;28;01mif\u001b[39;00m \u001b[38;5;28mself\u001b[39m\u001b[38;5;241m.\u001b[39m_transform_result \u001b[38;5;129;01mis\u001b[39;00m \u001b[38;5;129;01mnot\u001b[39;00m \u001b[38;5;28;01mNone\u001b[39;00m:\n\u001b[1;32m    153\u001b[0m     result \u001b[38;5;241m=\u001b[39m \u001b[38;5;28mself\u001b[39m\u001b[38;5;241m.\u001b[39m_transform_result(result)\n",
      "File \u001b[0;32m~/.python/current/lib/python3.10/site-packages/tensorflow_federated/python/core/impl/execution_contexts/sync_execution_context.py:65\u001b[0m, in \u001b[0;36mSyncExecutionContext.invoke\u001b[0;34m(self, comp, arg)\u001b[0m\n\u001b[1;32m     64\u001b[0m \u001b[38;5;28;01mdef\u001b[39;00m \u001b[38;5;21minvoke\u001b[39m(\u001b[38;5;28mself\u001b[39m, comp, arg):\n\u001b[0;32m---> 65\u001b[0m   \u001b[38;5;28;01mreturn\u001b[39;00m \u001b[38;5;28;43mself\u001b[39;49m\u001b[38;5;241;43m.\u001b[39;49m\u001b[43m_async_runner\u001b[49m\u001b[38;5;241;43m.\u001b[39;49m\u001b[43mrun_coro_and_return_result\u001b[49m\u001b[43m(\u001b[49m\n\u001b[1;32m     66\u001b[0m \u001b[43m      \u001b[49m\u001b[38;5;28;43mself\u001b[39;49m\u001b[38;5;241;43m.\u001b[39;49m\u001b[43m_async_context\u001b[49m\u001b[38;5;241;43m.\u001b[39;49m\u001b[43minvoke\u001b[49m\u001b[43m(\u001b[49m\u001b[43mcomp\u001b[49m\u001b[43m,\u001b[49m\u001b[43m \u001b[49m\u001b[43marg\u001b[49m\u001b[43m)\u001b[49m\n\u001b[1;32m     67\u001b[0m \u001b[43m  \u001b[49m\u001b[43m)\u001b[49m\n",
      "File \u001b[0;32m~/.python/current/lib/python3.10/site-packages/tensorflow_federated/python/common_libs/async_utils.py:149\u001b[0m, in \u001b[0;36mAsyncThreadRunner.run_coro_and_return_result\u001b[0;34m(self, coro)\u001b[0m\n\u001b[1;32m    147\u001b[0m \u001b[38;5;250m\u001b[39m\u001b[38;5;124;03m\"\"\"Runs coroutine in the managed event loop, returning the result.\"\"\"\u001b[39;00m\n\u001b[1;32m    148\u001b[0m future \u001b[38;5;241m=\u001b[39m asyncio\u001b[38;5;241m.\u001b[39mrun_coroutine_threadsafe(coro, \u001b[38;5;28mself\u001b[39m\u001b[38;5;241m.\u001b[39m_event_loop)\n\u001b[0;32m--> 149\u001b[0m \u001b[38;5;28;01mreturn\u001b[39;00m \u001b[43mfuture\u001b[49m\u001b[38;5;241;43m.\u001b[39;49m\u001b[43mresult\u001b[49m\u001b[43m(\u001b[49m\u001b[43m)\u001b[49m\n",
      "File \u001b[0;32m~/.python/current/lib/python3.10/concurrent/futures/_base.py:453\u001b[0m, in \u001b[0;36mFuture.result\u001b[0;34m(self, timeout)\u001b[0m\n\u001b[1;32m    450\u001b[0m \u001b[38;5;28;01melif\u001b[39;00m \u001b[38;5;28mself\u001b[39m\u001b[38;5;241m.\u001b[39m_state \u001b[38;5;241m==\u001b[39m FINISHED:\n\u001b[1;32m    451\u001b[0m     \u001b[38;5;28;01mreturn\u001b[39;00m \u001b[38;5;28mself\u001b[39m\u001b[38;5;241m.\u001b[39m__get_result()\n\u001b[0;32m--> 453\u001b[0m \u001b[38;5;28;43mself\u001b[39;49m\u001b[38;5;241;43m.\u001b[39;49m\u001b[43m_condition\u001b[49m\u001b[38;5;241;43m.\u001b[39;49m\u001b[43mwait\u001b[49m\u001b[43m(\u001b[49m\u001b[43mtimeout\u001b[49m\u001b[43m)\u001b[49m\n\u001b[1;32m    455\u001b[0m \u001b[38;5;28;01mif\u001b[39;00m \u001b[38;5;28mself\u001b[39m\u001b[38;5;241m.\u001b[39m_state \u001b[38;5;129;01min\u001b[39;00m [CANCELLED, CANCELLED_AND_NOTIFIED]:\n\u001b[1;32m    456\u001b[0m     \u001b[38;5;28;01mraise\u001b[39;00m CancelledError()\n",
      "File \u001b[0;32m~/.python/current/lib/python3.10/threading.py:320\u001b[0m, in \u001b[0;36mCondition.wait\u001b[0;34m(self, timeout)\u001b[0m\n\u001b[1;32m    318\u001b[0m \u001b[38;5;28;01mtry\u001b[39;00m:    \u001b[38;5;66;03m# restore state no matter what (e.g., KeyboardInterrupt)\u001b[39;00m\n\u001b[1;32m    319\u001b[0m     \u001b[38;5;28;01mif\u001b[39;00m timeout \u001b[38;5;129;01mis\u001b[39;00m \u001b[38;5;28;01mNone\u001b[39;00m:\n\u001b[0;32m--> 320\u001b[0m         \u001b[43mwaiter\u001b[49m\u001b[38;5;241;43m.\u001b[39;49m\u001b[43macquire\u001b[49m\u001b[43m(\u001b[49m\u001b[43m)\u001b[49m\n\u001b[1;32m    321\u001b[0m         gotit \u001b[38;5;241m=\u001b[39m \u001b[38;5;28;01mTrue\u001b[39;00m\n\u001b[1;32m    322\u001b[0m     \u001b[38;5;28;01melse\u001b[39;00m:\n",
      "\u001b[0;31mKeyboardInterrupt\u001b[0m: "
     ]
    }
   ],
   "source": [
    "evaluate(n_epochs)"
   ]
  },
  {
   "cell_type": "code",
   "execution_count": 30,
   "metadata": {},
   "outputs": [
    {
     "data": {
      "text/plain": [
       "''"
      ]
     },
     "execution_count": 30,
     "metadata": {},
     "output_type": "execute_result"
    }
   ],
   "source": [
    "tf.test.gpu_device_name()"
   ]
  },
  {
   "cell_type": "code",
   "execution_count": null,
   "metadata": {},
   "outputs": [],
   "source": []
  },
  {
   "cell_type": "code",
   "execution_count": null,
   "metadata": {},
   "outputs": [],
   "source": []
  },
  {
   "cell_type": "code",
   "execution_count": null,
   "metadata": {},
   "outputs": [],
   "source": []
  },
  {
   "cell_type": "code",
   "execution_count": null,
   "metadata": {},
   "outputs": [],
   "source": []
  },
  {
   "cell_type": "code",
   "execution_count": null,
   "metadata": {},
   "outputs": [],
   "source": []
  },
  {
   "cell_type": "code",
   "execution_count": null,
   "metadata": {},
   "outputs": [],
   "source": []
  },
  {
   "cell_type": "code",
   "execution_count": null,
   "metadata": {},
   "outputs": [],
   "source": []
  },
  {
   "cell_type": "code",
   "execution_count": null,
   "metadata": {},
   "outputs": [],
   "source": []
  }
 ],
 "metadata": {
  "kernelspec": {
   "display_name": "Python 3",
   "language": "python",
   "name": "python3"
  },
  "language_info": {
   "codemirror_mode": {
    "name": "ipython",
    "version": 3
   },
   "file_extension": ".py",
   "mimetype": "text/x-python",
   "name": "python",
   "nbconvert_exporter": "python",
   "pygments_lexer": "ipython3",
   "version": "3.10.13"
  }
 },
 "nbformat": 4,
 "nbformat_minor": 2
}
