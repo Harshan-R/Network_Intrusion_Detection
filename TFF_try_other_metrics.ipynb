{
 "cells": [
  {
   "cell_type": "code",
   "execution_count": 3,
   "metadata": {},
   "outputs": [
    {
     "name": "stdout",
     "output_type": "stream",
     "text": [
      "Requirement already satisfied: tensorflow in /usr/local/python/3.10.13/lib/python3.10/site-packages (2.14.1)\n",
      "Requirement already satisfied: absl-py>=1.0.0 in /usr/local/python/3.10.13/lib/python3.10/site-packages (from tensorflow) (1.4.0)\n",
      "Requirement already satisfied: astunparse>=1.6.0 in /usr/local/python/3.10.13/lib/python3.10/site-packages (from tensorflow) (1.6.3)\n",
      "Requirement already satisfied: flatbuffers>=23.5.26 in /usr/local/python/3.10.13/lib/python3.10/site-packages (from tensorflow) (23.5.26)\n",
      "Requirement already satisfied: gast!=0.5.0,!=0.5.1,!=0.5.2,>=0.2.1 in /usr/local/python/3.10.13/lib/python3.10/site-packages (from tensorflow) (0.5.4)\n",
      "Requirement already satisfied: google-pasta>=0.1.1 in /usr/local/python/3.10.13/lib/python3.10/site-packages (from tensorflow) (0.2.0)\n",
      "Requirement already satisfied: h5py>=2.9.0 in /usr/local/python/3.10.13/lib/python3.10/site-packages (from tensorflow) (3.10.0)\n",
      "Requirement already satisfied: libclang>=13.0.0 in /usr/local/python/3.10.13/lib/python3.10/site-packages (from tensorflow) (16.0.6)\n",
      "Requirement already satisfied: ml-dtypes==0.2.0 in /usr/local/python/3.10.13/lib/python3.10/site-packages (from tensorflow) (0.2.0)\n",
      "Requirement already satisfied: numpy<2.0.0,>=1.23.5 in /usr/local/python/3.10.13/lib/python3.10/site-packages (from tensorflow) (1.25.2)\n",
      "Requirement already satisfied: opt-einsum>=2.3.2 in /usr/local/python/3.10.13/lib/python3.10/site-packages (from tensorflow) (3.3.0)\n",
      "Requirement already satisfied: packaging in /usr/local/python/3.10.13/lib/python3.10/site-packages (from tensorflow) (22.0)\n",
      "Requirement already satisfied: protobuf!=4.21.0,!=4.21.1,!=4.21.2,!=4.21.3,!=4.21.4,!=4.21.5,<5.0.0dev,>=3.20.3 in /usr/local/python/3.10.13/lib/python3.10/site-packages (from tensorflow) (4.25.3)\n",
      "Requirement already satisfied: setuptools in /usr/local/python/3.10.13/lib/python3.10/site-packages (from tensorflow) (68.2.2)\n",
      "Requirement already satisfied: six>=1.12.0 in /home/codespace/.local/lib/python3.10/site-packages (from tensorflow) (1.16.0)\n",
      "Requirement already satisfied: termcolor>=1.1.0 in /usr/local/python/3.10.13/lib/python3.10/site-packages (from tensorflow) (2.4.0)\n",
      "Requirement already satisfied: typing-extensions>=3.6.6 in /usr/local/python/3.10.13/lib/python3.10/site-packages (from tensorflow) (4.5.0)\n",
      "Requirement already satisfied: wrapt<1.15,>=1.11.0 in /usr/local/python/3.10.13/lib/python3.10/site-packages (from tensorflow) (1.14.1)\n",
      "Requirement already satisfied: tensorflow-io-gcs-filesystem>=0.23.1 in /usr/local/python/3.10.13/lib/python3.10/site-packages (from tensorflow) (0.36.0)\n",
      "Requirement already satisfied: grpcio<2.0,>=1.24.3 in /usr/local/python/3.10.13/lib/python3.10/site-packages (from tensorflow) (1.62.0)\n",
      "Requirement already satisfied: tensorboard<2.15,>=2.14 in /usr/local/python/3.10.13/lib/python3.10/site-packages (from tensorflow) (2.14.1)\n",
      "Requirement already satisfied: tensorflow-estimator<2.15,>=2.14.0 in /usr/local/python/3.10.13/lib/python3.10/site-packages (from tensorflow) (2.14.0)\n",
      "Requirement already satisfied: keras<2.15,>=2.14.0 in /usr/local/python/3.10.13/lib/python3.10/site-packages (from tensorflow) (2.14.0)\n",
      "Requirement already satisfied: wheel<1.0,>=0.23.0 in /usr/local/python/3.10.13/lib/python3.10/site-packages (from astunparse>=1.6.0->tensorflow) (0.42.0)\n",
      "Requirement already satisfied: google-auth<3,>=1.6.3 in /usr/local/python/3.10.13/lib/python3.10/site-packages (from tensorboard<2.15,>=2.14->tensorflow) (2.28.1)\n",
      "Requirement already satisfied: google-auth-oauthlib<1.1,>=0.5 in /usr/local/python/3.10.13/lib/python3.10/site-packages (from tensorboard<2.15,>=2.14->tensorflow) (1.0.0)\n",
      "Requirement already satisfied: markdown>=2.6.8 in /usr/local/python/3.10.13/lib/python3.10/site-packages (from tensorboard<2.15,>=2.14->tensorflow) (3.5.2)\n",
      "Requirement already satisfied: requests<3,>=2.21.0 in /home/codespace/.local/lib/python3.10/site-packages (from tensorboard<2.15,>=2.14->tensorflow) (2.31.0)\n",
      "Requirement already satisfied: tensorboard-data-server<0.8.0,>=0.7.0 in /usr/local/python/3.10.13/lib/python3.10/site-packages (from tensorboard<2.15,>=2.14->tensorflow) (0.7.2)\n",
      "Requirement already satisfied: werkzeug>=1.0.1 in /usr/local/python/3.10.13/lib/python3.10/site-packages (from tensorboard<2.15,>=2.14->tensorflow) (3.0.1)\n",
      "Requirement already satisfied: cachetools<6.0,>=2.0.0 in /usr/local/python/3.10.13/lib/python3.10/site-packages (from google-auth<3,>=1.6.3->tensorboard<2.15,>=2.14->tensorflow) (5.3.2)\n",
      "Requirement already satisfied: pyasn1-modules>=0.2.1 in /usr/local/python/3.10.13/lib/python3.10/site-packages (from google-auth<3,>=1.6.3->tensorboard<2.15,>=2.14->tensorflow) (0.3.0)\n",
      "Requirement already satisfied: rsa<5,>=3.1.4 in /usr/local/python/3.10.13/lib/python3.10/site-packages (from google-auth<3,>=1.6.3->tensorboard<2.15,>=2.14->tensorflow) (4.9)\n",
      "Requirement already satisfied: requests-oauthlib>=0.7.0 in /usr/local/python/3.10.13/lib/python3.10/site-packages (from google-auth-oauthlib<1.1,>=0.5->tensorboard<2.15,>=2.14->tensorflow) (1.3.1)\n",
      "Requirement already satisfied: charset-normalizer<4,>=2 in /home/codespace/.local/lib/python3.10/site-packages (from requests<3,>=2.21.0->tensorboard<2.15,>=2.14->tensorflow) (3.3.2)\n",
      "Requirement already satisfied: idna<4,>=2.5 in /home/codespace/.local/lib/python3.10/site-packages (from requests<3,>=2.21.0->tensorboard<2.15,>=2.14->tensorflow) (3.6)\n",
      "Requirement already satisfied: urllib3<3,>=1.21.1 in /usr/local/python/3.10.13/lib/python3.10/site-packages (from requests<3,>=2.21.0->tensorboard<2.15,>=2.14->tensorflow) (2.0.7)\n",
      "Requirement already satisfied: certifi>=2017.4.17 in /home/codespace/.local/lib/python3.10/site-packages (from requests<3,>=2.21.0->tensorboard<2.15,>=2.14->tensorflow) (2024.2.2)\n",
      "Requirement already satisfied: MarkupSafe>=2.1.1 in /home/codespace/.local/lib/python3.10/site-packages (from werkzeug>=1.0.1->tensorboard<2.15,>=2.14->tensorflow) (2.1.5)\n",
      "Requirement already satisfied: pyasn1<0.6.0,>=0.4.6 in /usr/local/python/3.10.13/lib/python3.10/site-packages (from pyasn1-modules>=0.2.1->google-auth<3,>=1.6.3->tensorboard<2.15,>=2.14->tensorflow) (0.5.1)\n",
      "Requirement already satisfied: oauthlib>=3.0.0 in /usr/local/python/3.10.13/lib/python3.10/site-packages (from requests-oauthlib>=0.7.0->google-auth-oauthlib<1.1,>=0.5->tensorboard<2.15,>=2.14->tensorflow) (3.2.2)\n",
      "Note: you may need to restart the kernel to use updated packages.\n"
     ]
    }
   ],
   "source": [
    "\n",
    "pip install tensorflow"
   ]
  },
  {
   "cell_type": "code",
   "execution_count": 1,
   "metadata": {},
   "outputs": [
    {
     "name": "stdout",
     "output_type": "stream",
     "text": [
      "Requirement already satisfied: tensorflow-federated in /usr/local/python/3.10.13/lib/python3.10/site-packages (0.71.0)\n",
      "Requirement already satisfied: absl-py==1.*,>=1.0 in /usr/local/python/3.10.13/lib/python3.10/site-packages (from tensorflow-federated) (1.4.0)\n",
      "Requirement already satisfied: attrs~=23.1 in /usr/local/python/3.10.13/lib/python3.10/site-packages (from tensorflow-federated) (23.1.0)\n",
      "Requirement already satisfied: cachetools~=5.3 in /usr/local/python/3.10.13/lib/python3.10/site-packages (from tensorflow-federated) (5.3.2)\n",
      "Requirement already satisfied: dm-tree==0.1.8 in /usr/local/python/3.10.13/lib/python3.10/site-packages (from tensorflow-federated) (0.1.8)\n",
      "Requirement already satisfied: dp-accounting==0.4.3 in /usr/local/python/3.10.13/lib/python3.10/site-packages (from tensorflow-federated) (0.4.3)\n",
      "Requirement already satisfied: farmhashpy==0.4.0 in /usr/local/python/3.10.13/lib/python3.10/site-packages (from tensorflow-federated) (0.4.0)\n",
      "Requirement already satisfied: google-vizier==0.1.11 in /usr/local/python/3.10.13/lib/python3.10/site-packages (from tensorflow-federated) (0.1.11)\n",
      "Requirement already satisfied: grpcio~=1.46 in /usr/local/python/3.10.13/lib/python3.10/site-packages (from tensorflow-federated) (1.62.0)\n",
      "Requirement already satisfied: jaxlib==0.4.14 in /usr/local/python/3.10.13/lib/python3.10/site-packages (from tensorflow-federated) (0.4.14)\n",
      "Requirement already satisfied: jax==0.4.14 in /usr/local/python/3.10.13/lib/python3.10/site-packages (from tensorflow-federated) (0.4.14)\n",
      "Requirement already satisfied: numpy~=1.25 in /usr/local/python/3.10.13/lib/python3.10/site-packages (from tensorflow-federated) (1.25.2)\n",
      "Requirement already satisfied: portpicker~=1.6 in /usr/local/python/3.10.13/lib/python3.10/site-packages (from tensorflow-federated) (1.6.0)\n",
      "Requirement already satisfied: scipy~=1.9.3 in /usr/local/python/3.10.13/lib/python3.10/site-packages (from tensorflow-federated) (1.9.3)\n",
      "Requirement already satisfied: semantic-version~=2.6 in /usr/local/python/3.10.13/lib/python3.10/site-packages (from tensorflow-federated) (2.10.0)\n",
      "Requirement already satisfied: tensorflow-compression==2.14.*,>=2.14.0 in /usr/local/python/3.10.13/lib/python3.10/site-packages (from tensorflow-federated) (2.14.0)\n",
      "Requirement already satisfied: tensorflow-model-optimization==0.7.5 in /usr/local/python/3.10.13/lib/python3.10/site-packages (from tensorflow-federated) (0.7.5)\n",
      "Requirement already satisfied: tensorflow-privacy==0.8.12 in /usr/local/python/3.10.13/lib/python3.10/site-packages (from tensorflow-federated) (0.8.12)\n",
      "Requirement already satisfied: tensorflow==2.14.*,>=2.14.0 in /usr/local/python/3.10.13/lib/python3.10/site-packages (from tensorflow-federated) (2.14.1)\n",
      "Requirement already satisfied: tqdm~=4.64 in /usr/local/python/3.10.13/lib/python3.10/site-packages (from tensorflow-federated) (4.66.2)\n",
      "Requirement already satisfied: typing-extensions==4.5.*,>=4.5.0 in /usr/local/python/3.10.13/lib/python3.10/site-packages (from tensorflow-federated) (4.5.0)\n",
      "Requirement already satisfied: googleapis-common-protos==1.61.0 in /usr/local/python/3.10.13/lib/python3.10/site-packages (from tensorflow-federated) (1.61.0)\n",
      "Requirement already satisfied: mpmath~=1.2 in /home/codespace/.local/lib/python3.10/site-packages (from dp-accounting==0.4.3->tensorflow-federated) (1.3.0)\n",
      "Requirement already satisfied: protobuf>=3.6 in /usr/local/python/3.10.13/lib/python3.10/site-packages (from google-vizier==0.1.11->tensorflow-federated) (4.25.3)\n",
      "Requirement already satisfied: grpcio-tools>=1.35.0 in /usr/local/python/3.10.13/lib/python3.10/site-packages (from google-vizier==0.1.11->tensorflow-federated) (1.62.0)\n",
      "Requirement already satisfied: sqlalchemy<=1.4.20,>=1.4 in /usr/local/python/3.10.13/lib/python3.10/site-packages (from google-vizier==0.1.11->tensorflow-federated) (1.4.20)\n",
      "Requirement already satisfied: ml-dtypes>=0.2.0 in /usr/local/python/3.10.13/lib/python3.10/site-packages (from jax==0.4.14->tensorflow-federated) (0.2.0)\n",
      "Requirement already satisfied: opt-einsum in /usr/local/python/3.10.13/lib/python3.10/site-packages (from jax==0.4.14->tensorflow-federated) (3.3.0)\n",
      "Requirement already satisfied: astunparse>=1.6.0 in /usr/local/python/3.10.13/lib/python3.10/site-packages (from tensorflow==2.14.*,>=2.14.0->tensorflow-federated) (1.6.3)\n",
      "Requirement already satisfied: flatbuffers>=23.5.26 in /usr/local/python/3.10.13/lib/python3.10/site-packages (from tensorflow==2.14.*,>=2.14.0->tensorflow-federated) (23.5.26)\n",
      "Requirement already satisfied: gast!=0.5.0,!=0.5.1,!=0.5.2,>=0.2.1 in /usr/local/python/3.10.13/lib/python3.10/site-packages (from tensorflow==2.14.*,>=2.14.0->tensorflow-federated) (0.5.4)\n",
      "Requirement already satisfied: google-pasta>=0.1.1 in /usr/local/python/3.10.13/lib/python3.10/site-packages (from tensorflow==2.14.*,>=2.14.0->tensorflow-federated) (0.2.0)\n",
      "Requirement already satisfied: h5py>=2.9.0 in /usr/local/python/3.10.13/lib/python3.10/site-packages (from tensorflow==2.14.*,>=2.14.0->tensorflow-federated) (3.10.0)\n",
      "Requirement already satisfied: libclang>=13.0.0 in /usr/local/python/3.10.13/lib/python3.10/site-packages (from tensorflow==2.14.*,>=2.14.0->tensorflow-federated) (16.0.6)\n",
      "Requirement already satisfied: packaging in /usr/local/python/3.10.13/lib/python3.10/site-packages (from tensorflow==2.14.*,>=2.14.0->tensorflow-federated) (22.0)\n",
      "Requirement already satisfied: setuptools in /usr/local/python/3.10.13/lib/python3.10/site-packages (from tensorflow==2.14.*,>=2.14.0->tensorflow-federated) (68.2.2)\n",
      "Requirement already satisfied: six>=1.12.0 in /home/codespace/.local/lib/python3.10/site-packages (from tensorflow==2.14.*,>=2.14.0->tensorflow-federated) (1.16.0)\n",
      "Requirement already satisfied: termcolor>=1.1.0 in /usr/local/python/3.10.13/lib/python3.10/site-packages (from tensorflow==2.14.*,>=2.14.0->tensorflow-federated) (2.4.0)\n",
      "Requirement already satisfied: wrapt<1.15,>=1.11.0 in /usr/local/python/3.10.13/lib/python3.10/site-packages (from tensorflow==2.14.*,>=2.14.0->tensorflow-federated) (1.14.1)\n",
      "Requirement already satisfied: tensorflow-io-gcs-filesystem>=0.23.1 in /usr/local/python/3.10.13/lib/python3.10/site-packages (from tensorflow==2.14.*,>=2.14.0->tensorflow-federated) (0.36.0)\n",
      "Requirement already satisfied: tensorboard<2.15,>=2.14 in /usr/local/python/3.10.13/lib/python3.10/site-packages (from tensorflow==2.14.*,>=2.14.0->tensorflow-federated) (2.14.1)\n",
      "Requirement already satisfied: tensorflow-estimator<2.15,>=2.14.0 in /usr/local/python/3.10.13/lib/python3.10/site-packages (from tensorflow==2.14.*,>=2.14.0->tensorflow-federated) (2.14.0)\n",
      "Requirement already satisfied: keras<2.15,>=2.14.0 in /usr/local/python/3.10.13/lib/python3.10/site-packages (from tensorflow==2.14.*,>=2.14.0->tensorflow-federated) (2.14.0)\n",
      "Requirement already satisfied: tensorflow-probability~=0.15 in /usr/local/python/3.10.13/lib/python3.10/site-packages (from tensorflow-compression==2.14.*,>=2.14.0->tensorflow-federated) (0.22.1)\n",
      "Requirement already satisfied: immutabledict~=2.2 in /usr/local/python/3.10.13/lib/python3.10/site-packages (from tensorflow-privacy==0.8.12->tensorflow-federated) (2.2.5)\n",
      "Requirement already satisfied: matplotlib~=3.3 in /home/codespace/.local/lib/python3.10/site-packages (from tensorflow-privacy==0.8.12->tensorflow-federated) (3.8.2)\n",
      "Requirement already satisfied: pandas~=1.4 in /usr/local/python/3.10.13/lib/python3.10/site-packages (from tensorflow-privacy==0.8.12->tensorflow-federated) (1.5.3)\n",
      "Requirement already satisfied: scikit-learn==1.*,>=1.0 in /home/codespace/.local/lib/python3.10/site-packages (from tensorflow-privacy==0.8.12->tensorflow-federated) (1.4.0)\n",
      "Requirement already satisfied: statsmodels~=0.13 in /usr/local/python/3.10.13/lib/python3.10/site-packages (from tensorflow-privacy==0.8.12->tensorflow-federated) (0.14.1)\n",
      "Requirement already satisfied: tf-models-official~=2.13 in /usr/local/python/3.10.13/lib/python3.10/site-packages (from tensorflow-privacy==0.8.12->tensorflow-federated) (2.14.2)\n",
      "Requirement already satisfied: joblib>=1.2.0 in /home/codespace/.local/lib/python3.10/site-packages (from scikit-learn==1.*,>=1.0->tensorflow-privacy==0.8.12->tensorflow-federated) (1.3.2)\n",
      "Requirement already satisfied: threadpoolctl>=2.0.0 in /home/codespace/.local/lib/python3.10/site-packages (from scikit-learn==1.*,>=1.0->tensorflow-privacy==0.8.12->tensorflow-federated) (3.2.0)\n",
      "Requirement already satisfied: psutil in /home/codespace/.local/lib/python3.10/site-packages (from portpicker~=1.6->tensorflow-federated) (5.9.8)\n",
      "Requirement already satisfied: wheel<1.0,>=0.23.0 in /usr/local/python/3.10.13/lib/python3.10/site-packages (from astunparse>=1.6.0->tensorflow==2.14.*,>=2.14.0->tensorflow-federated) (0.42.0)\n",
      "Requirement already satisfied: contourpy>=1.0.1 in /home/codespace/.local/lib/python3.10/site-packages (from matplotlib~=3.3->tensorflow-privacy==0.8.12->tensorflow-federated) (1.2.0)\n",
      "Requirement already satisfied: cycler>=0.10 in /home/codespace/.local/lib/python3.10/site-packages (from matplotlib~=3.3->tensorflow-privacy==0.8.12->tensorflow-federated) (0.12.1)\n",
      "Requirement already satisfied: fonttools>=4.22.0 in /home/codespace/.local/lib/python3.10/site-packages (from matplotlib~=3.3->tensorflow-privacy==0.8.12->tensorflow-federated) (4.48.1)\n",
      "Requirement already satisfied: kiwisolver>=1.3.1 in /home/codespace/.local/lib/python3.10/site-packages (from matplotlib~=3.3->tensorflow-privacy==0.8.12->tensorflow-federated) (1.4.5)\n",
      "Requirement already satisfied: pillow>=8 in /home/codespace/.local/lib/python3.10/site-packages (from matplotlib~=3.3->tensorflow-privacy==0.8.12->tensorflow-federated) (10.2.0)\n",
      "Requirement already satisfied: pyparsing>=2.3.1 in /home/codespace/.local/lib/python3.10/site-packages (from matplotlib~=3.3->tensorflow-privacy==0.8.12->tensorflow-federated) (3.1.1)\n",
      "Requirement already satisfied: python-dateutil>=2.7 in /home/codespace/.local/lib/python3.10/site-packages (from matplotlib~=3.3->tensorflow-privacy==0.8.12->tensorflow-federated) (2.8.2)\n",
      "Requirement already satisfied: pytz>=2020.1 in /home/codespace/.local/lib/python3.10/site-packages (from pandas~=1.4->tensorflow-privacy==0.8.12->tensorflow-federated) (2024.1)\n",
      "Requirement already satisfied: greenlet!=0.4.17 in /usr/local/python/3.10.13/lib/python3.10/site-packages (from sqlalchemy<=1.4.20,>=1.4->google-vizier==0.1.11->tensorflow-federated) (3.0.3)\n",
      "Requirement already satisfied: patsy>=0.5.4 in /usr/local/python/3.10.13/lib/python3.10/site-packages (from statsmodels~=0.13->tensorflow-privacy==0.8.12->tensorflow-federated) (0.5.6)\n",
      "Requirement already satisfied: google-auth<3,>=1.6.3 in /usr/local/python/3.10.13/lib/python3.10/site-packages (from tensorboard<2.15,>=2.14->tensorflow==2.14.*,>=2.14.0->tensorflow-federated) (2.28.1)\n",
      "Requirement already satisfied: google-auth-oauthlib<1.1,>=0.5 in /usr/local/python/3.10.13/lib/python3.10/site-packages (from tensorboard<2.15,>=2.14->tensorflow==2.14.*,>=2.14.0->tensorflow-federated) (1.0.0)\n",
      "Requirement already satisfied: markdown>=2.6.8 in /usr/local/python/3.10.13/lib/python3.10/site-packages (from tensorboard<2.15,>=2.14->tensorflow==2.14.*,>=2.14.0->tensorflow-federated) (3.5.2)\n",
      "Requirement already satisfied: requests<3,>=2.21.0 in /home/codespace/.local/lib/python3.10/site-packages (from tensorboard<2.15,>=2.14->tensorflow==2.14.*,>=2.14.0->tensorflow-federated) (2.31.0)\n",
      "Requirement already satisfied: tensorboard-data-server<0.8.0,>=0.7.0 in /usr/local/python/3.10.13/lib/python3.10/site-packages (from tensorboard<2.15,>=2.14->tensorflow==2.14.*,>=2.14.0->tensorflow-federated) (0.7.2)\n",
      "Requirement already satisfied: werkzeug>=1.0.1 in /usr/local/python/3.10.13/lib/python3.10/site-packages (from tensorboard<2.15,>=2.14->tensorflow==2.14.*,>=2.14.0->tensorflow-federated) (3.0.1)\n",
      "Requirement already satisfied: decorator in /home/codespace/.local/lib/python3.10/site-packages (from tensorflow-probability~=0.15->tensorflow-compression==2.14.*,>=2.14.0->tensorflow-federated) (5.1.1)\n",
      "Requirement already satisfied: cloudpickle>=1.3 in /usr/local/python/3.10.13/lib/python3.10/site-packages (from tensorflow-probability~=0.15->tensorflow-compression==2.14.*,>=2.14.0->tensorflow-federated) (3.0.0)\n",
      "Requirement already satisfied: Cython in /usr/local/python/3.10.13/lib/python3.10/site-packages (from tf-models-official~=2.13->tensorflow-privacy==0.8.12->tensorflow-federated) (3.0.8)\n",
      "Requirement already satisfied: gin-config in /usr/local/python/3.10.13/lib/python3.10/site-packages (from tf-models-official~=2.13->tensorflow-privacy==0.8.12->tensorflow-federated) (0.5.0)\n",
      "Requirement already satisfied: google-api-python-client>=1.6.7 in /usr/local/python/3.10.13/lib/python3.10/site-packages (from tf-models-official~=2.13->tensorflow-privacy==0.8.12->tensorflow-federated) (2.119.0)\n",
      "Requirement already satisfied: kaggle>=1.3.9 in /usr/local/python/3.10.13/lib/python3.10/site-packages (from tf-models-official~=2.13->tensorflow-privacy==0.8.12->tensorflow-federated) (1.6.6)\n",
      "Requirement already satisfied: oauth2client in /usr/local/python/3.10.13/lib/python3.10/site-packages (from tf-models-official~=2.13->tensorflow-privacy==0.8.12->tensorflow-federated) (4.1.3)\n",
      "Requirement already satisfied: opencv-python-headless in /usr/local/python/3.10.13/lib/python3.10/site-packages (from tf-models-official~=2.13->tensorflow-privacy==0.8.12->tensorflow-federated) (4.9.0.80)\n",
      "Requirement already satisfied: py-cpuinfo>=3.3.0 in /usr/local/python/3.10.13/lib/python3.10/site-packages (from tf-models-official~=2.13->tensorflow-privacy==0.8.12->tensorflow-federated) (9.0.0)\n",
      "Requirement already satisfied: pycocotools in /usr/local/python/3.10.13/lib/python3.10/site-packages (from tf-models-official~=2.13->tensorflow-privacy==0.8.12->tensorflow-federated) (2.0.7)\n",
      "Requirement already satisfied: pyyaml>=6.0.0 in /home/codespace/.local/lib/python3.10/site-packages (from tf-models-official~=2.13->tensorflow-privacy==0.8.12->tensorflow-federated) (6.0.1)\n",
      "Requirement already satisfied: sacrebleu in /usr/local/python/3.10.13/lib/python3.10/site-packages (from tf-models-official~=2.13->tensorflow-privacy==0.8.12->tensorflow-federated) (2.4.0)\n",
      "Requirement already satisfied: sentencepiece in /usr/local/python/3.10.13/lib/python3.10/site-packages (from tf-models-official~=2.13->tensorflow-privacy==0.8.12->tensorflow-federated) (0.2.0)\n",
      "Requirement already satisfied: seqeval in /usr/local/python/3.10.13/lib/python3.10/site-packages (from tf-models-official~=2.13->tensorflow-privacy==0.8.12->tensorflow-federated) (1.2.2)\n",
      "Requirement already satisfied: tensorflow-datasets in /usr/local/python/3.10.13/lib/python3.10/site-packages (from tf-models-official~=2.13->tensorflow-privacy==0.8.12->tensorflow-federated) (4.9.4)\n",
      "Requirement already satisfied: tensorflow-hub>=0.6.0 in /usr/local/python/3.10.13/lib/python3.10/site-packages (from tf-models-official~=2.13->tensorflow-privacy==0.8.12->tensorflow-federated) (0.16.1)\n",
      "Requirement already satisfied: tensorflow-text~=2.14.0 in /usr/local/python/3.10.13/lib/python3.10/site-packages (from tf-models-official~=2.13->tensorflow-privacy==0.8.12->tensorflow-federated) (2.14.0)\n",
      "Requirement already satisfied: tf-slim>=1.1.0 in /usr/local/python/3.10.13/lib/python3.10/site-packages (from tf-models-official~=2.13->tensorflow-privacy==0.8.12->tensorflow-federated) (1.1.0)\n",
      "Requirement already satisfied: httplib2<1.dev0,>=0.15.0 in /usr/local/python/3.10.13/lib/python3.10/site-packages (from google-api-python-client>=1.6.7->tf-models-official~=2.13->tensorflow-privacy==0.8.12->tensorflow-federated) (0.22.0)\n",
      "Requirement already satisfied: google-auth-httplib2>=0.1.0 in /usr/local/python/3.10.13/lib/python3.10/site-packages (from google-api-python-client>=1.6.7->tf-models-official~=2.13->tensorflow-privacy==0.8.12->tensorflow-federated) (0.2.0)\n",
      "Requirement already satisfied: google-api-core!=2.0.*,!=2.1.*,!=2.2.*,!=2.3.0,<3.0.0.dev0,>=1.31.5 in /usr/local/python/3.10.13/lib/python3.10/site-packages (from google-api-python-client>=1.6.7->tf-models-official~=2.13->tensorflow-privacy==0.8.12->tensorflow-federated) (2.17.1)\n",
      "Requirement already satisfied: uritemplate<5,>=3.0.1 in /usr/local/python/3.10.13/lib/python3.10/site-packages (from google-api-python-client>=1.6.7->tf-models-official~=2.13->tensorflow-privacy==0.8.12->tensorflow-federated) (4.1.1)\n",
      "Requirement already satisfied: pyasn1-modules>=0.2.1 in /usr/local/python/3.10.13/lib/python3.10/site-packages (from google-auth<3,>=1.6.3->tensorboard<2.15,>=2.14->tensorflow==2.14.*,>=2.14.0->tensorflow-federated) (0.3.0)\n",
      "Requirement already satisfied: rsa<5,>=3.1.4 in /usr/local/python/3.10.13/lib/python3.10/site-packages (from google-auth<3,>=1.6.3->tensorboard<2.15,>=2.14->tensorflow==2.14.*,>=2.14.0->tensorflow-federated) (4.9)\n",
      "Requirement already satisfied: requests-oauthlib>=0.7.0 in /usr/local/python/3.10.13/lib/python3.10/site-packages (from google-auth-oauthlib<1.1,>=0.5->tensorboard<2.15,>=2.14->tensorflow==2.14.*,>=2.14.0->tensorflow-federated) (1.3.1)\n",
      "Requirement already satisfied: certifi in /home/codespace/.local/lib/python3.10/site-packages (from kaggle>=1.3.9->tf-models-official~=2.13->tensorflow-privacy==0.8.12->tensorflow-federated) (2024.2.2)\n",
      "Requirement already satisfied: python-slugify in /usr/local/python/3.10.13/lib/python3.10/site-packages (from kaggle>=1.3.9->tf-models-official~=2.13->tensorflow-privacy==0.8.12->tensorflow-federated) (8.0.4)\n",
      "Requirement already satisfied: urllib3 in /usr/local/python/3.10.13/lib/python3.10/site-packages (from kaggle>=1.3.9->tf-models-official~=2.13->tensorflow-privacy==0.8.12->tensorflow-federated) (2.0.7)\n",
      "Requirement already satisfied: bleach in /home/codespace/.local/lib/python3.10/site-packages (from kaggle>=1.3.9->tf-models-official~=2.13->tensorflow-privacy==0.8.12->tensorflow-federated) (6.1.0)\n",
      "Requirement already satisfied: charset-normalizer<4,>=2 in /home/codespace/.local/lib/python3.10/site-packages (from requests<3,>=2.21.0->tensorboard<2.15,>=2.14->tensorflow==2.14.*,>=2.14.0->tensorflow-federated) (3.3.2)\n",
      "Requirement already satisfied: idna<4,>=2.5 in /home/codespace/.local/lib/python3.10/site-packages (from requests<3,>=2.21.0->tensorboard<2.15,>=2.14->tensorflow==2.14.*,>=2.14.0->tensorflow-federated) (3.6)\n",
      "Requirement already satisfied: tf-keras>=2.14.1 in /usr/local/python/3.10.13/lib/python3.10/site-packages (from tensorflow-hub>=0.6.0->tf-models-official~=2.13->tensorflow-privacy==0.8.12->tensorflow-federated) (2.15.0)\n",
      "Requirement already satisfied: MarkupSafe>=2.1.1 in /home/codespace/.local/lib/python3.10/site-packages (from werkzeug>=1.0.1->tensorboard<2.15,>=2.14->tensorflow==2.14.*,>=2.14.0->tensorflow-federated) (2.1.5)\n",
      "Requirement already satisfied: pyasn1>=0.1.7 in /usr/local/python/3.10.13/lib/python3.10/site-packages (from oauth2client->tf-models-official~=2.13->tensorflow-privacy==0.8.12->tensorflow-federated) (0.5.1)\n",
      "Requirement already satisfied: portalocker in /usr/local/python/3.10.13/lib/python3.10/site-packages (from sacrebleu->tf-models-official~=2.13->tensorflow-privacy==0.8.12->tensorflow-federated) (2.8.2)\n",
      "Requirement already satisfied: regex in /usr/local/python/3.10.13/lib/python3.10/site-packages (from sacrebleu->tf-models-official~=2.13->tensorflow-privacy==0.8.12->tensorflow-federated) (2023.12.25)\n",
      "Requirement already satisfied: tabulate>=0.8.9 in /usr/local/python/3.10.13/lib/python3.10/site-packages (from sacrebleu->tf-models-official~=2.13->tensorflow-privacy==0.8.12->tensorflow-federated) (0.9.0)\n",
      "Requirement already satisfied: colorama in /home/codespace/.local/lib/python3.10/site-packages (from sacrebleu->tf-models-official~=2.13->tensorflow-privacy==0.8.12->tensorflow-federated) (0.4.6)\n",
      "Requirement already satisfied: lxml in /usr/local/python/3.10.13/lib/python3.10/site-packages (from sacrebleu->tf-models-official~=2.13->tensorflow-privacy==0.8.12->tensorflow-federated) (5.1.0)\n",
      "Requirement already satisfied: click in /usr/local/python/3.10.13/lib/python3.10/site-packages (from tensorflow-datasets->tf-models-official~=2.13->tensorflow-privacy==0.8.12->tensorflow-federated) (8.1.7)\n",
      "Requirement already satisfied: etils>=0.9.0 in /usr/local/python/3.10.13/lib/python3.10/site-packages (from etils[enp,epath,etree]>=0.9.0->tensorflow-datasets->tf-models-official~=2.13->tensorflow-privacy==0.8.12->tensorflow-federated) (1.7.0)\n",
      "Requirement already satisfied: promise in /usr/local/python/3.10.13/lib/python3.10/site-packages (from tensorflow-datasets->tf-models-official~=2.13->tensorflow-privacy==0.8.12->tensorflow-federated) (2.3)\n",
      "Requirement already satisfied: tensorflow-metadata in /usr/local/python/3.10.13/lib/python3.10/site-packages (from tensorflow-datasets->tf-models-official~=2.13->tensorflow-privacy==0.8.12->tensorflow-federated) (1.13.1)\n",
      "Requirement already satisfied: toml in /usr/local/python/3.10.13/lib/python3.10/site-packages (from tensorflow-datasets->tf-models-official~=2.13->tensorflow-privacy==0.8.12->tensorflow-federated) (0.10.2)\n",
      "Requirement already satisfied: array-record>=0.5.0 in /usr/local/python/3.10.13/lib/python3.10/site-packages (from tensorflow-datasets->tf-models-official~=2.13->tensorflow-privacy==0.8.12->tensorflow-federated) (0.5.0)\n",
      "Requirement already satisfied: fsspec in /home/codespace/.local/lib/python3.10/site-packages (from etils[enp,epath,etree]>=0.9.0->tensorflow-datasets->tf-models-official~=2.13->tensorflow-privacy==0.8.12->tensorflow-federated) (2024.2.0)\n",
      "Requirement already satisfied: importlib_resources in /usr/local/python/3.10.13/lib/python3.10/site-packages (from etils[enp,epath,etree]>=0.9.0->tensorflow-datasets->tf-models-official~=2.13->tensorflow-privacy==0.8.12->tensorflow-federated) (6.1.1)\n",
      "Requirement already satisfied: zipp in /usr/local/python/3.10.13/lib/python3.10/site-packages (from etils[enp,epath,etree]>=0.9.0->tensorflow-datasets->tf-models-official~=2.13->tensorflow-privacy==0.8.12->tensorflow-federated) (3.17.0)\n",
      "Requirement already satisfied: oauthlib>=3.0.0 in /usr/local/python/3.10.13/lib/python3.10/site-packages (from requests-oauthlib>=0.7.0->google-auth-oauthlib<1.1,>=0.5->tensorboard<2.15,>=2.14->tensorflow==2.14.*,>=2.14.0->tensorflow-federated) (3.2.2)\n",
      "Requirement already satisfied: webencodings in /home/codespace/.local/lib/python3.10/site-packages (from bleach->kaggle>=1.3.9->tf-models-official~=2.13->tensorflow-privacy==0.8.12->tensorflow-federated) (0.5.1)\n",
      "Requirement already satisfied: text-unidecode>=1.3 in /usr/local/python/3.10.13/lib/python3.10/site-packages (from python-slugify->kaggle>=1.3.9->tf-models-official~=2.13->tensorflow-privacy==0.8.12->tensorflow-federated) (1.3)\n",
      "Note: you may need to restart the kernel to use updated packages.\n"
     ]
    }
   ],
   "source": [
    "pip install tensorflow-federated"
   ]
  },
  {
   "cell_type": "code",
   "execution_count": 1,
   "metadata": {},
   "outputs": [
    {
     "name": "stdout",
     "output_type": "stream",
     "text": [
      "Requirement already satisfied: nest-asyncio in /home/codespace/.local/lib/python3.10/site-packages (1.6.0)\n",
      "Requirement already satisfied: pandas in /usr/local/python/3.10.13/lib/python3.10/site-packages (1.5.3)\n",
      "Requirement already satisfied: python-dateutil>=2.8.1 in /home/codespace/.local/lib/python3.10/site-packages (from pandas) (2.8.2)\n",
      "Requirement already satisfied: pytz>=2020.1 in /home/codespace/.local/lib/python3.10/site-packages (from pandas) (2024.1)\n",
      "Requirement already satisfied: numpy>=1.21.0 in /usr/local/python/3.10.13/lib/python3.10/site-packages (from pandas) (1.25.2)\n",
      "Requirement already satisfied: six>=1.5 in /home/codespace/.local/lib/python3.10/site-packages (from python-dateutil>=2.8.1->pandas) (1.16.0)\n",
      "Requirement already satisfied: matplotlib in /home/codespace/.local/lib/python3.10/site-packages (3.8.2)\n",
      "Requirement already satisfied: contourpy>=1.0.1 in /home/codespace/.local/lib/python3.10/site-packages (from matplotlib) (1.2.0)\n",
      "Requirement already satisfied: cycler>=0.10 in /home/codespace/.local/lib/python3.10/site-packages (from matplotlib) (0.12.1)\n",
      "Requirement already satisfied: fonttools>=4.22.0 in /home/codespace/.local/lib/python3.10/site-packages (from matplotlib) (4.48.1)\n",
      "Requirement already satisfied: kiwisolver>=1.3.1 in /home/codespace/.local/lib/python3.10/site-packages (from matplotlib) (1.4.5)\n",
      "Requirement already satisfied: numpy<2,>=1.21 in /usr/local/python/3.10.13/lib/python3.10/site-packages (from matplotlib) (1.25.2)\n",
      "Requirement already satisfied: packaging>=20.0 in /usr/local/python/3.10.13/lib/python3.10/site-packages (from matplotlib) (22.0)\n",
      "Requirement already satisfied: pillow>=8 in /home/codespace/.local/lib/python3.10/site-packages (from matplotlib) (10.2.0)\n",
      "Requirement already satisfied: pyparsing>=2.3.1 in /home/codespace/.local/lib/python3.10/site-packages (from matplotlib) (3.1.1)\n",
      "Requirement already satisfied: python-dateutil>=2.7 in /home/codespace/.local/lib/python3.10/site-packages (from matplotlib) (2.8.2)\n",
      "Requirement already satisfied: six>=1.5 in /home/codespace/.local/lib/python3.10/site-packages (from python-dateutil>=2.7->matplotlib) (1.16.0)\n"
     ]
    }
   ],
   "source": [
    "!pip install nest-asyncio\n",
    "!pip install pandas\n",
    "!pip install matplotlib"
   ]
  },
  {
   "cell_type": "code",
   "execution_count": 2,
   "metadata": {},
   "outputs": [
    {
     "name": "stderr",
     "output_type": "stream",
     "text": [
      "2024-02-26 05:54:09.590756: I tensorflow/tsl/cuda/cudart_stub.cc:28] Could not find cuda drivers on your machine, GPU will not be used.\n",
      "2024-02-26 05:54:11.894626: E tensorflow/compiler/xla/stream_executor/cuda/cuda_dnn.cc:9342] Unable to register cuDNN factory: Attempting to register factory for plugin cuDNN when one has already been registered\n",
      "2024-02-26 05:54:11.894679: E tensorflow/compiler/xla/stream_executor/cuda/cuda_fft.cc:609] Unable to register cuFFT factory: Attempting to register factory for plugin cuFFT when one has already been registered\n",
      "2024-02-26 05:54:11.898424: E tensorflow/compiler/xla/stream_executor/cuda/cuda_blas.cc:1518] Unable to register cuBLAS factory: Attempting to register factory for plugin cuBLAS when one has already been registered\n",
      "2024-02-26 05:54:12.840357: I tensorflow/tsl/cuda/cudart_stub.cc:28] Could not find cuda drivers on your machine, GPU will not be used.\n",
      "2024-02-26 05:54:12.841189: I tensorflow/core/platform/cpu_feature_guard.cc:182] This TensorFlow binary is optimized to use available CPU instructions in performance-critical operations.\n",
      "To enable the following instructions: AVX2 FMA, in other operations, rebuild TensorFlow with the appropriate compiler flags.\n",
      "2024-02-26 05:54:16.617259: W tensorflow/compiler/tf2tensorrt/utils/py_utils.cc:38] TF-TRT Warning: Could not find TensorRT\n"
     ]
    }
   ],
   "source": [
    "import collections\n",
    "import os\n",
    "import pandas as pd\n",
    "import tensorflow as tf\n",
    "import tensorflow_federated as tff\n",
    "import time\n",
    "from matplotlib import pyplot as plt\n",
    "import nest_asyncio\n",
    "import numpy as np\n",
    "nest_asyncio.apply()\n",
    "\n",
    "%matplotlib inline"
   ]
  },
  {
   "cell_type": "code",
   "execution_count": 3,
   "metadata": {},
   "outputs": [],
   "source": [
    "df_train = pd.read_csv('/workspaces/Network_Intrusion_Detection/KDDTrain+.txt')  # Replace with the actual path\n",
    "df_test = pd.read_csv('/workspaces/Network_Intrusion_Detection/KDDTest+.txt')  "
   ]
  },
  {
   "cell_type": "code",
   "execution_count": 4,
   "metadata": {},
   "outputs": [],
   "source": [
    "df_train.columns = ['duration', 'protocol_type', 'service', 'flag', 'src_bytes',\n",
    "'dst_bytes', 'land', 'wrong_fragment', 'urgent', 'hot',\n",
    "'num_failed_logins', 'logged_in', 'num_compromised', 'root_shell',\n",
    "'su_attempted', 'num_root', 'num_file_creations', 'num_shells',\n",
    "'num_access_files', 'num_outbound_cmds', 'is_host_login',\n",
    "'is_guest_login', 'count', 'srv_count', 'serror_rate',\n",
    "'srv_serror_rate', 'rerror_rate', 'srv_rerror_rate', 'same_srv_rate',\n",
    "'diff_srv_rate', 'srv_diff_host_rate', 'dst_host_count',\n",
    "'dst_host_srv_count', 'dst_host_same_srv_rate','dst_host_diff_srv_rate', 'dst_host_same_src_port_rate',\n",
    "'dst_host_srv_diff_host_rate', 'dst_host_serror_rate',\n",
    "'dst_host_srv_serror_rate', 'dst_host_rerror_rate',\n",
    "'dst_host_srv_rerror_rate', 'subclass', 'difficulty_level']\n",
    "\n",
    "df_test.columns = ['duration', 'protocol_type', 'service', 'flag', 'src_bytes',\n",
    "'dst_bytes', 'land', 'wrong_fragment', 'urgent', 'hot',\n",
    "'num_failed_logins', 'logged_in', 'num_compromised', 'root_shell',\n",
    "'su_attempted', 'num_root', 'num_file_creations', 'num_shells',\n",
    "'num_access_files', 'num_outbound_cmds', 'is_host_login',\n",
    "'is_guest_login', 'count', 'srv_count', 'serror_rate',\n",
    "'srv_serror_rate', 'rerror_rate', 'srv_rerror_rate', 'same_srv_rate',\n",
    "'diff_srv_rate', 'srv_diff_host_rate', 'dst_host_count',\n",
    "'dst_host_srv_count', 'dst_host_same_srv_rate','dst_host_diff_srv_rate', 'dst_host_same_src_port_rate',\n",
    "'dst_host_srv_diff_host_rate', 'dst_host_serror_rate',\n",
    "'dst_host_srv_serror_rate', 'dst_host_rerror_rate',\n",
    "'dst_host_srv_rerror_rate', 'subclass', 'difficulty_level']"
   ]
  },
  {
   "cell_type": "code",
   "execution_count": 5,
   "metadata": {},
   "outputs": [
    {
     "name": "stderr",
     "output_type": "stream",
     "text": [
      "/tmp/ipykernel_9400/1093709786.py:1: FutureWarning: In a future version of pandas all arguments of DataFrame.drop except for the argument 'labels' will be keyword-only.\n",
      "  df_train = df_train.drop('difficulty_level', 1)\n",
      "/tmp/ipykernel_9400/1093709786.py:2: FutureWarning: In a future version of pandas all arguments of DataFrame.drop except for the argument 'labels' will be keyword-only.\n",
      "  df_test = df_test.drop('difficulty_level', 1)\n"
     ]
    }
   ],
   "source": [
    "df_train = df_train.drop('difficulty_level', 1)\n",
    "df_test = df_test.drop('difficulty_level', 1)"
   ]
  },
  {
   "cell_type": "code",
   "execution_count": 6,
   "metadata": {},
   "outputs": [],
   "source": [
    "df_train['protocol_type'] = df_train['protocol_type'].str.lower()\n",
    "df_test['protocol_type'] = df_test['protocol_type'].str.lower()\n",
    "\n",
    "df_train['service'] = df_train['service'].str.lower()\n",
    "df_test['service'] = df_test['service'].str.lower()\n",
    "\n",
    "df_train['flag'] = df_train['flag'].str.lower()\n",
    "df_test['flag'] = df_test['flag'].str.lower()"
   ]
  },
  {
   "cell_type": "code",
   "execution_count": 7,
   "metadata": {},
   "outputs": [],
   "source": [
    "unique_labels_pro_train = list(df_train.protocol_type.astype('category').unique())\n",
    "unique_codes_pro_train = list(df_train.protocol_type.astype('category').cat.codes.unique())\n",
    "mapping_pro_train = {unique_codes_pro_train[i] : unique_labels_pro_train[i] for i in range(len(unique_labels_pro_train))}\n",
    "\n",
    "unique_labels_pro_test = list(df_test.protocol_type.astype('category').unique())\n",
    "unique_codes_pro_test = list(df_test.protocol_type.astype('category').cat.codes.unique())\n",
    "mapping_pro_test = {unique_codes_pro_test[i] : unique_labels_pro_test[i] for i in range(len(unique_labels_pro_test))}"
   ]
  },
  {
   "cell_type": "code",
   "execution_count": 8,
   "metadata": {},
   "outputs": [
    {
     "name": "stdout",
     "output_type": "stream",
     "text": [
      "{1: 'tcp', 0: 'icmp', 2: 'udp'}\n",
      "{2: 'udp', 1: 'tcp', 0: 'icmp'}\n"
     ]
    }
   ],
   "source": [
    "print(mapping_pro_test)\n",
    "print(mapping_pro_train)"
   ]
  },
  {
   "cell_type": "code",
   "execution_count": 9,
   "metadata": {},
   "outputs": [],
   "source": [
    "df_train['protocol_type'] = df_train['protocol_type'].replace(unique_labels_pro_train, unique_codes_pro_train)\n",
    "df_test['protocol_type'] = df_test['protocol_type'].replace(unique_labels_pro_test, unique_codes_pro_test)"
   ]
  },
  {
   "cell_type": "code",
   "execution_count": 10,
   "metadata": {},
   "outputs": [],
   "source": [
    "unique_labels_ser_train = list(df_train.service.astype('category').unique())\n",
    "unique_codes_ser_train = list(df_train.service.astype('category').cat.codes.unique())\n",
    "mapping_ser_train = {unique_codes_ser_train[i] : unique_labels_ser_train[i] for i in range(len(unique_labels_ser_train))}\n",
    "\n",
    "unique_labels_ser_test = list(df_test.service.astype('category').unique())\n",
    "unique_codes_ser_test = list(df_test.service.astype('category').cat.codes.unique())\n",
    "mapping_ser_test = {unique_codes_ser_test[i] : unique_labels_ser_test[i] for i in range(len(unique_labels_ser_test))}"
   ]
  },
  {
   "cell_type": "code",
   "execution_count": 12,
   "metadata": {},
   "outputs": [
    {
     "name": "stdout",
     "output_type": "stream",
     "text": [
      "{43: 'private', 16: 'ftp_data', 10: 'eco_i', 53: 'telnet', 19: 'http', 47: 'smtp', 15: 'ftp', 26: 'ldap', 41: 'pop_3', 2: 'courier', 6: 'discard', 11: 'ecr_i', 21: 'imap4', 8: 'domain_u', 29: 'mtp', 52: 'systat', 23: 'iso_tsap', 38: 'other', 3: 'csnet_ns', 14: 'finger', 58: 'uucp', 61: 'whois', 32: 'netbios_ns', 27: 'link', 63: 'z39_50', 50: 'sunrpc', 0: 'auth', 31: 'netbios_dgm', 59: 'uucp_path', 60: 'vmnet', 7: 'domain', 30: 'name', 40: 'pop_2', 20: 'http_443', 57: 'urp_i', 28: 'login', 17: 'gopher', 13: 'exec', 56: 'time', 44: 'remote_job', 49: 'ssh', 25: 'kshell', 48: 'sql_net', 46: 'shell', 18: 'hostnames', 9: 'echo', 5: 'daytime', 39: 'pm_dump', 22: 'irc', 34: 'netstat', 4: 'ctf', 36: 'nntp', 33: 'netbios_ssn', 55: 'tim_i', 51: 'supdup', 1: 'bgp', 35: 'nnsp', 45: 'rje', 42: 'printer', 12: 'efs', 62: 'x11', 37: 'ntp_u', 24: 'klogin', 54: 'tftp_u'}\n",
      "{42: 'other', 47: 'private', 21: 'http', 49: 'remote_job', 17: 'ftp_data', 34: 'name', 36: 'netbios_ns', 11: 'eco_i', 33: 'mtp', 58: 'telnet', 15: 'finger', 9: 'domain_u', 56: 'supdup', 65: 'uucp_path', 69: 'z39_50', 52: 'smtp', 4: 'csnet_ns', 64: 'uucp', 35: 'netbios_dgm', 63: 'urp_i', 1: 'auth', 8: 'domain', 16: 'ftp', 2: 'bgp', 30: 'ldap', 12: 'ecr_i', 18: 'gopher', 66: 'vmnet', 57: 'systat', 23: 'http_443', 13: 'efs', 67: 'whois', 25: 'imap4', 27: 'iso_tsap', 10: 'echo', 28: 'klogin', 31: 'link', 55: 'sunrpc', 32: 'login', 29: 'kshell', 53: 'sql_net', 61: 'time', 20: 'hostnames', 14: 'exec', 41: 'ntp_u', 7: 'discard', 40: 'nntp', 3: 'courier', 5: 'ctf', 54: 'ssh', 6: 'daytime', 51: 'shell', 38: 'netstat', 45: 'pop_3', 39: 'nnsp', 26: 'irc', 44: 'pop_2', 46: 'printer', 60: 'tim_i', 43: 'pm_dump', 48: 'red_i', 37: 'netbios_ssn', 50: 'rje', 68: 'x11', 62: 'urh_i', 24: 'http_8001', 0: 'aol', 22: 'http_2784', 59: 'tftp_u', 19: 'harvest'}\n"
     ]
    }
   ],
   "source": [
    "print(mapping_ser_test)\n",
    "print(mapping_ser_train)"
   ]
  },
  {
   "cell_type": "code",
   "execution_count": 13,
   "metadata": {},
   "outputs": [],
   "source": [
    "df_train['service'] = df_train['service'].replace(unique_labels_ser_train, unique_codes_ser_train)\n",
    "df_test['service'] = df_test['service'].replace(unique_labels_ser_test, unique_codes_ser_test)"
   ]
  },
  {
   "cell_type": "code",
   "execution_count": 14,
   "metadata": {},
   "outputs": [],
   "source": [
    "unique_labels_flag_train = list(df_train.flag.astype('category').unique())\n",
    "unique_codes_flag_train = list(df_train.flag.astype('category').cat.codes.unique())\n",
    "mapping_flag_train = {unique_codes_flag_train[i] : unique_labels_flag_train[i] for i in range(len(unique_labels_flag_train))}\n",
    "\n",
    "unique_labels_flag_test = list(df_test.flag.astype('category').unique())\n",
    "unique_codes_flag_test = list(df_test.flag.astype('category').cat.codes.unique())\n",
    "mapping_flag_test = {unique_codes_flag_test[i] : unique_labels_flag_test[i] for i in range(len(unique_labels_flag_test))}"
   ]
  },
  {
   "cell_type": "code",
   "execution_count": 15,
   "metadata": {},
   "outputs": [],
   "source": [
    "df_train['flag'] = df_train['flag'].replace(unique_labels_flag_train, unique_codes_flag_train)\n",
    "df_test['flag'] = df_test['flag'].replace(unique_labels_flag_test, unique_codes_flag_test)"
   ]
  },
  {
   "cell_type": "code",
   "execution_count": 16,
   "metadata": {},
   "outputs": [],
   "source": [
    "\n",
    "df_train['subclass'] = df_train['subclass'].str.lower()\n",
    "df_test['subclass'] = df_test['subclass'].str.lower()"
   ]
  },
  {
   "cell_type": "code",
   "execution_count": 17,
   "metadata": {},
   "outputs": [],
   "source": [
    "\n",
    "tmp = df_train.pop('subclass')\n",
    "tmp1 = df_test.pop('subclass')"
   ]
  },
  {
   "cell_type": "code",
   "execution_count": 18,
   "metadata": {},
   "outputs": [],
   "source": [
    "classlist=[]\n",
    "classlist_test=[]\n",
    "NormalCount = 0\n",
    "AttackCount = 0\n",
    "NormalCount_test = 0\n",
    "AttackCount_test = 0\n",
    "\n",
    "for item in tmp:\n",
    "    if(item == \"normal\"):\n",
    "        classlist.append(\"normal\")\n",
    "        NormalCount+=1\n",
    "    else:\n",
    "        classlist.append(\"attack\")\n",
    "        AttackCount+=1\n",
    "\n",
    "for item in tmp1:\n",
    "    if(item == \"normal\"):\n",
    "        classlist_test.append(\"normal\")\n",
    "        NormalCount_test+=1\n",
    "    else:\n",
    "        classlist_test.append(\"attack\")\n",
    "        AttackCount_test+=1"
   ]
  },
  {
   "cell_type": "code",
   "execution_count": 19,
   "metadata": {},
   "outputs": [],
   "source": [
    "df_train[\"subclass\"] =classlist\n",
    "df_test[\"subclass\"] = classlist_test"
   ]
  },
  {
   "cell_type": "code",
   "execution_count": 20,
   "metadata": {},
   "outputs": [],
   "source": [
    "unique_labels = list(df_train.subclass.astype('category').unique())\n",
    "unique_codes = list(df_train.subclass.astype('category').cat.codes.unique())\n",
    "mapping = {unique_codes[i] : unique_labels[i] for i in range(len(unique_labels))}\n",
    "\n",
    "unique_labels_test = list(df_test.subclass.astype('category').unique())\n",
    "unique_codes_test = list(df_test.subclass.astype('category').cat.codes.unique())\n",
    "mapping_test = {unique_codes_test[i] : unique_labels_test[i] for i in range(len(unique_labels_test))}"
   ]
  },
  {
   "cell_type": "code",
   "execution_count": 21,
   "metadata": {},
   "outputs": [],
   "source": [
    "df_train['subclass'] = df_train['subclass'].replace(unique_labels, unique_codes)\n",
    "df_test['subclass'] = df_test['subclass'].replace(unique_labels_test, unique_codes_test)"
   ]
  },
  {
   "cell_type": "code",
   "execution_count": 22,
   "metadata": {},
   "outputs": [],
   "source": [
    "\n",
    "train = df_train\n",
    "test = df_test"
   ]
  },
  {
   "cell_type": "code",
   "execution_count": 23,
   "metadata": {},
   "outputs": [],
   "source": [
    "n_workers=2\n",
    "n_samples = int(df_train.shape[0] / n_workers)\n",
    "n_samples_test = int(df_test.shape[0]/n_workers)\n",
    "assert n_samples > 0, \"Each worker must be assigned at least one data point\""
   ]
  },
  {
   "cell_type": "code",
   "execution_count": 24,
   "metadata": {},
   "outputs": [
    {
     "name": "stdout",
     "output_type": "stream",
     "text": [
      "2  output_shape\n",
      "shuffle_buffer_size  125972\n",
      "batch_size  250\n",
      "prefetch_buffer_size  50\n",
      "input_shape  41\n",
      "22543 shuffle_buffer_size_test\n",
      "41 input_shape_test\n",
      "2 output_shape_test\n"
     ]
    }
   ],
   "source": [
    "import numpy as np\n",
    "n_epochs = 10\n",
    "shuffle_buffer_size = df_train.shape[0]\n",
    "batch_size = 250\n",
    "prefetch_buffer_size = 50\n",
    "input_shape = df_train.shape[1]-1\n",
    "output_shape = len(unique_codes)\n",
    "print(output_shape , \" output_shape\")\n",
    "print(\"shuffle_buffer_size \", shuffle_buffer_size)\n",
    "print(\"batch_size \",batch_size)\n",
    "print(\"prefetch_buffer_size \", prefetch_buffer_size)\n",
    "print(\"input_shape \", input_shape)\n",
    "\n",
    "shuffle_buffer_size_test = df_test.shape[0]\n",
    "print(shuffle_buffer_size_test, \"shuffle_buffer_size_test\")\n",
    "batch_size_test = 250\n",
    "prefetch_buffer_size_test = 50\n",
    "input_shape_test = df_test.shape[1]-1\n",
    "print(input_shape_test,\"input_shape_test\")\n",
    "output_shape_test = len(unique_codes_test)\n",
    "print(output_shape_test,\"output_shape_test\")"
   ]
  },
  {
   "cell_type": "code",
   "execution_count": 25,
   "metadata": {},
   "outputs": [
    {
     "name": "stderr",
     "output_type": "stream",
     "text": [
      "2024-02-26 05:56:03.105924: W tensorflow/tsl/framework/cpu_allocator_impl.cc:83] Allocation of 21163296 exceeds 10% of free system memory.\n"
     ]
    }
   ],
   "source": [
    "def preprocess(dataframe):\n",
    "\n",
    "    \"\"\"Flatten a batch `pixels` and return the features as an `OrderedDict`.\"\"\"\n",
    "    def map_fn(dataset):\n",
    "        return collections.OrderedDict(\n",
    "            x=tf.cast(dataset[:,:-1], tf.float64),\n",
    "            y=tf.cast(tf.reshape(dataset[:,-1], shape=(-1, 1)), tf.int64)\n",
    "        )\n",
    "\n",
    "    return tf.data.Dataset.from_tensor_slices(dataframe).repeat(n_epochs).shuffle(\n",
    "        shuffle_buffer_size).batch(batch_size).map(map_fn).prefetch(prefetch_buffer_size)\n",
    "\n",
    "\n",
    "client_data = [preprocess(train.sample(n=n_samples)) for _ in range(n_workers)]"
   ]
  },
  {
   "cell_type": "code",
   "execution_count": 26,
   "metadata": {},
   "outputs": [],
   "source": [
    "def preprocess_test(dataframe):\n",
    "\n",
    "    \"\"\"Flatten a batch `pixels` and return the features as an `OrderedDict`.\"\"\"\n",
    "    def map_fn(dataset):\n",
    "        return collections.OrderedDict(\n",
    "            x=tf.cast(dataset[:,:-1], tf.float64),\n",
    "            y=tf.cast(tf.reshape(dataset[:,-1], shape=(-1, 1)), tf.int64)\n",
    "        )\n",
    "\n",
    "    return tf.data.Dataset.from_tensor_slices(dataframe).repeat(n_epochs).shuffle(\n",
    "        shuffle_buffer_size_test).batch(batch_size_test).map(map_fn).prefetch(prefetch_buffer_size_test)\n",
    "\n",
    "\n",
    "client_data_test = [preprocess(test.sample(n=n_samples_test)) for _ in range(n_workers)]"
   ]
  },
  {
   "cell_type": "code",
   "execution_count": 27,
   "metadata": {},
   "outputs": [
    {
     "name": "stdout",
     "output_type": "stream",
     "text": [
      "Worker 1 data contains 2520 training points\n",
      "Worker 2 data contains 2520 training points\n"
     ]
    }
   ],
   "source": [
    "for i in range(n_workers):\n",
    "    print(f\"Worker {i+1} data contains {len(client_data[i])} training points\")"
   ]
  },
  {
   "cell_type": "code",
   "execution_count": 28,
   "metadata": {},
   "outputs": [
    {
     "name": "stdout",
     "output_type": "stream",
     "text": [
      "Worker 1 data contains 451 testing points\n",
      "Worker 2 data contains 451 testing points\n"
     ]
    }
   ],
   "source": [
    "for i in range(n_workers):\n",
    "    print(f\"Worker {i+1} data contains {len(client_data_test[i])} testing points\")"
   ]
  },
  {
   "cell_type": "code",
   "execution_count": 29,
   "metadata": {},
   "outputs": [
    {
     "name": "stderr",
     "output_type": "stream",
     "text": [
      "2024-02-26 05:56:03.287359: W tensorflow/tsl/framework/cpu_allocator_impl.cc:83] Allocation of 21163296 exceeds 10% of free system memory.\n"
     ]
    },
    {
     "name": "stderr",
     "output_type": "stream",
     "text": [
      "2024-02-26 05:56:06.017324: W tensorflow/tsl/framework/cpu_allocator_impl.cc:83] Allocation of 21163296 exceeds 10% of free system memory.\n"
     ]
    },
    {
     "data": {
      "image/png": "[encoded data removed]",
      "text/plain": [
       "<Figure size 2000x700 with 2 Axes>"
      ]
     },
     "metadata": {},
     "output_type": "display_data"
    }
   ],
   "source": [
    "import matplotlib.pyplot as plt\n",
    "\n",
    "fig = plt.figure(figsize=(20, 7))\n",
    "fig.suptitle('Label Counts for a Sample of Worker Data')\n",
    "fig.tight_layout()\n",
    "\n",
    "for i in range(n_workers):\n",
    "    m = 0\n",
    "    plot_data = collections.defaultdict(list)\n",
    "    for label in list(client_data[i])[0]['y'].numpy()[:,0]:\n",
    "        plot_data[label].append(label)\n",
    "        m = max(m, len(plot_data[label]))\n",
    "\n",
    "    n_cols = n_workers if n_workers < 5 else 5\n",
    "    xlim = [0, m+(5-m%5)]\n",
    "    ylim = [min(unique_codes)-1, max(unique_codes)+1]\n",
    "    yticks = list(range(min(unique_codes), max(unique_codes)+1))\n",
    "    yticks_labels = [mapping[k] for k in range(0, max(unique_codes)+1)]\n",
    "\n",
    "    plt.subplot(int(n_workers / 5)+1, n_cols, i+1)\n",
    "    plt.subplots_adjust(wspace=0.3)\n",
    "    plt.title('Worker {}'.format(i+1))\n",
    "    plt.xlabel('#points')\n",
    "    plt.xlim(xlim)\n",
    "    plt.ylabel('Label')\n",
    "    plt.ylim(ylim)\n",
    "    plt.yticks(yticks, labels=yticks_labels)\n",
    "\n",
    "   \n",
    "    for key in plot_data:\n",
    "        if len(plot_data[key]) > 0:\n",
    "            plt.text(len(plot_data[key])+0.6, int(key)-0.1, str(len(plot_data[key])), ha='center')\n",
    "\n",
    "    for j in range(min(unique_codes),max(unique_codes)+1):\n",
    "        plt.hist(\n",
    "            plot_data[j],\n",
    "            density=False,\n",
    "            bins=[k-0.5 for k in range(min(unique_codes),max(unique_codes)+2)],\n",
    "            orientation='horizontal'\n",
    "        )"
   ]
  },
  {
   "cell_type": "code",
   "execution_count": 30,
   "metadata": {},
   "outputs": [],
   "source": [
    "from sklearn.model_selection import train_test_split\n",
    "from sklearn.preprocessing import LabelEncoder\n",
    "from keras.models import Sequential\n",
    "from keras.layers import Dense, Dropout, Activation, Embedding\n",
    "from keras.layers import LSTM, SimpleRNN, GRU, Bidirectional, BatchNormalization,Convolution1D,MaxPooling1D, Reshape, GlobalAveragePooling1D\n",
    "from keras.utils import to_categorical\n",
    "import sklearn.preprocessing\n",
    "from sklearn import metrics\n",
    "from scipy.stats import zscore\n",
    "from keras.layers import Dense\n",
    "from sklearn.metrics import precision_score, recall_score, f1_score\n",
    "from keras.optimizers import Adam"
   ]
  },
  {
   "cell_type": "code",
   "execution_count": 40,
   "metadata": {},
   "outputs": [],
   "source": [
    "def model_fn():\n",
    "    input_layer = tf.keras.layers.Input(shape=(input_shape,))\n",
    "    x = tf.keras.layers.Reshape((1, input_shape))(input_layer)\n",
    "    x = tf.keras.layers.LSTM(units=128, return_sequences=True)(x)\n",
    "    x = tf.keras.layers.Bidirectional(tf.keras.layers.LSTM(units=64, return_sequences=True))(x)\n",
    "    x = tf.keras.layers.Dense(128, activation='relu')(x)\n",
    "    output_layer = tf.keras.layers.Dense(output_shape, activation='softmax')(x)\n",
    "\n",
    "    model = tf.keras.models.Model(inputs=input_layer, outputs=output_layer)\n",
    "\n",
    "    return tff.learning.models.from_keras_model(\n",
    "        model,\n",
    "        input_spec=collections.OrderedDict(\n",
    "            x=tf.TensorSpec(shape=[None, input_shape], dtype=tf.float64),\n",
    "            y=tf.TensorSpec(shape=[None, output_shape], dtype=tf.int64)),\n",
    "        loss=tf.keras.losses.SparseCategoricalCrossentropy(from_logits=True),\n",
    "        metrics=[tf.keras.metrics.SparseCategoricalAccuracy(),\n",
    "                 tf.keras.metrics.Precision(name='precision'),\n",
    "                 tf.keras.metrics.Recall(name='recall'),\n",
    "                 tf.keras.metrics.BinaryAccuracy(name='binary_accuracy'),\n",
    "                 tf.keras.metrics.F1Score(name='f1_score')])\n",
    "\n",
    "tff_model = model_fn()"
   ]
  },
  {
   "cell_type": "code",
   "execution_count": 41,
   "metadata": {},
   "outputs": [
    {
     "ename": "ValueError",
     "evalue": "in user code:\n\n    File \"/home/codespace/.python/current/lib/python3.10/site-packages/tensorflow_federated/python/learning/templates/model_delta_client_work.py\", line 189, in reduce_fn  *\n        output = model.forward_pass(batch, training=True)\n    File \"/home/codespace/.python/current/lib/python3.10/site-packages/tensorflow_federated/python/learning/dataset_reduce.py\", line 29, in _dataset_reduce_fn  *\n        return dataset.reduce(initial_state=initial_state_fn(), reduce_func=reduce_fn)\n    File \"/home/codespace/.python/current/lib/python3.10/site-packages/tensorflow_federated/python/learning/models/keras_utils.py\", line 499, in forward_pass  *\n        return self._forward_pass(batch_input, training=training)\n    File \"/home/codespace/.python/current/lib/python3.10/site-packages/tensorflow_federated/python/learning/models/keras_utils.py\", line 486, in _forward_pass  *\n        metric.update_state(y_true=y_true, y_pred=predictions)  # pytype: disable=attribute-error\n    File \"/home/codespace/.python/current/lib/python3.10/site-packages/keras/src/utils/metrics_utils.py\", line 77, in decorated  **\n        result = update_state_fn(*args, **kwargs)\n    File \"/home/codespace/.python/current/lib/python3.10/site-packages/keras/src/metrics/base_metric.py\", line 140, in update_state_fn\n        return ag_update_state(*args, **kwargs)\n    File \"/home/codespace/.python/current/lib/python3.10/site-packages/keras/src/metrics/confusion_metrics.py\", line 470, in update_state  **\n        return metrics_utils.update_confusion_matrix_variables(\n    File \"/home/codespace/.python/current/lib/python3.10/site-packages/keras/src/utils/metrics_utils.py\", line 672, in update_confusion_matrix_variables\n        y_pred.shape.assert_is_compatible_with(y_true.shape)\n\n    ValueError: Shapes (None, 1, 2) and (None, 2) are incompatible\n",
     "output_type": "error",
     "traceback": [
      "\u001b[0;31m---------------------------------------------------------------------------\u001b[0m",
      "\u001b[0;31mValueError\u001b[0m                                Traceback (most recent call last)",
      "Cell \u001b[0;32mIn[41], line 1\u001b[0m\n\u001b[0;32m----> 1\u001b[0m trainer \u001b[38;5;241m=\u001b[39m \u001b[43mtff\u001b[49m\u001b[38;5;241;43m.\u001b[39;49m\u001b[43mlearning\u001b[49m\u001b[38;5;241;43m.\u001b[39;49m\u001b[43malgorithms\u001b[49m\u001b[38;5;241;43m.\u001b[39;49m\u001b[43mbuild_weighted_fed_avg\u001b[49m\u001b[43m(\u001b[49m\n\u001b[1;32m      2\u001b[0m \u001b[43m    \u001b[49m\u001b[43mmodel_fn\u001b[49m\u001b[43m,\u001b[49m\n\u001b[1;32m      3\u001b[0m \u001b[43m    \u001b[49m\u001b[43mclient_optimizer_fn\u001b[49m\u001b[38;5;241;43m=\u001b[39;49m\u001b[38;5;28;43;01mlambda\u001b[39;49;00m\u001b[43m:\u001b[49m\u001b[43m \u001b[49m\u001b[43mtf\u001b[49m\u001b[38;5;241;43m.\u001b[39;49m\u001b[43mkeras\u001b[49m\u001b[38;5;241;43m.\u001b[39;49m\u001b[43moptimizers\u001b[49m\u001b[38;5;241;43m.\u001b[39;49m\u001b[43mSGD\u001b[49m\u001b[43m(\u001b[49m\u001b[43mlearning_rate\u001b[49m\u001b[38;5;241;43m=\u001b[39;49m\u001b[38;5;241;43m0.01\u001b[39;49m\u001b[43m)\u001b[49m\u001b[43m,\u001b[49m\n\u001b[1;32m      4\u001b[0m \u001b[43m    \u001b[49m\u001b[43mserver_optimizer_fn\u001b[49m\u001b[38;5;241;43m=\u001b[39;49m\u001b[38;5;28;43;01mlambda\u001b[39;49;00m\u001b[43m:\u001b[49m\u001b[43m \u001b[49m\u001b[43mtf\u001b[49m\u001b[38;5;241;43m.\u001b[39;49m\u001b[43mkeras\u001b[49m\u001b[38;5;241;43m.\u001b[39;49m\u001b[43moptimizers\u001b[49m\u001b[38;5;241;43m.\u001b[39;49m\u001b[43mSGD\u001b[49m\u001b[43m(\u001b[49m\u001b[43mlearning_rate\u001b[49m\u001b[38;5;241;43m=\u001b[39;49m\u001b[38;5;241;43m1.0\u001b[39;49m\u001b[43m)\u001b[49m\n\u001b[1;32m      5\u001b[0m \u001b[43m)\u001b[49m\n",
      "File \u001b[0;32m~/.python/current/lib/python3.10/site-packages/tensorflow_federated/python/learning/algorithms/fed_avg.py:262\u001b[0m, in \u001b[0;36mbuild_weighted_fed_avg\u001b[0;34m(model_fn, client_optimizer_fn, server_optimizer_fn, client_weighting, model_distributor, model_aggregator, metrics_aggregator, use_experimental_simulation_loop)\u001b[0m\n\u001b[1;32m    253\u001b[0m   client_work \u001b[38;5;241m=\u001b[39m (\n\u001b[1;32m    254\u001b[0m       model_delta_client_work\u001b[38;5;241m.\u001b[39mbuild_functional_model_delta_client_work(\n\u001b[1;32m    255\u001b[0m           model\u001b[38;5;241m=\u001b[39mmodel_fn,\n\u001b[0;32m   (...)\u001b[0m\n\u001b[1;32m    259\u001b[0m       )\n\u001b[1;32m    260\u001b[0m   )\n\u001b[1;32m    261\u001b[0m \u001b[38;5;28;01melse\u001b[39;00m:\n\u001b[0;32m--> 262\u001b[0m   client_work \u001b[38;5;241m=\u001b[39m \u001b[43mmodel_delta_client_work\u001b[49m\u001b[38;5;241;43m.\u001b[39;49m\u001b[43mbuild_model_delta_client_work\u001b[49m\u001b[43m(\u001b[49m\n\u001b[1;32m    263\u001b[0m \u001b[43m      \u001b[49m\u001b[43mmodel_fn\u001b[49m\u001b[38;5;241;43m=\u001b[39;49m\u001b[43mmodel_fn\u001b[49m\u001b[43m,\u001b[49m\n\u001b[1;32m    264\u001b[0m \u001b[43m      \u001b[49m\u001b[43moptimizer\u001b[49m\u001b[38;5;241;43m=\u001b[39;49m\u001b[43mclient_optimizer_fn\u001b[49m\u001b[43m,\u001b[49m\n\u001b[1;32m    265\u001b[0m \u001b[43m      \u001b[49m\u001b[43mclient_weighting\u001b[49m\u001b[38;5;241;43m=\u001b[39;49m\u001b[43mclient_weighting\u001b[49m\u001b[43m,\u001b[49m\n\u001b[1;32m    266\u001b[0m \u001b[43m      \u001b[49m\u001b[43mmetrics_aggregator\u001b[49m\u001b[38;5;241;43m=\u001b[39;49m\u001b[43mmetrics_aggregator\u001b[49m\u001b[43m,\u001b[49m\n\u001b[1;32m    267\u001b[0m \u001b[43m      \u001b[49m\u001b[43muse_experimental_simulation_loop\u001b[49m\u001b[38;5;241;43m=\u001b[39;49m\u001b[43muse_experimental_simulation_loop\u001b[49m\u001b[43m,\u001b[49m\n\u001b[1;32m    268\u001b[0m \u001b[43m  \u001b[49m\u001b[43m)\u001b[49m\n\u001b[1;32m    269\u001b[0m finalizer \u001b[38;5;241m=\u001b[39m apply_optimizer_finalizer\u001b[38;5;241m.\u001b[39mbuild_apply_optimizer_finalizer(\n\u001b[1;32m    270\u001b[0m     server_optimizer_fn, model_weights_type\n\u001b[1;32m    271\u001b[0m )\n\u001b[1;32m    272\u001b[0m \u001b[38;5;28;01mreturn\u001b[39;00m composers\u001b[38;5;241m.\u001b[39mcompose_learning_process(\n\u001b[1;32m    273\u001b[0m     initial_model_weights_fn,\n\u001b[1;32m    274\u001b[0m     model_distributor,\n\u001b[0;32m   (...)\u001b[0m\n\u001b[1;32m    277\u001b[0m     finalizer,\n\u001b[1;32m    278\u001b[0m )\n",
      "File \u001b[0;32m~/.python/current/lib/python3.10/site-packages/tensorflow_federated/python/learning/templates/model_delta_client_work.py:379\u001b[0m, in \u001b[0;36mbuild_model_delta_client_work\u001b[0;34m(model_fn, optimizer, client_weighting, metrics_aggregator, use_experimental_simulation_loop)\u001b[0m\n\u001b[1;32m    375\u001b[0m get_hparams_fn \u001b[38;5;241m=\u001b[39m \u001b[38;5;28;01mNone\u001b[39;00m\n\u001b[1;32m    376\u001b[0m set_hparams_fn \u001b[38;5;241m=\u001b[39m \u001b[38;5;28;01mNone\u001b[39;00m\n\u001b[1;32m    378\u001b[0m \u001b[43m\u001b[49m\u001b[38;5;129;43m@tensorflow_computation\u001b[39;49m\u001b[38;5;241;43m.\u001b[39;49m\u001b[43mtf_computation\u001b[49m\u001b[43m(\u001b[49m\u001b[43mweights_type\u001b[49m\u001b[43m,\u001b[49m\u001b[43m \u001b[49m\u001b[43mdata_type\u001b[49m\u001b[43m)\u001b[49m\n\u001b[0;32m--> 379\u001b[0m \u001b[43m\u001b[49m\u001b[38;5;28;43;01mdef\u001b[39;49;00m\u001b[43m \u001b[49m\u001b[38;5;21;43mclient_update_computation\u001b[39;49m\u001b[43m(\u001b[49m\u001b[43minitial_model_weights\u001b[49m\u001b[43m,\u001b[49m\u001b[43m \u001b[49m\u001b[43mdataset\u001b[49m\u001b[43m)\u001b[49m\u001b[43m:\u001b[49m\n\u001b[1;32m    380\u001b[0m \u001b[43m  \u001b[49m\u001b[43mkeras_optimizer\u001b[49m\u001b[43m \u001b[49m\u001b[38;5;241;43m=\u001b[39;49m\u001b[43m \u001b[49m\u001b[43moptimizer\u001b[49m\u001b[43m(\u001b[49m\u001b[43m)\u001b[49m\n\u001b[1;32m    381\u001b[0m \u001b[43m  \u001b[49m\u001b[43mclient_update\u001b[49m\u001b[43m \u001b[49m\u001b[38;5;241;43m=\u001b[39;49m\u001b[43m \u001b[49m\u001b[43mbuild_model_delta_update_with_keras_optimizer\u001b[49m\u001b[43m(\u001b[49m\n\u001b[1;32m    382\u001b[0m \u001b[43m      \u001b[49m\u001b[43mmodel_fn\u001b[49m\u001b[38;5;241;43m=\u001b[39;49m\u001b[43mmodel_fn\u001b[49m\u001b[43m,\u001b[49m\n\u001b[1;32m    383\u001b[0m \u001b[43m      \u001b[49m\u001b[43mweighting\u001b[49m\u001b[38;5;241;43m=\u001b[39;49m\u001b[43mclient_weighting\u001b[49m\u001b[43m,\u001b[49m\n\u001b[1;32m    384\u001b[0m \u001b[43m      \u001b[49m\u001b[43muse_experimental_simulation_loop\u001b[49m\u001b[38;5;241;43m=\u001b[39;49m\u001b[43muse_experimental_simulation_loop\u001b[49m\u001b[43m,\u001b[49m\n\u001b[1;32m    385\u001b[0m \u001b[43m  \u001b[49m\u001b[43m)\u001b[49m\n",
      "File \u001b[0;32m~/.python/current/lib/python3.10/site-packages/tensorflow_federated/python/core/impl/computation/computation_wrapper.py:511\u001b[0m, in \u001b[0;36mComputationWrapper.__call__.<locals>.<lambda>\u001b[0;34m(fn)\u001b[0m\n\u001b[1;32m    509\u001b[0m \u001b[38;5;28;01melse\u001b[39;00m:\n\u001b[1;32m    510\u001b[0m   provided_types \u001b[38;5;241m=\u001b[39m _to_types(args)\n\u001b[0;32m--> 511\u001b[0m   \u001b[38;5;28;01mreturn\u001b[39;00m \u001b[38;5;28;01mlambda\u001b[39;00m fn: \u001b[43m_wrap\u001b[49m\u001b[43m(\u001b[49m\n\u001b[1;32m    512\u001b[0m \u001b[43m      \u001b[49m\u001b[43mfn\u001b[49m\u001b[43m,\u001b[49m\u001b[43m \u001b[49m\u001b[38;5;28;43mself\u001b[39;49m\u001b[38;5;241;43m.\u001b[39;49m\u001b[43m_wrapper_fn\u001b[49m\u001b[43m,\u001b[49m\u001b[43m \u001b[49m\u001b[43mprovided_types\u001b[49m\u001b[43m,\u001b[49m\u001b[43m \u001b[49m\u001b[38;5;28;43mself\u001b[39;49m\u001b[38;5;241;43m.\u001b[39;49m\u001b[43m_infer_type_fn\u001b[49m\n\u001b[1;32m    513\u001b[0m \u001b[43m  \u001b[49m\u001b[43m)\u001b[49m\n",
      "File \u001b[0;32m~/.python/current/lib/python3.10/site-packages/tensorflow_federated/python/core/impl/computation/computation_wrapper.py:236\u001b[0m, in \u001b[0;36m_wrap\u001b[0;34m(fn, wrapper_fn, parameter_types, infer_type_fn)\u001b[0m\n\u001b[1;32m    233\u001b[0m \u001b[38;5;28;01melse\u001b[39;00m:\n\u001b[1;32m    234\u001b[0m   \u001b[38;5;66;03m# Either we have a concrete parameter type, or this is no-arg function.\u001b[39;00m\n\u001b[1;32m    235\u001b[0m   parameter_type \u001b[38;5;241m=\u001b[39m _parameter_type(parameters, parameter_types)\n\u001b[0;32m--> 236\u001b[0m   wrapped_fn \u001b[38;5;241m=\u001b[39m \u001b[43m_wrap_concrete\u001b[49m\u001b[43m(\u001b[49m\u001b[43mfn\u001b[49m\u001b[43m,\u001b[49m\u001b[43m \u001b[49m\u001b[43mwrapper_fn\u001b[49m\u001b[43m,\u001b[49m\u001b[43m \u001b[49m\u001b[43mparameter_type\u001b[49m\u001b[43m)\u001b[49m\n\u001b[1;32m    238\u001b[0m \u001b[38;5;66;03m# When applying a decorator, the __doc__ attribute with the documentation\u001b[39;00m\n\u001b[1;32m    239\u001b[0m \u001b[38;5;66;03m# in triple-quotes is not automatically transferred from the function on\u001b[39;00m\n\u001b[1;32m    240\u001b[0m wrapped_fn\u001b[38;5;241m.\u001b[39m\u001b[38;5;18m__doc__\u001b[39m \u001b[38;5;241m=\u001b[39m \u001b[38;5;28mgetattr\u001b[39m(fn, \u001b[38;5;124m'\u001b[39m\u001b[38;5;124m__doc__\u001b[39m\u001b[38;5;124m'\u001b[39m, \u001b[38;5;28;01mNone\u001b[39;00m)\n",
      "File \u001b[0;32m~/.python/current/lib/python3.10/site-packages/tensorflow_federated/python/core/impl/computation/computation_wrapper.py:98\u001b[0m, in \u001b[0;36m_wrap_concrete\u001b[0;34m(fn, wrapper_fn, parameter_type)\u001b[0m\n\u001b[1;32m     95\u001b[0m \u001b[38;5;28;01mexcept\u001b[39;00m \u001b[38;5;167;01mAttributeError\u001b[39;00m:\n\u001b[1;32m     96\u001b[0m   name \u001b[38;5;241m=\u001b[39m \u001b[38;5;28;01mNone\u001b[39;00m\n\u001b[0;32m---> 98\u001b[0m concrete_fn \u001b[38;5;241m=\u001b[39m \u001b[43mwrapper_fn\u001b[49m\u001b[43m(\u001b[49m\u001b[43mfn\u001b[49m\u001b[43m,\u001b[49m\u001b[43m \u001b[49m\u001b[43mparameter_type\u001b[49m\u001b[43m,\u001b[49m\u001b[43m \u001b[49m\u001b[43munpack\u001b[49m\u001b[38;5;241;43m=\u001b[39;49m\u001b[38;5;28;43;01mNone\u001b[39;49;00m\u001b[43m,\u001b[49m\u001b[43m \u001b[49m\u001b[43mname\u001b[49m\u001b[38;5;241;43m=\u001b[39;49m\u001b[43mname\u001b[49m\u001b[43m)\u001b[49m\n\u001b[1;32m     99\u001b[0m py_typecheck\u001b[38;5;241m.\u001b[39mcheck_type(\n\u001b[1;32m    100\u001b[0m     concrete_fn,\n\u001b[1;32m    101\u001b[0m     computation_impl\u001b[38;5;241m.\u001b[39mConcreteComputation,\n\u001b[1;32m    102\u001b[0m     \u001b[38;5;124m'\u001b[39m\u001b[38;5;124mvalue returned by the wrapper\u001b[39m\u001b[38;5;124m'\u001b[39m,\n\u001b[1;32m    103\u001b[0m )\n\u001b[1;32m    104\u001b[0m result_parameter_type \u001b[38;5;241m=\u001b[39m concrete_fn\u001b[38;5;241m.\u001b[39mtype_signature\u001b[38;5;241m.\u001b[39mparameter\n",
      "File \u001b[0;32m~/.python/current/lib/python3.10/site-packages/tensorflow_federated/python/core/environments/tensorflow_frontend/tensorflow_computation.py:67\u001b[0m, in \u001b[0;36m_tf_wrapper_fn\u001b[0;34m(***failed resolving arguments***)\u001b[0m\n\u001b[1;32m     64\u001b[0m context_stack \u001b[38;5;241m=\u001b[39m context_stack_impl\u001b[38;5;241m.\u001b[39mcontext_stack\n\u001b[1;32m     65\u001b[0m layout_map \u001b[38;5;241m=\u001b[39m kwargs\u001b[38;5;241m.\u001b[39mget(\u001b[38;5;124m'\u001b[39m\u001b[38;5;124mlayout_map\u001b[39m\u001b[38;5;124m'\u001b[39m)\n\u001b[1;32m     66\u001b[0m comp_pb, extra_type_spec \u001b[38;5;241m=\u001b[39m (\n\u001b[0;32m---> 67\u001b[0m     \u001b[43mtensorflow_serialization\u001b[49m\u001b[38;5;241;43m.\u001b[39;49m\u001b[43mserialize_py_fn_as_tf_computation\u001b[49m\u001b[43m(\u001b[49m\n\u001b[1;32m     68\u001b[0m \u001b[43m        \u001b[49m\u001b[43mfn\u001b[49m\u001b[43m,\u001b[49m\u001b[43m \u001b[49m\u001b[43mparameter_type\u001b[49m\u001b[43m,\u001b[49m\u001b[43m \u001b[49m\u001b[43mcontext_stack\u001b[49m\u001b[43m,\u001b[49m\u001b[43m \u001b[49m\u001b[43mlayout_map\u001b[49m\n\u001b[1;32m     69\u001b[0m \u001b[43m    \u001b[49m\u001b[43m)\u001b[49m\n\u001b[1;32m     70\u001b[0m )\n\u001b[1;32m     71\u001b[0m \u001b[38;5;28;01mreturn\u001b[39;00m computation_impl\u001b[38;5;241m.\u001b[39mConcreteComputation(\n\u001b[1;32m     72\u001b[0m     comp_pb,\n\u001b[1;32m     73\u001b[0m     context_stack,\n\u001b[1;32m     74\u001b[0m     extra_type_spec,\n\u001b[1;32m     75\u001b[0m     _transform_result,\n\u001b[1;32m     76\u001b[0m )\n",
      "File \u001b[0;32m~/.python/current/lib/python3.10/site-packages/tensorflow_federated/python/core/environments/tensorflow_frontend/tensorflow_serialization.py:111\u001b[0m, in \u001b[0;36mserialize_py_fn_as_tf_computation\u001b[0;34m(fn, parameter_type, context_stack, layout_map)\u001b[0m\n\u001b[1;32m    109\u001b[0m \u001b[38;5;28;01mwith\u001b[39;00m variable_utils\u001b[38;5;241m.\u001b[39mrecord_variable_creation_scope() \u001b[38;5;28;01mas\u001b[39;00m all_variables:\n\u001b[1;32m    110\u001b[0m   \u001b[38;5;28;01mif\u001b[39;00m parameter_value \u001b[38;5;129;01mis\u001b[39;00m \u001b[38;5;129;01mnot\u001b[39;00m \u001b[38;5;28;01mNone\u001b[39;00m:\n\u001b[0;32m--> 111\u001b[0m     result \u001b[38;5;241m=\u001b[39m \u001b[43mfn\u001b[49m\u001b[43m(\u001b[49m\u001b[43mparameter_value\u001b[49m\u001b[43m)\u001b[49m\n\u001b[1;32m    112\u001b[0m   \u001b[38;5;28;01melse\u001b[39;00m:\n\u001b[1;32m    113\u001b[0m     result \u001b[38;5;241m=\u001b[39m fn()\n",
      "File \u001b[0;32m~/.python/current/lib/python3.10/site-packages/tensorflow_federated/python/core/impl/computation/function_utils.py:464\u001b[0m, in \u001b[0;36mwrap_as_zero_or_one_arg_callable.<locals>.<lambda>\u001b[0;34m(arg)\u001b[0m\n\u001b[1;32m    462\u001b[0m \u001b[38;5;28;01mexcept\u001b[39;00m \u001b[38;5;167;01mNameError\u001b[39;00m \u001b[38;5;28;01mas\u001b[39;00m e:\n\u001b[1;32m    463\u001b[0m   \u001b[38;5;28;01mraise\u001b[39;00m \u001b[38;5;167;01mAssertionError\u001b[39;00m(\u001b[38;5;124m'\u001b[39m\u001b[38;5;124mArgs to be bound must be in scope.\u001b[39m\u001b[38;5;124m'\u001b[39m) \u001b[38;5;28;01mfrom\u001b[39;00m \u001b[38;5;21;01me\u001b[39;00m\n\u001b[0;32m--> 464\u001b[0m \u001b[38;5;28;01mreturn\u001b[39;00m \u001b[38;5;28;01mlambda\u001b[39;00m arg: \u001b[43m_call\u001b[49m\u001b[43m(\u001b[49m\u001b[43mfn\u001b[49m\u001b[43m,\u001b[49m\u001b[43m \u001b[49m\u001b[43mparameter_type\u001b[49m\u001b[43m,\u001b[49m\u001b[43m \u001b[49m\u001b[43marg\u001b[49m\u001b[43m,\u001b[49m\u001b[43m \u001b[49m\u001b[43munpack\u001b[49m\u001b[43m)\u001b[49m\n",
      "File \u001b[0;32m~/.python/current/lib/python3.10/site-packages/tensorflow_federated/python/core/impl/computation/function_utils.py:457\u001b[0m, in \u001b[0;36mwrap_as_zero_or_one_arg_callable.<locals>._call\u001b[0;34m(fn, parameter_type, arg, unpack)\u001b[0m\n\u001b[1;32m    455\u001b[0m \u001b[38;5;28;01mdef\u001b[39;00m \u001b[38;5;21m_call\u001b[39m(fn, parameter_type, arg, unpack):\n\u001b[1;32m    456\u001b[0m   args, kwargs \u001b[38;5;241m=\u001b[39m unpack_arg(fn, parameter_type, arg, unpack)\n\u001b[0;32m--> 457\u001b[0m   \u001b[38;5;28;01mreturn\u001b[39;00m \u001b[43mfn\u001b[49m\u001b[43m(\u001b[49m\u001b[38;5;241;43m*\u001b[39;49m\u001b[43margs\u001b[49m\u001b[43m,\u001b[49m\u001b[43m \u001b[49m\u001b[38;5;241;43m*\u001b[39;49m\u001b[38;5;241;43m*\u001b[39;49m\u001b[43mkwargs\u001b[49m\u001b[43m)\u001b[49m\n",
      "File \u001b[0;32m~/.python/current/lib/python3.10/site-packages/tensorflow_federated/python/learning/templates/model_delta_client_work.py:386\u001b[0m, in \u001b[0;36mbuild_model_delta_client_work.<locals>.client_update_computation\u001b[0;34m(initial_model_weights, dataset)\u001b[0m\n\u001b[1;32m    380\u001b[0m keras_optimizer \u001b[38;5;241m=\u001b[39m optimizer()\n\u001b[1;32m    381\u001b[0m client_update \u001b[38;5;241m=\u001b[39m build_model_delta_update_with_keras_optimizer(\n\u001b[1;32m    382\u001b[0m     model_fn\u001b[38;5;241m=\u001b[39mmodel_fn,\n\u001b[1;32m    383\u001b[0m     weighting\u001b[38;5;241m=\u001b[39mclient_weighting,\n\u001b[1;32m    384\u001b[0m     use_experimental_simulation_loop\u001b[38;5;241m=\u001b[39muse_experimental_simulation_loop,\n\u001b[1;32m    385\u001b[0m )\n\u001b[0;32m--> 386\u001b[0m \u001b[38;5;28;01mreturn\u001b[39;00m \u001b[43mclient_update\u001b[49m\u001b[43m(\u001b[49m\u001b[43mkeras_optimizer\u001b[49m\u001b[43m,\u001b[49m\u001b[43m \u001b[49m\u001b[43minitial_model_weights\u001b[49m\u001b[43m,\u001b[49m\u001b[43m \u001b[49m\u001b[43mdataset\u001b[49m\u001b[43m)\u001b[49m\n",
      "File \u001b[0;32m~/.python/current/lib/python3.10/site-packages/tensorflow/python/util/traceback_utils.py:153\u001b[0m, in \u001b[0;36mfilter_traceback.<locals>.error_handler\u001b[0;34m(*args, **kwargs)\u001b[0m\n\u001b[1;32m    151\u001b[0m \u001b[38;5;28;01mexcept\u001b[39;00m \u001b[38;5;167;01mException\u001b[39;00m \u001b[38;5;28;01mas\u001b[39;00m e:\n\u001b[1;32m    152\u001b[0m   filtered_tb \u001b[38;5;241m=\u001b[39m _process_traceback_frames(e\u001b[38;5;241m.\u001b[39m__traceback__)\n\u001b[0;32m--> 153\u001b[0m   \u001b[38;5;28;01mraise\u001b[39;00m e\u001b[38;5;241m.\u001b[39mwith_traceback(filtered_tb) \u001b[38;5;28;01mfrom\u001b[39;00m \u001b[38;5;28;01mNone\u001b[39;00m\n\u001b[1;32m    154\u001b[0m \u001b[38;5;28;01mfinally\u001b[39;00m:\n\u001b[1;32m    155\u001b[0m   \u001b[38;5;28;01mdel\u001b[39;00m filtered_tb\n",
      "File \u001b[0;32m/tmp/__autograph_generated_filegtol93_0.py:65\u001b[0m, in \u001b[0;36mouter_factory.<locals>.inner_factory.<locals>.tf__client_update\u001b[0;34m(optimizer, initial_weights, data)\u001b[0m\n\u001b[1;32m     63\u001b[0m             \u001b[38;5;28;01mraise\u001b[39;00m\n\u001b[1;32m     64\u001b[0m         \u001b[38;5;28;01mreturn\u001b[39;00m fscope_2\u001b[38;5;241m.\u001b[39mret(retval__2, do_return_2)\n\u001b[0;32m---> 65\u001b[0m num_examples \u001b[38;5;241m=\u001b[39m \u001b[43mag__\u001b[49m\u001b[38;5;241;43m.\u001b[39;49m\u001b[43mconverted_call\u001b[49m\u001b[43m(\u001b[49m\u001b[43mag__\u001b[49m\u001b[38;5;241;43m.\u001b[39;49m\u001b[43mld\u001b[49m\u001b[43m(\u001b[49m\u001b[43mdataset_reduce_fn\u001b[49m\u001b[43m)\u001b[49m\u001b[43m,\u001b[49m\u001b[43m \u001b[49m\u001b[43m(\u001b[49m\u001b[43mag__\u001b[49m\u001b[38;5;241;43m.\u001b[39;49m\u001b[43mld\u001b[49m\u001b[43m(\u001b[49m\u001b[43mreduce_fn\u001b[49m\u001b[43m)\u001b[49m\u001b[43m,\u001b[49m\u001b[43m \u001b[49m\u001b[43mag__\u001b[49m\u001b[38;5;241;43m.\u001b[39;49m\u001b[43mld\u001b[49m\u001b[43m(\u001b[49m\u001b[43mdata\u001b[49m\u001b[43m)\u001b[49m\u001b[43m,\u001b[49m\u001b[43m \u001b[49m\u001b[43mag__\u001b[49m\u001b[38;5;241;43m.\u001b[39;49m\u001b[43mld\u001b[49m\u001b[43m(\u001b[49m\u001b[43minitial_state_for_reduce_fn\u001b[49m\u001b[43m)\u001b[49m\u001b[43m)\u001b[49m\u001b[43m,\u001b[49m\u001b[43m \u001b[49m\u001b[38;5;28;43;01mNone\u001b[39;49;00m\u001b[43m,\u001b[49m\u001b[43m \u001b[49m\u001b[43mfscope\u001b[49m\u001b[43m)\u001b[49m\n\u001b[1;32m     66\u001b[0m client_update \u001b[38;5;241m=\u001b[39m ag__\u001b[38;5;241m.\u001b[39mconverted_call(ag__\u001b[38;5;241m.\u001b[39mld(tf)\u001b[38;5;241m.\u001b[39mnest\u001b[38;5;241m.\u001b[39mmap_structure, (ag__\u001b[38;5;241m.\u001b[39mld(tf)\u001b[38;5;241m.\u001b[39msubtract, ag__\u001b[38;5;241m.\u001b[39mld(initial_weights)\u001b[38;5;241m.\u001b[39mtrainable, ag__\u001b[38;5;241m.\u001b[39mld(model_weights)\u001b[38;5;241m.\u001b[39mtrainable), \u001b[38;5;28;01mNone\u001b[39;00m, fscope)\n\u001b[1;32m     67\u001b[0m model_output \u001b[38;5;241m=\u001b[39m ag__\u001b[38;5;241m.\u001b[39mconverted_call(ag__\u001b[38;5;241m.\u001b[39mld(model)\u001b[38;5;241m.\u001b[39mreport_local_unfinalized_metrics, (), \u001b[38;5;28;01mNone\u001b[39;00m, fscope)\n",
      "File \u001b[0;32m/tmp/__autograph_generated_file0wqg46td.py:12\u001b[0m, in \u001b[0;36mouter_factory.<locals>.inner_factory.<locals>.tf___dataset_reduce_fn\u001b[0;34m(reduce_fn, dataset, initial_state_fn)\u001b[0m\n\u001b[1;32m     10\u001b[0m \u001b[38;5;28;01mtry\u001b[39;00m:\n\u001b[1;32m     11\u001b[0m     do_return \u001b[38;5;241m=\u001b[39m \u001b[38;5;28;01mTrue\u001b[39;00m\n\u001b[0;32m---> 12\u001b[0m     retval_ \u001b[38;5;241m=\u001b[39m ag__\u001b[38;5;241m.\u001b[39mconverted_call(ag__\u001b[38;5;241m.\u001b[39mld(dataset)\u001b[38;5;241m.\u001b[39mreduce, (), \u001b[38;5;28mdict\u001b[39m(initial_state\u001b[38;5;241m=\u001b[39mag__\u001b[38;5;241m.\u001b[39mconverted_call(ag__\u001b[38;5;241m.\u001b[39mld(initial_state_fn), (), \u001b[38;5;28;01mNone\u001b[39;00m, fscope), reduce_func\u001b[38;5;241m=\u001b[39mag__\u001b[38;5;241m.\u001b[39mld(reduce_fn)), fscope)\n\u001b[1;32m     13\u001b[0m \u001b[38;5;28;01mexcept\u001b[39;00m:\n\u001b[1;32m     14\u001b[0m     do_return \u001b[38;5;241m=\u001b[39m \u001b[38;5;28;01mFalse\u001b[39;00m\n",
      "File \u001b[0;32m/tmp/__autograph_generated_filegtol93_0.py:23\u001b[0m, in \u001b[0;36mouter_factory.<locals>.inner_factory.<locals>.tf__client_update.<locals>.reduce_fn\u001b[0;34m(num_examples_sum, batch)\u001b[0m\n\u001b[1;32m     21\u001b[0m retval__1 \u001b[38;5;241m=\u001b[39m ag__\u001b[38;5;241m.\u001b[39mUndefinedReturnValue()\n\u001b[1;32m     22\u001b[0m \u001b[38;5;28;01mwith\u001b[39;00m ag__\u001b[38;5;241m.\u001b[39mld(tf)\u001b[38;5;241m.\u001b[39mGradientTape() \u001b[38;5;28;01mas\u001b[39;00m tape:\n\u001b[0;32m---> 23\u001b[0m     output \u001b[38;5;241m=\u001b[39m \u001b[43mag__\u001b[49m\u001b[38;5;241;43m.\u001b[39;49m\u001b[43mconverted_call\u001b[49m\u001b[43m(\u001b[49m\u001b[43mag__\u001b[49m\u001b[38;5;241;43m.\u001b[39;49m\u001b[43mld\u001b[49m\u001b[43m(\u001b[49m\u001b[43mmodel\u001b[49m\u001b[43m)\u001b[49m\u001b[38;5;241;43m.\u001b[39;49m\u001b[43mforward_pass\u001b[49m\u001b[43m,\u001b[49m\u001b[43m \u001b[49m\u001b[43m(\u001b[49m\u001b[43mag__\u001b[49m\u001b[38;5;241;43m.\u001b[39;49m\u001b[43mld\u001b[49m\u001b[43m(\u001b[49m\u001b[43mbatch\u001b[49m\u001b[43m)\u001b[49m\u001b[43m,\u001b[49m\u001b[43m)\u001b[49m\u001b[43m,\u001b[49m\u001b[43m \u001b[49m\u001b[38;5;28;43mdict\u001b[39;49m\u001b[43m(\u001b[49m\u001b[43mtraining\u001b[49m\u001b[38;5;241;43m=\u001b[39;49m\u001b[38;5;28;43;01mTrue\u001b[39;49;00m\u001b[43m)\u001b[49m\u001b[43m,\u001b[49m\u001b[43m \u001b[49m\u001b[43mfscope_1\u001b[49m\u001b[43m)\u001b[49m\n\u001b[1;32m     24\u001b[0m gradients \u001b[38;5;241m=\u001b[39m ag__\u001b[38;5;241m.\u001b[39mconverted_call(ag__\u001b[38;5;241m.\u001b[39mld(tape)\u001b[38;5;241m.\u001b[39mgradient, (ag__\u001b[38;5;241m.\u001b[39mld(output)\u001b[38;5;241m.\u001b[39mloss, ag__\u001b[38;5;241m.\u001b[39mld(model_weights)\u001b[38;5;241m.\u001b[39mtrainable), \u001b[38;5;28;01mNone\u001b[39;00m, fscope_1)\n\u001b[1;32m     25\u001b[0m grads_and_vars \u001b[38;5;241m=\u001b[39m ag__\u001b[38;5;241m.\u001b[39mconverted_call(ag__\u001b[38;5;241m.\u001b[39mld(\u001b[38;5;28mzip\u001b[39m), (ag__\u001b[38;5;241m.\u001b[39mld(gradients), ag__\u001b[38;5;241m.\u001b[39mld(model_weights)\u001b[38;5;241m.\u001b[39mtrainable), \u001b[38;5;28;01mNone\u001b[39;00m, fscope_1)\n",
      "File \u001b[0;32m/tmp/__autograph_generated_filegv2r95r8.py:12\u001b[0m, in \u001b[0;36mouter_factory.<locals>.inner_factory.<locals>.tf__forward_pass\u001b[0;34m(self, batch_input, training)\u001b[0m\n\u001b[1;32m     10\u001b[0m \u001b[38;5;28;01mtry\u001b[39;00m:\n\u001b[1;32m     11\u001b[0m     do_return \u001b[38;5;241m=\u001b[39m \u001b[38;5;28;01mTrue\u001b[39;00m\n\u001b[0;32m---> 12\u001b[0m     retval_ \u001b[38;5;241m=\u001b[39m ag__\u001b[38;5;241m.\u001b[39mconverted_call(ag__\u001b[38;5;241m.\u001b[39mld(\u001b[38;5;28mself\u001b[39m)\u001b[38;5;241m.\u001b[39m_forward_pass, (ag__\u001b[38;5;241m.\u001b[39mld(batch_input),), \u001b[38;5;28mdict\u001b[39m(training\u001b[38;5;241m=\u001b[39mag__\u001b[38;5;241m.\u001b[39mld(training)), fscope)\n\u001b[1;32m     13\u001b[0m \u001b[38;5;28;01mexcept\u001b[39;00m:\n\u001b[1;32m     14\u001b[0m     do_return \u001b[38;5;241m=\u001b[39m \u001b[38;5;28;01mFalse\u001b[39;00m\n",
      "File \u001b[0;32m/tmp/__autograph_generated_fileizjr387j.py:128\u001b[0m, in \u001b[0;36mouter_factory.<locals>.inner_factory.<locals>.tf___forward_pass\u001b[0;34m(self, batch_input, training)\u001b[0m\n\u001b[1;32m    126\u001b[0m     ag__\u001b[38;5;241m.\u001b[39mconverted_call(ag__\u001b[38;5;241m.\u001b[39mld(metric)\u001b[38;5;241m.\u001b[39mupdate_state, (), \u001b[38;5;28mdict\u001b[39m(y_true\u001b[38;5;241m=\u001b[39mag__\u001b[38;5;241m.\u001b[39mld(y_true), y_pred\u001b[38;5;241m=\u001b[39mag__\u001b[38;5;241m.\u001b[39mld(predictions)), fscope)\n\u001b[1;32m    127\u001b[0m metric \u001b[38;5;241m=\u001b[39m ag__\u001b[38;5;241m.\u001b[39mUndefined(\u001b[38;5;124m'\u001b[39m\u001b[38;5;124mmetric\u001b[39m\u001b[38;5;124m'\u001b[39m)\n\u001b[0;32m--> 128\u001b[0m \u001b[43mag__\u001b[49m\u001b[38;5;241;43m.\u001b[39;49m\u001b[43mfor_stmt\u001b[49m\u001b[43m(\u001b[49m\u001b[43mag__\u001b[49m\u001b[38;5;241;43m.\u001b[39;49m\u001b[43mconverted_call\u001b[49m\u001b[43m(\u001b[49m\u001b[43mag__\u001b[49m\u001b[38;5;241;43m.\u001b[39;49m\u001b[43mld\u001b[49m\u001b[43m(\u001b[49m\u001b[38;5;28;43mself\u001b[39;49m\u001b[43m)\u001b[49m\u001b[38;5;241;43m.\u001b[39;49m\u001b[43mget_metrics\u001b[49m\u001b[43m,\u001b[49m\u001b[43m \u001b[49m\u001b[43m(\u001b[49m\u001b[43m)\u001b[49m\u001b[43m,\u001b[49m\u001b[43m \u001b[49m\u001b[38;5;28;43;01mNone\u001b[39;49;00m\u001b[43m,\u001b[49m\u001b[43m \u001b[49m\u001b[43mfscope\u001b[49m\u001b[43m)\u001b[49m\u001b[43m,\u001b[49m\u001b[43m \u001b[49m\u001b[38;5;28;43;01mNone\u001b[39;49;00m\u001b[43m,\u001b[49m\u001b[43m \u001b[49m\u001b[43mloop_body_1\u001b[49m\u001b[43m,\u001b[49m\u001b[43m \u001b[49m\u001b[43mget_state_6\u001b[49m\u001b[43m,\u001b[49m\u001b[43m \u001b[49m\u001b[43mset_state_6\u001b[49m\u001b[43m,\u001b[49m\u001b[43m \u001b[49m\u001b[43m(\u001b[49m\u001b[43m)\u001b[49m\u001b[43m,\u001b[49m\u001b[43m \u001b[49m\u001b[43m{\u001b[49m\u001b[38;5;124;43m'\u001b[39;49m\u001b[38;5;124;43miterate_names\u001b[39;49m\u001b[38;5;124;43m'\u001b[39;49m\u001b[43m:\u001b[49m\u001b[43m \u001b[49m\u001b[38;5;124;43m'\u001b[39;49m\u001b[38;5;124;43mmetric\u001b[39;49m\u001b[38;5;124;43m'\u001b[39;49m\u001b[43m}\u001b[49m\u001b[43m)\u001b[49m\n\u001b[1;32m    130\u001b[0m \u001b[38;5;129m@ag__\u001b[39m\u001b[38;5;241m.\u001b[39mautograph_artifact\n\u001b[1;32m    131\u001b[0m \u001b[38;5;28;01mdef\u001b[39;00m \u001b[38;5;21mnrows\u001b[39m(t):\n\u001b[1;32m    132\u001b[0m     \u001b[38;5;28;01mwith\u001b[39;00m ag__\u001b[38;5;241m.\u001b[39mFunctionScope(\u001b[38;5;124m'\u001b[39m\u001b[38;5;124mnrows\u001b[39m\u001b[38;5;124m'\u001b[39m, \u001b[38;5;124m'\u001b[39m\u001b[38;5;124mfscope_1\u001b[39m\u001b[38;5;124m'\u001b[39m, ag__\u001b[38;5;241m.\u001b[39mSTD) \u001b[38;5;28;01mas\u001b[39;00m fscope_1:\n",
      "File \u001b[0;32m/tmp/__autograph_generated_fileizjr387j.py:126\u001b[0m, in \u001b[0;36mouter_factory.<locals>.inner_factory.<locals>.tf___forward_pass.<locals>.loop_body_1\u001b[0;34m(itr_1)\u001b[0m\n\u001b[1;32m    124\u001b[0m \u001b[38;5;28;01mdef\u001b[39;00m \u001b[38;5;21mloop_body_1\u001b[39m(itr_1):\n\u001b[1;32m    125\u001b[0m     metric \u001b[38;5;241m=\u001b[39m itr_1\n\u001b[0;32m--> 126\u001b[0m     \u001b[43mag__\u001b[49m\u001b[38;5;241;43m.\u001b[39;49m\u001b[43mconverted_call\u001b[49m\u001b[43m(\u001b[49m\u001b[43mag__\u001b[49m\u001b[38;5;241;43m.\u001b[39;49m\u001b[43mld\u001b[49m\u001b[43m(\u001b[49m\u001b[43mmetric\u001b[49m\u001b[43m)\u001b[49m\u001b[38;5;241;43m.\u001b[39;49m\u001b[43mupdate_state\u001b[49m\u001b[43m,\u001b[49m\u001b[43m \u001b[49m\u001b[43m(\u001b[49m\u001b[43m)\u001b[49m\u001b[43m,\u001b[49m\u001b[43m \u001b[49m\u001b[38;5;28;43mdict\u001b[39;49m\u001b[43m(\u001b[49m\u001b[43my_true\u001b[49m\u001b[38;5;241;43m=\u001b[39;49m\u001b[43mag__\u001b[49m\u001b[38;5;241;43m.\u001b[39;49m\u001b[43mld\u001b[49m\u001b[43m(\u001b[49m\u001b[43my_true\u001b[49m\u001b[43m)\u001b[49m\u001b[43m,\u001b[49m\u001b[43m \u001b[49m\u001b[43my_pred\u001b[49m\u001b[38;5;241;43m=\u001b[39;49m\u001b[43mag__\u001b[49m\u001b[38;5;241;43m.\u001b[39;49m\u001b[43mld\u001b[49m\u001b[43m(\u001b[49m\u001b[43mpredictions\u001b[49m\u001b[43m)\u001b[49m\u001b[43m)\u001b[49m\u001b[43m,\u001b[49m\u001b[43m \u001b[49m\u001b[43mfscope\u001b[49m\u001b[43m)\u001b[49m\n",
      "File \u001b[0;32m~/.python/current/lib/python3.10/site-packages/keras/src/utils/metrics_utils.py:77\u001b[0m, in \u001b[0;36mupdate_state_wrapper.<locals>.decorated\u001b[0;34m(metric_obj, *args, **kwargs)\u001b[0m\n\u001b[1;32m     69\u001b[0m         \u001b[38;5;28;01mraise\u001b[39;00m \u001b[38;5;167;01mValueError\u001b[39;00m(\n\u001b[1;32m     70\u001b[0m             \u001b[38;5;124m\"\u001b[39m\u001b[38;5;124mTrying to run metric.update_state in replica context when \u001b[39m\u001b[38;5;124m\"\u001b[39m\n\u001b[1;32m     71\u001b[0m             \u001b[38;5;124m\"\u001b[39m\u001b[38;5;124mthe metric was not created in TPUStrategy scope. \u001b[39m\u001b[38;5;124m\"\u001b[39m\n\u001b[1;32m     72\u001b[0m             \u001b[38;5;124m\"\u001b[39m\u001b[38;5;124mMake sure the keras Metric is created in TPUstrategy \u001b[39m\u001b[38;5;124m\"\u001b[39m\n\u001b[1;32m     73\u001b[0m             \u001b[38;5;124m\"\u001b[39m\u001b[38;5;124mscope. \u001b[39m\u001b[38;5;124m\"\u001b[39m\n\u001b[1;32m     74\u001b[0m         )\n\u001b[1;32m     76\u001b[0m \u001b[38;5;28;01mwith\u001b[39;00m tf_utils\u001b[38;5;241m.\u001b[39mgraph_context_for_symbolic_tensors(\u001b[38;5;241m*\u001b[39margs, \u001b[38;5;241m*\u001b[39m\u001b[38;5;241m*\u001b[39mkwargs):\n\u001b[0;32m---> 77\u001b[0m     result \u001b[38;5;241m=\u001b[39m \u001b[43mupdate_state_fn\u001b[49m\u001b[43m(\u001b[49m\u001b[38;5;241;43m*\u001b[39;49m\u001b[43margs\u001b[49m\u001b[43m,\u001b[49m\u001b[43m \u001b[49m\u001b[38;5;241;43m*\u001b[39;49m\u001b[38;5;241;43m*\u001b[39;49m\u001b[43mkwargs\u001b[49m\u001b[43m)\u001b[49m\n\u001b[1;32m     78\u001b[0m \u001b[38;5;28;01mif\u001b[39;00m \u001b[38;5;129;01mnot\u001b[39;00m tf\u001b[38;5;241m.\u001b[39mexecuting_eagerly():\n\u001b[1;32m     79\u001b[0m     result \u001b[38;5;241m=\u001b[39m tf\u001b[38;5;241m.\u001b[39mcompat\u001b[38;5;241m.\u001b[39mv1\u001b[38;5;241m.\u001b[39mget_default_graph()\u001b[38;5;241m.\u001b[39mget_operations()[\u001b[38;5;241m-\u001b[39m\u001b[38;5;241m1\u001b[39m]\n",
      "File \u001b[0;32m~/.python/current/lib/python3.10/site-packages/keras/src/metrics/base_metric.py:140\u001b[0m, in \u001b[0;36mMetric.__new__.<locals>.update_state_fn\u001b[0;34m(*args, **kwargs)\u001b[0m\n\u001b[1;32m    136\u001b[0m control_status \u001b[38;5;241m=\u001b[39m tf\u001b[38;5;241m.\u001b[39m__internal__\u001b[38;5;241m.\u001b[39mautograph\u001b[38;5;241m.\u001b[39mcontrol_status_ctx()\n\u001b[1;32m    137\u001b[0m ag_update_state \u001b[38;5;241m=\u001b[39m tf\u001b[38;5;241m.\u001b[39m__internal__\u001b[38;5;241m.\u001b[39mautograph\u001b[38;5;241m.\u001b[39mtf_convert(\n\u001b[1;32m    138\u001b[0m     obj_update_state, control_status\n\u001b[1;32m    139\u001b[0m )\n\u001b[0;32m--> 140\u001b[0m \u001b[38;5;28;01mreturn\u001b[39;00m \u001b[43mag_update_state\u001b[49m\u001b[43m(\u001b[49m\u001b[38;5;241;43m*\u001b[39;49m\u001b[43margs\u001b[49m\u001b[43m,\u001b[49m\u001b[43m \u001b[49m\u001b[38;5;241;43m*\u001b[39;49m\u001b[38;5;241;43m*\u001b[39;49m\u001b[43mkwargs\u001b[49m\u001b[43m)\u001b[49m\n",
      "File \u001b[0;32m~/.python/current/lib/python3.10/site-packages/keras/src/metrics/confusion_metrics.py:470\u001b[0m, in \u001b[0;36mPrecision.update_state\u001b[0;34m(self, y_true, y_pred, sample_weight)\u001b[0m\n\u001b[1;32m    455\u001b[0m \u001b[38;5;28;01mdef\u001b[39;00m \u001b[38;5;21mupdate_state\u001b[39m(\u001b[38;5;28mself\u001b[39m, y_true, y_pred, sample_weight\u001b[38;5;241m=\u001b[39m\u001b[38;5;28;01mNone\u001b[39;00m):\n\u001b[1;32m    456\u001b[0m \u001b[38;5;250m    \u001b[39m\u001b[38;5;124;03m\"\"\"Accumulates true positive and false positive statistics.\u001b[39;00m\n\u001b[1;32m    457\u001b[0m \n\u001b[1;32m    458\u001b[0m \u001b[38;5;124;03m    Args:\u001b[39;00m\n\u001b[0;32m   (...)\u001b[0m\n\u001b[1;32m    468\u001b[0m \u001b[38;5;124;03m      Update op.\u001b[39;00m\n\u001b[1;32m    469\u001b[0m \u001b[38;5;124;03m    \"\"\"\u001b[39;00m\n\u001b[0;32m--> 470\u001b[0m     \u001b[38;5;28;01mreturn\u001b[39;00m \u001b[43mmetrics_utils\u001b[49m\u001b[38;5;241;43m.\u001b[39;49m\u001b[43mupdate_confusion_matrix_variables\u001b[49m\u001b[43m(\u001b[49m\n\u001b[1;32m    471\u001b[0m \u001b[43m        \u001b[49m\u001b[43m{\u001b[49m\n\u001b[1;32m    472\u001b[0m \u001b[43m            \u001b[49m\u001b[43mmetrics_utils\u001b[49m\u001b[38;5;241;43m.\u001b[39;49m\u001b[43mConfusionMatrix\u001b[49m\u001b[38;5;241;43m.\u001b[39;49m\u001b[43mTRUE_POSITIVES\u001b[49m\u001b[43m:\u001b[49m\u001b[43m \u001b[49m\u001b[38;5;28;43mself\u001b[39;49m\u001b[38;5;241;43m.\u001b[39;49m\u001b[43mtrue_positives\u001b[49m\u001b[43m,\u001b[49m\u001b[43m  \u001b[49m\u001b[38;5;66;43;03m# noqa: E501\u001b[39;49;00m\n\u001b[1;32m    473\u001b[0m \u001b[43m            \u001b[49m\u001b[43mmetrics_utils\u001b[49m\u001b[38;5;241;43m.\u001b[39;49m\u001b[43mConfusionMatrix\u001b[49m\u001b[38;5;241;43m.\u001b[39;49m\u001b[43mFALSE_POSITIVES\u001b[49m\u001b[43m:\u001b[49m\u001b[43m \u001b[49m\u001b[38;5;28;43mself\u001b[39;49m\u001b[38;5;241;43m.\u001b[39;49m\u001b[43mfalse_positives\u001b[49m\u001b[43m,\u001b[49m\u001b[43m  \u001b[49m\u001b[38;5;66;43;03m# noqa: E501\u001b[39;49;00m\n\u001b[1;32m    474\u001b[0m \u001b[43m        \u001b[49m\u001b[43m}\u001b[49m\u001b[43m,\u001b[49m\n\u001b[1;32m    475\u001b[0m \u001b[43m        \u001b[49m\u001b[43my_true\u001b[49m\u001b[43m,\u001b[49m\n\u001b[1;32m    476\u001b[0m \u001b[43m        \u001b[49m\u001b[43my_pred\u001b[49m\u001b[43m,\u001b[49m\n\u001b[1;32m    477\u001b[0m \u001b[43m        \u001b[49m\u001b[43mthresholds\u001b[49m\u001b[38;5;241;43m=\u001b[39;49m\u001b[38;5;28;43mself\u001b[39;49m\u001b[38;5;241;43m.\u001b[39;49m\u001b[43mthresholds\u001b[49m\u001b[43m,\u001b[49m\n\u001b[1;32m    478\u001b[0m \u001b[43m        \u001b[49m\u001b[43mthresholds_distributed_evenly\u001b[49m\u001b[38;5;241;43m=\u001b[39;49m\u001b[38;5;28;43mself\u001b[39;49m\u001b[38;5;241;43m.\u001b[39;49m\u001b[43m_thresholds_distributed_evenly\u001b[49m\u001b[43m,\u001b[49m\n\u001b[1;32m    479\u001b[0m \u001b[43m        \u001b[49m\u001b[43mtop_k\u001b[49m\u001b[38;5;241;43m=\u001b[39;49m\u001b[38;5;28;43mself\u001b[39;49m\u001b[38;5;241;43m.\u001b[39;49m\u001b[43mtop_k\u001b[49m\u001b[43m,\u001b[49m\n\u001b[1;32m    480\u001b[0m \u001b[43m        \u001b[49m\u001b[43mclass_id\u001b[49m\u001b[38;5;241;43m=\u001b[39;49m\u001b[38;5;28;43mself\u001b[39;49m\u001b[38;5;241;43m.\u001b[39;49m\u001b[43mclass_id\u001b[49m\u001b[43m,\u001b[49m\n\u001b[1;32m    481\u001b[0m \u001b[43m        \u001b[49m\u001b[43msample_weight\u001b[49m\u001b[38;5;241;43m=\u001b[39;49m\u001b[43msample_weight\u001b[49m\u001b[43m,\u001b[49m\n\u001b[1;32m    482\u001b[0m \u001b[43m    \u001b[49m\u001b[43m)\u001b[49m\n",
      "File \u001b[0;32m~/.python/current/lib/python3.10/site-packages/keras/src/utils/metrics_utils.py:672\u001b[0m, in \u001b[0;36mupdate_confusion_matrix_variables\u001b[0;34m(variables_to_update, y_true, y_pred, thresholds, top_k, class_id, sample_weight, multi_label, label_weights, thresholds_distributed_evenly)\u001b[0m\n\u001b[1;32m    664\u001b[0m     sample_weight \u001b[38;5;241m=\u001b[39m tf\u001b[38;5;241m.\u001b[39mcast(sample_weight, dtype\u001b[38;5;241m=\u001b[39mvariable_dtype)\n\u001b[1;32m    665\u001b[0m     (\n\u001b[1;32m    666\u001b[0m         y_pred,\n\u001b[1;32m    667\u001b[0m         y_true,\n\u001b[0;32m   (...)\u001b[0m\n\u001b[1;32m    670\u001b[0m         y_pred, y_true, sample_weight\u001b[38;5;241m=\u001b[39msample_weight\n\u001b[1;32m    671\u001b[0m     )\n\u001b[0;32m--> 672\u001b[0m \u001b[43my_pred\u001b[49m\u001b[38;5;241;43m.\u001b[39;49m\u001b[43mshape\u001b[49m\u001b[38;5;241;43m.\u001b[39;49m\u001b[43massert_is_compatible_with\u001b[49m\u001b[43m(\u001b[49m\u001b[43my_true\u001b[49m\u001b[38;5;241;43m.\u001b[39;49m\u001b[43mshape\u001b[49m\u001b[43m)\u001b[49m\n\u001b[1;32m    674\u001b[0m \u001b[38;5;28;01mif\u001b[39;00m top_k \u001b[38;5;129;01mis\u001b[39;00m \u001b[38;5;129;01mnot\u001b[39;00m \u001b[38;5;28;01mNone\u001b[39;00m:\n\u001b[1;32m    675\u001b[0m     y_pred \u001b[38;5;241m=\u001b[39m _filter_top_k(y_pred, top_k)\n",
      "\u001b[0;31mValueError\u001b[0m: in user code:\n\n    File \"/home/codespace/.python/current/lib/python3.10/site-packages/tensorflow_federated/python/learning/templates/model_delta_client_work.py\", line 189, in reduce_fn  *\n        output = model.forward_pass(batch, training=True)\n    File \"/home/codespace/.python/current/lib/python3.10/site-packages/tensorflow_federated/python/learning/dataset_reduce.py\", line 29, in _dataset_reduce_fn  *\n        return dataset.reduce(initial_state=initial_state_fn(), reduce_func=reduce_fn)\n    File \"/home/codespace/.python/current/lib/python3.10/site-packages/tensorflow_federated/python/learning/models/keras_utils.py\", line 499, in forward_pass  *\n        return self._forward_pass(batch_input, training=training)\n    File \"/home/codespace/.python/current/lib/python3.10/site-packages/tensorflow_federated/python/learning/models/keras_utils.py\", line 486, in _forward_pass  *\n        metric.update_state(y_true=y_true, y_pred=predictions)  # pytype: disable=attribute-error\n    File \"/home/codespace/.python/current/lib/python3.10/site-packages/keras/src/utils/metrics_utils.py\", line 77, in decorated  **\n        result = update_state_fn(*args, **kwargs)\n    File \"/home/codespace/.python/current/lib/python3.10/site-packages/keras/src/metrics/base_metric.py\", line 140, in update_state_fn\n        return ag_update_state(*args, **kwargs)\n    File \"/home/codespace/.python/current/lib/python3.10/site-packages/keras/src/metrics/confusion_metrics.py\", line 470, in update_state  **\n        return metrics_utils.update_confusion_matrix_variables(\n    File \"/home/codespace/.python/current/lib/python3.10/site-packages/keras/src/utils/metrics_utils.py\", line 672, in update_confusion_matrix_variables\n        y_pred.shape.assert_is_compatible_with(y_true.shape)\n\n    ValueError: Shapes (None, 1, 2) and (None, 2) are incompatible\n"
     ]
    }
   ],
   "source": [
    "trainer = tff.learning.algorithms.build_weighted_fed_avg(\n",
    "    model_fn,\n",
    "    client_optimizer_fn=lambda: tf.keras.optimizers.SGD(learning_rate=0.01),\n",
    "    server_optimizer_fn=lambda: tf.keras.optimizers.SGD(learning_rate=1.0)\n",
    ")"
   ]
  },
  {
   "cell_type": "code",
   "execution_count": null,
   "metadata": {},
   "outputs": [],
   "source": []
  },
  {
   "cell_type": "code",
   "execution_count": null,
   "metadata": {},
   "outputs": [],
   "source": []
  },
  {
   "cell_type": "code",
   "execution_count": null,
   "metadata": {},
   "outputs": [],
   "source": []
  },
  {
   "cell_type": "code",
   "execution_count": null,
   "metadata": {},
   "outputs": [],
   "source": []
  },
  {
   "cell_type": "code",
   "execution_count": null,
   "metadata": {},
   "outputs": [],
   "source": []
  },
  {
   "cell_type": "code",
   "execution_count": null,
   "metadata": {},
   "outputs": [],
   "source": []
  },
  {
   "cell_type": "code",
   "execution_count": null,
   "metadata": {},
   "outputs": [],
   "source": []
  }
 ],
 "metadata": {
  "kernelspec": {
   "display_name": "Python 3",
   "language": "python",
   "name": "python3"
  },
  "language_info": {
   "codemirror_mode": {
    "name": "ipython",
    "version": 3
   },
   "file_extension": ".py",
   "mimetype": "text/x-python",
   "name": "python",
   "nbconvert_exporter": "python",
   "pygments_lexer": "ipython3",
   "version": "3.10.13"
  }
 },
 "nbformat": 4,
 "nbformat_minor": 2
}
